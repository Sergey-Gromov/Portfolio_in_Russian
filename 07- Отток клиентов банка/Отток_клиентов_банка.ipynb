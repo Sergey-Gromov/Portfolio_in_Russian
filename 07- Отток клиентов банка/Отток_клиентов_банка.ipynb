{
 "cells": [
  {
   "cell_type": "markdown",
   "metadata": {
    "toc": true
   },
   "source": [
    "<h1>Содержание<span class=\"tocSkip\"></span></h1>\n",
    "<div class=\"toc\"><ul class=\"toc-item\"><li><span><a href=\"#Импорт-библиотек-и-данных\" data-toc-modified-id=\"Импорт-библиотек-и-данных-1\"><span class=\"toc-item-num\">1&nbsp;&nbsp;</span>Импорт библиотек и данных</a></span></li><li><span><a href=\"#Подготовка-данных\" data-toc-modified-id=\"Подготовка-данных-2\"><span class=\"toc-item-num\">2&nbsp;&nbsp;</span>Подготовка данных</a></span></li><li><span><a href=\"#Исследование-задачи\" data-toc-modified-id=\"Исследование-задачи-3\"><span class=\"toc-item-num\">3&nbsp;&nbsp;</span>Исследование задачи</a></span><ul class=\"toc-item\"><li><span><a href=\"#Иследование-баланса-классов\" data-toc-modified-id=\"Иследование-баланса-классов-3.1\"><span class=\"toc-item-num\">3.1&nbsp;&nbsp;</span>Иследование баланса классов</a></span></li><li><span><a href=\"#Изучение-моделей-без-учёта-дисбаланса-классов\" data-toc-modified-id=\"Изучение-моделей-без-учёта-дисбаланса-классов-3.2\"><span class=\"toc-item-num\">3.2&nbsp;&nbsp;</span>Изучение моделей без учёта дисбаланса классов</a></span></li></ul></li><li><span><a href=\"#Борьба-с-дисбалансом\" data-toc-modified-id=\"Борьба-с-дисбалансом-4\"><span class=\"toc-item-num\">4&nbsp;&nbsp;</span>Борьба с дисбалансом</a></span><ul class=\"toc-item\"><li><span><a href=\"#Взвешивание-классов\" data-toc-modified-id=\"Взвешивание-классов-4.1\"><span class=\"toc-item-num\">4.1&nbsp;&nbsp;</span>Взвешивание классов</a></span></li><li><span><a href=\"#Увеличение-выборки-(upsampling)\" data-toc-modified-id=\"Увеличение-выборки-(upsampling)-4.2\"><span class=\"toc-item-num\">4.2&nbsp;&nbsp;</span>Увеличение выборки (upsampling)</a></span></li><li><span><a href=\"#Уменьшение-выборки-(downsampling)\" data-toc-modified-id=\"Уменьшение-выборки-(downsampling)-4.3\"><span class=\"toc-item-num\">4.3&nbsp;&nbsp;</span>Уменьшение выборки (downsampling)</a></span></li></ul></li><li><span><a href=\"#Тестирование-модели\" data-toc-modified-id=\"Тестирование-модели-5\"><span class=\"toc-item-num\">5&nbsp;&nbsp;</span>Тестирование модели</a></span></li><li><span><a href=\"#Проверка-модели-на-адекватность\" data-toc-modified-id=\"Проверка-модели-на-адекватность-6\"><span class=\"toc-item-num\">6&nbsp;&nbsp;</span>Проверка модели на адекватность</a></span></li><li><span><a href=\"#Общий-вывод\" data-toc-modified-id=\"Общий-вывод-7\"><span class=\"toc-item-num\">7&nbsp;&nbsp;</span>Общий вывод</a></span></li></ul></div>"
   ]
  },
  {
   "cell_type": "markdown",
   "metadata": {},
   "source": [
    "# Отток клиентов банка"
   ]
  },
  {
   "cell_type": "markdown",
   "metadata": {},
   "source": [
    "- Цель проекта: построить модель прогнозирования, позволяющую предсказывать уход клиентов из банка на основании имеющихся исторических данных о поведении клиентов и расторжении договоров с банком.\n",
    "- Для этого будет построена модель с предельно большим значением F1-меры. \n",
    "- Целевой показатель F1-меры  - не менее 0.59. \n",
    "- F1-мера будет проверяться на тестовой выборке, подготовленной в рамках проекта."
   ]
  },
  {
   "cell_type": "markdown",
   "metadata": {},
   "source": [
    "В рамках проекта будут сделаны следующие шаги:\n",
    "- Подготовка данных\n",
    "- Исследование задачи, а именно:\n",
    "    - Исследован баланс классов\n",
    "    - Изучены модели без учёта дисбаланса\n",
    "- Применение несколько способов борьбы с дисбалансом\n",
    "- Проведение тестирование модели для проверки достижения целевой метрики- не менее 0.59\n",
    "- Исследование метрики AUC-ROC"
   ]
  },
  {
   "cell_type": "markdown",
   "metadata": {},
   "source": [
    "## Импорт библиотек и данных"
   ]
  },
  {
   "cell_type": "markdown",
   "metadata": {},
   "source": [
    "Импорт библиотек"
   ]
  },
  {
   "cell_type": "code",
   "execution_count": 1,
   "metadata": {},
   "outputs": [],
   "source": [
    "import pandas as pd\n",
    "import matplotlib.pyplot as plt\n",
    "\n",
    "from sklearn.model_selection import train_test_split\n",
    "from sklearn.metrics import accuracy_score\n",
    "from sklearn.tree import DecisionTreeClassifier\n",
    "from sklearn.ensemble import RandomForestClassifier\n",
    "from sklearn.linear_model import LogisticRegression\n",
    "from sklearn.dummy import DummyClassifier\n",
    "from sklearn.metrics import f1_score\n",
    "from sklearn.utils import shuffle\n",
    "from sklearn.metrics import roc_auc_score\n",
    "from sklearn.preprocessing import StandardScaler\n",
    "from sklearn.preprocessing import OneHotEncoder"
   ]
  },
  {
   "cell_type": "markdown",
   "metadata": {},
   "source": [
    "Импорт данных"
   ]
  },
  {
   "cell_type": "code",
   "execution_count": 2,
   "metadata": {},
   "outputs": [],
   "source": [
    "try:\n",
    "    df = pd.read_csv('Churn.csv')\n",
    "except:\n",
    "    df = pd.read_csv('/datasets/Churn.csv')"
   ]
  },
  {
   "cell_type": "markdown",
   "metadata": {},
   "source": [
    "Обзор данных"
   ]
  },
  {
   "cell_type": "code",
   "execution_count": 3,
   "metadata": {
    "scrolled": false
   },
   "outputs": [
    {
     "name": "stdout",
     "output_type": "stream",
     "text": [
      "<class 'pandas.core.frame.DataFrame'>\n",
      "RangeIndex: 10000 entries, 0 to 9999\n",
      "Data columns (total 14 columns):\n",
      " #   Column           Non-Null Count  Dtype  \n",
      "---  ------           --------------  -----  \n",
      " 0   RowNumber        10000 non-null  int64  \n",
      " 1   CustomerId       10000 non-null  int64  \n",
      " 2   Surname          10000 non-null  object \n",
      " 3   CreditScore      10000 non-null  int64  \n",
      " 4   Geography        10000 non-null  object \n",
      " 5   Gender           10000 non-null  object \n",
      " 6   Age              10000 non-null  int64  \n",
      " 7   Tenure           9091 non-null   float64\n",
      " 8   Balance          10000 non-null  float64\n",
      " 9   NumOfProducts    10000 non-null  int64  \n",
      " 10  HasCrCard        10000 non-null  int64  \n",
      " 11  IsActiveMember   10000 non-null  int64  \n",
      " 12  EstimatedSalary  10000 non-null  float64\n",
      " 13  Exited           10000 non-null  int64  \n",
      "dtypes: float64(3), int64(8), object(3)\n",
      "memory usage: 1.1+ MB\n",
      "None\n"
     ]
    },
    {
     "data": {
      "text/html": [
       "<div>\n",
       "<style scoped>\n",
       "    .dataframe tbody tr th:only-of-type {\n",
       "        vertical-align: middle;\n",
       "    }\n",
       "\n",
       "    .dataframe tbody tr th {\n",
       "        vertical-align: top;\n",
       "    }\n",
       "\n",
       "    .dataframe thead th {\n",
       "        text-align: right;\n",
       "    }\n",
       "</style>\n",
       "<table border=\"1\" class=\"dataframe\">\n",
       "  <thead>\n",
       "    <tr style=\"text-align: right;\">\n",
       "      <th></th>\n",
       "      <th>RowNumber</th>\n",
       "      <th>CustomerId</th>\n",
       "      <th>Surname</th>\n",
       "      <th>CreditScore</th>\n",
       "      <th>Geography</th>\n",
       "      <th>Gender</th>\n",
       "      <th>Age</th>\n",
       "      <th>Tenure</th>\n",
       "      <th>Balance</th>\n",
       "      <th>NumOfProducts</th>\n",
       "      <th>HasCrCard</th>\n",
       "      <th>IsActiveMember</th>\n",
       "      <th>EstimatedSalary</th>\n",
       "      <th>Exited</th>\n",
       "    </tr>\n",
       "  </thead>\n",
       "  <tbody>\n",
       "    <tr>\n",
       "      <th>0</th>\n",
       "      <td>1</td>\n",
       "      <td>15634602</td>\n",
       "      <td>Hargrave</td>\n",
       "      <td>619</td>\n",
       "      <td>France</td>\n",
       "      <td>Female</td>\n",
       "      <td>42</td>\n",
       "      <td>2.0</td>\n",
       "      <td>0.00</td>\n",
       "      <td>1</td>\n",
       "      <td>1</td>\n",
       "      <td>1</td>\n",
       "      <td>101348.88</td>\n",
       "      <td>1</td>\n",
       "    </tr>\n",
       "    <tr>\n",
       "      <th>1</th>\n",
       "      <td>2</td>\n",
       "      <td>15647311</td>\n",
       "      <td>Hill</td>\n",
       "      <td>608</td>\n",
       "      <td>Spain</td>\n",
       "      <td>Female</td>\n",
       "      <td>41</td>\n",
       "      <td>1.0</td>\n",
       "      <td>83807.86</td>\n",
       "      <td>1</td>\n",
       "      <td>0</td>\n",
       "      <td>1</td>\n",
       "      <td>112542.58</td>\n",
       "      <td>0</td>\n",
       "    </tr>\n",
       "    <tr>\n",
       "      <th>2</th>\n",
       "      <td>3</td>\n",
       "      <td>15619304</td>\n",
       "      <td>Onio</td>\n",
       "      <td>502</td>\n",
       "      <td>France</td>\n",
       "      <td>Female</td>\n",
       "      <td>42</td>\n",
       "      <td>8.0</td>\n",
       "      <td>159660.80</td>\n",
       "      <td>3</td>\n",
       "      <td>1</td>\n",
       "      <td>0</td>\n",
       "      <td>113931.57</td>\n",
       "      <td>1</td>\n",
       "    </tr>\n",
       "    <tr>\n",
       "      <th>3</th>\n",
       "      <td>4</td>\n",
       "      <td>15701354</td>\n",
       "      <td>Boni</td>\n",
       "      <td>699</td>\n",
       "      <td>France</td>\n",
       "      <td>Female</td>\n",
       "      <td>39</td>\n",
       "      <td>1.0</td>\n",
       "      <td>0.00</td>\n",
       "      <td>2</td>\n",
       "      <td>0</td>\n",
       "      <td>0</td>\n",
       "      <td>93826.63</td>\n",
       "      <td>0</td>\n",
       "    </tr>\n",
       "    <tr>\n",
       "      <th>4</th>\n",
       "      <td>5</td>\n",
       "      <td>15737888</td>\n",
       "      <td>Mitchell</td>\n",
       "      <td>850</td>\n",
       "      <td>Spain</td>\n",
       "      <td>Female</td>\n",
       "      <td>43</td>\n",
       "      <td>2.0</td>\n",
       "      <td>125510.82</td>\n",
       "      <td>1</td>\n",
       "      <td>1</td>\n",
       "      <td>1</td>\n",
       "      <td>79084.10</td>\n",
       "      <td>0</td>\n",
       "    </tr>\n",
       "  </tbody>\n",
       "</table>\n",
       "</div>"
      ],
      "text/plain": [
       "   RowNumber  CustomerId   Surname  CreditScore Geography  Gender  Age  \\\n",
       "0          1    15634602  Hargrave          619    France  Female   42   \n",
       "1          2    15647311      Hill          608     Spain  Female   41   \n",
       "2          3    15619304      Onio          502    France  Female   42   \n",
       "3          4    15701354      Boni          699    France  Female   39   \n",
       "4          5    15737888  Mitchell          850     Spain  Female   43   \n",
       "\n",
       "   Tenure    Balance  NumOfProducts  HasCrCard  IsActiveMember  \\\n",
       "0     2.0       0.00              1          1               1   \n",
       "1     1.0   83807.86              1          0               1   \n",
       "2     8.0  159660.80              3          1               0   \n",
       "3     1.0       0.00              2          0               0   \n",
       "4     2.0  125510.82              1          1               1   \n",
       "\n",
       "   EstimatedSalary  Exited  \n",
       "0        101348.88       1  \n",
       "1        112542.58       0  \n",
       "2        113931.57       1  \n",
       "3         93826.63       0  \n",
       "4         79084.10       0  "
      ]
     },
     "metadata": {},
     "output_type": "display_data"
    },
    {
     "data": {
      "text/plain": [
       "RowNumber          0.0000\n",
       "CustomerId         0.0000\n",
       "Surname            0.0000\n",
       "CreditScore        0.0000\n",
       "Geography          0.0000\n",
       "Gender             0.0000\n",
       "Age                0.0000\n",
       "Tenure             0.0909\n",
       "Balance            0.0000\n",
       "NumOfProducts      0.0000\n",
       "HasCrCard          0.0000\n",
       "IsActiveMember     0.0000\n",
       "EstimatedSalary    0.0000\n",
       "Exited             0.0000\n",
       "dtype: float64"
      ]
     },
     "execution_count": 3,
     "metadata": {},
     "output_type": "execute_result"
    }
   ],
   "source": [
    "print(df.info()) # вывод информации о датасете\n",
    "display(df.head()) # печать первых 5 строк\n",
    "df.isna().mean() # вывод процента пропусков в данных"
   ]
  },
  {
   "cell_type": "markdown",
   "metadata": {},
   "source": [
    "**Вывод:**  \n",
    " - необходимо преобразовать стиль заголовков столбцов к змеиному регистру    \n",
    " - отбросить данные с пропусками в столбце \"Tenure\", поскольку их менее 10% от датасета. Значение данных в этом столбце важно для обучения моделей, а применение имеющихся методов заполнения пропусков может дать неоднозначный результат с возможным ухудшением, что неприемлемо.  \n",
    " - убрать столбцы с параметрами 'RowNumber','CustomerId' и 'Surname', поскольку они не помогают обучению моделей, а снижение количества параметров может ускорить процесс обучения.  \n",
    " - преобразовать категориальные признаки в столбцах 'Geography' и 'Gender' в численные техникой прямого кодирования (OHE)  \n",
    " - разбить данные на обучающую, валидационную и тестовую выборки."
   ]
  },
  {
   "cell_type": "markdown",
   "metadata": {},
   "source": [
    "## Подготовка данных"
   ]
  },
  {
   "cell_type": "markdown",
   "metadata": {},
   "source": [
    "**Преобразование стиля заголовков столбцов.**"
   ]
  },
  {
   "cell_type": "markdown",
   "metadata": {},
   "source": [
    "Вывод на экран названий столбцов:"
   ]
  },
  {
   "cell_type": "code",
   "execution_count": 4,
   "metadata": {},
   "outputs": [
    {
     "data": {
      "text/plain": [
       "Index(['RowNumber', 'CustomerId', 'Surname', 'CreditScore', 'Geography',\n",
       "       'Gender', 'Age', 'Tenure', 'Balance', 'NumOfProducts', 'HasCrCard',\n",
       "       'IsActiveMember', 'EstimatedSalary', 'Exited'],\n",
       "      dtype='object')"
      ]
     },
     "execution_count": 4,
     "metadata": {},
     "output_type": "execute_result"
    }
   ],
   "source": [
    "df.columns"
   ]
  },
  {
   "cell_type": "markdown",
   "metadata": {},
   "source": [
    "Исправление стиля в заголовках столбцов."
   ]
  },
  {
   "cell_type": "code",
   "execution_count": 5,
   "metadata": {},
   "outputs": [
    {
     "data": {
      "text/plain": [
       "Index(['row_number', 'customer_id', 'surname', 'credit_score', 'geography',\n",
       "       'gender', 'age', 'tenure', 'balance', 'num_of_products', 'has_cr_card',\n",
       "       'is_active_member', 'estimated_salary', 'exited'],\n",
       "      dtype='object')"
      ]
     },
     "execution_count": 5,
     "metadata": {},
     "output_type": "execute_result"
    }
   ],
   "source": [
    "df = df.rename(columns={'RowNumber': 'row_number',\\\n",
    "                            'CustomerId': 'customer_id',\\\n",
    "                            'Surname': 'surname',\\\n",
    "                            'CreditScore':'credit_score',\\\n",
    "                            'Geography':'geography',\\\n",
    "                            'Gender':'gender',\\\n",
    "                            'Tenure':'tenure',\\\n",
    "                            'Age':'age',\\\n",
    "                            'Balance':'balance',\\\n",
    "                            'NumOfProducts':'num_of_products',\\\n",
    "                            'HasCrCard':'has_cr_card',\\\n",
    "                            'IsActiveMember':'is_active_member',\\\n",
    "                            'EstimatedSalary':'estimated_salary',\\\n",
    "                            'Exited':'exited',\\\n",
    "                           }) \n",
    "df.columns # контроль результата"
   ]
  },
  {
   "cell_type": "markdown",
   "metadata": {},
   "source": [
    "**Проверка на явные дубликаты**"
   ]
  },
  {
   "cell_type": "code",
   "execution_count": 6,
   "metadata": {},
   "outputs": [
    {
     "data": {
      "text/plain": [
       "0"
      ]
     },
     "execution_count": 6,
     "metadata": {},
     "output_type": "execute_result"
    }
   ],
   "source": [
    "df.duplicated().sum()"
   ]
  },
  {
   "cell_type": "markdown",
   "metadata": {},
   "source": [
    "**Вывод:**явные дубликаты отсутствуют"
   ]
  },
  {
   "cell_type": "markdown",
   "metadata": {},
   "source": [
    "**Удаление из датасета данных с пропусками в столбце \"tenure\"**"
   ]
  },
  {
   "cell_type": "code",
   "execution_count": 7,
   "metadata": {},
   "outputs": [
    {
     "name": "stdout",
     "output_type": "stream",
     "text": [
      "<class 'pandas.core.frame.DataFrame'>\n",
      "RangeIndex: 9091 entries, 0 to 9090\n",
      "Data columns (total 14 columns):\n",
      " #   Column            Non-Null Count  Dtype  \n",
      "---  ------            --------------  -----  \n",
      " 0   row_number        9091 non-null   int64  \n",
      " 1   customer_id       9091 non-null   int64  \n",
      " 2   surname           9091 non-null   object \n",
      " 3   credit_score      9091 non-null   int64  \n",
      " 4   geography         9091 non-null   object \n",
      " 5   gender            9091 non-null   object \n",
      " 6   age               9091 non-null   int64  \n",
      " 7   tenure            9091 non-null   float64\n",
      " 8   balance           9091 non-null   float64\n",
      " 9   num_of_products   9091 non-null   int64  \n",
      " 10  has_cr_card       9091 non-null   int64  \n",
      " 11  is_active_member  9091 non-null   int64  \n",
      " 12  estimated_salary  9091 non-null   float64\n",
      " 13  exited            9091 non-null   int64  \n",
      "dtypes: float64(3), int64(8), object(3)\n",
      "memory usage: 994.5+ KB\n"
     ]
    }
   ],
   "source": [
    "df = df.dropna(subset=['tenure']) # удаление пропусков\n",
    "df = df.reset_index(drop=True) # восстановление индексации\n",
    "df.info() # контроль результата"
   ]
  },
  {
   "cell_type": "markdown",
   "metadata": {},
   "source": [
    "**Удаление столбцов с параметрами 'row_number','customer_id','surname'**"
   ]
  },
  {
   "cell_type": "code",
   "execution_count": 8,
   "metadata": {},
   "outputs": [
    {
     "data": {
      "text/html": [
       "<div>\n",
       "<style scoped>\n",
       "    .dataframe tbody tr th:only-of-type {\n",
       "        vertical-align: middle;\n",
       "    }\n",
       "\n",
       "    .dataframe tbody tr th {\n",
       "        vertical-align: top;\n",
       "    }\n",
       "\n",
       "    .dataframe thead th {\n",
       "        text-align: right;\n",
       "    }\n",
       "</style>\n",
       "<table border=\"1\" class=\"dataframe\">\n",
       "  <thead>\n",
       "    <tr style=\"text-align: right;\">\n",
       "      <th></th>\n",
       "      <th>credit_score</th>\n",
       "      <th>geography</th>\n",
       "      <th>gender</th>\n",
       "      <th>age</th>\n",
       "      <th>tenure</th>\n",
       "      <th>balance</th>\n",
       "      <th>num_of_products</th>\n",
       "      <th>has_cr_card</th>\n",
       "      <th>is_active_member</th>\n",
       "      <th>estimated_salary</th>\n",
       "      <th>exited</th>\n",
       "    </tr>\n",
       "  </thead>\n",
       "  <tbody>\n",
       "    <tr>\n",
       "      <th>0</th>\n",
       "      <td>619</td>\n",
       "      <td>France</td>\n",
       "      <td>Female</td>\n",
       "      <td>42</td>\n",
       "      <td>2.0</td>\n",
       "      <td>0.00</td>\n",
       "      <td>1</td>\n",
       "      <td>1</td>\n",
       "      <td>1</td>\n",
       "      <td>101348.88</td>\n",
       "      <td>1</td>\n",
       "    </tr>\n",
       "    <tr>\n",
       "      <th>1</th>\n",
       "      <td>608</td>\n",
       "      <td>Spain</td>\n",
       "      <td>Female</td>\n",
       "      <td>41</td>\n",
       "      <td>1.0</td>\n",
       "      <td>83807.86</td>\n",
       "      <td>1</td>\n",
       "      <td>0</td>\n",
       "      <td>1</td>\n",
       "      <td>112542.58</td>\n",
       "      <td>0</td>\n",
       "    </tr>\n",
       "    <tr>\n",
       "      <th>2</th>\n",
       "      <td>502</td>\n",
       "      <td>France</td>\n",
       "      <td>Female</td>\n",
       "      <td>42</td>\n",
       "      <td>8.0</td>\n",
       "      <td>159660.80</td>\n",
       "      <td>3</td>\n",
       "      <td>1</td>\n",
       "      <td>0</td>\n",
       "      <td>113931.57</td>\n",
       "      <td>1</td>\n",
       "    </tr>\n",
       "    <tr>\n",
       "      <th>3</th>\n",
       "      <td>699</td>\n",
       "      <td>France</td>\n",
       "      <td>Female</td>\n",
       "      <td>39</td>\n",
       "      <td>1.0</td>\n",
       "      <td>0.00</td>\n",
       "      <td>2</td>\n",
       "      <td>0</td>\n",
       "      <td>0</td>\n",
       "      <td>93826.63</td>\n",
       "      <td>0</td>\n",
       "    </tr>\n",
       "    <tr>\n",
       "      <th>4</th>\n",
       "      <td>850</td>\n",
       "      <td>Spain</td>\n",
       "      <td>Female</td>\n",
       "      <td>43</td>\n",
       "      <td>2.0</td>\n",
       "      <td>125510.82</td>\n",
       "      <td>1</td>\n",
       "      <td>1</td>\n",
       "      <td>1</td>\n",
       "      <td>79084.10</td>\n",
       "      <td>0</td>\n",
       "    </tr>\n",
       "  </tbody>\n",
       "</table>\n",
       "</div>"
      ],
      "text/plain": [
       "   credit_score geography  gender  age  tenure    balance  num_of_products  \\\n",
       "0           619    France  Female   42     2.0       0.00                1   \n",
       "1           608     Spain  Female   41     1.0   83807.86                1   \n",
       "2           502    France  Female   42     8.0  159660.80                3   \n",
       "3           699    France  Female   39     1.0       0.00                2   \n",
       "4           850     Spain  Female   43     2.0  125510.82                1   \n",
       "\n",
       "   has_cr_card  is_active_member  estimated_salary  exited  \n",
       "0            1                 1         101348.88       1  \n",
       "1            0                 1         112542.58       0  \n",
       "2            1                 0         113931.57       1  \n",
       "3            0                 0          93826.63       0  \n",
       "4            1                 1          79084.10       0  "
      ]
     },
     "execution_count": 8,
     "metadata": {},
     "output_type": "execute_result"
    }
   ],
   "source": [
    "df = df.drop(['row_number','customer_id','surname'], axis=1)\n",
    "df.head() # контроль результата"
   ]
  },
  {
   "cell_type": "markdown",
   "metadata": {},
   "source": [
    "**Преобразование категориальных признаков в столбцах 'geography' и 'gender' в численные техникой прямого кодирования.** "
   ]
  },
  {
   "cell_type": "code",
   "execution_count": 9,
   "metadata": {},
   "outputs": [
    {
     "data": {
      "text/html": [
       "<div>\n",
       "<style scoped>\n",
       "    .dataframe tbody tr th:only-of-type {\n",
       "        vertical-align: middle;\n",
       "    }\n",
       "\n",
       "    .dataframe tbody tr th {\n",
       "        vertical-align: top;\n",
       "    }\n",
       "\n",
       "    .dataframe thead th {\n",
       "        text-align: right;\n",
       "    }\n",
       "</style>\n",
       "<table border=\"1\" class=\"dataframe\">\n",
       "  <thead>\n",
       "    <tr style=\"text-align: right;\">\n",
       "      <th></th>\n",
       "      <th>credit_score</th>\n",
       "      <th>age</th>\n",
       "      <th>tenure</th>\n",
       "      <th>balance</th>\n",
       "      <th>num_of_products</th>\n",
       "      <th>has_cr_card</th>\n",
       "      <th>is_active_member</th>\n",
       "      <th>estimated_salary</th>\n",
       "      <th>exited</th>\n",
       "      <th>geography_Germany</th>\n",
       "      <th>geography_Spain</th>\n",
       "      <th>gender_Male</th>\n",
       "    </tr>\n",
       "  </thead>\n",
       "  <tbody>\n",
       "    <tr>\n",
       "      <th>0</th>\n",
       "      <td>619</td>\n",
       "      <td>42</td>\n",
       "      <td>2.0</td>\n",
       "      <td>0.00</td>\n",
       "      <td>1</td>\n",
       "      <td>1</td>\n",
       "      <td>1</td>\n",
       "      <td>101348.88</td>\n",
       "      <td>1</td>\n",
       "      <td>0</td>\n",
       "      <td>0</td>\n",
       "      <td>0</td>\n",
       "    </tr>\n",
       "    <tr>\n",
       "      <th>1</th>\n",
       "      <td>608</td>\n",
       "      <td>41</td>\n",
       "      <td>1.0</td>\n",
       "      <td>83807.86</td>\n",
       "      <td>1</td>\n",
       "      <td>0</td>\n",
       "      <td>1</td>\n",
       "      <td>112542.58</td>\n",
       "      <td>0</td>\n",
       "      <td>0</td>\n",
       "      <td>1</td>\n",
       "      <td>0</td>\n",
       "    </tr>\n",
       "    <tr>\n",
       "      <th>2</th>\n",
       "      <td>502</td>\n",
       "      <td>42</td>\n",
       "      <td>8.0</td>\n",
       "      <td>159660.80</td>\n",
       "      <td>3</td>\n",
       "      <td>1</td>\n",
       "      <td>0</td>\n",
       "      <td>113931.57</td>\n",
       "      <td>1</td>\n",
       "      <td>0</td>\n",
       "      <td>0</td>\n",
       "      <td>0</td>\n",
       "    </tr>\n",
       "    <tr>\n",
       "      <th>3</th>\n",
       "      <td>699</td>\n",
       "      <td>39</td>\n",
       "      <td>1.0</td>\n",
       "      <td>0.00</td>\n",
       "      <td>2</td>\n",
       "      <td>0</td>\n",
       "      <td>0</td>\n",
       "      <td>93826.63</td>\n",
       "      <td>0</td>\n",
       "      <td>0</td>\n",
       "      <td>0</td>\n",
       "      <td>0</td>\n",
       "    </tr>\n",
       "    <tr>\n",
       "      <th>4</th>\n",
       "      <td>850</td>\n",
       "      <td>43</td>\n",
       "      <td>2.0</td>\n",
       "      <td>125510.82</td>\n",
       "      <td>1</td>\n",
       "      <td>1</td>\n",
       "      <td>1</td>\n",
       "      <td>79084.10</td>\n",
       "      <td>0</td>\n",
       "      <td>0</td>\n",
       "      <td>1</td>\n",
       "      <td>0</td>\n",
       "    </tr>\n",
       "  </tbody>\n",
       "</table>\n",
       "</div>"
      ],
      "text/plain": [
       "   credit_score  age  tenure    balance  num_of_products  has_cr_card  \\\n",
       "0           619   42     2.0       0.00                1            1   \n",
       "1           608   41     1.0   83807.86                1            0   \n",
       "2           502   42     8.0  159660.80                3            1   \n",
       "3           699   39     1.0       0.00                2            0   \n",
       "4           850   43     2.0  125510.82                1            1   \n",
       "\n",
       "   is_active_member  estimated_salary  exited  geography_Germany  \\\n",
       "0                 1         101348.88       1                  0   \n",
       "1                 1         112542.58       0                  0   \n",
       "2                 0         113931.57       1                  0   \n",
       "3                 0          93826.63       0                  0   \n",
       "4                 1          79084.10       0                  0   \n",
       "\n",
       "   geography_Spain  gender_Male  \n",
       "0                0            0  \n",
       "1                1            0  \n",
       "2                0            0  \n",
       "3                0            0  \n",
       "4                1            0  "
      ]
     },
     "execution_count": 9,
     "metadata": {},
     "output_type": "execute_result"
    }
   ],
   "source": [
    "df_ohe = pd.get_dummies(df,drop_first=True) # преобразование прямым кодированием\n",
    "df_ohe.head() # контроль результата"
   ]
  },
  {
   "cell_type": "markdown",
   "metadata": {},
   "source": [
    "**Разбиение данных на обучающую, валидационную и тестовую выборки в пропорции 3:1:1.**"
   ]
  },
  {
   "cell_type": "code",
   "execution_count": 10,
   "metadata": {},
   "outputs": [
    {
     "name": "stdout",
     "output_type": "stream",
     "text": [
      "(5454, 11)\n",
      "(5454,)\n",
      "(1818, 11)\n",
      "(1818,)\n",
      "(1819, 11)\n",
      "(1819,)\n"
     ]
    }
   ],
   "source": [
    "# разбиение датасета на признаки и целевой признак\n",
    "features = df_ohe.drop('exited', axis=1) #выделение выборки признаков\n",
    "target = df_ohe['exited'] # выделение целевого признака датасета\n",
    "    \n",
    "# разделение обучающей и испытательной выборки в пропорции 3:2 со стратификацией\n",
    "features_train, features_trial, target_train, target_trial = train_test_split(\n",
    "    features, target, test_size=0.4, random_state=12345, stratify=target)\n",
    "    \n",
    "# разделение испытательной выборки на проверочную и тестовую в пропорции 1:1 со стратификацией\n",
    "features_valid, features_test, target_valid, target_test = train_test_split(\n",
    "    features_trial, target_trial, test_size=0.5, random_state=12345, stratify=target_trial)\n",
    "\n",
    "# вывод размеров выборок для проверки\n",
    "print(features_train.shape)\n",
    "print(target_train.shape)\n",
    "print(features_valid.shape)\n",
    "print(target_valid.shape)\n",
    "print(features_test.shape)\n",
    "print(target_test.shape)"
   ]
  },
  {
   "cell_type": "markdown",
   "metadata": {},
   "source": [
    "**Масштабирование численных данных**"
   ]
  },
  {
   "cell_type": "code",
   "execution_count": 11,
   "metadata": {},
   "outputs": [
    {
     "name": "stderr",
     "output_type": "stream",
     "text": [
      "C:\\Users\\user\\AppData\\Local\\Temp\\ipykernel_10284\\307508192.py:6: SettingWithCopyWarning: \n",
      "A value is trying to be set on a copy of a slice from a DataFrame.\n",
      "Try using .loc[row_indexer,col_indexer] = value instead\n",
      "\n",
      "See the caveats in the documentation: https://pandas.pydata.org/pandas-docs/stable/user_guide/indexing.html#returning-a-view-versus-a-copy\n",
      "  features_train[numeric] = scaler.transform(features_train[numeric])\n",
      "C:\\Users\\user\\anaconda3\\envs\\practicum\\lib\\site-packages\\pandas\\core\\indexing.py:1738: SettingWithCopyWarning: \n",
      "A value is trying to be set on a copy of a slice from a DataFrame.\n",
      "Try using .loc[row_indexer,col_indexer] = value instead\n",
      "\n",
      "See the caveats in the documentation: https://pandas.pydata.org/pandas-docs/stable/user_guide/indexing.html#returning-a-view-versus-a-copy\n",
      "  self._setitem_single_column(loc, value[:, i].tolist(), pi)\n",
      "C:\\Users\\user\\AppData\\Local\\Temp\\ipykernel_10284\\307508192.py:7: SettingWithCopyWarning: \n",
      "A value is trying to be set on a copy of a slice from a DataFrame.\n",
      "Try using .loc[row_indexer,col_indexer] = value instead\n",
      "\n",
      "See the caveats in the documentation: https://pandas.pydata.org/pandas-docs/stable/user_guide/indexing.html#returning-a-view-versus-a-copy\n",
      "  features_valid[numeric] = scaler.transform(features_valid[numeric])\n",
      "C:\\Users\\user\\anaconda3\\envs\\practicum\\lib\\site-packages\\pandas\\core\\indexing.py:1738: SettingWithCopyWarning: \n",
      "A value is trying to be set on a copy of a slice from a DataFrame.\n",
      "Try using .loc[row_indexer,col_indexer] = value instead\n",
      "\n",
      "See the caveats in the documentation: https://pandas.pydata.org/pandas-docs/stable/user_guide/indexing.html#returning-a-view-versus-a-copy\n",
      "  self._setitem_single_column(loc, value[:, i].tolist(), pi)\n",
      "C:\\Users\\user\\AppData\\Local\\Temp\\ipykernel_10284\\307508192.py:8: SettingWithCopyWarning: \n",
      "A value is trying to be set on a copy of a slice from a DataFrame.\n",
      "Try using .loc[row_indexer,col_indexer] = value instead\n",
      "\n",
      "See the caveats in the documentation: https://pandas.pydata.org/pandas-docs/stable/user_guide/indexing.html#returning-a-view-versus-a-copy\n",
      "  features_test[numeric] = scaler.transform(features_test[numeric])\n",
      "C:\\Users\\user\\anaconda3\\envs\\practicum\\lib\\site-packages\\pandas\\core\\indexing.py:1738: SettingWithCopyWarning: \n",
      "A value is trying to be set on a copy of a slice from a DataFrame.\n",
      "Try using .loc[row_indexer,col_indexer] = value instead\n",
      "\n",
      "See the caveats in the documentation: https://pandas.pydata.org/pandas-docs/stable/user_guide/indexing.html#returning-a-view-versus-a-copy\n",
      "  self._setitem_single_column(loc, value[:, i].tolist(), pi)\n"
     ]
    },
    {
     "data": {
      "text/html": [
       "<div>\n",
       "<style scoped>\n",
       "    .dataframe tbody tr th:only-of-type {\n",
       "        vertical-align: middle;\n",
       "    }\n",
       "\n",
       "    .dataframe tbody tr th {\n",
       "        vertical-align: top;\n",
       "    }\n",
       "\n",
       "    .dataframe thead th {\n",
       "        text-align: right;\n",
       "    }\n",
       "</style>\n",
       "<table border=\"1\" class=\"dataframe\">\n",
       "  <thead>\n",
       "    <tr style=\"text-align: right;\">\n",
       "      <th></th>\n",
       "      <th>credit_score</th>\n",
       "      <th>age</th>\n",
       "      <th>tenure</th>\n",
       "      <th>balance</th>\n",
       "      <th>num_of_products</th>\n",
       "      <th>has_cr_card</th>\n",
       "      <th>is_active_member</th>\n",
       "      <th>estimated_salary</th>\n",
       "      <th>geography_Germany</th>\n",
       "      <th>geography_Spain</th>\n",
       "      <th>gender_Male</th>\n",
       "    </tr>\n",
       "  </thead>\n",
       "  <tbody>\n",
       "    <tr>\n",
       "      <th>8837</th>\n",
       "      <td>-1.292898</td>\n",
       "      <td>-0.660843</td>\n",
       "      <td>0.686341</td>\n",
       "      <td>0.786636</td>\n",
       "      <td>-0.910943</td>\n",
       "      <td>0</td>\n",
       "      <td>0</td>\n",
       "      <td>-0.223548</td>\n",
       "      <td>0</td>\n",
       "      <td>0</td>\n",
       "      <td>1</td>\n",
       "    </tr>\n",
       "    <tr>\n",
       "      <th>1090</th>\n",
       "      <td>-1.563714</td>\n",
       "      <td>0.778434</td>\n",
       "      <td>1.034232</td>\n",
       "      <td>0.833795</td>\n",
       "      <td>-0.910943</td>\n",
       "      <td>1</td>\n",
       "      <td>0</td>\n",
       "      <td>1.383021</td>\n",
       "      <td>0</td>\n",
       "      <td>1</td>\n",
       "      <td>0</td>\n",
       "    </tr>\n",
       "    <tr>\n",
       "      <th>7609</th>\n",
       "      <td>1.581914</td>\n",
       "      <td>0.106771</td>\n",
       "      <td>-0.357331</td>\n",
       "      <td>-1.222967</td>\n",
       "      <td>0.789359</td>\n",
       "      <td>1</td>\n",
       "      <td>1</td>\n",
       "      <td>-0.308331</td>\n",
       "      <td>0</td>\n",
       "      <td>1</td>\n",
       "      <td>1</td>\n",
       "    </tr>\n",
       "    <tr>\n",
       "      <th>7279</th>\n",
       "      <td>0.842379</td>\n",
       "      <td>0.010820</td>\n",
       "      <td>-1.053112</td>\n",
       "      <td>0.807063</td>\n",
       "      <td>-0.910943</td>\n",
       "      <td>1</td>\n",
       "      <td>1</td>\n",
       "      <td>-0.430980</td>\n",
       "      <td>0</td>\n",
       "      <td>1</td>\n",
       "      <td>0</td>\n",
       "    </tr>\n",
       "    <tr>\n",
       "      <th>2245</th>\n",
       "      <td>-0.397123</td>\n",
       "      <td>-1.236554</td>\n",
       "      <td>-0.357331</td>\n",
       "      <td>-1.222967</td>\n",
       "      <td>0.789359</td>\n",
       "      <td>1</td>\n",
       "      <td>1</td>\n",
       "      <td>1.392642</td>\n",
       "      <td>0</td>\n",
       "      <td>1</td>\n",
       "      <td>0</td>\n",
       "    </tr>\n",
       "  </tbody>\n",
       "</table>\n",
       "</div>"
      ],
      "text/plain": [
       "      credit_score       age    tenure   balance  num_of_products  \\\n",
       "8837     -1.292898 -0.660843  0.686341  0.786636        -0.910943   \n",
       "1090     -1.563714  0.778434  1.034232  0.833795        -0.910943   \n",
       "7609      1.581914  0.106771 -0.357331 -1.222967         0.789359   \n",
       "7279      0.842379  0.010820 -1.053112  0.807063        -0.910943   \n",
       "2245     -0.397123 -1.236554 -0.357331 -1.222967         0.789359   \n",
       "\n",
       "      has_cr_card  is_active_member  estimated_salary  geography_Germany  \\\n",
       "8837            0                 0         -0.223548                  0   \n",
       "1090            1                 0          1.383021                  0   \n",
       "7609            1                 1         -0.308331                  0   \n",
       "7279            1                 1         -0.430980                  0   \n",
       "2245            1                 1          1.392642                  0   \n",
       "\n",
       "      geography_Spain  gender_Male  \n",
       "8837                0            1  \n",
       "1090                1            0  \n",
       "7609                1            1  \n",
       "7279                1            0  \n",
       "2245                1            0  "
      ]
     },
     "execution_count": 11,
     "metadata": {},
     "output_type": "execute_result"
    }
   ],
   "source": [
    "# формируем список столбцов для масштабирования\n",
    "numeric = ['credit_score', 'age', 'tenure', 'balance', 'num_of_products','estimated_salary']\n",
    "\n",
    "scaler = StandardScaler() # создание объекта\n",
    "scaler.fit(features_train[numeric]) # настройка на обучающих данных \n",
    "features_train[numeric] = scaler.transform(features_train[numeric])\n",
    "features_valid[numeric] = scaler.transform(features_valid[numeric])\n",
    "features_test[numeric] = scaler.transform(features_test[numeric])\n",
    "pd.options.mode.chained_assignment = None\n",
    "\n",
    "features_train.head() # контроль результата\n"
   ]
  },
  {
   "cell_type": "markdown",
   "metadata": {},
   "source": [
    "**Вывод:**  \n",
    "В процессе подготовки данных было проделано следующее:  \n",
    " - исправление стиля в заголовках столбцов  \n",
    " - проверка на явные дубликаты  \n",
    " - обработка пропусков в данных  \n",
    " - удаление ненужных для построения моделей столбцов с параметрами 'row_number','customer_id','surname'  \n",
    " - преобразование категориальных признаков в столбцах 'geography' и 'gender' в численные техникой прямого кодирования.  \n",
    " - разбиение данных на обучающую, валидационную и тестовую выборки в пропорции 3:1:1"
   ]
  },
  {
   "cell_type": "markdown",
   "metadata": {},
   "source": [
    "## Исследование задачи"
   ]
  },
  {
   "cell_type": "markdown",
   "metadata": {},
   "source": [
    "### Иследование баланса классов"
   ]
  },
  {
   "cell_type": "code",
   "execution_count": 12,
   "metadata": {},
   "outputs": [
    {
     "name": "stdout",
     "output_type": "stream",
     "text": [
      "0    0.796062\n",
      "1    0.203938\n",
      "Name: exited, dtype: float64\n"
     ]
    },
    {
     "data": {
      "image/png": "[encoded data removed]",
      "text/plain": [
       "<Figure size 640x480 with 1 Axes>"
      ]
     },
     "metadata": {},
     "output_type": "display_data"
    }
   ],
   "source": [
    "# вычисление и печать частоты классов в выборке\n",
    "class_frequency = df['exited'].value_counts(normalize=True)\n",
    "print(class_frequency)\n",
    "\n",
    "# создаем график\n",
    "class_frequency.plot(kind='bar')\n",
    "\n",
    "# задаем заголовок\n",
    "plt.title('Частота классов в выборке')\n",
    "\n",
    "# задаем название оси x\n",
    "plt.xlabel('Классы')\n",
    "\n",
    "# задаем название оси y\n",
    "plt.ylabel('Частота, %')\n",
    "\n",
    "# выводим график\n",
    "plt.show();"
   ]
  },
  {
   "cell_type": "markdown",
   "metadata": {},
   "source": [
    "**Вывод:** \n",
    " - Наблюдается дисбаланс классов, поскольку положительных ответов 20% от общего числа вопросов. \n",
    " - Для улучшения качества модели необходима балансировка."
   ]
  },
  {
   "cell_type": "markdown",
   "metadata": {},
   "source": [
    "### Изучение моделей без учёта дисбаланса классов"
   ]
  },
  {
   "cell_type": "markdown",
   "metadata": {},
   "source": [
    "Для дальнейшего решения задачи классификации нужно выбрать лучшую модель из трех: модель решающего дерева, модель случайного леса и модель логистической регрессии.  \n",
    "Для этого исследуем все три модели на тестовой и валидационной выборках без учета дисбаланса классов и показавшую наилучший результат Accuracy будем использовать для решения задачи. "
   ]
  },
  {
   "cell_type": "markdown",
   "metadata": {},
   "source": [
    "**Исследование модели решающего дерева**"
   ]
  },
  {
   "cell_type": "code",
   "execution_count": 13,
   "metadata": {},
   "outputs": [
    {
     "name": "stdout",
     "output_type": "stream",
     "text": [
      "F1 наилучшей модели: 0.6096096096096095\n",
      "Лучшая глубина дерева 14\n",
      "Лучшее количество объектов листа 5\n",
      "Лучшее количество объектов в узлах 18\n"
     ]
    }
   ],
   "source": [
    "best_model = None\n",
    "best_result = 0\n",
    "\n",
    "# проверка эффективности модели в зависимости от гиперпараметра \n",
    "# глубины дерева в промежутке от 1 до 20\n",
    "for leaf in range(1,20):  # цикл с перебором различного количества объектов листа\n",
    "    for split in range(2,20):  # цикл с перебором различного количества объектов в узлах\n",
    "        for depth in range(1, 20): # цикл с перебором различной глубины дерева\n",
    "    \n",
    "            #обучение модели с заданными в цикле гиперпараметрами\n",
    "            model = DecisionTreeClassifier(\n",
    "                    random_state=12345,\n",
    "                    min_samples_leaf=leaf,\n",
    "                    min_samples_split=split,\n",
    "                    max_depth=depth) \n",
    "            model.fit(features_train, target_train) # обучение модели на тренировочной выборке\n",
    "            predictions = model.predict(features_valid) # получение предсказания модели\n",
    "    \n",
    "            # определение качества модели на валидационной выборке \n",
    "            result = f1_score(target_valid, predictions)\n",
    "    \n",
    "            # выбор наилучшего результата и соответствующих ему гиперпараметров модели\n",
    "            if result > best_result: \n",
    "                best_model = model # сохранение наилучшей модели\n",
    "                best_result = result #  сохранение наилучшего значения метрики accuracy\n",
    "                best_depth = depth # сохранение наилучшей глубины дерева\n",
    "                best_leaf = leaf # сохранение наилучшего количества объектов листа\n",
    "                best_split = split # сохранение наилучшего количества объектов в узлах\n",
    "        \n",
    "print(\"F1 наилучшей модели:\", best_result)\n",
    "print('Лучшая глубина дерева',best_depth)\n",
    "print('Лучшее количество объектов листа',best_leaf)\n",
    "print('Лучшее количество объектов в узлах',best_split)"
   ]
  },
  {
   "cell_type": "markdown",
   "metadata": {},
   "source": [
    "**Исследование модели случайного леса**"
   ]
  },
  {
   "cell_type": "code",
   "execution_count": 14,
   "metadata": {},
   "outputs": [
    {
     "name": "stdout",
     "output_type": "stream",
     "text": [
      "F1 наилучшей модели: 0.6206896551724137\n",
      "Лучшее количество деревьев 14\n",
      "Лучшая глубина дерева 12\n",
      "Лучшее количество объектов в узлах 4\n"
     ]
    }
   ],
   "source": [
    "best_model = None\n",
    "best_result = 0\n",
    "\n",
    "# проверка эффективности модели в зависимости от гиперпараметров \n",
    "# числа деревьев в промежутке от 1 до 20 и \n",
    "# глубины дерева в промежутке от 1 до 20\n",
    "for split in range(2,6): # цикл с перебором различного числа объектов в листьях\n",
    "    for est in range(1, 20): # цикл с перебором различного количества деревьев\n",
    "        for depth in range(1,20): # цикл с перебором различной глубины дерева\n",
    "        \n",
    "            #обучение модели с заданными в циклах гиперпараметрами\n",
    "            model = RandomForestClassifier(\n",
    "                    random_state=12345, \n",
    "                    min_samples_split=split,\n",
    "                    n_estimators=est,\n",
    "                    max_depth=depth) \n",
    "            model.fit(features_train,target_train) # обучение модели на тренировочной выборке\n",
    "            predictions = model.predict(features_valid) # получение предсказания модели\n",
    "        \n",
    "            # определение качества модели на валидационной выборке\n",
    "            #result = accuracy_score(target_valid,predictions)\n",
    "            result =f1_score(target_valid, predictions)\n",
    "       \n",
    "        \n",
    "            # выбор наилучшего результата и соответствующих ему гиперпараметров модели\n",
    "            if result > best_result: \n",
    "                best_model = model # сохранение наилучшей модели\n",
    "                best_result = result #  сохранение наилучшего значения метрики F1\n",
    "                best_split = split # сохранение наилучшего количества объектов в узлах\n",
    "                best_est = est # сохранение наилучшего количества деревьев\n",
    "                best_depth = depth # сохранение наилучшей глубины дерева\n",
    "\n",
    "print(\"F1 наилучшей модели:\", best_result)\n",
    "print('Лучшее количество деревьев',best_est)\n",
    "print('Лучшая глубина дерева',best_depth)\n",
    "print('Лучшее количество объектов в узлах',best_split)"
   ]
  },
  {
   "cell_type": "markdown",
   "metadata": {},
   "source": [
    "**Исследование модели логистической регрессии**"
   ]
  },
  {
   "cell_type": "code",
   "execution_count": 15,
   "metadata": {},
   "outputs": [
    {
     "name": "stdout",
     "output_type": "stream",
     "text": [
      "F1 наилучшей модели: 0.3306772908366534\n",
      "Лучшее количество итераций обучения 100\n"
     ]
    }
   ],
   "source": [
    "best_model = None\n",
    "best_result = 0\n",
    "\n",
    "# проверка эффективности модели в зависимости от гиперпараметра \n",
    "# количества итераций обучения в промежутке от 100 до 500 c шагом 10\n",
    "\n",
    "for iter in range(100, 500, 10): # цикл с перебором различного количества итераций обучения\n",
    "    \n",
    "    # обучение модели с заданным количеством итераций\n",
    "    model = LogisticRegression(random_state=12345, solver='lbfgs', max_iter=iter)\n",
    "    model.fit(features_train,target_train) # обучение модели на тренировочной выборке\n",
    "    predictions = model.predict(features_valid) # получение предсказания модели\n",
    "    \n",
    "    # определение качества модели на валидационной выборке\n",
    "    result =f1_score(target_valid, predictions)\n",
    "    \n",
    "    # выбор наилучшего результата и соответствующих ему гиперпараметров модели\n",
    "    if result > best_result: \n",
    "        best_model = model # сохранение наилучшей модели\n",
    "        best_result = result #  сохранение наилучшего значения метрики accuracy на валидационных данных\n",
    "        best_max_iter = iter # сохранение наилучшего количества итераций обучения\n",
    "\n",
    "print(\"F1 наилучшей модели:\", best_result)\n",
    "print('Лучшее количество итераций обучения',best_max_iter)"
   ]
  },
  {
   "cell_type": "markdown",
   "metadata": {},
   "source": [
    "**Вывод:**  \n",
    "Было проведено исследование для разных гиперпараметров на обучающей и валидационной выборке трёх моделей классификации:  \n",
    "- модель решающего дерева\n",
    "- модель случайного леса\n",
    "- модель логистической регрессии \n",
    "\n",
    "Наилучший результат (Accuracy) =  0.8602 показала модель случайного леса с количеством деревьев 14 и глубиной дерева 13.  \n",
    "Именно она и признана лучшей моделью в данном проекте."
   ]
  },
  {
   "cell_type": "markdown",
   "metadata": {},
   "source": [
    "## Борьба с дисбалансом"
   ]
  },
  {
   "cell_type": "markdown",
   "metadata": {},
   "source": [
    "Для улучшения качества модели необходимо произвести балансировку данных.  \n",
    "Для этого применим следующие методы:  \n",
    " - Взвешивание классов  \n",
    " - Увеличение выборки (upsampling)  \n",
    " - Уменьшение выборки (downsampling)\n",
    " \n",
    "Выбор лучшего метода для дальнейшего использования в данном проекте будем проводить на основе показателя F1-меры.  \\\n",
    "Дополнительно будет измеряться метрика AUC_ROC."
   ]
  },
  {
   "cell_type": "markdown",
   "metadata": {},
   "source": [
    "**Определим функцию для вычисления метрик моделей**"
   ]
  },
  {
   "cell_type": "code",
   "execution_count": 16,
   "metadata": {},
   "outputs": [],
   "source": [
    "def metrics(features, target, prediction):\n",
    "    # вычисление F1-меры модели\n",
    "    f1_rate=f1_score(target, prediction) \n",
    "\n",
    "    # определение метрики AUC-ROC модели \n",
    "    probabilities= model.predict_proba(features)\n",
    "    probabilities_one = probabilities[:, 1]\n",
    "    auc_roc = roc_auc_score(target, probabilities_one)\n",
    "    \n",
    "    # определение accuracy модели\n",
    "    accuracy = accuracy_score(target, prediction)\n",
    "\n",
    "    # печать результата\n",
    "    print(\"F1-мера модели:\", f1_rate)\n",
    "    print(\"Метрика AUC-ROC модели:\", auc_roc)\n",
    "    print(\"Метрика Accuracy модели:\", accuracy)"
   ]
  },
  {
   "cell_type": "markdown",
   "metadata": {},
   "source": [
    "### Взвешивание классов"
   ]
  },
  {
   "cell_type": "code",
   "execution_count": 17,
   "metadata": {},
   "outputs": [
    {
     "name": "stdout",
     "output_type": "stream",
     "text": [
      "F1-мера модели: 0.6171428571428572\n",
      "Метрика AUC-ROC модели: 0.8580695816420999\n",
      "Метрика Accuracy модели: 0.8525852585258525\n"
     ]
    }
   ],
   "source": [
    "# обучение модели с заданным количеством деревьев и взвешиванием классов\n",
    "model = RandomForestClassifier(\n",
    "    random_state=12345, min_samples_split=4, n_estimators=14,\n",
    "    max_depth=12, class_weight='balanced')\n",
    "model.fit(features_train,target_train) # обучение модели на тренировочной выборке\n",
    "predicted_valid = model.predict(features_valid) # получение предсказания модели\n",
    "\n",
    "# вычисление метрик модели на валидационной выборке и\n",
    "# вывод на экран\n",
    "metrics(features_valid, target_valid, predicted_valid) \n"
   ]
  },
  {
   "cell_type": "markdown",
   "metadata": {},
   "source": [
    "### Увеличение выборки (upsampling)"
   ]
  },
  {
   "cell_type": "markdown",
   "metadata": {},
   "source": [
    "Разделим обучающую выборку на отрицательные и положительные объекты."
   ]
  },
  {
   "cell_type": "code",
   "execution_count": 18,
   "metadata": {},
   "outputs": [
    {
     "name": "stdout",
     "output_type": "stream",
     "text": [
      "(4342, 11)\n",
      "(1112, 11)\n",
      "(4342,)\n",
      "(1112,)\n"
     ]
    }
   ],
   "source": [
    "features_zeros = features_train[target_train == 0] # признаки объектов с ответом «0»\n",
    "features_ones = features_train[target_train == 1] # признаки объектов с ответом «1»\n",
    "target_zeros = target_train[target_train == 0] # целевой признак объектов, у которых ответы только «0»\n",
    "target_ones = target_train[target_train == 1] # целевой признак объектов, у которых ответы только «1»\n",
    "\n",
    "# выведем параметры полученных выборок\n",
    "print(features_zeros.shape)\n",
    "print(features_ones.shape)\n",
    "print(target_zeros.shape)\n",
    "print(target_ones.shape)"
   ]
  },
  {
   "cell_type": "markdown",
   "metadata": {},
   "source": [
    "**Вывод:**   \n",
    " - Количество положительных объектов в обучающей выборке 1112, а отрицательных 4342. \n",
    " - Следовательно необходимо продублировать объекты положительного класса четыре раза для получения увеличенной выборки, чтобы сблизить количество объектов обоих классов. "
   ]
  },
  {
   "cell_type": "markdown",
   "metadata": {},
   "source": [
    "Выполним процедуру увеличения выборки с выбранным параметром итераций дублирования"
   ]
  },
  {
   "cell_type": "code",
   "execution_count": 19,
   "metadata": {},
   "outputs": [
    {
     "name": "stdout",
     "output_type": "stream",
     "text": [
      "(8790, 11)\n",
      "(8790,)\n"
     ]
    }
   ],
   "source": [
    "repeat = 4 # число итераций дублирования объектов положительного класса \n",
    "\n",
    "# дублированиe объектов положительного класса  и объединение таблиц с признаками\n",
    "features_upsampled = pd.concat([features_zeros] + [features_ones] * repeat)\n",
    "\n",
    "# дублированиe объектов положительного класса  и объединение столбцов с целевым признаком\n",
    "target_upsampled = pd.concat([target_zeros] + [target_ones] * repeat)\n",
    "\n",
    "# перемешаем данные \n",
    "features_upsampled, target_upsampled = shuffle(\n",
    "    features_upsampled,target_upsampled,random_state=12345)\n",
    "\n",
    "# вывод на экран параметров новой выборки\n",
    "print(features_upsampled.shape)\n",
    "print(target_upsampled.shape)"
   ]
  },
  {
   "cell_type": "markdown",
   "metadata": {},
   "source": [
    "**Вывод:** Классы приемлемо сбалансированы. Результат обучения модели предположительно может улучшиться. "
   ]
  },
  {
   "cell_type": "markdown",
   "metadata": {},
   "source": [
    "Обучим модель на новой увеличенной выборке."
   ]
  },
  {
   "cell_type": "code",
   "execution_count": 20,
   "metadata": {},
   "outputs": [
    {
     "name": "stdout",
     "output_type": "stream",
     "text": [
      "F1-мера модели: 0.6177606177606179\n",
      "Метрика AUC-ROC модели: 0.8588361085394636\n",
      "Метрика Accuracy модели: 0.8366336633663366\n"
     ]
    }
   ],
   "source": [
    "model = RandomForestClassifier(random_state=12345,  min_samples_split=4, n_estimators=14,\n",
    "    max_depth=12)\n",
    "model.fit(features_upsampled,target_upsampled) # обучение модели на тренировочной выборке\n",
    "predicted_valid = model.predict(features_valid) # получение предсказания модели\n",
    "\n",
    "# вычисление метрик модели на валидационной выборке и\n",
    "# вывод на экран\n",
    "metrics(features_valid, target_valid, predicted_valid)"
   ]
  },
  {
   "cell_type": "markdown",
   "metadata": {},
   "source": [
    "**Вывод:**  \n",
    "Метод увеличения выборки показал лучший результат F1-меры 0.6178 по сравнению с результатом метода взвешивания классов 0.6171.  \n",
    "Данный метод также  показал лучший результат и по метрике AUC-ROC показал: 0.8588 против 0.8580 метода взвешивания классов.  \n",
    "При этом разница в обоих случаях небольшая (в третьем знаке после запятой).  \n",
    "Следует заметить, что сравнение метрик Accuracy дало противоположный результат: 0.8366 против 0.8526 "
   ]
  },
  {
   "cell_type": "markdown",
   "metadata": {},
   "source": [
    "### Уменьшение выборки (downsampling)"
   ]
  },
  {
   "cell_type": "markdown",
   "metadata": {},
   "source": [
    "Исходя из ранее полученного соотношения классов в обучающей выборке уменьшим количество объектов отрицательного класса примернов три раза, чтобы достичь близкого соотношения количества обоих классов. Воспользуемся выборкой, ранее уже разделенной на положительные и отрицательные объекты."
   ]
  },
  {
   "cell_type": "code",
   "execution_count": 21,
   "metadata": {},
   "outputs": [
    {
     "name": "stdout",
     "output_type": "stream",
     "text": [
      "(2198, 11)\n",
      "(2198,)\n"
     ]
    }
   ],
   "source": [
    "# коэфициент уменьшения количества объектов отрицательного класса\n",
    "fraction = 0.25 \n",
    "\n",
    "# уменьшение объектов отрицательного класса  и \n",
    "# объединение таблиц с признаками\n",
    "features_downsampled = pd.concat([features_zeros.sample(\n",
    "    frac=fraction, random_state=12345)] + [features_ones])\n",
    "\n",
    "# уменьшение объектов отрицательного класса  и \n",
    "# объединение столбцов с целевым признаком\n",
    "target_downsampled = pd.concat([target_zeros.sample(\n",
    "    frac=fraction, random_state=12345)] + [target_ones])\n",
    "\n",
    "# перемешаем данные     \n",
    "features_downsampled, target_downsampled = shuffle(\n",
    "    features_downsampled, target_downsampled, random_state=12345)\n",
    "\n",
    "# вывод на экран параметров новой выборки\n",
    "print(features_downsampled.shape)\n",
    "print(target_downsampled.shape)"
   ]
  },
  {
   "cell_type": "markdown",
   "metadata": {},
   "source": [
    "**Вывод:** Классы приемлемо сбалансированы. Результат обучения модели предположительно может улучшиться. "
   ]
  },
  {
   "cell_type": "markdown",
   "metadata": {},
   "source": [
    "Обучим модель на новой уменьшенной выборке."
   ]
  },
  {
   "cell_type": "code",
   "execution_count": 22,
   "metadata": {},
   "outputs": [
    {
     "name": "stdout",
     "output_type": "stream",
     "text": [
      "F1-мера модели: 0.5888324873096447\n",
      "Метрика AUC-ROC модели: 0.8659425486693354\n",
      "Метрика Accuracy модели: 0.7772277227722773\n"
     ]
    }
   ],
   "source": [
    "model = RandomForestClassifier(random_state=12345, min_samples_split=4, n_estimators=14,\n",
    "    max_depth=12)\n",
    "model.fit(features_downsampled,target_downsampled) # обучение модели на тренировочной выборке\n",
    "predicted_valid = model.predict(features_valid) # получение предсказания модели\n",
    "\n",
    "# вычисление метрик модели на валидационной выборке и\n",
    "# вывод на экран\n",
    "metrics(features_valid, target_valid, predicted_valid)"
   ]
  },
  {
   "cell_type": "markdown",
   "metadata": {},
   "source": [
    "**Вывод:**  \n",
    "Метод уменьшенной выборки показал наихудший результат F1-меры: 0.5888 по сравнению с результатами методов увеличения выборки: 0.6178 и взвешивания классов 0.6171.  \n",
    "Также этот метод показал наихудший результат и по метрике Accuracy: 0.7772 против 0.8366 и 0.8526  \n",
    "Однако, по метрике AUC-ROC данный метод показал противоположный резултат: 0.8659 против 0.8588 и 0.8580."
   ]
  },
  {
   "cell_type": "markdown",
   "metadata": {},
   "source": [
    "**Вывод по результатам исследования:**  \n",
    "Из трех исследованных методов борьбы с дисбалансом классов наилучший результат F1- меры показал метод увеличения выборки.  \n",
    "Он и будет применен в дальнейшем решении задачи.  \n",
    "При этом разница в показаниях F1- меры между методами взвешивания классов и увеличения выборки незначительна.  \n",
    "Показания метрик AUC-ROC и Accuracy в ряде случаев противоречили соотношениям F1 меры.  \n",
    "Следовательно, если целевым показателем в проекте является F1-мера, то целесообразно использовать именно ее для выбора метода борьбы с дисбалансом. "
   ]
  },
  {
   "cell_type": "markdown",
   "metadata": {},
   "source": [
    "## Тестирование модели"
   ]
  },
  {
   "cell_type": "markdown",
   "metadata": {},
   "source": [
    "Проверим на тестовой выборке модель случайного леса, обученную на увеличенной выборке"
   ]
  },
  {
   "cell_type": "code",
   "execution_count": 23,
   "metadata": {},
   "outputs": [
    {
     "name": "stdout",
     "output_type": "stream",
     "text": [
      "Лучшая модель, тестовая выборка\n",
      "F1-мера модели: 0.6018641810918774\n",
      "Метрика AUC-ROC модели: 0.8400721880537892\n",
      "Метрика Accuracy модели: 0.8356239692138537\n"
     ]
    }
   ],
   "source": [
    "model = RandomForestClassifier(random_state=12345,  min_samples_split=4, n_estimators=14,\n",
    "    max_depth=12)\n",
    "model.fit(features_upsampled,target_upsampled) # обучение модели на тренировочной выборке\n",
    "predicted_test = model.predict(features_test) # получение предсказания модели\n",
    "\n",
    "print(\"Лучшая модель, тестовая выборка\")\n",
    "\n",
    "# вычисление метрик модели на тестовой выборке и\n",
    "# вывод на экран\n",
    "metrics(features_test, target_test, predicted_test)"
   ]
  },
  {
   "cell_type": "markdown",
   "metadata": {},
   "source": [
    "**Вывод:**  \n",
    "Лучшая модель случайного леса с гиперпараметрами min_samples_split=4, n_estimators=14,\n",
    "    max_depth=12, обученная на увеличенной тренировочной выборке, показала на тестировании показатель F1-меры 0.60, превышающий целевой уровень для данного проекта, равный  0.59.  \n",
    "Следовательно, тестирование модели прошло успешно.  \n",
    "Как и ожидалось, показания обеих метрик на тестовой выборке уступают таковым на валидационной, но разница незначительна, что говорит о высоком качестве методик обучения, принимая во внимание хороший уровень показаний метрик в целом."
   ]
  },
  {
   "cell_type": "markdown",
   "metadata": {},
   "source": [
    "## Проверка модели на адекватность"
   ]
  },
  {
   "cell_type": "markdown",
   "metadata": {},
   "source": [
    "Для проверки на адекватность использовалась модель DummyClassifier с гиперпараметром strategy=\"most_frequent\", когда модель всегда возвращает наиболее часто используемую метку класса в целевом признаке, переданном для обучения.  \n",
    "Если результат (accuracy) лучшей модели будет больше, чем у DummyClassifier, то лучшая модель будет признана адекватной. "
   ]
  },
  {
   "cell_type": "code",
   "execution_count": 24,
   "metadata": {},
   "outputs": [
    {
     "name": "stdout",
     "output_type": "stream",
     "text": [
      "Модель Dummy, тестовая выборка\n",
      "Accuracy: 0.2039582188015393\n"
     ]
    }
   ],
   "source": [
    "dummy_clf = DummyClassifier(strategy=\"most_frequent\")\n",
    "dummy_clf.fit(features_upsampled,target_upsampled) # обучение модели на тренировочной выборке\n",
    "predictions_dummy = dummy_clf.predict(features_test) # получение предсказания модели\n",
    "\n",
    "print(\"Модель Dummy, тестовая выборка\")\n",
    "\n",
    "# определение качества модели Dummy на тестовой выборке\n",
    "print(\"Accuracy:\", accuracy_score(target_test, predictions_dummy)) "
   ]
  },
  {
   "cell_type": "markdown",
   "metadata": {},
   "source": [
    "**Вывод:**\n",
    "Лучшая модель случайного леса с гиперпараметрами min_samples_split=4, n_estimators=14,\n",
    "    max_depth=12, показала результат Accuracy 0.8356, что превышает результат модели DummyClassifier 0.8070, следовательно лучшая модель прошла проверку на адекватность."
   ]
  },
  {
   "cell_type": "markdown",
   "metadata": {},
   "source": [
    "## Общий вывод"
   ]
  },
  {
   "cell_type": "markdown",
   "metadata": {},
   "source": [
    "**По проекту было выполнено следующее:**\n",
    "- импорт и обзор данных\n",
    "- обработка данных \n",
    "   - коррекциея стиля заголовков\n",
    "   - удаление пропусков в данных\n",
    "   - проверка на наличие явных дубликатов\n",
    "   - преобразование категориальных признаков в численные\n",
    "   - удаление лишних данных\n",
    " \n",
    " - разбиение данных на обучающую, валидационную и тестовую выборки в пропорции 3:1:1\n",
    "- исследование баланса классов \n",
    "- исследование на обучающей и валидационной выборке трёх моделей:\n",
    "    - модель решающего дерева\n",
    "    - модель случайного леса\n",
    "    - модель логистической регрессии\n",
    "- выбор лучшей модели без учета дисбаланса в данных \n",
    "- выбор лучшего метода борьбы с дисбалансом\n",
    "- проверка лучшей обученной модели на тестовой выборке и на адекватность.\n",
    "\n",
    "**Выводы:**\n",
    "- Лучшей моделью по результатам исследования признана модель случайного леса с гиперпараметрами min_samples_split=4, n_estimators=14, max_depth=12. \n",
    "- Лучшим методом борьбы с дисбалансом данных в данном проекте на основаниии показателя F1-меры признан метод увеличения выборки.\n",
    "- Выбор метода борьбы с дисбалансом был полностью подтвержден также измеряемым показателем AUC-ROC.\n",
    "- Разница в показаниях F1-меры и метрики AUC-ROC между методами взвешивания классов и увеличения выборки невелика. \n",
    "- Лучшая модель, обученная на увеличенной тренировочной выборке, показала на тестировании уровень F1-меры 0.60, превышающий целевой уровень для данного проекта, равный  0.59.\n",
    "- Показания метрик F1-мера и AUC-ROC на тестовой выборке уступают таковым на валидационной, но разница незначительна, что говорит о высоком качестве методик обучения, принимая во внимание хороший уровень показаний метрик в целом.\n",
    "- Данная модель успешно прошла проверку на адекватность в с равнениии с моделью DummyClassifier.\n",
    "\n",
    "\n",
    "\n",
    "**Рекомендации сотрудникам банка:** \n",
    "- Построенную в рамках данного проекта систему анализа поведения клиентов можно применять для выявления целевой группы клиентской базы с наибольшей вероятностью ухода, что может помочь выработке специального комплекса мер по их удержанию.** "
   ]
  }
 ],
 "metadata": {
  "ExecuteTimeLog": [
   {
    "duration": 6085,
    "start_time": "2023-04-17T18:36:11.634Z"
   },
   {
    "duration": 196,
    "start_time": "2023-04-17T18:36:17.797Z"
   },
   {
    "duration": 123,
    "start_time": "2023-04-17T18:36:17.996Z"
   },
   {
    "duration": 7,
    "start_time": "2023-04-17T18:36:18.202Z"
   },
   {
    "duration": 83,
    "start_time": "2023-04-17T18:36:18.212Z"
   },
   {
    "duration": 102,
    "start_time": "2023-04-17T18:36:18.298Z"
   },
   {
    "duration": 95,
    "start_time": "2023-04-17T18:36:18.403Z"
   },
   {
    "duration": 94,
    "start_time": "2023-04-17T18:36:18.501Z"
   },
   {
    "duration": 102,
    "start_time": "2023-04-17T18:36:18.597Z"
   },
   {
    "duration": 93,
    "start_time": "2023-04-17T18:36:18.701Z"
   },
   {
    "duration": 702,
    "start_time": "2023-04-17T18:36:18.797Z"
   },
   {
    "duration": 1616,
    "start_time": "2023-04-17T18:36:19.502Z"
   },
   {
    "duration": 74973,
    "start_time": "2023-04-17T18:36:21.121Z"
   },
   {
    "duration": 51008,
    "start_time": "2023-04-17T18:37:36.097Z"
   },
   {
    "duration": 91,
    "start_time": "2023-04-17T18:38:27.108Z"
   },
   {
    "duration": 497,
    "start_time": "2023-04-17T18:38:27.210Z"
   },
   {
    "duration": 8,
    "start_time": "2023-04-17T18:38:27.709Z"
   },
   {
    "duration": 90,
    "start_time": "2023-04-17T18:38:27.718Z"
   },
   {
    "duration": 383,
    "start_time": "2023-04-17T18:38:27.811Z"
   },
   {
    "duration": 12,
    "start_time": "2023-04-17T18:38:28.196Z"
   },
   {
    "duration": 287,
    "start_time": "2023-04-17T18:38:28.210Z"
   },
   {
    "duration": 499,
    "start_time": "2023-04-17T18:38:28.499Z"
   },
   {
    "duration": 7,
    "start_time": "2023-04-17T18:38:29.003Z"
   },
   {
    "duration": 3090,
    "start_time": "2023-04-19T06:18:19.942Z"
   },
   {
    "duration": 256,
    "start_time": "2023-04-19T06:18:23.034Z"
   },
   {
    "duration": 46,
    "start_time": "2023-04-19T06:18:23.292Z"
   },
   {
    "duration": 6,
    "start_time": "2023-04-19T06:18:23.340Z"
   },
   {
    "duration": 13,
    "start_time": "2023-04-19T06:18:23.348Z"
   },
   {
    "duration": 20,
    "start_time": "2023-04-19T06:18:23.363Z"
   },
   {
    "duration": 47,
    "start_time": "2023-04-19T06:18:23.385Z"
   },
   {
    "duration": 15,
    "start_time": "2023-04-19T06:18:23.433Z"
   },
   {
    "duration": 26,
    "start_time": "2023-04-19T06:18:23.450Z"
   },
   {
    "duration": 46,
    "start_time": "2023-04-19T06:18:23.478Z"
   },
   {
    "duration": 44,
    "start_time": "2023-04-19T06:18:23.532Z"
   },
   {
    "duration": 205,
    "start_time": "2023-04-19T06:18:23.578Z"
   },
   {
    "duration": 462,
    "start_time": "2023-04-19T06:18:23.785Z"
   },
   {
    "duration": 22480,
    "start_time": "2023-04-19T06:18:24.250Z"
   },
   {
    "duration": 33481,
    "start_time": "2023-04-19T06:18:46.732Z"
   },
   {
    "duration": 10,
    "start_time": "2023-04-19T06:19:20.216Z"
   },
   {
    "duration": 193,
    "start_time": "2023-04-19T06:19:20.228Z"
   },
   {
    "duration": 8,
    "start_time": "2023-04-19T06:19:20.422Z"
   },
   {
    "duration": 21,
    "start_time": "2023-04-19T06:19:20.432Z"
   },
   {
    "duration": 206,
    "start_time": "2023-04-19T06:19:20.455Z"
   },
   {
    "duration": 14,
    "start_time": "2023-04-19T06:19:20.663Z"
   },
   {
    "duration": 110,
    "start_time": "2023-04-19T06:19:20.679Z"
   },
   {
    "duration": 152,
    "start_time": "2023-04-19T06:19:20.790Z"
   },
   {
    "duration": 5,
    "start_time": "2023-04-19T06:19:20.944Z"
   }
  ],
  "kernelspec": {
   "display_name": "Python 3 (ipykernel)",
   "language": "python",
   "name": "python3"
  },
  "language_info": {
   "codemirror_mode": {
    "name": "ipython",
    "version": 3
   },
   "file_extension": ".py",
   "mimetype": "text/x-python",
   "name": "python",
   "nbconvert_exporter": "python",
   "pygments_lexer": "ipython3",
   "version": "3.9.18"
  },
  "toc": {
   "base_numbering": 1,
   "nav_menu": {},
   "number_sections": true,
   "sideBar": true,
   "skip_h1_title": true,
   "title_cell": "Содержание",
   "title_sidebar": "Contents",
   "toc_cell": true,
   "toc_position": {
    "height": "calc(100% - 180px)",
    "left": "10px",
    "top": "150px",
    "width": "180.994px"
   },
   "toc_section_display": true,
   "toc_window_display": true
  }
 },
 "nbformat": 4,
 "nbformat_minor": 2
}
