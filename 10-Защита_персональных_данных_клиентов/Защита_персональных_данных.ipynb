{
 "cells": [
  {
   "cell_type": "markdown",
   "metadata": {
    "toc": true
   },
   "source": [
    "<h1>Содержание<span class=\"tocSkip\"></span></h1>\n",
    "<div class=\"toc\"><ul class=\"toc-item\"><li><span><a href=\"#Загрузка-библиотек-и-данных\" data-toc-modified-id=\"Загрузка-библиотек-и-данных-1\"><span class=\"toc-item-num\">1&nbsp;&nbsp;</span>Загрузка библиотек и данных</a></span></li><li><span><a href=\"#Подготовка-данных\" data-toc-modified-id=\"Подготовка-данных-2\"><span class=\"toc-item-num\">2&nbsp;&nbsp;</span>Подготовка данных</a></span></li><li><span><a href=\"#Умножение-матриц\" data-toc-modified-id=\"Умножение-матриц-3\"><span class=\"toc-item-num\">3&nbsp;&nbsp;</span>Умножение матриц</a></span><ul class=\"toc-item\"><li><span><a href=\"#Обоснование-решения\" data-toc-modified-id=\"Обоснование-решения-3.1\"><span class=\"toc-item-num\">3.1&nbsp;&nbsp;</span>Обоснование решения</a></span></li></ul></li><li><span><a href=\"#Алгоритм-преобразования\" data-toc-modified-id=\"Алгоритм-преобразования-4\"><span class=\"toc-item-num\">4&nbsp;&nbsp;</span>Алгоритм преобразования</a></span></li><li><span><a href=\"#Проверка-алгоритма\" data-toc-modified-id=\"Проверка-алгоритма-5\"><span class=\"toc-item-num\">5&nbsp;&nbsp;</span>Проверка алгоритма</a></span></li></ul></div>"
   ]
  },
  {
   "cell_type": "markdown",
   "metadata": {},
   "source": [
    "# Защита персональных данных клиентов"
   ]
  },
  {
   "cell_type": "markdown",
   "metadata": {},
   "source": [
    "**Цель проекта:**\n",
    "Защитить данные клиентов страховой компании. \n",
    "Для этого необходимо разработать такой метод преобразования данных, чтобы по ним было сложно восстановить персональную информацию. Необходимо также обосновать корректность работы метода. \n",
    "\n",
    "Нужно защитить данные, чтобы при преобразовании качество моделей машинного обучения не ухудшилось. Подбирать наилучшую модель не требуется."
   ]
  },
  {
   "cell_type": "markdown",
   "metadata": {},
   "source": [
    "## Загрузка библиотек и данных"
   ]
  },
  {
   "cell_type": "markdown",
   "metadata": {},
   "source": [
    "Загрузка библиотек"
   ]
  },
  {
   "cell_type": "code",
   "execution_count": 1,
   "metadata": {},
   "outputs": [],
   "source": [
    "import pandas as pd\n",
    "import numpy as np\n",
    "from sklearn.linear_model import LinearRegression\n",
    "from sklearn.metrics import r2_score"
   ]
  },
  {
   "cell_type": "markdown",
   "metadata": {},
   "source": [
    "Импорт данных"
   ]
  },
  {
   "cell_type": "code",
   "execution_count": 2,
   "metadata": {},
   "outputs": [
    {
     "data": {
      "text/plain": [
       "(5000, 5)"
      ]
     },
     "metadata": {},
     "output_type": "display_data"
    },
    {
     "name": "stdout",
     "output_type": "stream",
     "text": [
      "<class 'pandas.core.frame.DataFrame'>\n",
      "RangeIndex: 5000 entries, 0 to 4999\n",
      "Data columns (total 5 columns):\n",
      " #   Column             Non-Null Count  Dtype  \n",
      "---  ------             --------------  -----  \n",
      " 0   Пол                5000 non-null   int64  \n",
      " 1   Возраст            5000 non-null   float64\n",
      " 2   Зарплата           5000 non-null   float64\n",
      " 3   Члены семьи        5000 non-null   int64  \n",
      " 4   Страховые выплаты  5000 non-null   int64  \n",
      "dtypes: float64(2), int64(3)\n",
      "memory usage: 195.4 KB\n"
     ]
    },
    {
     "data": {
      "text/plain": [
       "None"
      ]
     },
     "metadata": {},
     "output_type": "display_data"
    },
    {
     "data": {
      "text/html": [
       "<div>\n",
       "<style scoped>\n",
       "    .dataframe tbody tr th:only-of-type {\n",
       "        vertical-align: middle;\n",
       "    }\n",
       "\n",
       "    .dataframe tbody tr th {\n",
       "        vertical-align: top;\n",
       "    }\n",
       "\n",
       "    .dataframe thead th {\n",
       "        text-align: right;\n",
       "    }\n",
       "</style>\n",
       "<table border=\"1\" class=\"dataframe\">\n",
       "  <thead>\n",
       "    <tr style=\"text-align: right;\">\n",
       "      <th></th>\n",
       "      <th>Пол</th>\n",
       "      <th>Возраст</th>\n",
       "      <th>Зарплата</th>\n",
       "      <th>Члены семьи</th>\n",
       "      <th>Страховые выплаты</th>\n",
       "    </tr>\n",
       "  </thead>\n",
       "  <tbody>\n",
       "    <tr>\n",
       "      <th>count</th>\n",
       "      <td>5000.000000</td>\n",
       "      <td>5000.000000</td>\n",
       "      <td>5000.000000</td>\n",
       "      <td>5000.000000</td>\n",
       "      <td>5000.000000</td>\n",
       "    </tr>\n",
       "    <tr>\n",
       "      <th>mean</th>\n",
       "      <td>0.499000</td>\n",
       "      <td>30.952800</td>\n",
       "      <td>39916.360000</td>\n",
       "      <td>1.194200</td>\n",
       "      <td>0.148000</td>\n",
       "    </tr>\n",
       "    <tr>\n",
       "      <th>std</th>\n",
       "      <td>0.500049</td>\n",
       "      <td>8.440807</td>\n",
       "      <td>9900.083569</td>\n",
       "      <td>1.091387</td>\n",
       "      <td>0.463183</td>\n",
       "    </tr>\n",
       "    <tr>\n",
       "      <th>min</th>\n",
       "      <td>0.000000</td>\n",
       "      <td>18.000000</td>\n",
       "      <td>5300.000000</td>\n",
       "      <td>0.000000</td>\n",
       "      <td>0.000000</td>\n",
       "    </tr>\n",
       "    <tr>\n",
       "      <th>25%</th>\n",
       "      <td>0.000000</td>\n",
       "      <td>24.000000</td>\n",
       "      <td>33300.000000</td>\n",
       "      <td>0.000000</td>\n",
       "      <td>0.000000</td>\n",
       "    </tr>\n",
       "    <tr>\n",
       "      <th>50%</th>\n",
       "      <td>0.000000</td>\n",
       "      <td>30.000000</td>\n",
       "      <td>40200.000000</td>\n",
       "      <td>1.000000</td>\n",
       "      <td>0.000000</td>\n",
       "    </tr>\n",
       "    <tr>\n",
       "      <th>75%</th>\n",
       "      <td>1.000000</td>\n",
       "      <td>37.000000</td>\n",
       "      <td>46600.000000</td>\n",
       "      <td>2.000000</td>\n",
       "      <td>0.000000</td>\n",
       "    </tr>\n",
       "    <tr>\n",
       "      <th>max</th>\n",
       "      <td>1.000000</td>\n",
       "      <td>65.000000</td>\n",
       "      <td>79000.000000</td>\n",
       "      <td>6.000000</td>\n",
       "      <td>5.000000</td>\n",
       "    </tr>\n",
       "  </tbody>\n",
       "</table>\n",
       "</div>"
      ],
      "text/plain": [
       "               Пол      Возраст      Зарплата  Члены семьи  Страховые выплаты\n",
       "count  5000.000000  5000.000000   5000.000000  5000.000000        5000.000000\n",
       "mean      0.499000    30.952800  39916.360000     1.194200           0.148000\n",
       "std       0.500049     8.440807   9900.083569     1.091387           0.463183\n",
       "min       0.000000    18.000000   5300.000000     0.000000           0.000000\n",
       "25%       0.000000    24.000000  33300.000000     0.000000           0.000000\n",
       "50%       0.000000    30.000000  40200.000000     1.000000           0.000000\n",
       "75%       1.000000    37.000000  46600.000000     2.000000           0.000000\n",
       "max       1.000000    65.000000  79000.000000     6.000000           5.000000"
      ]
     },
     "metadata": {},
     "output_type": "display_data"
    },
    {
     "data": {
      "text/html": [
       "<div>\n",
       "<style scoped>\n",
       "    .dataframe tbody tr th:only-of-type {\n",
       "        vertical-align: middle;\n",
       "    }\n",
       "\n",
       "    .dataframe tbody tr th {\n",
       "        vertical-align: top;\n",
       "    }\n",
       "\n",
       "    .dataframe thead th {\n",
       "        text-align: right;\n",
       "    }\n",
       "</style>\n",
       "<table border=\"1\" class=\"dataframe\">\n",
       "  <thead>\n",
       "    <tr style=\"text-align: right;\">\n",
       "      <th></th>\n",
       "      <th>Пол</th>\n",
       "      <th>Возраст</th>\n",
       "      <th>Зарплата</th>\n",
       "      <th>Члены семьи</th>\n",
       "      <th>Страховые выплаты</th>\n",
       "    </tr>\n",
       "  </thead>\n",
       "  <tbody>\n",
       "    <tr>\n",
       "      <th>0</th>\n",
       "      <td>1</td>\n",
       "      <td>41.0</td>\n",
       "      <td>49600.0</td>\n",
       "      <td>1</td>\n",
       "      <td>0</td>\n",
       "    </tr>\n",
       "    <tr>\n",
       "      <th>1</th>\n",
       "      <td>0</td>\n",
       "      <td>46.0</td>\n",
       "      <td>38000.0</td>\n",
       "      <td>1</td>\n",
       "      <td>1</td>\n",
       "    </tr>\n",
       "    <tr>\n",
       "      <th>2</th>\n",
       "      <td>0</td>\n",
       "      <td>29.0</td>\n",
       "      <td>21000.0</td>\n",
       "      <td>0</td>\n",
       "      <td>0</td>\n",
       "    </tr>\n",
       "    <tr>\n",
       "      <th>3</th>\n",
       "      <td>0</td>\n",
       "      <td>21.0</td>\n",
       "      <td>41700.0</td>\n",
       "      <td>2</td>\n",
       "      <td>0</td>\n",
       "    </tr>\n",
       "    <tr>\n",
       "      <th>4</th>\n",
       "      <td>1</td>\n",
       "      <td>28.0</td>\n",
       "      <td>26100.0</td>\n",
       "      <td>0</td>\n",
       "      <td>0</td>\n",
       "    </tr>\n",
       "  </tbody>\n",
       "</table>\n",
       "</div>"
      ],
      "text/plain": [
       "   Пол  Возраст  Зарплата  Члены семьи  Страховые выплаты\n",
       "0    1     41.0   49600.0            1                  0\n",
       "1    0     46.0   38000.0            1                  1\n",
       "2    0     29.0   21000.0            0                  0\n",
       "3    0     21.0   41700.0            2                  0\n",
       "4    1     28.0   26100.0            0                  0"
      ]
     },
     "metadata": {},
     "output_type": "display_data"
    }
   ],
   "source": [
    "try:\n",
    "    df = pd.read_csv('insurance.csv')\n",
    "except:\n",
    "    df = pd.read_csv('/datasets/insurance.csv')\n",
    "    \n",
    "#вывод параметров датасета для проверки    \n",
    "display(df.shape)\n",
    "display(df.info())\n",
    "display(df.describe())\n",
    "display(df.head())\n"
   ]
  },
  {
   "cell_type": "markdown",
   "metadata": {},
   "source": [
    "## Подготовка данных"
   ]
  },
  {
   "cell_type": "code",
   "execution_count": 3,
   "metadata": {},
   "outputs": [
    {
     "name": "stdout",
     "output_type": "stream",
     "text": [
      "Количество явных дубликатов 153\n",
      "Количество явных дубликатов после удаления 0\n",
      "(4847, 5)\n",
      "<class 'pandas.core.frame.DataFrame'>\n",
      "RangeIndex: 4847 entries, 0 to 4846\n",
      "Data columns (total 5 columns):\n",
      " #   Column             Non-Null Count  Dtype  \n",
      "---  ------             --------------  -----  \n",
      " 0   Пол                4847 non-null   int64  \n",
      " 1   Возраст            4847 non-null   float64\n",
      " 2   Зарплата           4847 non-null   float64\n",
      " 3   Члены семьи        4847 non-null   int64  \n",
      " 4   Страховые выплаты  4847 non-null   int64  \n",
      "dtypes: float64(2), int64(3)\n",
      "memory usage: 189.5 KB\n",
      "None\n",
      "               Пол      Возраст      Зарплата  Члены семьи  Страховые выплаты\n",
      "count  4847.000000  4847.000000   4847.000000  4847.000000        4847.000000\n",
      "mean      0.498453    31.023932  39895.811842     1.203425           0.152259\n",
      "std       0.500049     8.487995   9972.953985     1.098664           0.468934\n",
      "min       0.000000    18.000000   5300.000000     0.000000           0.000000\n",
      "25%       0.000000    24.000000  33200.000000     0.000000           0.000000\n",
      "50%       0.000000    30.000000  40200.000000     1.000000           0.000000\n",
      "75%       1.000000    37.000000  46600.000000     2.000000           0.000000\n",
      "max       1.000000    65.000000  79000.000000     6.000000           5.000000\n"
     ]
    }
   ],
   "source": [
    "# Проверка на явные дубликаты\n",
    "print('Количество явных дубликатов', df.duplicated().sum())\n",
    "\n",
    "# Удаление явных дубликатов\n",
    "df.drop_duplicates(inplace=True)\n",
    "\n",
    "# сброс индексов\n",
    "df=df.reset_index(drop=True)\n",
    "\n",
    "# Проверка результата\n",
    "print('Количество явных дубликатов после удаления', df.duplicated().sum())\n",
    "print(df.shape)\n",
    "print(df.info())\n",
    "print(df.describe())"
   ]
  },
  {
   "cell_type": "markdown",
   "metadata": {},
   "source": [
    "Формирование матрицы признаков и вектора целевого признака (таргета)"
   ]
  },
  {
   "cell_type": "code",
   "execution_count": 4,
   "metadata": {},
   "outputs": [
    {
     "name": "stdout",
     "output_type": "stream",
     "text": [
      "Тип данных признаков: <class 'numpy.ndarray'>\n",
      "Тип данных таргета: <class 'numpy.ndarray'>\n",
      "Размер данных признаков: (4847, 4)\n",
      "Размер данных таргета: (4847,)\n"
     ]
    }
   ],
   "source": [
    "X=df.drop(columns='Страховые выплаты').values\n",
    "y=df['Страховые выплаты'].values\n",
    "\n",
    "print('Тип данных признаков:',type(X))\n",
    "print('Тип данных таргета:',type(y))\n",
    "print('Размер данных признаков:',X.shape)\n",
    "print('Размер данных таргета:',y.shape)"
   ]
  },
  {
   "cell_type": "markdown",
   "metadata": {},
   "source": [
    "**Вывод:**\n",
    "В процессе импорта и подготовки данных было выполнено следующее:\n",
    "- первичный обзор данных\n",
    "- устранение явных дубликатов\n",
    "- разбиение данных на матрицу признаков и вектор целевого признака."
   ]
  },
  {
   "cell_type": "markdown",
   "metadata": {},
   "source": [
    "## Умножение матриц"
   ]
  },
  {
   "cell_type": "markdown",
   "metadata": {},
   "source": [
    "### Обоснование решения"
   ]
  },
  {
   "cell_type": "markdown",
   "metadata": {},
   "source": [
    "Обозначения:\n",
    "\n",
    "- $X$ — матрица признаков (нулевой столбец состоит из единиц)\n",
    "\n",
    "- $y$ — вектор целевого признака\n",
    "\n",
    "- $P$ — матрица, на которую умножаются признаки\n",
    "\n",
    "- $w$ — вектор весов линейной регрессии (нулевой элемент равен сдвигу)\n",
    "\n",
    "- $a$ - вектор предсказаний, который получается умножением матрицы признаков $X$ на вектор весов $w$"
   ]
  },
  {
   "cell_type": "markdown",
   "metadata": {},
   "source": [
    "Предсказания:\n",
    "\n",
    "$$\n",
    "a = Xw\n",
    "$$\n",
    "\n",
    "Задача обучения:\n",
    "\n",
    "$$\n",
    "w = \\arg\\min_w MSE(Xw, y)\n",
    "$$\n",
    "\n",
    "Формула обучения:\n",
    "\n",
    "$$\n",
    "w = (X^T X)^{-1} X^T y\n",
    "$$"
   ]
  },
  {
   "cell_type": "markdown",
   "metadata": {},
   "source": [
    "**Ответ:** Качество линейной регрессии при умножении признаков на обратимую матрицу не меняется. При подобном подходе не происходит потери данных, следовательно его можно использовать для защиты информации.\n",
    "\n",
    "**Обоснование:** \n",
    "1. Умножаем матрицу признаков $X$ на обратимую матрицу $A$: \n",
    "\n",
    "    Вектор предсказаний: \n",
    "$$\n",
    "a = XAw\n",
    "$$\n",
    "    Берем формулу обучения и подставляем в вектор предсказаний: \n",
    "$$\n",
    "w = (X^T X)^{-1} X^T y\n",
    "$$\n",
    "\n",
    "    Теперь веса линейной регрессии, согласно формуле обучения, выглядят так :\n",
    "\n",
    "$$\n",
    "w' = ((XA)^T XA)^{-1} (XA)^T y)\n",
    "$$\n",
    "\n",
    "2. Подставляем веса $w'$ в фомулу для $a$: \n",
    "\n",
    "$$\n",
    "a = XA((XA)^T XA)^{-1} (XA)^T y)\n",
    "$$\n",
    "\n",
    "3. Транспонированное произведение матриц равно произведению транспонированных матриц: $(AB)^T = B^TA^T$  \n",
    "    применив его, получаем:\n",
    "\n",
    "$$\n",
    "a = XA(A^TX^T XA)^{-1} A^TX^T y)\n",
    "$$\n",
    "\n",
    "4. Обратная матрица от произведения двух матриц А и B равна произведению обратной матрицы от B  на обратную матрицу от А: $(AB)^{-1} = B^{-1}A^{-1}$  \n",
    "применив это, получаем:\n",
    "\n",
    "$$\n",
    "a = XA((X^T XA)^{-1}(A^T)^{-1}A^TX^T y)\n",
    "$$\n",
    "\n",
    "    преобразуем:\n",
    "\n",
    "$$\n",
    "a = XAA^{-1}((X^T X)^{-1}(A^T)^{-1}A^TX^T y)\n",
    "$$\n",
    "\n",
    "5. Умножение матрицы на обратную ей дает единичную матрицу: $AA^{-1}=E$  \n",
    "воспользуемся и преобразуем опять:\n",
    "\n",
    "$$\n",
    "a = XE((X^T X)^{-1}(A^T)^{-1}A^TX^T y)\n",
    "$$\n",
    "\n",
    "6. Согласно предыдущему утверждению, также и $(A^T)^{-1}A^T=E$, тогда, преобразовав, получим:\n",
    "\n",
    "$$\n",
    "a = XE((X^T X)^{-1}EX^T y)\n",
    "$$\n",
    "\n",
    "7. Произведение любой матрицы на единичную матрицу не изменяет саму матрицу, поэтому просто убираем E из произведений в формуле и получаем:\n",
    "\n",
    "$$\n",
    "a = X(X^T X)^{-1}X^T y\n",
    "$$\n",
    "\n",
    "8. Применяем формулу обучения $w = (X^T X)^{-1} X^T y$ и получаем исходную формулу предсказания:\n",
    "\n",
    "$$\n",
    "a = X(X^T X)^{-1}X^T y=Xw\n",
    "$$\n",
    "\n",
    "Таким образом мы доказываем, что качество линейной регрессии при умножении признаков на обратимую матрицу не меняется."
   ]
  },
  {
   "cell_type": "markdown",
   "metadata": {},
   "source": [
    "## Алгоритм преобразования"
   ]
  },
  {
   "cell_type": "markdown",
   "metadata": {},
   "source": [
    "**Алгоритм**\n",
    "содержит следующие шаги:\n",
    "1. Измеряем качество линейной регресси метрикой R2 на исходных данных.\n",
    "2. Умножаем матрицу признаков на созданную нами обратимую матрицу и получаем новую матрицу признаков. \n",
    "3. Обучаем новую модель линейной регрессии на новой  матрице признаков и сравниваем её качество с исходной моделью, опять же по метрике R2."
   ]
  },
  {
   "cell_type": "markdown",
   "metadata": {},
   "source": [
    "Создаем функцию измерения качества линейной регрессии."
   ]
  },
  {
   "cell_type": "code",
   "execution_count": 5,
   "metadata": {},
   "outputs": [],
   "source": [
    "def measurement(X,y):\n",
    "    model = LinearRegression()\n",
    "    model.fit(X, y)\n",
    "    predictions = model.predict(X)\n",
    "    return r2_score(y, predictions)"
   ]
  },
  {
   "cell_type": "markdown",
   "metadata": {},
   "source": [
    "Создаем функцию, возвращающую случайную матрицу с проверкой её обратимости"
   ]
  },
  {
   "cell_type": "code",
   "execution_count": 6,
   "metadata": {},
   "outputs": [],
   "source": [
    "# определим функцию, возвращающую случайную матрицу с проверкой её обратимости\n",
    "def create_an_invertible_matrix(x_matrix, y_matrix, get_inv_matrix=True,):\n",
    "    \n",
    "    matrix = np.random.rand(x_matrix,y_matrix)\n",
    "    while np.linalg.det(matrix) == 0:\n",
    "        matrix = np.random.rand(x_matrix,y_matrix)\n",
    "    inv_matrix = np.linalg.inv(matrix)\n",
    "    if get_inv_matrix:\n",
    "        return matrix, inv_matrix\n",
    "    else:\n",
    "        return matrix"
   ]
  },
  {
   "cell_type": "markdown",
   "metadata": {},
   "source": [
    "**Обоснование**\n",
    "\n",
    "Если качество линейной регрессии после умножения матрицы признаков на оборатимую матрицу не ухудшится, то данный алгоритм можно будет использовать для защиты данных."
   ]
  },
  {
   "cell_type": "markdown",
   "metadata": {},
   "source": [
    "## Проверка алгоритма"
   ]
  },
  {
   "cell_type": "markdown",
   "metadata": {},
   "source": [
    "Проверяем качество предсказания на изначальной матрице признаков."
   ]
  },
  {
   "cell_type": "code",
   "execution_count": 7,
   "metadata": {},
   "outputs": [
    {
     "name": "stdout",
     "output_type": "stream",
     "text": [
      "Измерение качества первого предсказания R2: 0.4302010044852067\n"
     ]
    }
   ],
   "source": [
    "print('Измерение качества первого предсказания R2:',measurement(X,y))"
   ]
  },
  {
   "cell_type": "markdown",
   "metadata": {},
   "source": [
    "Формируем обратимую матрицу случайным образом."
   ]
  },
  {
   "cell_type": "code",
   "execution_count": 8,
   "metadata": {},
   "outputs": [
    {
     "name": "stdout",
     "output_type": "stream",
     "text": [
      "случайная матрица А:\n",
      "[[0.9193381  0.96802028 0.53746736 0.78155537]\n",
      " [0.68380296 0.45832183 0.30313297 0.27789005]\n",
      " [0.57531029 0.80188783 0.4663511  0.23607419]\n",
      " [0.14493927 0.61762011 0.90146977 0.01923982]]\n",
      "\n",
      "обратная матрица случайной матрицы A:\n",
      "[[-1.01977877  3.23909606 -0.41500331 -0.26650008]\n",
      " [-0.10714862 -2.70494532  3.61174218 -0.89497503]\n",
      " [ 0.18433459  1.36225023 -2.35731483  1.76081287]\n",
      " [ 2.48500585 -1.3966349  -2.36417228  0.21108961]]\n"
     ]
    }
   ],
   "source": [
    "A, A_ = create_an_invertible_matrix(X.shape[1],X.shape[1],get_inv_matrix=True)\n",
    "print(f'случайная матрица А:\\n{A}\\n\\nобратная матрица случайной матрицы A:\\n{A_}')"
   ]
  },
  {
   "cell_type": "markdown",
   "metadata": {},
   "source": [
    "Умножаем матрицу признаков на обратимую матрицу и получаем второе качество предсказания. "
   ]
  },
  {
   "cell_type": "code",
   "execution_count": 9,
   "metadata": {},
   "outputs": [
    {
     "name": "stdout",
     "output_type": "stream",
     "text": [
      "Измерение качества второго предсказания: 0.43020100448518483\n"
     ]
    }
   ],
   "source": [
    "X_ = X @ A\n",
    "print('Измерение качества второго предсказания:',measurement(X_,y))"
   ]
  },
  {
   "cell_type": "markdown",
   "metadata": {},
   "source": [
    "**Вывод:**\n",
    "После умножения матрицы признаков на обратимую матрицу, качество предсказания изменилось лишь в 14-м знаке после запятой что означает, что данный метод можно использовать для шифрования.\n",
    "\n",
    "**Рекомендация для сотрудников страховой компаниии:**  \n",
    "Данный метод можно успешно применять для защиты персональных данных клиентов компаниии."
   ]
  },
  {
   "cell_type": "code",
   "execution_count": null,
   "metadata": {},
   "outputs": [],
   "source": []
  }
 ],
 "metadata": {
  "ExecuteTimeLog": [
   {
    "duration": 2487,
    "start_time": "2023-06-09T03:58:29.977Z"
   },
   {
    "duration": 236,
    "start_time": "2023-06-09T03:58:32.466Z"
   },
   {
    "duration": 0,
    "start_time": "2023-06-09T03:58:32.704Z"
   },
   {
    "duration": 0,
    "start_time": "2023-06-09T03:58:32.706Z"
   },
   {
    "duration": 0,
    "start_time": "2023-06-09T03:58:32.707Z"
   },
   {
    "duration": 0,
    "start_time": "2023-06-09T03:58:32.708Z"
   },
   {
    "duration": 0,
    "start_time": "2023-06-09T03:58:32.710Z"
   },
   {
    "duration": 0,
    "start_time": "2023-06-09T03:58:32.711Z"
   },
   {
    "duration": 0,
    "start_time": "2023-06-09T03:58:32.712Z"
   },
   {
    "duration": 2469,
    "start_time": "2023-06-09T21:28:53.769Z"
   },
   {
    "duration": 128,
    "start_time": "2023-06-09T21:28:56.240Z"
   },
   {
    "duration": 25,
    "start_time": "2023-06-09T21:28:56.369Z"
   },
   {
    "duration": 4,
    "start_time": "2023-06-09T21:28:56.396Z"
   },
   {
    "duration": 11,
    "start_time": "2023-06-09T21:28:56.401Z"
   },
   {
    "duration": 10,
    "start_time": "2023-06-09T21:28:56.414Z"
   },
   {
    "duration": 13,
    "start_time": "2023-06-09T21:28:56.425Z"
   },
   {
    "duration": 79,
    "start_time": "2023-06-09T21:28:56.440Z"
   },
   {
    "duration": 98,
    "start_time": "2023-06-09T21:28:56.521Z"
   }
  ],
  "kernelspec": {
   "display_name": "Python 3 (ipykernel)",
   "language": "python",
   "name": "python3"
  },
  "language_info": {
   "codemirror_mode": {
    "name": "ipython",
    "version": 3
   },
   "file_extension": ".py",
   "mimetype": "text/x-python",
   "name": "python",
   "nbconvert_exporter": "python",
   "pygments_lexer": "ipython3",
   "version": "3.9.18"
  },
  "toc": {
   "base_numbering": 1,
   "nav_menu": {},
   "number_sections": true,
   "sideBar": true,
   "skip_h1_title": true,
   "title_cell": "Содержание",
   "title_sidebar": "Contents",
   "toc_cell": true,
   "toc_position": {
    "height": "calc(100% - 180px)",
    "left": "10px",
    "top": "150px",
    "width": "244.531px"
   },
   "toc_section_display": true,
   "toc_window_display": true
  }
 },
 "nbformat": 4,
 "nbformat_minor": 2
}
