{
 "cells": [
  {
   "cell_type": "markdown",
   "metadata": {
    "toc": true
   },
   "source": [
    "<h1>Содержание<span class=\"tocSkip\"></span></h1>\n",
    "<div class=\"toc\"><ul class=\"toc-item\"><li><span><a href=\"#Загрузка-библиотек-и-данных\" data-toc-modified-id=\"Загрузка-библиотек-и-данных-1\"><span class=\"toc-item-num\">1&nbsp;&nbsp;</span>Загрузка библиотек и данных</a></span></li><li><span><a href=\"#Подготовка-данных\" data-toc-modified-id=\"Подготовка-данных-2\"><span class=\"toc-item-num\">2&nbsp;&nbsp;</span>Подготовка данных</a></span><ul class=\"toc-item\"><li><span><a href=\"#Проверка-расчета-эффективности-обогащения\" data-toc-modified-id=\"Проверка-расчета-эффективности-обогащения-2.1\"><span class=\"toc-item-num\">2.1&nbsp;&nbsp;</span>Проверка расчета эффективности обогащения</a></span></li><li><span><a href=\"#Анализ-признаков\" data-toc-modified-id=\"Анализ-признаков-2.2\"><span class=\"toc-item-num\">2.2&nbsp;&nbsp;</span>Анализ признаков</a></span></li><li><span><a href=\"#Предобработка-данных\" data-toc-modified-id=\"Предобработка-данных-2.3\"><span class=\"toc-item-num\">2.3&nbsp;&nbsp;</span>Предобработка данных</a></span></li></ul></li><li><span><a href=\"#Анализ-данных\" data-toc-modified-id=\"Анализ-данных-3\"><span class=\"toc-item-num\">3&nbsp;&nbsp;</span>Анализ данных</a></span><ul class=\"toc-item\"><li><span><a href=\"#Анализ-концентрации-золота-на-разных-этапах-процесса-обогащения\" data-toc-modified-id=\"Анализ-концентрации-золота-на-разных-этапах-процесса-обогащения-3.1\"><span class=\"toc-item-num\">3.1&nbsp;&nbsp;</span>Анализ концентрации золота на разных этапах процесса обогащения</a></span></li><li><span><a href=\"#Анализ-концентрации-серебра-на-разных-этапах-процесса-обогащения\" data-toc-modified-id=\"Анализ-концентрации-серебра-на-разных-этапах-процесса-обогащения-3.2\"><span class=\"toc-item-num\">3.2&nbsp;&nbsp;</span>Анализ концентрации серебра на разных этапах процесса обогащения</a></span></li><li><span><a href=\"#Анализ-концентрации-свинца-на-разных-этапах-процесса-обогащения\" data-toc-modified-id=\"Анализ-концентрации-свинца-на-разных-этапах-процесса-обогащения-3.3\"><span class=\"toc-item-num\">3.3&nbsp;&nbsp;</span>Анализ концентрации свинца на разных этапах процесса обогащения</a></span></li><li><span><a href=\"#Вывод-по-исследованию-концентрации-металлов\" data-toc-modified-id=\"Вывод-по-исследованию-концентрации-металлов-3.4\"><span class=\"toc-item-num\">3.4&nbsp;&nbsp;</span>Вывод по исследованию концентрации металлов</a></span></li><li><span><a href=\"#Сравнение-распределения-размеров-гранул-исходного-сырья-в-обучающей-и-тестовой-выборках.\" data-toc-modified-id=\"Сравнение-распределения-размеров-гранул-исходного-сырья-в-обучающей-и-тестовой-выборках.-3.5\"><span class=\"toc-item-num\">3.5&nbsp;&nbsp;</span>Сравнение распределения размеров гранул исходного сырья в обучающей и тестовой выборках.</a></span></li><li><span><a href=\"#Исследование-суммарной-концентрации-металлов-на-разных-стадиях-процесса.\" data-toc-modified-id=\"Исследование-суммарной-концентрации-металлов-на-разных-стадиях-процесса.-3.6\"><span class=\"toc-item-num\">3.6&nbsp;&nbsp;</span>Исследование суммарной концентрации металлов на разных стадиях процесса.</a></span></li></ul></li><li><span><a href=\"#Построение-модели\" data-toc-modified-id=\"Построение-модели-4\"><span class=\"toc-item-num\">4&nbsp;&nbsp;</span>Построение модели</a></span><ul class=\"toc-item\"><li><span><a href=\"#Построение-функции-для-вычисления-итоговой-метрики-sMAPE\" data-toc-modified-id=\"Построение-функции-для-вычисления-итоговой-метрики-sMAPE-4.1\"><span class=\"toc-item-num\">4.1&nbsp;&nbsp;</span>Построение функции для вычисления итоговой метрики sMAPE</a></span></li><li><span><a href=\"#Построение-и-обучение-модели-линейной-регрессии\" data-toc-modified-id=\"Построение-и-обучение-модели-линейной-регрессии-4.2\"><span class=\"toc-item-num\">4.2&nbsp;&nbsp;</span>Построение и обучение модели линейной регрессии</a></span></li><li><span><a href=\"#Построение-и-обучение-модели-случайного-леса\" data-toc-modified-id=\"Построение-и-обучение-модели-случайного-леса-4.3\"><span class=\"toc-item-num\">4.3&nbsp;&nbsp;</span>Построение и обучение модели случайного леса</a></span><ul class=\"toc-item\"><li><span><a href=\"#Обучение-модели-для-первого-этапа\" data-toc-modified-id=\"Обучение-модели-для-первого-этапа-4.3.1\"><span class=\"toc-item-num\">4.3.1&nbsp;&nbsp;</span>Обучение модели для первого этапа</a></span></li><li><span><a href=\"#Обучение-модели-для-второго-этапа\" data-toc-modified-id=\"Обучение-модели-для-второго-этапа-4.3.2\"><span class=\"toc-item-num\">4.3.2&nbsp;&nbsp;</span>Обучение модели для второго этапа</a></span></li><li><span><a href=\"#Вычисление-результирующей-метрики-модели-случайного-леса\" data-toc-modified-id=\"Вычисление-результирующей-метрики-модели-случайного-леса-4.3.3\"><span class=\"toc-item-num\">4.3.3&nbsp;&nbsp;</span>Вычисление результирующей метрики модели случайного леса</a></span></li></ul></li><li><span><a href=\"#Построение-и-обучение-модели-решающего-дерева\" data-toc-modified-id=\"Построение-и-обучение-модели-решающего-дерева-4.4\"><span class=\"toc-item-num\">4.4&nbsp;&nbsp;</span>Построение и обучение модели решающего дерева</a></span><ul class=\"toc-item\"><li><span><a href=\"#Обучение-модели-для-первого-этапа\" data-toc-modified-id=\"Обучение-модели-для-первого-этапа-4.4.1\"><span class=\"toc-item-num\">4.4.1&nbsp;&nbsp;</span>Обучение модели для первого этапа</a></span></li><li><span><a href=\"#Обучение-модели-для-второго-этапа\" data-toc-modified-id=\"Обучение-модели-для-второго-этапа-4.4.2\"><span class=\"toc-item-num\">4.4.2&nbsp;&nbsp;</span>Обучение модели для второго этапа</a></span></li><li><span><a href=\"#Вычисление-результирующей-метрики-модели-решающего-дерева\" data-toc-modified-id=\"Вычисление-результирующей-метрики-модели-решающего-дерева-4.4.3\"><span class=\"toc-item-num\">4.4.3&nbsp;&nbsp;</span>Вычисление результирующей метрики модели решающего дерева</a></span></li></ul></li><li><span><a href=\"#Вывод\" data-toc-modified-id=\"Вывод-4.5\"><span class=\"toc-item-num\">4.5&nbsp;&nbsp;</span>Вывод</a></span></li><li><span><a href=\"#Проверка-лучшей-модели-на-тестовой-выборке\" data-toc-modified-id=\"Проверка-лучшей-модели-на-тестовой-выборке-4.6\"><span class=\"toc-item-num\">4.6&nbsp;&nbsp;</span>Проверка лучшей модели на тестовой выборке</a></span><ul class=\"toc-item\"><li><span><a href=\"#Проверка-на-тестовой-выборке-для-первого-этапа\" data-toc-modified-id=\"Проверка-на-тестовой-выборке-для-первого-этапа-4.6.1\"><span class=\"toc-item-num\">4.6.1&nbsp;&nbsp;</span>Проверка на тестовой выборке для первого этапа</a></span></li><li><span><a href=\"#Проверка-на-тестовой-выборке-для-второго-этапа\" data-toc-modified-id=\"Проверка-на-тестовой-выборке-для-второго-этапа-4.6.2\"><span class=\"toc-item-num\">4.6.2&nbsp;&nbsp;</span>Проверка на тестовой выборке для второго этапа</a></span></li><li><span><a href=\"#Вычисление-результирующей-метрики-модели-на-тестовой-выборке\" data-toc-modified-id=\"Вычисление-результирующей-метрики-модели-на-тестовой-выборке-4.6.3\"><span class=\"toc-item-num\">4.6.3&nbsp;&nbsp;</span>Вычисление результирующей метрики модели на тестовой выборке</a></span></li><li><span><a href=\"#Вывод\" data-toc-modified-id=\"Вывод-4.6.4\"><span class=\"toc-item-num\">4.6.4&nbsp;&nbsp;</span>Вывод</a></span></li></ul></li></ul></li><li><span><a href=\"#Общий-вывод\" data-toc-modified-id=\"Общий-вывод-5\"><span class=\"toc-item-num\">5&nbsp;&nbsp;</span>Общий вывод</a></span></li></ul></div>"
   ]
  },
  {
   "cell_type": "markdown",
   "metadata": {},
   "source": [
    "# Восстановление золота из руды"
   ]
  },
  {
   "cell_type": "markdown",
   "metadata": {},
   "source": [
    "**Цель проекта:**  \n",
    "Подготовка прототипа модели машинного обучения для компании «Цифра», которая разрабатывает решения для эффективной работы промышленных предприятий.\n",
    "\n",
    "Модель должна предсказать коэффициент восстановления золота из золотосодержащей руды, что может помочь оптимизировать производство, чтобы не запускать предприятие с убыточными характеристиками.\n",
    "\n",
    "При работе над проектом будут использованы предоставленные данные с параметрами добычи и очистки. \n",
    "\n",
    "План выполнения проекта:\n",
    "\n",
    "1. Подготовка данных;\n",
    "2. Исследовательский анализ данных;\n",
    "3. Постройка и обучение нескольких моделей.\n",
    "4. Выбор лучшей модели на основе метрики sMAPE"
   ]
  },
  {
   "cell_type": "markdown",
   "metadata": {},
   "source": [
    "## Загрузка библиотек и данных"
   ]
  },
  {
   "cell_type": "markdown",
   "metadata": {},
   "source": [
    "Импорт библиотек."
   ]
  },
  {
   "cell_type": "code",
   "execution_count": 43,
   "metadata": {},
   "outputs": [],
   "source": [
    "import pandas as pd\n",
    "import numpy as np\n",
    "import matplotlib.pyplot as plt\n",
    "\n",
    "from sklearn.ensemble import RandomForestRegressor\n",
    "from sklearn.tree import DecisionTreeRegressor\n",
    "from sklearn.linear_model import LinearRegression\n",
    "from sklearn.metrics import mean_absolute_error\n",
    "from sklearn.model_selection import cross_val_score\n",
    "from sklearn.metrics import make_scorer\n",
    "from sklearn.dummy import DummyRegressor\n",
    "from sklearn.model_selection import GridSearchCV"
   ]
  },
  {
   "cell_type": "markdown",
   "metadata": {},
   "source": [
    "Определение глобальных констант"
   ]
  },
  {
   "cell_type": "code",
   "execution_count": 44,
   "metadata": {},
   "outputs": [],
   "source": [
    "RANDOM_NUMBER = 12345"
   ]
  },
  {
   "cell_type": "markdown",
   "metadata": {},
   "source": [
    "Определение функции для импорта данных."
   ]
  },
  {
   "cell_type": "code",
   "execution_count": 45,
   "metadata": {},
   "outputs": [],
   "source": [
    "def data_import(short_path,long_path):\n",
    "    \n",
    "    #импорт данных\n",
    "    try:\n",
    "        df = pd.read_csv(short_path)\n",
    "    except:\n",
    "        df = pd.read_csv(long_path)\n",
    "    \n",
    "    #вывод параметров датасета для проверки    \n",
    "    print(df.shape)\n",
    "    print(df.info())\n",
    "    display(df.head())\n",
    "    \n",
    "    #Проверка на явные дубликаты\n",
    "    print('Количество явных дубликатов', df.duplicated().sum())\n",
    "    \n",
    "    return df"
   ]
  },
  {
   "cell_type": "markdown",
   "metadata": {},
   "source": [
    "Импорт данных"
   ]
  },
  {
   "cell_type": "code",
   "execution_count": 46,
   "metadata": {
    "scrolled": true
   },
   "outputs": [
    {
     "name": "stdout",
     "output_type": "stream",
     "text": [
      "Обучающая выборка\n",
      "(14579, 87)\n",
      "<class 'pandas.core.frame.DataFrame'>\n",
      "RangeIndex: 14579 entries, 0 to 14578\n",
      "Data columns (total 87 columns):\n",
      " #   Column                                              Non-Null Count  Dtype  \n",
      "---  ------                                              --------------  -----  \n",
      " 0   date                                                14579 non-null  object \n",
      " 1   rougher.input.feed_au                               14579 non-null  float64\n",
      " 2   rougher.input.feed_ag                               14579 non-null  float64\n",
      " 3   rougher.input.feed_pb                               14507 non-null  float64\n",
      " 4   rougher.input.feed_sol                              14502 non-null  float64\n",
      " 5   rougher.input.feed_rate                             14572 non-null  float64\n",
      " 6   rougher.input.feed_size                             14478 non-null  float64\n",
      " 7   rougher.input.floatbank10_sulfate                   14548 non-null  float64\n",
      " 8   rougher.input.floatbank10_xanthate                  14572 non-null  float64\n",
      " 9   rougher.state.floatbank10_a_air                     14579 non-null  float64\n",
      " 10  rougher.state.floatbank10_a_level                   14579 non-null  float64\n",
      " 11  rougher.state.floatbank10_b_air                     14579 non-null  float64\n",
      " 12  rougher.state.floatbank10_b_level                   14579 non-null  float64\n",
      " 13  rougher.state.floatbank10_c_air                     14579 non-null  float64\n",
      " 14  rougher.state.floatbank10_c_level                   14579 non-null  float64\n",
      " 15  rougher.state.floatbank10_d_air                     14579 non-null  float64\n",
      " 16  rougher.state.floatbank10_d_level                   14579 non-null  float64\n",
      " 17  rougher.state.floatbank10_e_air                     14150 non-null  float64\n",
      " 18  rougher.state.floatbank10_e_level                   14579 non-null  float64\n",
      " 19  rougher.state.floatbank10_f_air                     14579 non-null  float64\n",
      " 20  rougher.state.floatbank10_f_level                   14579 non-null  float64\n",
      " 21  rougher.input.floatbank11_sulfate                   14543 non-null  float64\n",
      " 22  rougher.input.floatbank11_xanthate                  14172 non-null  float64\n",
      " 23  rougher.calculation.sulfate_to_au_concentrate       14578 non-null  float64\n",
      " 24  rougher.calculation.floatbank10_sulfate_to_au_feed  14578 non-null  float64\n",
      " 25  rougher.calculation.floatbank11_sulfate_to_au_feed  14578 non-null  float64\n",
      " 26  rougher.calculation.au_pb_ratio                     14579 non-null  float64\n",
      " 27  rougher.output.concentrate_au                       14579 non-null  float64\n",
      " 28  rougher.output.concentrate_ag                       14579 non-null  float64\n",
      " 29  rougher.output.concentrate_pb                       14579 non-null  float64\n",
      " 30  rougher.output.concentrate_sol                      14561 non-null  float64\n",
      " 31  rougher.output.recovery                             14579 non-null  float64\n",
      " 32  rougher.output.tail_au                              14579 non-null  float64\n",
      " 33  rougher.output.tail_ag                              14578 non-null  float64\n",
      " 34  rougher.output.tail_pb                              14579 non-null  float64\n",
      " 35  rougher.output.tail_sol                             14579 non-null  float64\n",
      " 36  primary_cleaner.input.sulfate                       14556 non-null  float64\n",
      " 37  primary_cleaner.input.depressant                    14551 non-null  float64\n",
      " 38  primary_cleaner.input.feed_size                     14579 non-null  float64\n",
      " 39  primary_cleaner.input.xanthate                      14518 non-null  float64\n",
      " 40  primary_cleaner.state.floatbank8_a_air              14576 non-null  float64\n",
      " 41  primary_cleaner.state.floatbank8_a_level            14579 non-null  float64\n",
      " 42  primary_cleaner.state.floatbank8_b_air              14576 non-null  float64\n",
      " 43  primary_cleaner.state.floatbank8_b_level            14579 non-null  float64\n",
      " 44  primary_cleaner.state.floatbank8_c_air              14579 non-null  float64\n",
      " 45  primary_cleaner.state.floatbank8_c_level            14579 non-null  float64\n",
      " 46  primary_cleaner.state.floatbank8_d_air              14578 non-null  float64\n",
      " 47  primary_cleaner.state.floatbank8_d_level            14579 non-null  float64\n",
      " 48  primary_cleaner.output.concentrate_au               14579 non-null  float64\n",
      " 49  primary_cleaner.output.concentrate_ag               14579 non-null  float64\n",
      " 50  primary_cleaner.output.concentrate_pb               14491 non-null  float64\n",
      " 51  primary_cleaner.output.concentrate_sol              14314 non-null  float64\n",
      " 52  primary_cleaner.output.tail_au                      14579 non-null  float64\n",
      " 53  primary_cleaner.output.tail_ag                      14575 non-null  float64\n",
      " 54  primary_cleaner.output.tail_pb                      14573 non-null  float64\n",
      " 55  primary_cleaner.output.tail_sol                     14534 non-null  float64\n",
      " 56  secondary_cleaner.state.floatbank2_a_air            14485 non-null  float64\n",
      " 57  secondary_cleaner.state.floatbank2_a_level          14579 non-null  float64\n",
      " 58  secondary_cleaner.state.floatbank2_b_air            14557 non-null  float64\n",
      " 59  secondary_cleaner.state.floatbank2_b_level          14579 non-null  float64\n",
      " 60  secondary_cleaner.state.floatbank3_a_air            14567 non-null  float64\n",
      " 61  secondary_cleaner.state.floatbank3_a_level          14579 non-null  float64\n",
      " 62  secondary_cleaner.state.floatbank3_b_air            14579 non-null  float64\n",
      " 63  secondary_cleaner.state.floatbank3_b_level          14579 non-null  float64\n",
      " 64  secondary_cleaner.state.floatbank4_a_air            14574 non-null  float64\n",
      " 65  secondary_cleaner.state.floatbank4_a_level          14579 non-null  float64\n",
      " 66  secondary_cleaner.state.floatbank4_b_air            14579 non-null  float64\n",
      " 67  secondary_cleaner.state.floatbank4_b_level          14579 non-null  float64\n",
      " 68  secondary_cleaner.state.floatbank5_a_air            14579 non-null  float64\n",
      " 69  secondary_cleaner.state.floatbank5_a_level          14579 non-null  float64\n",
      " 70  secondary_cleaner.state.floatbank5_b_air            14579 non-null  float64\n",
      " 71  secondary_cleaner.state.floatbank5_b_level          14579 non-null  float64\n",
      " 72  secondary_cleaner.state.floatbank6_a_air            14578 non-null  float64\n",
      " 73  secondary_cleaner.state.floatbank6_a_level          14579 non-null  float64\n",
      " 74  secondary_cleaner.output.tail_au                    14579 non-null  float64\n",
      " 75  secondary_cleaner.output.tail_ag                    14578 non-null  float64\n",
      " 76  secondary_cleaner.output.tail_pb                    14575 non-null  float64\n",
      " 77  secondary_cleaner.output.tail_sol                   13659 non-null  float64\n",
      " 78  final.output.concentrate_au                         14579 non-null  float64\n",
      " 79  final.output.concentrate_ag                         14578 non-null  float64\n",
      " 80  final.output.concentrate_pb                         14578 non-null  float64\n",
      " 81  final.output.concentrate_sol                        14387 non-null  float64\n",
      " 82  final.output.recovery                               14579 non-null  float64\n",
      " 83  final.output.tail_au                                14579 non-null  float64\n",
      " 84  final.output.tail_ag                                14578 non-null  float64\n",
      " 85  final.output.tail_pb                                14504 non-null  float64\n",
      " 86  final.output.tail_sol                               14574 non-null  float64\n",
      "dtypes: float64(86), object(1)\n",
      "memory usage: 9.7+ MB\n",
      "None\n"
     ]
    },
    {
     "data": {
      "text/html": [
       "<div>\n",
       "<style scoped>\n",
       "    .dataframe tbody tr th:only-of-type {\n",
       "        vertical-align: middle;\n",
       "    }\n",
       "\n",
       "    .dataframe tbody tr th {\n",
       "        vertical-align: top;\n",
       "    }\n",
       "\n",
       "    .dataframe thead th {\n",
       "        text-align: right;\n",
       "    }\n",
       "</style>\n",
       "<table border=\"1\" class=\"dataframe\">\n",
       "  <thead>\n",
       "    <tr style=\"text-align: right;\">\n",
       "      <th></th>\n",
       "      <th>date</th>\n",
       "      <th>rougher.input.feed_au</th>\n",
       "      <th>rougher.input.feed_ag</th>\n",
       "      <th>rougher.input.feed_pb</th>\n",
       "      <th>rougher.input.feed_sol</th>\n",
       "      <th>rougher.input.feed_rate</th>\n",
       "      <th>rougher.input.feed_size</th>\n",
       "      <th>rougher.input.floatbank10_sulfate</th>\n",
       "      <th>rougher.input.floatbank10_xanthate</th>\n",
       "      <th>rougher.state.floatbank10_a_air</th>\n",
       "      <th>...</th>\n",
       "      <th>secondary_cleaner.output.tail_sol</th>\n",
       "      <th>final.output.concentrate_au</th>\n",
       "      <th>final.output.concentrate_ag</th>\n",
       "      <th>final.output.concentrate_pb</th>\n",
       "      <th>final.output.concentrate_sol</th>\n",
       "      <th>final.output.recovery</th>\n",
       "      <th>final.output.tail_au</th>\n",
       "      <th>final.output.tail_ag</th>\n",
       "      <th>final.output.tail_pb</th>\n",
       "      <th>final.output.tail_sol</th>\n",
       "    </tr>\n",
       "  </thead>\n",
       "  <tbody>\n",
       "    <tr>\n",
       "      <th>0</th>\n",
       "      <td>2016-01-15 00:00:00</td>\n",
       "      <td>6.486150</td>\n",
       "      <td>6.100378</td>\n",
       "      <td>2.284912</td>\n",
       "      <td>36.808594</td>\n",
       "      <td>523.546326</td>\n",
       "      <td>55.486599</td>\n",
       "      <td>11.986616</td>\n",
       "      <td>6.007990</td>\n",
       "      <td>999.706909</td>\n",
       "      <td>...</td>\n",
       "      <td>8.764648</td>\n",
       "      <td>42.192020</td>\n",
       "      <td>6.055403</td>\n",
       "      <td>9.889648</td>\n",
       "      <td>5.507324</td>\n",
       "      <td>70.541216</td>\n",
       "      <td>2.143149</td>\n",
       "      <td>10.411962</td>\n",
       "      <td>0.895447</td>\n",
       "      <td>16.904297</td>\n",
       "    </tr>\n",
       "    <tr>\n",
       "      <th>1</th>\n",
       "      <td>2016-01-15 01:00:00</td>\n",
       "      <td>6.478583</td>\n",
       "      <td>6.161113</td>\n",
       "      <td>2.266033</td>\n",
       "      <td>35.753385</td>\n",
       "      <td>525.290581</td>\n",
       "      <td>57.278666</td>\n",
       "      <td>11.971193</td>\n",
       "      <td>6.005766</td>\n",
       "      <td>1000.286398</td>\n",
       "      <td>...</td>\n",
       "      <td>9.001494</td>\n",
       "      <td>42.701629</td>\n",
       "      <td>6.029369</td>\n",
       "      <td>9.968944</td>\n",
       "      <td>5.257781</td>\n",
       "      <td>69.266198</td>\n",
       "      <td>2.224930</td>\n",
       "      <td>10.462676</td>\n",
       "      <td>0.927452</td>\n",
       "      <td>16.634514</td>\n",
       "    </tr>\n",
       "    <tr>\n",
       "      <th>2</th>\n",
       "      <td>2016-01-15 02:00:00</td>\n",
       "      <td>6.362222</td>\n",
       "      <td>6.116455</td>\n",
       "      <td>2.159622</td>\n",
       "      <td>35.971630</td>\n",
       "      <td>530.026610</td>\n",
       "      <td>57.510649</td>\n",
       "      <td>11.920603</td>\n",
       "      <td>6.197377</td>\n",
       "      <td>999.719565</td>\n",
       "      <td>...</td>\n",
       "      <td>8.842896</td>\n",
       "      <td>42.657501</td>\n",
       "      <td>6.055926</td>\n",
       "      <td>10.213995</td>\n",
       "      <td>5.383759</td>\n",
       "      <td>68.116445</td>\n",
       "      <td>2.257889</td>\n",
       "      <td>10.507046</td>\n",
       "      <td>0.953716</td>\n",
       "      <td>16.208849</td>\n",
       "    </tr>\n",
       "    <tr>\n",
       "      <th>3</th>\n",
       "      <td>2016-01-15 03:00:00</td>\n",
       "      <td>6.118189</td>\n",
       "      <td>6.043309</td>\n",
       "      <td>2.037807</td>\n",
       "      <td>36.862241</td>\n",
       "      <td>542.590390</td>\n",
       "      <td>57.792734</td>\n",
       "      <td>11.630094</td>\n",
       "      <td>6.203177</td>\n",
       "      <td>999.814770</td>\n",
       "      <td>...</td>\n",
       "      <td>9.122857</td>\n",
       "      <td>42.689819</td>\n",
       "      <td>6.047977</td>\n",
       "      <td>9.977019</td>\n",
       "      <td>4.858634</td>\n",
       "      <td>68.347543</td>\n",
       "      <td>2.146849</td>\n",
       "      <td>10.422762</td>\n",
       "      <td>0.883763</td>\n",
       "      <td>16.532835</td>\n",
       "    </tr>\n",
       "    <tr>\n",
       "      <th>4</th>\n",
       "      <td>2016-01-15 04:00:00</td>\n",
       "      <td>5.663707</td>\n",
       "      <td>6.060915</td>\n",
       "      <td>1.786875</td>\n",
       "      <td>34.347666</td>\n",
       "      <td>540.531893</td>\n",
       "      <td>56.047189</td>\n",
       "      <td>10.957755</td>\n",
       "      <td>6.198826</td>\n",
       "      <td>999.678690</td>\n",
       "      <td>...</td>\n",
       "      <td>8.871028</td>\n",
       "      <td>42.774141</td>\n",
       "      <td>6.148599</td>\n",
       "      <td>10.142511</td>\n",
       "      <td>4.939416</td>\n",
       "      <td>66.927016</td>\n",
       "      <td>2.055292</td>\n",
       "      <td>10.360302</td>\n",
       "      <td>0.792826</td>\n",
       "      <td>16.525686</td>\n",
       "    </tr>\n",
       "  </tbody>\n",
       "</table>\n",
       "<p>5 rows × 87 columns</p>\n",
       "</div>"
      ],
      "text/plain": [
       "                  date  rougher.input.feed_au  rougher.input.feed_ag  \\\n",
       "0  2016-01-15 00:00:00               6.486150               6.100378   \n",
       "1  2016-01-15 01:00:00               6.478583               6.161113   \n",
       "2  2016-01-15 02:00:00               6.362222               6.116455   \n",
       "3  2016-01-15 03:00:00               6.118189               6.043309   \n",
       "4  2016-01-15 04:00:00               5.663707               6.060915   \n",
       "\n",
       "   rougher.input.feed_pb  rougher.input.feed_sol  rougher.input.feed_rate  \\\n",
       "0               2.284912               36.808594               523.546326   \n",
       "1               2.266033               35.753385               525.290581   \n",
       "2               2.159622               35.971630               530.026610   \n",
       "3               2.037807               36.862241               542.590390   \n",
       "4               1.786875               34.347666               540.531893   \n",
       "\n",
       "   rougher.input.feed_size  rougher.input.floatbank10_sulfate  \\\n",
       "0                55.486599                          11.986616   \n",
       "1                57.278666                          11.971193   \n",
       "2                57.510649                          11.920603   \n",
       "3                57.792734                          11.630094   \n",
       "4                56.047189                          10.957755   \n",
       "\n",
       "   rougher.input.floatbank10_xanthate  rougher.state.floatbank10_a_air  ...  \\\n",
       "0                            6.007990                       999.706909  ...   \n",
       "1                            6.005766                      1000.286398  ...   \n",
       "2                            6.197377                       999.719565  ...   \n",
       "3                            6.203177                       999.814770  ...   \n",
       "4                            6.198826                       999.678690  ...   \n",
       "\n",
       "   secondary_cleaner.output.tail_sol  final.output.concentrate_au  \\\n",
       "0                           8.764648                    42.192020   \n",
       "1                           9.001494                    42.701629   \n",
       "2                           8.842896                    42.657501   \n",
       "3                           9.122857                    42.689819   \n",
       "4                           8.871028                    42.774141   \n",
       "\n",
       "   final.output.concentrate_ag  final.output.concentrate_pb  \\\n",
       "0                     6.055403                     9.889648   \n",
       "1                     6.029369                     9.968944   \n",
       "2                     6.055926                    10.213995   \n",
       "3                     6.047977                     9.977019   \n",
       "4                     6.148599                    10.142511   \n",
       "\n",
       "   final.output.concentrate_sol  final.output.recovery  final.output.tail_au  \\\n",
       "0                      5.507324              70.541216              2.143149   \n",
       "1                      5.257781              69.266198              2.224930   \n",
       "2                      5.383759              68.116445              2.257889   \n",
       "3                      4.858634              68.347543              2.146849   \n",
       "4                      4.939416              66.927016              2.055292   \n",
       "\n",
       "   final.output.tail_ag  final.output.tail_pb  final.output.tail_sol  \n",
       "0             10.411962              0.895447              16.904297  \n",
       "1             10.462676              0.927452              16.634514  \n",
       "2             10.507046              0.953716              16.208849  \n",
       "3             10.422762              0.883763              16.532835  \n",
       "4             10.360302              0.792826              16.525686  \n",
       "\n",
       "[5 rows x 87 columns]"
      ]
     },
     "metadata": {},
     "output_type": "display_data"
    },
    {
     "name": "stdout",
     "output_type": "stream",
     "text": [
      "Количество явных дубликатов 0\n"
     ]
    }
   ],
   "source": [
    "# импорт и проверка параметров обучающей выборки\n",
    "print('Обучающая выборка')\n",
    "df_train = data_import('gold_industry_train.csv',\n",
    "                   '/datasets/gold_industry_train.csv')"
   ]
  },
  {
   "cell_type": "code",
   "execution_count": 47,
   "metadata": {
    "scrolled": true
   },
   "outputs": [
    {
     "name": "stdout",
     "output_type": "stream",
     "text": [
      "Тестовая выборка\n",
      "(4860, 53)\n",
      "<class 'pandas.core.frame.DataFrame'>\n",
      "RangeIndex: 4860 entries, 0 to 4859\n",
      "Data columns (total 53 columns):\n",
      " #   Column                                      Non-Null Count  Dtype  \n",
      "---  ------                                      --------------  -----  \n",
      " 0   date                                        4860 non-null   object \n",
      " 1   rougher.input.feed_au                       4860 non-null   float64\n",
      " 2   rougher.input.feed_ag                       4860 non-null   float64\n",
      " 3   rougher.input.feed_pb                       4832 non-null   float64\n",
      " 4   rougher.input.feed_sol                      4838 non-null   float64\n",
      " 5   rougher.input.feed_rate                     4856 non-null   float64\n",
      " 6   rougher.input.feed_size                     4816 non-null   float64\n",
      " 7   rougher.input.floatbank10_sulfate           4857 non-null   float64\n",
      " 8   rougher.input.floatbank10_xanthate          4859 non-null   float64\n",
      " 9   rougher.state.floatbank10_a_air             4859 non-null   float64\n",
      " 10  rougher.state.floatbank10_a_level           4859 non-null   float64\n",
      " 11  rougher.state.floatbank10_b_air             4859 non-null   float64\n",
      " 12  rougher.state.floatbank10_b_level           4859 non-null   float64\n",
      " 13  rougher.state.floatbank10_c_air             4859 non-null   float64\n",
      " 14  rougher.state.floatbank10_c_level           4859 non-null   float64\n",
      " 15  rougher.state.floatbank10_d_air             4860 non-null   float64\n",
      " 16  rougher.state.floatbank10_d_level           4860 non-null   float64\n",
      " 17  rougher.state.floatbank10_e_air             4853 non-null   float64\n",
      " 18  rougher.state.floatbank10_e_level           4860 non-null   float64\n",
      " 19  rougher.state.floatbank10_f_air             4860 non-null   float64\n",
      " 20  rougher.state.floatbank10_f_level           4860 non-null   float64\n",
      " 21  rougher.input.floatbank11_sulfate           4852 non-null   float64\n",
      " 22  rougher.input.floatbank11_xanthate          4814 non-null   float64\n",
      " 23  primary_cleaner.input.sulfate               4859 non-null   float64\n",
      " 24  primary_cleaner.input.depressant            4851 non-null   float64\n",
      " 25  primary_cleaner.input.feed_size             4860 non-null   float64\n",
      " 26  primary_cleaner.input.xanthate              4817 non-null   float64\n",
      " 27  primary_cleaner.state.floatbank8_a_air      4859 non-null   float64\n",
      " 28  primary_cleaner.state.floatbank8_a_level    4859 non-null   float64\n",
      " 29  primary_cleaner.state.floatbank8_b_air      4859 non-null   float64\n",
      " 30  primary_cleaner.state.floatbank8_b_level    4859 non-null   float64\n",
      " 31  primary_cleaner.state.floatbank8_c_air      4858 non-null   float64\n",
      " 32  primary_cleaner.state.floatbank8_c_level    4859 non-null   float64\n",
      " 33  primary_cleaner.state.floatbank8_d_air      4858 non-null   float64\n",
      " 34  primary_cleaner.state.floatbank8_d_level    4859 non-null   float64\n",
      " 35  secondary_cleaner.state.floatbank2_a_air    4734 non-null   float64\n",
      " 36  secondary_cleaner.state.floatbank2_a_level  4859 non-null   float64\n",
      " 37  secondary_cleaner.state.floatbank2_b_air    4859 non-null   float64\n",
      " 38  secondary_cleaner.state.floatbank2_b_level  4859 non-null   float64\n",
      " 39  secondary_cleaner.state.floatbank3_a_air    4859 non-null   float64\n",
      " 40  secondary_cleaner.state.floatbank3_a_level  4859 non-null   float64\n",
      " 41  secondary_cleaner.state.floatbank3_b_air    4859 non-null   float64\n",
      " 42  secondary_cleaner.state.floatbank3_b_level  4859 non-null   float64\n",
      " 43  secondary_cleaner.state.floatbank4_a_air    4859 non-null   float64\n",
      " 44  secondary_cleaner.state.floatbank4_a_level  4859 non-null   float64\n",
      " 45  secondary_cleaner.state.floatbank4_b_air    4859 non-null   float64\n",
      " 46  secondary_cleaner.state.floatbank4_b_level  4859 non-null   float64\n",
      " 47  secondary_cleaner.state.floatbank5_a_air    4859 non-null   float64\n",
      " 48  secondary_cleaner.state.floatbank5_a_level  4859 non-null   float64\n",
      " 49  secondary_cleaner.state.floatbank5_b_air    4859 non-null   float64\n",
      " 50  secondary_cleaner.state.floatbank5_b_level  4859 non-null   float64\n",
      " 51  secondary_cleaner.state.floatbank6_a_air    4859 non-null   float64\n",
      " 52  secondary_cleaner.state.floatbank6_a_level  4859 non-null   float64\n",
      "dtypes: float64(52), object(1)\n",
      "memory usage: 2.0+ MB\n",
      "None\n"
     ]
    },
    {
     "data": {
      "text/html": [
       "<div>\n",
       "<style scoped>\n",
       "    .dataframe tbody tr th:only-of-type {\n",
       "        vertical-align: middle;\n",
       "    }\n",
       "\n",
       "    .dataframe tbody tr th {\n",
       "        vertical-align: top;\n",
       "    }\n",
       "\n",
       "    .dataframe thead th {\n",
       "        text-align: right;\n",
       "    }\n",
       "</style>\n",
       "<table border=\"1\" class=\"dataframe\">\n",
       "  <thead>\n",
       "    <tr style=\"text-align: right;\">\n",
       "      <th></th>\n",
       "      <th>date</th>\n",
       "      <th>rougher.input.feed_au</th>\n",
       "      <th>rougher.input.feed_ag</th>\n",
       "      <th>rougher.input.feed_pb</th>\n",
       "      <th>rougher.input.feed_sol</th>\n",
       "      <th>rougher.input.feed_rate</th>\n",
       "      <th>rougher.input.feed_size</th>\n",
       "      <th>rougher.input.floatbank10_sulfate</th>\n",
       "      <th>rougher.input.floatbank10_xanthate</th>\n",
       "      <th>rougher.state.floatbank10_a_air</th>\n",
       "      <th>...</th>\n",
       "      <th>secondary_cleaner.state.floatbank4_a_air</th>\n",
       "      <th>secondary_cleaner.state.floatbank4_a_level</th>\n",
       "      <th>secondary_cleaner.state.floatbank4_b_air</th>\n",
       "      <th>secondary_cleaner.state.floatbank4_b_level</th>\n",
       "      <th>secondary_cleaner.state.floatbank5_a_air</th>\n",
       "      <th>secondary_cleaner.state.floatbank5_a_level</th>\n",
       "      <th>secondary_cleaner.state.floatbank5_b_air</th>\n",
       "      <th>secondary_cleaner.state.floatbank5_b_level</th>\n",
       "      <th>secondary_cleaner.state.floatbank6_a_air</th>\n",
       "      <th>secondary_cleaner.state.floatbank6_a_level</th>\n",
       "    </tr>\n",
       "  </thead>\n",
       "  <tbody>\n",
       "    <tr>\n",
       "      <th>0</th>\n",
       "      <td>2017-12-09 14:59:59</td>\n",
       "      <td>4.365491</td>\n",
       "      <td>6.158718</td>\n",
       "      <td>3.875727</td>\n",
       "      <td>39.135119</td>\n",
       "      <td>555.820208</td>\n",
       "      <td>94.544358</td>\n",
       "      <td>6.146982</td>\n",
       "      <td>9.308612</td>\n",
       "      <td>1196.238112</td>\n",
       "      <td>...</td>\n",
       "      <td>23.018622</td>\n",
       "      <td>-500.492702</td>\n",
       "      <td>20.020205</td>\n",
       "      <td>-500.220296</td>\n",
       "      <td>17.963512</td>\n",
       "      <td>-499.939490</td>\n",
       "      <td>12.990306</td>\n",
       "      <td>-500.080993</td>\n",
       "      <td>19.990336</td>\n",
       "      <td>-499.191575</td>\n",
       "    </tr>\n",
       "    <tr>\n",
       "      <th>1</th>\n",
       "      <td>2017-12-09 15:59:59</td>\n",
       "      <td>4.362781</td>\n",
       "      <td>6.048130</td>\n",
       "      <td>3.902537</td>\n",
       "      <td>39.713906</td>\n",
       "      <td>544.731687</td>\n",
       "      <td>123.742430</td>\n",
       "      <td>6.210119</td>\n",
       "      <td>9.297709</td>\n",
       "      <td>1201.904177</td>\n",
       "      <td>...</td>\n",
       "      <td>23.024963</td>\n",
       "      <td>-501.153409</td>\n",
       "      <td>20.054122</td>\n",
       "      <td>-500.314711</td>\n",
       "      <td>17.979515</td>\n",
       "      <td>-499.272871</td>\n",
       "      <td>12.992404</td>\n",
       "      <td>-499.976268</td>\n",
       "      <td>20.013986</td>\n",
       "      <td>-500.625471</td>\n",
       "    </tr>\n",
       "    <tr>\n",
       "      <th>2</th>\n",
       "      <td>2017-12-09 16:59:59</td>\n",
       "      <td>5.081681</td>\n",
       "      <td>6.082745</td>\n",
       "      <td>4.564078</td>\n",
       "      <td>37.208683</td>\n",
       "      <td>558.155110</td>\n",
       "      <td>82.610855</td>\n",
       "      <td>7.363824</td>\n",
       "      <td>9.003562</td>\n",
       "      <td>1200.826926</td>\n",
       "      <td>...</td>\n",
       "      <td>22.993827</td>\n",
       "      <td>-501.559663</td>\n",
       "      <td>20.029144</td>\n",
       "      <td>-500.000662</td>\n",
       "      <td>18.012723</td>\n",
       "      <td>-500.024764</td>\n",
       "      <td>13.016445</td>\n",
       "      <td>-500.058432</td>\n",
       "      <td>19.973767</td>\n",
       "      <td>-501.394155</td>\n",
       "    </tr>\n",
       "    <tr>\n",
       "      <th>3</th>\n",
       "      <td>2017-12-09 17:59:59</td>\n",
       "      <td>5.145949</td>\n",
       "      <td>6.084374</td>\n",
       "      <td>4.768124</td>\n",
       "      <td>36.808874</td>\n",
       "      <td>539.713765</td>\n",
       "      <td>77.984784</td>\n",
       "      <td>6.927072</td>\n",
       "      <td>8.955597</td>\n",
       "      <td>1199.292489</td>\n",
       "      <td>...</td>\n",
       "      <td>23.032807</td>\n",
       "      <td>-501.287889</td>\n",
       "      <td>19.977466</td>\n",
       "      <td>-500.159903</td>\n",
       "      <td>17.980463</td>\n",
       "      <td>-500.504602</td>\n",
       "      <td>12.949071</td>\n",
       "      <td>-500.009937</td>\n",
       "      <td>20.010332</td>\n",
       "      <td>-508.337973</td>\n",
       "    </tr>\n",
       "    <tr>\n",
       "      <th>4</th>\n",
       "      <td>2017-12-09 18:59:59</td>\n",
       "      <td>5.735249</td>\n",
       "      <td>6.165220</td>\n",
       "      <td>4.512346</td>\n",
       "      <td>37.810642</td>\n",
       "      <td>558.713584</td>\n",
       "      <td>86.434874</td>\n",
       "      <td>7.823471</td>\n",
       "      <td>7.490356</td>\n",
       "      <td>1198.005449</td>\n",
       "      <td>...</td>\n",
       "      <td>23.001911</td>\n",
       "      <td>-499.947838</td>\n",
       "      <td>20.023735</td>\n",
       "      <td>-499.713680</td>\n",
       "      <td>17.990955</td>\n",
       "      <td>-500.334769</td>\n",
       "      <td>13.007523</td>\n",
       "      <td>-499.968459</td>\n",
       "      <td>19.995999</td>\n",
       "      <td>-499.788805</td>\n",
       "    </tr>\n",
       "  </tbody>\n",
       "</table>\n",
       "<p>5 rows × 53 columns</p>\n",
       "</div>"
      ],
      "text/plain": [
       "                  date  rougher.input.feed_au  rougher.input.feed_ag  \\\n",
       "0  2017-12-09 14:59:59               4.365491               6.158718   \n",
       "1  2017-12-09 15:59:59               4.362781               6.048130   \n",
       "2  2017-12-09 16:59:59               5.081681               6.082745   \n",
       "3  2017-12-09 17:59:59               5.145949               6.084374   \n",
       "4  2017-12-09 18:59:59               5.735249               6.165220   \n",
       "\n",
       "   rougher.input.feed_pb  rougher.input.feed_sol  rougher.input.feed_rate  \\\n",
       "0               3.875727               39.135119               555.820208   \n",
       "1               3.902537               39.713906               544.731687   \n",
       "2               4.564078               37.208683               558.155110   \n",
       "3               4.768124               36.808874               539.713765   \n",
       "4               4.512346               37.810642               558.713584   \n",
       "\n",
       "   rougher.input.feed_size  rougher.input.floatbank10_sulfate  \\\n",
       "0                94.544358                           6.146982   \n",
       "1               123.742430                           6.210119   \n",
       "2                82.610855                           7.363824   \n",
       "3                77.984784                           6.927072   \n",
       "4                86.434874                           7.823471   \n",
       "\n",
       "   rougher.input.floatbank10_xanthate  rougher.state.floatbank10_a_air  ...  \\\n",
       "0                            9.308612                      1196.238112  ...   \n",
       "1                            9.297709                      1201.904177  ...   \n",
       "2                            9.003562                      1200.826926  ...   \n",
       "3                            8.955597                      1199.292489  ...   \n",
       "4                            7.490356                      1198.005449  ...   \n",
       "\n",
       "   secondary_cleaner.state.floatbank4_a_air  \\\n",
       "0                                 23.018622   \n",
       "1                                 23.024963   \n",
       "2                                 22.993827   \n",
       "3                                 23.032807   \n",
       "4                                 23.001911   \n",
       "\n",
       "   secondary_cleaner.state.floatbank4_a_level  \\\n",
       "0                                 -500.492702   \n",
       "1                                 -501.153409   \n",
       "2                                 -501.559663   \n",
       "3                                 -501.287889   \n",
       "4                                 -499.947838   \n",
       "\n",
       "   secondary_cleaner.state.floatbank4_b_air  \\\n",
       "0                                 20.020205   \n",
       "1                                 20.054122   \n",
       "2                                 20.029144   \n",
       "3                                 19.977466   \n",
       "4                                 20.023735   \n",
       "\n",
       "   secondary_cleaner.state.floatbank4_b_level  \\\n",
       "0                                 -500.220296   \n",
       "1                                 -500.314711   \n",
       "2                                 -500.000662   \n",
       "3                                 -500.159903   \n",
       "4                                 -499.713680   \n",
       "\n",
       "   secondary_cleaner.state.floatbank5_a_air  \\\n",
       "0                                 17.963512   \n",
       "1                                 17.979515   \n",
       "2                                 18.012723   \n",
       "3                                 17.980463   \n",
       "4                                 17.990955   \n",
       "\n",
       "   secondary_cleaner.state.floatbank5_a_level  \\\n",
       "0                                 -499.939490   \n",
       "1                                 -499.272871   \n",
       "2                                 -500.024764   \n",
       "3                                 -500.504602   \n",
       "4                                 -500.334769   \n",
       "\n",
       "   secondary_cleaner.state.floatbank5_b_air  \\\n",
       "0                                 12.990306   \n",
       "1                                 12.992404   \n",
       "2                                 13.016445   \n",
       "3                                 12.949071   \n",
       "4                                 13.007523   \n",
       "\n",
       "   secondary_cleaner.state.floatbank5_b_level  \\\n",
       "0                                 -500.080993   \n",
       "1                                 -499.976268   \n",
       "2                                 -500.058432   \n",
       "3                                 -500.009937   \n",
       "4                                 -499.968459   \n",
       "\n",
       "   secondary_cleaner.state.floatbank6_a_air  \\\n",
       "0                                 19.990336   \n",
       "1                                 20.013986   \n",
       "2                                 19.973767   \n",
       "3                                 20.010332   \n",
       "4                                 19.995999   \n",
       "\n",
       "   secondary_cleaner.state.floatbank6_a_level  \n",
       "0                                 -499.191575  \n",
       "1                                 -500.625471  \n",
       "2                                 -501.394155  \n",
       "3                                 -508.337973  \n",
       "4                                 -499.788805  \n",
       "\n",
       "[5 rows x 53 columns]"
      ]
     },
     "metadata": {},
     "output_type": "display_data"
    },
    {
     "name": "stdout",
     "output_type": "stream",
     "text": [
      "Количество явных дубликатов 0\n"
     ]
    }
   ],
   "source": [
    "# импорт и проверка параметров тестовой выборки\n",
    "print('Тестовая выборка')\n",
    "df_test = data_import('gold_industry_test.csv',\n",
    "                   '/datasets/gold_industry_test.csv')"
   ]
  },
  {
   "cell_type": "code",
   "execution_count": 48,
   "metadata": {},
   "outputs": [
    {
     "name": "stdout",
     "output_type": "stream",
     "text": [
      "Исходные данные\n",
      "(19439, 87)\n",
      "<class 'pandas.core.frame.DataFrame'>\n",
      "RangeIndex: 19439 entries, 0 to 19438\n",
      "Data columns (total 87 columns):\n",
      " #   Column                                              Non-Null Count  Dtype  \n",
      "---  ------                                              --------------  -----  \n",
      " 0   date                                                19439 non-null  object \n",
      " 1   rougher.input.feed_au                               19439 non-null  float64\n",
      " 2   rougher.input.feed_ag                               19439 non-null  float64\n",
      " 3   rougher.input.feed_pb                               19339 non-null  float64\n",
      " 4   rougher.input.feed_sol                              19340 non-null  float64\n",
      " 5   rougher.input.feed_rate                             19428 non-null  float64\n",
      " 6   rougher.input.feed_size                             19294 non-null  float64\n",
      " 7   rougher.input.floatbank10_sulfate                   19405 non-null  float64\n",
      " 8   rougher.input.floatbank10_xanthate                  19431 non-null  float64\n",
      " 9   rougher.state.floatbank10_a_air                     19438 non-null  float64\n",
      " 10  rougher.state.floatbank10_a_level                   19438 non-null  float64\n",
      " 11  rougher.state.floatbank10_b_air                     19438 non-null  float64\n",
      " 12  rougher.state.floatbank10_b_level                   19438 non-null  float64\n",
      " 13  rougher.state.floatbank10_c_air                     19438 non-null  float64\n",
      " 14  rougher.state.floatbank10_c_level                   19438 non-null  float64\n",
      " 15  rougher.state.floatbank10_d_air                     19439 non-null  float64\n",
      " 16  rougher.state.floatbank10_d_level                   19439 non-null  float64\n",
      " 17  rougher.state.floatbank10_e_air                     19003 non-null  float64\n",
      " 18  rougher.state.floatbank10_e_level                   19439 non-null  float64\n",
      " 19  rougher.state.floatbank10_f_air                     19439 non-null  float64\n",
      " 20  rougher.state.floatbank10_f_level                   19439 non-null  float64\n",
      " 21  rougher.input.floatbank11_sulfate                   19395 non-null  float64\n",
      " 22  rougher.input.floatbank11_xanthate                  18986 non-null  float64\n",
      " 23  rougher.calculation.sulfate_to_au_concentrate       19437 non-null  float64\n",
      " 24  rougher.calculation.floatbank10_sulfate_to_au_feed  19437 non-null  float64\n",
      " 25  rougher.calculation.floatbank11_sulfate_to_au_feed  19437 non-null  float64\n",
      " 26  rougher.calculation.au_pb_ratio                     19439 non-null  float64\n",
      " 27  rougher.output.concentrate_au                       19439 non-null  float64\n",
      " 28  rougher.output.concentrate_ag                       19439 non-null  float64\n",
      " 29  rougher.output.concentrate_pb                       19439 non-null  float64\n",
      " 30  rougher.output.concentrate_sol                      19416 non-null  float64\n",
      " 31  rougher.output.recovery                             19439 non-null  float64\n",
      " 32  rougher.output.tail_au                              19439 non-null  float64\n",
      " 33  rougher.output.tail_ag                              19438 non-null  float64\n",
      " 34  rougher.output.tail_pb                              19439 non-null  float64\n",
      " 35  rougher.output.tail_sol                             19439 non-null  float64\n",
      " 36  primary_cleaner.input.sulfate                       19415 non-null  float64\n",
      " 37  primary_cleaner.input.depressant                    19402 non-null  float64\n",
      " 38  primary_cleaner.input.feed_size                     19439 non-null  float64\n",
      " 39  primary_cleaner.input.xanthate                      19335 non-null  float64\n",
      " 40  primary_cleaner.state.floatbank8_a_air              19435 non-null  float64\n",
      " 41  primary_cleaner.state.floatbank8_a_level            19438 non-null  float64\n",
      " 42  primary_cleaner.state.floatbank8_b_air              19435 non-null  float64\n",
      " 43  primary_cleaner.state.floatbank8_b_level            19438 non-null  float64\n",
      " 44  primary_cleaner.state.floatbank8_c_air              19437 non-null  float64\n",
      " 45  primary_cleaner.state.floatbank8_c_level            19438 non-null  float64\n",
      " 46  primary_cleaner.state.floatbank8_d_air              19436 non-null  float64\n",
      " 47  primary_cleaner.state.floatbank8_d_level            19438 non-null  float64\n",
      " 48  primary_cleaner.output.concentrate_au               19439 non-null  float64\n",
      " 49  primary_cleaner.output.concentrate_ag               19439 non-null  float64\n",
      " 50  primary_cleaner.output.concentrate_pb               19323 non-null  float64\n",
      " 51  primary_cleaner.output.concentrate_sol              19069 non-null  float64\n",
      " 52  primary_cleaner.output.tail_au                      19439 non-null  float64\n",
      " 53  primary_cleaner.output.tail_ag                      19435 non-null  float64\n",
      " 54  primary_cleaner.output.tail_pb                      19418 non-null  float64\n",
      " 55  primary_cleaner.output.tail_sol                     19377 non-null  float64\n",
      " 56  secondary_cleaner.state.floatbank2_a_air            19219 non-null  float64\n",
      " 57  secondary_cleaner.state.floatbank2_a_level          19438 non-null  float64\n",
      " 58  secondary_cleaner.state.floatbank2_b_air            19416 non-null  float64\n",
      " 59  secondary_cleaner.state.floatbank2_b_level          19438 non-null  float64\n",
      " 60  secondary_cleaner.state.floatbank3_a_air            19426 non-null  float64\n",
      " 61  secondary_cleaner.state.floatbank3_a_level          19438 non-null  float64\n",
      " 62  secondary_cleaner.state.floatbank3_b_air            19438 non-null  float64\n",
      " 63  secondary_cleaner.state.floatbank3_b_level          19438 non-null  float64\n",
      " 64  secondary_cleaner.state.floatbank4_a_air            19433 non-null  float64\n",
      " 65  secondary_cleaner.state.floatbank4_a_level          19438 non-null  float64\n",
      " 66  secondary_cleaner.state.floatbank4_b_air            19438 non-null  float64\n",
      " 67  secondary_cleaner.state.floatbank4_b_level          19438 non-null  float64\n",
      " 68  secondary_cleaner.state.floatbank5_a_air            19438 non-null  float64\n",
      " 69  secondary_cleaner.state.floatbank5_a_level          19438 non-null  float64\n",
      " 70  secondary_cleaner.state.floatbank5_b_air            19438 non-null  float64\n",
      " 71  secondary_cleaner.state.floatbank5_b_level          19438 non-null  float64\n",
      " 72  secondary_cleaner.state.floatbank6_a_air            19437 non-null  float64\n",
      " 73  secondary_cleaner.state.floatbank6_a_level          19438 non-null  float64\n",
      " 74  secondary_cleaner.output.tail_au                    19439 non-null  float64\n",
      " 75  secondary_cleaner.output.tail_ag                    19437 non-null  float64\n",
      " 76  secondary_cleaner.output.tail_pb                    19427 non-null  float64\n",
      " 77  secondary_cleaner.output.tail_sol                   17691 non-null  float64\n",
      " 78  final.output.concentrate_au                         19439 non-null  float64\n",
      " 79  final.output.concentrate_ag                         19438 non-null  float64\n",
      " 80  final.output.concentrate_pb                         19438 non-null  float64\n",
      " 81  final.output.concentrate_sol                        19228 non-null  float64\n",
      " 82  final.output.recovery                               19439 non-null  float64\n",
      " 83  final.output.tail_au                                19439 non-null  float64\n",
      " 84  final.output.tail_ag                                19438 non-null  float64\n",
      " 85  final.output.tail_pb                                19338 non-null  float64\n",
      " 86  final.output.tail_sol                               19433 non-null  float64\n",
      "dtypes: float64(86), object(1)\n",
      "memory usage: 12.9+ MB\n",
      "None\n"
     ]
    },
    {
     "data": {
      "text/html": [
       "<div>\n",
       "<style scoped>\n",
       "    .dataframe tbody tr th:only-of-type {\n",
       "        vertical-align: middle;\n",
       "    }\n",
       "\n",
       "    .dataframe tbody tr th {\n",
       "        vertical-align: top;\n",
       "    }\n",
       "\n",
       "    .dataframe thead th {\n",
       "        text-align: right;\n",
       "    }\n",
       "</style>\n",
       "<table border=\"1\" class=\"dataframe\">\n",
       "  <thead>\n",
       "    <tr style=\"text-align: right;\">\n",
       "      <th></th>\n",
       "      <th>date</th>\n",
       "      <th>rougher.input.feed_au</th>\n",
       "      <th>rougher.input.feed_ag</th>\n",
       "      <th>rougher.input.feed_pb</th>\n",
       "      <th>rougher.input.feed_sol</th>\n",
       "      <th>rougher.input.feed_rate</th>\n",
       "      <th>rougher.input.feed_size</th>\n",
       "      <th>rougher.input.floatbank10_sulfate</th>\n",
       "      <th>rougher.input.floatbank10_xanthate</th>\n",
       "      <th>rougher.state.floatbank10_a_air</th>\n",
       "      <th>...</th>\n",
       "      <th>secondary_cleaner.output.tail_sol</th>\n",
       "      <th>final.output.concentrate_au</th>\n",
       "      <th>final.output.concentrate_ag</th>\n",
       "      <th>final.output.concentrate_pb</th>\n",
       "      <th>final.output.concentrate_sol</th>\n",
       "      <th>final.output.recovery</th>\n",
       "      <th>final.output.tail_au</th>\n",
       "      <th>final.output.tail_ag</th>\n",
       "      <th>final.output.tail_pb</th>\n",
       "      <th>final.output.tail_sol</th>\n",
       "    </tr>\n",
       "  </thead>\n",
       "  <tbody>\n",
       "    <tr>\n",
       "      <th>0</th>\n",
       "      <td>2016-01-15 00:00:00</td>\n",
       "      <td>6.486150</td>\n",
       "      <td>6.100378</td>\n",
       "      <td>2.284912</td>\n",
       "      <td>36.808594</td>\n",
       "      <td>523.546326</td>\n",
       "      <td>55.486599</td>\n",
       "      <td>11.986616</td>\n",
       "      <td>6.007990</td>\n",
       "      <td>999.706909</td>\n",
       "      <td>...</td>\n",
       "      <td>8.764648</td>\n",
       "      <td>42.192020</td>\n",
       "      <td>6.055403</td>\n",
       "      <td>9.889648</td>\n",
       "      <td>5.507324</td>\n",
       "      <td>70.541216</td>\n",
       "      <td>2.143149</td>\n",
       "      <td>10.411962</td>\n",
       "      <td>0.895447</td>\n",
       "      <td>16.904297</td>\n",
       "    </tr>\n",
       "    <tr>\n",
       "      <th>1</th>\n",
       "      <td>2016-01-15 01:00:00</td>\n",
       "      <td>6.478583</td>\n",
       "      <td>6.161113</td>\n",
       "      <td>2.266033</td>\n",
       "      <td>35.753385</td>\n",
       "      <td>525.290581</td>\n",
       "      <td>57.278666</td>\n",
       "      <td>11.971193</td>\n",
       "      <td>6.005766</td>\n",
       "      <td>1000.286398</td>\n",
       "      <td>...</td>\n",
       "      <td>9.001494</td>\n",
       "      <td>42.701629</td>\n",
       "      <td>6.029369</td>\n",
       "      <td>9.968944</td>\n",
       "      <td>5.257781</td>\n",
       "      <td>69.266198</td>\n",
       "      <td>2.224930</td>\n",
       "      <td>10.462676</td>\n",
       "      <td>0.927452</td>\n",
       "      <td>16.634514</td>\n",
       "    </tr>\n",
       "    <tr>\n",
       "      <th>2</th>\n",
       "      <td>2016-01-15 02:00:00</td>\n",
       "      <td>6.362222</td>\n",
       "      <td>6.116455</td>\n",
       "      <td>2.159622</td>\n",
       "      <td>35.971630</td>\n",
       "      <td>530.026610</td>\n",
       "      <td>57.510649</td>\n",
       "      <td>11.920603</td>\n",
       "      <td>6.197377</td>\n",
       "      <td>999.719565</td>\n",
       "      <td>...</td>\n",
       "      <td>8.842896</td>\n",
       "      <td>42.657501</td>\n",
       "      <td>6.055926</td>\n",
       "      <td>10.213995</td>\n",
       "      <td>5.383759</td>\n",
       "      <td>68.116445</td>\n",
       "      <td>2.257889</td>\n",
       "      <td>10.507046</td>\n",
       "      <td>0.953716</td>\n",
       "      <td>16.208849</td>\n",
       "    </tr>\n",
       "    <tr>\n",
       "      <th>3</th>\n",
       "      <td>2016-01-15 03:00:00</td>\n",
       "      <td>6.118189</td>\n",
       "      <td>6.043309</td>\n",
       "      <td>2.037807</td>\n",
       "      <td>36.862241</td>\n",
       "      <td>542.590390</td>\n",
       "      <td>57.792734</td>\n",
       "      <td>11.630094</td>\n",
       "      <td>6.203177</td>\n",
       "      <td>999.814770</td>\n",
       "      <td>...</td>\n",
       "      <td>9.122857</td>\n",
       "      <td>42.689819</td>\n",
       "      <td>6.047977</td>\n",
       "      <td>9.977019</td>\n",
       "      <td>4.858634</td>\n",
       "      <td>68.347543</td>\n",
       "      <td>2.146849</td>\n",
       "      <td>10.422762</td>\n",
       "      <td>0.883763</td>\n",
       "      <td>16.532835</td>\n",
       "    </tr>\n",
       "    <tr>\n",
       "      <th>4</th>\n",
       "      <td>2016-01-15 04:00:00</td>\n",
       "      <td>5.663707</td>\n",
       "      <td>6.060915</td>\n",
       "      <td>1.786875</td>\n",
       "      <td>34.347666</td>\n",
       "      <td>540.531893</td>\n",
       "      <td>56.047189</td>\n",
       "      <td>10.957755</td>\n",
       "      <td>6.198826</td>\n",
       "      <td>999.678690</td>\n",
       "      <td>...</td>\n",
       "      <td>8.871028</td>\n",
       "      <td>42.774141</td>\n",
       "      <td>6.148599</td>\n",
       "      <td>10.142511</td>\n",
       "      <td>4.939416</td>\n",
       "      <td>66.927016</td>\n",
       "      <td>2.055292</td>\n",
       "      <td>10.360302</td>\n",
       "      <td>0.792826</td>\n",
       "      <td>16.525686</td>\n",
       "    </tr>\n",
       "  </tbody>\n",
       "</table>\n",
       "<p>5 rows × 87 columns</p>\n",
       "</div>"
      ],
      "text/plain": [
       "                  date  rougher.input.feed_au  rougher.input.feed_ag  \\\n",
       "0  2016-01-15 00:00:00               6.486150               6.100378   \n",
       "1  2016-01-15 01:00:00               6.478583               6.161113   \n",
       "2  2016-01-15 02:00:00               6.362222               6.116455   \n",
       "3  2016-01-15 03:00:00               6.118189               6.043309   \n",
       "4  2016-01-15 04:00:00               5.663707               6.060915   \n",
       "\n",
       "   rougher.input.feed_pb  rougher.input.feed_sol  rougher.input.feed_rate  \\\n",
       "0               2.284912               36.808594               523.546326   \n",
       "1               2.266033               35.753385               525.290581   \n",
       "2               2.159622               35.971630               530.026610   \n",
       "3               2.037807               36.862241               542.590390   \n",
       "4               1.786875               34.347666               540.531893   \n",
       "\n",
       "   rougher.input.feed_size  rougher.input.floatbank10_sulfate  \\\n",
       "0                55.486599                          11.986616   \n",
       "1                57.278666                          11.971193   \n",
       "2                57.510649                          11.920603   \n",
       "3                57.792734                          11.630094   \n",
       "4                56.047189                          10.957755   \n",
       "\n",
       "   rougher.input.floatbank10_xanthate  rougher.state.floatbank10_a_air  ...  \\\n",
       "0                            6.007990                       999.706909  ...   \n",
       "1                            6.005766                      1000.286398  ...   \n",
       "2                            6.197377                       999.719565  ...   \n",
       "3                            6.203177                       999.814770  ...   \n",
       "4                            6.198826                       999.678690  ...   \n",
       "\n",
       "   secondary_cleaner.output.tail_sol  final.output.concentrate_au  \\\n",
       "0                           8.764648                    42.192020   \n",
       "1                           9.001494                    42.701629   \n",
       "2                           8.842896                    42.657501   \n",
       "3                           9.122857                    42.689819   \n",
       "4                           8.871028                    42.774141   \n",
       "\n",
       "   final.output.concentrate_ag  final.output.concentrate_pb  \\\n",
       "0                     6.055403                     9.889648   \n",
       "1                     6.029369                     9.968944   \n",
       "2                     6.055926                    10.213995   \n",
       "3                     6.047977                     9.977019   \n",
       "4                     6.148599                    10.142511   \n",
       "\n",
       "   final.output.concentrate_sol  final.output.recovery  final.output.tail_au  \\\n",
       "0                      5.507324              70.541216              2.143149   \n",
       "1                      5.257781              69.266198              2.224930   \n",
       "2                      5.383759              68.116445              2.257889   \n",
       "3                      4.858634              68.347543              2.146849   \n",
       "4                      4.939416              66.927016              2.055292   \n",
       "\n",
       "   final.output.tail_ag  final.output.tail_pb  final.output.tail_sol  \n",
       "0             10.411962              0.895447              16.904297  \n",
       "1             10.462676              0.927452              16.634514  \n",
       "2             10.507046              0.953716              16.208849  \n",
       "3             10.422762              0.883763              16.532835  \n",
       "4             10.360302              0.792826              16.525686  \n",
       "\n",
       "[5 rows x 87 columns]"
      ]
     },
     "metadata": {},
     "output_type": "display_data"
    },
    {
     "name": "stdout",
     "output_type": "stream",
     "text": [
      "Количество явных дубликатов 0\n"
     ]
    }
   ],
   "source": [
    "# импорт и проверка параметров обучающей выборки\n",
    "print('Исходные данные')\n",
    "df_full = data_import('gold_industry_full.csv',\n",
    "                   '/datasets/gold_industry_full.csv')"
   ]
  },
  {
   "cell_type": "markdown",
   "metadata": {},
   "source": [
    "## Подготовка данных"
   ]
  },
  {
   "cell_type": "markdown",
   "metadata": {},
   "source": [
    "### Проверка расчета эффективности обогащения"
   ]
  },
  {
   "cell_type": "code",
   "execution_count": 49,
   "metadata": {},
   "outputs": [
    {
     "name": "stdout",
     "output_type": "stream",
     "text": [
      "MAE: 9.83758577644259e-15\n"
     ]
    }
   ],
   "source": [
    "# доля золота в концентрате после флотации\n",
    "c = df_train['rougher.output.concentrate_au']\n",
    "# доля золота в сырье до флотации\n",
    "f = df_train['rougher.input.feed_au']\n",
    "# доля золота в отвальных хвостах после флотации\n",
    "t = df_train['rougher.output.tail_au']\n",
    "\n",
    "# расчет эффективности обогащения\n",
    "recovery = ((c * (f - t)) / (f * (c - t))) * 100\n",
    "\n",
    "# расчет МАЕ для проверки формулы\n",
    "mae = mean_absolute_error(recovery, df_train['rougher.output.recovery'])\n",
    "print('MAE:',mae)"
   ]
  },
  {
   "cell_type": "markdown",
   "metadata": {},
   "source": [
    "**Вывод:** отклонение расчетов от реального признака весьма невелико, стало быть расчет произведен качественно"
   ]
  },
  {
   "cell_type": "markdown",
   "metadata": {},
   "source": [
    "### Анализ признаков"
   ]
  },
  {
   "cell_type": "markdown",
   "metadata": {},
   "source": [
    "**Выводы:**\n",
    "- В признаках обнаружены пропуски. Поскольку данные упорядочены по времени, то заполнять пропуски будем предыдущим значением через  fillna(method='ffill'), то есть заполнением пропуска предыдущим значением.\n",
    "- В тестовой выборке присутствуют только признаки параметров сырья и текущего состояния этапа для этапов флотации и очистки.Следовательно необходимо оставить в тренировочной выборке такой же набор признаков, чтобы корректно обучать модель. \n",
    "- Кроме того, в тестовой выборке отсутствуют оба целевых признака, которые следует добавить из исходных данных. \n",
    "- Также для обучения моделей, оценивающих rougher.output.recovery необходимо подготовить отдельную как обучаюую, так и тестовую выборки, в которых должны содержаться только признаки этапа флотации, чтобы не было эффекта подглядывания как на этапе обучения, так и на этапе тестирования. "
   ]
  },
  {
   "cell_type": "markdown",
   "metadata": {},
   "source": [
    "### Предобработка данных"
   ]
  },
  {
   "cell_type": "markdown",
   "metadata": {},
   "source": [
    "**План действий:**\n",
    "- Заполнение пропусков в обучающей выборке\n",
    "- Удаление строк с нулевыми значениями в ключевых признаках\n",
    "- Формирование полной тестовой выборки со всеми признаками для последующего использования при формировании отдельных  тренировочной и тестовой выборок первого и второго этапов.\n",
    "- Формирование тренировочной и тестовой выборок первого этапа с таким же набором признаков, как и в тестовой выборке, но только для этапа флотации и с присутствием целевого признака только этапа флотации\n",
    "- Формирование тренировочной выборки втого этапа с таким же набором признаков, как и в тестовой выборке, но и с присутствием целевых признаков обоих этапов: флотации и очистки.\n"
   ]
  },
  {
   "cell_type": "markdown",
   "metadata": {},
   "source": [
    "**Заполнение пропусков в обучающей выборке.**  \n",
    "Поскольку данные являются связанной по времени и упорядоченой по времени последовательностью, то заполнение средним или медианой некорректно. Поэтому заполнять пропуски будем предыдущим значением через  fillna(method='ffill'). "
   ]
  },
  {
   "cell_type": "code",
   "execution_count": 50,
   "metadata": {
    "scrolled": true
   },
   "outputs": [
    {
     "name": "stdout",
     "output_type": "stream",
     "text": [
      "(14579, 87)\n",
      "<class 'pandas.core.frame.DataFrame'>\n",
      "RangeIndex: 14579 entries, 0 to 14578\n",
      "Data columns (total 87 columns):\n",
      " #   Column                                              Non-Null Count  Dtype  \n",
      "---  ------                                              --------------  -----  \n",
      " 0   date                                                14579 non-null  object \n",
      " 1   rougher.input.feed_au                               14579 non-null  float64\n",
      " 2   rougher.input.feed_ag                               14579 non-null  float64\n",
      " 3   rougher.input.feed_pb                               14579 non-null  float64\n",
      " 4   rougher.input.feed_sol                              14579 non-null  float64\n",
      " 5   rougher.input.feed_rate                             14579 non-null  float64\n",
      " 6   rougher.input.feed_size                             14579 non-null  float64\n",
      " 7   rougher.input.floatbank10_sulfate                   14579 non-null  float64\n",
      " 8   rougher.input.floatbank10_xanthate                  14579 non-null  float64\n",
      " 9   rougher.state.floatbank10_a_air                     14579 non-null  float64\n",
      " 10  rougher.state.floatbank10_a_level                   14579 non-null  float64\n",
      " 11  rougher.state.floatbank10_b_air                     14579 non-null  float64\n",
      " 12  rougher.state.floatbank10_b_level                   14579 non-null  float64\n",
      " 13  rougher.state.floatbank10_c_air                     14579 non-null  float64\n",
      " 14  rougher.state.floatbank10_c_level                   14579 non-null  float64\n",
      " 15  rougher.state.floatbank10_d_air                     14579 non-null  float64\n",
      " 16  rougher.state.floatbank10_d_level                   14579 non-null  float64\n",
      " 17  rougher.state.floatbank10_e_air                     14579 non-null  float64\n",
      " 18  rougher.state.floatbank10_e_level                   14579 non-null  float64\n",
      " 19  rougher.state.floatbank10_f_air                     14579 non-null  float64\n",
      " 20  rougher.state.floatbank10_f_level                   14579 non-null  float64\n",
      " 21  rougher.input.floatbank11_sulfate                   14579 non-null  float64\n",
      " 22  rougher.input.floatbank11_xanthate                  14579 non-null  float64\n",
      " 23  rougher.calculation.sulfate_to_au_concentrate       14579 non-null  float64\n",
      " 24  rougher.calculation.floatbank10_sulfate_to_au_feed  14579 non-null  float64\n",
      " 25  rougher.calculation.floatbank11_sulfate_to_au_feed  14579 non-null  float64\n",
      " 26  rougher.calculation.au_pb_ratio                     14579 non-null  float64\n",
      " 27  rougher.output.concentrate_au                       14579 non-null  float64\n",
      " 28  rougher.output.concentrate_ag                       14579 non-null  float64\n",
      " 29  rougher.output.concentrate_pb                       14579 non-null  float64\n",
      " 30  rougher.output.concentrate_sol                      14579 non-null  float64\n",
      " 31  rougher.output.recovery                             14579 non-null  float64\n",
      " 32  rougher.output.tail_au                              14579 non-null  float64\n",
      " 33  rougher.output.tail_ag                              14579 non-null  float64\n",
      " 34  rougher.output.tail_pb                              14579 non-null  float64\n",
      " 35  rougher.output.tail_sol                             14579 non-null  float64\n",
      " 36  primary_cleaner.input.sulfate                       14579 non-null  float64\n",
      " 37  primary_cleaner.input.depressant                    14579 non-null  float64\n",
      " 38  primary_cleaner.input.feed_size                     14579 non-null  float64\n",
      " 39  primary_cleaner.input.xanthate                      14579 non-null  float64\n",
      " 40  primary_cleaner.state.floatbank8_a_air              14579 non-null  float64\n",
      " 41  primary_cleaner.state.floatbank8_a_level            14579 non-null  float64\n",
      " 42  primary_cleaner.state.floatbank8_b_air              14579 non-null  float64\n",
      " 43  primary_cleaner.state.floatbank8_b_level            14579 non-null  float64\n",
      " 44  primary_cleaner.state.floatbank8_c_air              14579 non-null  float64\n",
      " 45  primary_cleaner.state.floatbank8_c_level            14579 non-null  float64\n",
      " 46  primary_cleaner.state.floatbank8_d_air              14579 non-null  float64\n",
      " 47  primary_cleaner.state.floatbank8_d_level            14579 non-null  float64\n",
      " 48  primary_cleaner.output.concentrate_au               14579 non-null  float64\n",
      " 49  primary_cleaner.output.concentrate_ag               14579 non-null  float64\n",
      " 50  primary_cleaner.output.concentrate_pb               14579 non-null  float64\n",
      " 51  primary_cleaner.output.concentrate_sol              14579 non-null  float64\n",
      " 52  primary_cleaner.output.tail_au                      14579 non-null  float64\n",
      " 53  primary_cleaner.output.tail_ag                      14579 non-null  float64\n",
      " 54  primary_cleaner.output.tail_pb                      14579 non-null  float64\n",
      " 55  primary_cleaner.output.tail_sol                     14579 non-null  float64\n",
      " 56  secondary_cleaner.state.floatbank2_a_air            14579 non-null  float64\n",
      " 57  secondary_cleaner.state.floatbank2_a_level          14579 non-null  float64\n",
      " 58  secondary_cleaner.state.floatbank2_b_air            14579 non-null  float64\n",
      " 59  secondary_cleaner.state.floatbank2_b_level          14579 non-null  float64\n",
      " 60  secondary_cleaner.state.floatbank3_a_air            14579 non-null  float64\n",
      " 61  secondary_cleaner.state.floatbank3_a_level          14579 non-null  float64\n",
      " 62  secondary_cleaner.state.floatbank3_b_air            14579 non-null  float64\n",
      " 63  secondary_cleaner.state.floatbank3_b_level          14579 non-null  float64\n",
      " 64  secondary_cleaner.state.floatbank4_a_air            14579 non-null  float64\n",
      " 65  secondary_cleaner.state.floatbank4_a_level          14579 non-null  float64\n",
      " 66  secondary_cleaner.state.floatbank4_b_air            14579 non-null  float64\n",
      " 67  secondary_cleaner.state.floatbank4_b_level          14579 non-null  float64\n",
      " 68  secondary_cleaner.state.floatbank5_a_air            14579 non-null  float64\n",
      " 69  secondary_cleaner.state.floatbank5_a_level          14579 non-null  float64\n",
      " 70  secondary_cleaner.state.floatbank5_b_air            14579 non-null  float64\n",
      " 71  secondary_cleaner.state.floatbank5_b_level          14579 non-null  float64\n",
      " 72  secondary_cleaner.state.floatbank6_a_air            14579 non-null  float64\n",
      " 73  secondary_cleaner.state.floatbank6_a_level          14579 non-null  float64\n",
      " 74  secondary_cleaner.output.tail_au                    14579 non-null  float64\n",
      " 75  secondary_cleaner.output.tail_ag                    14579 non-null  float64\n",
      " 76  secondary_cleaner.output.tail_pb                    14579 non-null  float64\n",
      " 77  secondary_cleaner.output.tail_sol                   14579 non-null  float64\n",
      " 78  final.output.concentrate_au                         14579 non-null  float64\n",
      " 79  final.output.concentrate_ag                         14579 non-null  float64\n",
      " 80  final.output.concentrate_pb                         14579 non-null  float64\n",
      " 81  final.output.concentrate_sol                        14579 non-null  float64\n",
      " 82  final.output.recovery                               14579 non-null  float64\n",
      " 83  final.output.tail_au                                14579 non-null  float64\n",
      " 84  final.output.tail_ag                                14579 non-null  float64\n",
      " 85  final.output.tail_pb                                14579 non-null  float64\n",
      " 86  final.output.tail_sol                               14579 non-null  float64\n",
      "dtypes: float64(86), object(1)\n",
      "memory usage: 9.7+ MB\n",
      "None\n"
     ]
    }
   ],
   "source": [
    "df_train = df_train.fillna(method=\"ffill\")\n",
    "print(df_train.shape)\n",
    "print(df_train.info())"
   ]
  },
  {
   "cell_type": "markdown",
   "metadata": {},
   "source": [
    "**Удаление строк с нулевыми значениями.**  \n",
    "Согласно полученному дополнению к ТЗ от заказчика, необходимо удалить строки с околонулевыми значениями ключевых параметров, поскольку это результат сбоя измерительного оборудования и они не должны участвовать в исследовании."
   ]
  },
  {
   "cell_type": "code",
   "execution_count": 51,
   "metadata": {
    "scrolled": true
   },
   "outputs": [
    {
     "name": "stdout",
     "output_type": "stream",
     "text": [
      "(13858, 87)\n",
      "<class 'pandas.core.frame.DataFrame'>\n",
      "RangeIndex: 13858 entries, 0 to 13857\n",
      "Data columns (total 87 columns):\n",
      " #   Column                                              Non-Null Count  Dtype  \n",
      "---  ------                                              --------------  -----  \n",
      " 0   date                                                13858 non-null  object \n",
      " 1   rougher.input.feed_au                               13858 non-null  float64\n",
      " 2   rougher.input.feed_ag                               13858 non-null  float64\n",
      " 3   rougher.input.feed_pb                               13858 non-null  float64\n",
      " 4   rougher.input.feed_sol                              13858 non-null  float64\n",
      " 5   rougher.input.feed_rate                             13858 non-null  float64\n",
      " 6   rougher.input.feed_size                             13858 non-null  float64\n",
      " 7   rougher.input.floatbank10_sulfate                   13858 non-null  float64\n",
      " 8   rougher.input.floatbank10_xanthate                  13858 non-null  float64\n",
      " 9   rougher.state.floatbank10_a_air                     13858 non-null  float64\n",
      " 10  rougher.state.floatbank10_a_level                   13858 non-null  float64\n",
      " 11  rougher.state.floatbank10_b_air                     13858 non-null  float64\n",
      " 12  rougher.state.floatbank10_b_level                   13858 non-null  float64\n",
      " 13  rougher.state.floatbank10_c_air                     13858 non-null  float64\n",
      " 14  rougher.state.floatbank10_c_level                   13858 non-null  float64\n",
      " 15  rougher.state.floatbank10_d_air                     13858 non-null  float64\n",
      " 16  rougher.state.floatbank10_d_level                   13858 non-null  float64\n",
      " 17  rougher.state.floatbank10_e_air                     13858 non-null  float64\n",
      " 18  rougher.state.floatbank10_e_level                   13858 non-null  float64\n",
      " 19  rougher.state.floatbank10_f_air                     13858 non-null  float64\n",
      " 20  rougher.state.floatbank10_f_level                   13858 non-null  float64\n",
      " 21  rougher.input.floatbank11_sulfate                   13858 non-null  float64\n",
      " 22  rougher.input.floatbank11_xanthate                  13858 non-null  float64\n",
      " 23  rougher.calculation.sulfate_to_au_concentrate       13858 non-null  float64\n",
      " 24  rougher.calculation.floatbank10_sulfate_to_au_feed  13858 non-null  float64\n",
      " 25  rougher.calculation.floatbank11_sulfate_to_au_feed  13858 non-null  float64\n",
      " 26  rougher.calculation.au_pb_ratio                     13858 non-null  float64\n",
      " 27  rougher.output.concentrate_au                       13858 non-null  float64\n",
      " 28  rougher.output.concentrate_ag                       13858 non-null  float64\n",
      " 29  rougher.output.concentrate_pb                       13858 non-null  float64\n",
      " 30  rougher.output.concentrate_sol                      13858 non-null  float64\n",
      " 31  rougher.output.recovery                             13858 non-null  float64\n",
      " 32  rougher.output.tail_au                              13858 non-null  float64\n",
      " 33  rougher.output.tail_ag                              13858 non-null  float64\n",
      " 34  rougher.output.tail_pb                              13858 non-null  float64\n",
      " 35  rougher.output.tail_sol                             13858 non-null  float64\n",
      " 36  primary_cleaner.input.sulfate                       13858 non-null  float64\n",
      " 37  primary_cleaner.input.depressant                    13858 non-null  float64\n",
      " 38  primary_cleaner.input.feed_size                     13858 non-null  float64\n",
      " 39  primary_cleaner.input.xanthate                      13858 non-null  float64\n",
      " 40  primary_cleaner.state.floatbank8_a_air              13858 non-null  float64\n",
      " 41  primary_cleaner.state.floatbank8_a_level            13858 non-null  float64\n",
      " 42  primary_cleaner.state.floatbank8_b_air              13858 non-null  float64\n",
      " 43  primary_cleaner.state.floatbank8_b_level            13858 non-null  float64\n",
      " 44  primary_cleaner.state.floatbank8_c_air              13858 non-null  float64\n",
      " 45  primary_cleaner.state.floatbank8_c_level            13858 non-null  float64\n",
      " 46  primary_cleaner.state.floatbank8_d_air              13858 non-null  float64\n",
      " 47  primary_cleaner.state.floatbank8_d_level            13858 non-null  float64\n",
      " 48  primary_cleaner.output.concentrate_au               13858 non-null  float64\n",
      " 49  primary_cleaner.output.concentrate_ag               13858 non-null  float64\n",
      " 50  primary_cleaner.output.concentrate_pb               13858 non-null  float64\n",
      " 51  primary_cleaner.output.concentrate_sol              13858 non-null  float64\n",
      " 52  primary_cleaner.output.tail_au                      13858 non-null  float64\n",
      " 53  primary_cleaner.output.tail_ag                      13858 non-null  float64\n",
      " 54  primary_cleaner.output.tail_pb                      13858 non-null  float64\n",
      " 55  primary_cleaner.output.tail_sol                     13858 non-null  float64\n",
      " 56  secondary_cleaner.state.floatbank2_a_air            13858 non-null  float64\n",
      " 57  secondary_cleaner.state.floatbank2_a_level          13858 non-null  float64\n",
      " 58  secondary_cleaner.state.floatbank2_b_air            13858 non-null  float64\n",
      " 59  secondary_cleaner.state.floatbank2_b_level          13858 non-null  float64\n",
      " 60  secondary_cleaner.state.floatbank3_a_air            13858 non-null  float64\n",
      " 61  secondary_cleaner.state.floatbank3_a_level          13858 non-null  float64\n",
      " 62  secondary_cleaner.state.floatbank3_b_air            13858 non-null  float64\n",
      " 63  secondary_cleaner.state.floatbank3_b_level          13858 non-null  float64\n",
      " 64  secondary_cleaner.state.floatbank4_a_air            13858 non-null  float64\n",
      " 65  secondary_cleaner.state.floatbank4_a_level          13858 non-null  float64\n",
      " 66  secondary_cleaner.state.floatbank4_b_air            13858 non-null  float64\n",
      " 67  secondary_cleaner.state.floatbank4_b_level          13858 non-null  float64\n",
      " 68  secondary_cleaner.state.floatbank5_a_air            13858 non-null  float64\n",
      " 69  secondary_cleaner.state.floatbank5_a_level          13858 non-null  float64\n",
      " 70  secondary_cleaner.state.floatbank5_b_air            13858 non-null  float64\n",
      " 71  secondary_cleaner.state.floatbank5_b_level          13858 non-null  float64\n",
      " 72  secondary_cleaner.state.floatbank6_a_air            13858 non-null  float64\n",
      " 73  secondary_cleaner.state.floatbank6_a_level          13858 non-null  float64\n",
      " 74  secondary_cleaner.output.tail_au                    13858 non-null  float64\n",
      " 75  secondary_cleaner.output.tail_ag                    13858 non-null  float64\n",
      " 76  secondary_cleaner.output.tail_pb                    13858 non-null  float64\n",
      " 77  secondary_cleaner.output.tail_sol                   13858 non-null  float64\n",
      " 78  final.output.concentrate_au                         13858 non-null  float64\n",
      " 79  final.output.concentrate_ag                         13858 non-null  float64\n",
      " 80  final.output.concentrate_pb                         13858 non-null  float64\n",
      " 81  final.output.concentrate_sol                        13858 non-null  float64\n",
      " 82  final.output.recovery                               13858 non-null  float64\n",
      " 83  final.output.tail_au                                13858 non-null  float64\n",
      " 84  final.output.tail_ag                                13858 non-null  float64\n",
      " 85  final.output.tail_pb                                13858 non-null  float64\n",
      " 86  final.output.tail_sol                               13858 non-null  float64\n",
      "dtypes: float64(86), object(1)\n",
      "memory usage: 9.2+ MB\n",
      "None\n"
     ]
    }
   ],
   "source": [
    "# устанавливаем порог околонулевого значения, чтобы отсечь выбросы\n",
    "threshold = 0.2\n",
    "\n",
    "#убираем строки с околонулевыми значениями\n",
    "df_train = df_train[(df_train['rougher.input.feed_au'] > threshold) &\n",
    "                    (df_train['rougher.output.concentrate_au'] > threshold) &\n",
    "                    (df_train['primary_cleaner.output.concentrate_au'] > threshold) &\n",
    "                    (df_train['final.output.concentrate_au'] > threshold) &\n",
    "                    (df_train['rougher.input.feed_ag'] > threshold) &\n",
    "                    (df_train['rougher.output.concentrate_ag'] > threshold) &\n",
    "                    (df_train['primary_cleaner.output.concentrate_ag'] > threshold) &\n",
    "                    (df_train['final.output.concentrate_ag'] > threshold) &\n",
    "                    (df_train['rougher.input.feed_pb'] > threshold) &\n",
    "                    (df_train['rougher.output.concentrate_pb'] > threshold) &\n",
    "                    (df_train['primary_cleaner.output.concentrate_pb'] > threshold) &\n",
    "                    (df_train['final.output.concentrate_pb'] > threshold)]\n",
    "\n",
    "#сбрасываем индексы\n",
    "df_train = df_train.reset_index(drop=True)\n",
    "                   \n",
    "print(df_train.shape)\n",
    "print(df_train.info())"
   ]
  },
  {
   "cell_type": "markdown",
   "metadata": {},
   "source": [
    "Формирование полной тестовой выборки c добавлением целевых признаков"
   ]
  },
  {
   "cell_type": "code",
   "execution_count": 52,
   "metadata": {
    "scrolled": true
   },
   "outputs": [
    {
     "name": "stdout",
     "output_type": "stream",
     "text": [
      "(4860, 55)\n",
      "<class 'pandas.core.frame.DataFrame'>\n",
      "Int64Index: 4860 entries, 0 to 4859\n",
      "Data columns (total 55 columns):\n",
      " #   Column                                      Non-Null Count  Dtype  \n",
      "---  ------                                      --------------  -----  \n",
      " 0   date                                        4860 non-null   object \n",
      " 1   rougher.input.feed_au                       4860 non-null   float64\n",
      " 2   rougher.input.feed_ag                       4860 non-null   float64\n",
      " 3   rougher.input.feed_pb                       4832 non-null   float64\n",
      " 4   rougher.input.feed_sol                      4838 non-null   float64\n",
      " 5   rougher.input.feed_rate                     4856 non-null   float64\n",
      " 6   rougher.input.feed_size                     4816 non-null   float64\n",
      " 7   rougher.input.floatbank10_sulfate           4857 non-null   float64\n",
      " 8   rougher.input.floatbank10_xanthate          4859 non-null   float64\n",
      " 9   rougher.state.floatbank10_a_air             4859 non-null   float64\n",
      " 10  rougher.state.floatbank10_a_level           4859 non-null   float64\n",
      " 11  rougher.state.floatbank10_b_air             4859 non-null   float64\n",
      " 12  rougher.state.floatbank10_b_level           4859 non-null   float64\n",
      " 13  rougher.state.floatbank10_c_air             4859 non-null   float64\n",
      " 14  rougher.state.floatbank10_c_level           4859 non-null   float64\n",
      " 15  rougher.state.floatbank10_d_air             4860 non-null   float64\n",
      " 16  rougher.state.floatbank10_d_level           4860 non-null   float64\n",
      " 17  rougher.state.floatbank10_e_air             4853 non-null   float64\n",
      " 18  rougher.state.floatbank10_e_level           4860 non-null   float64\n",
      " 19  rougher.state.floatbank10_f_air             4860 non-null   float64\n",
      " 20  rougher.state.floatbank10_f_level           4860 non-null   float64\n",
      " 21  rougher.input.floatbank11_sulfate           4852 non-null   float64\n",
      " 22  rougher.input.floatbank11_xanthate          4814 non-null   float64\n",
      " 23  primary_cleaner.input.sulfate               4859 non-null   float64\n",
      " 24  primary_cleaner.input.depressant            4851 non-null   float64\n",
      " 25  primary_cleaner.input.feed_size             4860 non-null   float64\n",
      " 26  primary_cleaner.input.xanthate              4817 non-null   float64\n",
      " 27  primary_cleaner.state.floatbank8_a_air      4859 non-null   float64\n",
      " 28  primary_cleaner.state.floatbank8_a_level    4859 non-null   float64\n",
      " 29  primary_cleaner.state.floatbank8_b_air      4859 non-null   float64\n",
      " 30  primary_cleaner.state.floatbank8_b_level    4859 non-null   float64\n",
      " 31  primary_cleaner.state.floatbank8_c_air      4858 non-null   float64\n",
      " 32  primary_cleaner.state.floatbank8_c_level    4859 non-null   float64\n",
      " 33  primary_cleaner.state.floatbank8_d_air      4858 non-null   float64\n",
      " 34  primary_cleaner.state.floatbank8_d_level    4859 non-null   float64\n",
      " 35  secondary_cleaner.state.floatbank2_a_air    4734 non-null   float64\n",
      " 36  secondary_cleaner.state.floatbank2_a_level  4859 non-null   float64\n",
      " 37  secondary_cleaner.state.floatbank2_b_air    4859 non-null   float64\n",
      " 38  secondary_cleaner.state.floatbank2_b_level  4859 non-null   float64\n",
      " 39  secondary_cleaner.state.floatbank3_a_air    4859 non-null   float64\n",
      " 40  secondary_cleaner.state.floatbank3_a_level  4859 non-null   float64\n",
      " 41  secondary_cleaner.state.floatbank3_b_air    4859 non-null   float64\n",
      " 42  secondary_cleaner.state.floatbank3_b_level  4859 non-null   float64\n",
      " 43  secondary_cleaner.state.floatbank4_a_air    4859 non-null   float64\n",
      " 44  secondary_cleaner.state.floatbank4_a_level  4859 non-null   float64\n",
      " 45  secondary_cleaner.state.floatbank4_b_air    4859 non-null   float64\n",
      " 46  secondary_cleaner.state.floatbank4_b_level  4859 non-null   float64\n",
      " 47  secondary_cleaner.state.floatbank5_a_air    4859 non-null   float64\n",
      " 48  secondary_cleaner.state.floatbank5_a_level  4859 non-null   float64\n",
      " 49  secondary_cleaner.state.floatbank5_b_air    4859 non-null   float64\n",
      " 50  secondary_cleaner.state.floatbank5_b_level  4859 non-null   float64\n",
      " 51  secondary_cleaner.state.floatbank6_a_air    4859 non-null   float64\n",
      " 52  secondary_cleaner.state.floatbank6_a_level  4859 non-null   float64\n",
      " 53  rougher.output.recovery                     4860 non-null   float64\n",
      " 54  final.output.recovery                       4860 non-null   float64\n",
      "dtypes: float64(54), object(1)\n",
      "memory usage: 2.1+ MB\n",
      "None\n"
     ]
    }
   ],
   "source": [
    "df_test_full=df_test.merge(df_full.loc[:,['date',\n",
    "                                          'rougher.output.recovery',\n",
    "                                          'final.output.recovery']], \n",
    "                                           on='date', \n",
    "                                           how='left')\n",
    "print(df_test_full.shape)\n",
    "print(df_test_full.info())"
   ]
  },
  {
   "cell_type": "markdown",
   "metadata": {},
   "source": [
    "Заполнение пропусков в тестовой выборке"
   ]
  },
  {
   "cell_type": "code",
   "execution_count": 11,
   "metadata": {
    "scrolled": true
   },
   "outputs": [
    {
     "name": "stdout",
     "output_type": "stream",
     "text": [
      "(4860, 53)\n",
      "<class 'pandas.core.frame.DataFrame'>\n",
      "RangeIndex: 4860 entries, 0 to 4859\n",
      "Data columns (total 53 columns):\n",
      " #   Column                                      Non-Null Count  Dtype  \n",
      "---  ------                                      --------------  -----  \n",
      " 0   date                                        4860 non-null   object \n",
      " 1   rougher.input.feed_au                       4860 non-null   float64\n",
      " 2   rougher.input.feed_ag                       4860 non-null   float64\n",
      " 3   rougher.input.feed_pb                       4860 non-null   float64\n",
      " 4   rougher.input.feed_sol                      4860 non-null   float64\n",
      " 5   rougher.input.feed_rate                     4860 non-null   float64\n",
      " 6   rougher.input.feed_size                     4860 non-null   float64\n",
      " 7   rougher.input.floatbank10_sulfate           4860 non-null   float64\n",
      " 8   rougher.input.floatbank10_xanthate          4860 non-null   float64\n",
      " 9   rougher.state.floatbank10_a_air             4860 non-null   float64\n",
      " 10  rougher.state.floatbank10_a_level           4860 non-null   float64\n",
      " 11  rougher.state.floatbank10_b_air             4860 non-null   float64\n",
      " 12  rougher.state.floatbank10_b_level           4860 non-null   float64\n",
      " 13  rougher.state.floatbank10_c_air             4860 non-null   float64\n",
      " 14  rougher.state.floatbank10_c_level           4860 non-null   float64\n",
      " 15  rougher.state.floatbank10_d_air             4860 non-null   float64\n",
      " 16  rougher.state.floatbank10_d_level           4860 non-null   float64\n",
      " 17  rougher.state.floatbank10_e_air             4860 non-null   float64\n",
      " 18  rougher.state.floatbank10_e_level           4860 non-null   float64\n",
      " 19  rougher.state.floatbank10_f_air             4860 non-null   float64\n",
      " 20  rougher.state.floatbank10_f_level           4860 non-null   float64\n",
      " 21  rougher.input.floatbank11_sulfate           4860 non-null   float64\n",
      " 22  rougher.input.floatbank11_xanthate          4860 non-null   float64\n",
      " 23  primary_cleaner.input.sulfate               4860 non-null   float64\n",
      " 24  primary_cleaner.input.depressant            4860 non-null   float64\n",
      " 25  primary_cleaner.input.feed_size             4860 non-null   float64\n",
      " 26  primary_cleaner.input.xanthate              4860 non-null   float64\n",
      " 27  primary_cleaner.state.floatbank8_a_air      4860 non-null   float64\n",
      " 28  primary_cleaner.state.floatbank8_a_level    4860 non-null   float64\n",
      " 29  primary_cleaner.state.floatbank8_b_air      4860 non-null   float64\n",
      " 30  primary_cleaner.state.floatbank8_b_level    4860 non-null   float64\n",
      " 31  primary_cleaner.state.floatbank8_c_air      4860 non-null   float64\n",
      " 32  primary_cleaner.state.floatbank8_c_level    4860 non-null   float64\n",
      " 33  primary_cleaner.state.floatbank8_d_air      4860 non-null   float64\n",
      " 34  primary_cleaner.state.floatbank8_d_level    4860 non-null   float64\n",
      " 35  secondary_cleaner.state.floatbank2_a_air    4860 non-null   float64\n",
      " 36  secondary_cleaner.state.floatbank2_a_level  4860 non-null   float64\n",
      " 37  secondary_cleaner.state.floatbank2_b_air    4860 non-null   float64\n",
      " 38  secondary_cleaner.state.floatbank2_b_level  4860 non-null   float64\n",
      " 39  secondary_cleaner.state.floatbank3_a_air    4860 non-null   float64\n",
      " 40  secondary_cleaner.state.floatbank3_a_level  4860 non-null   float64\n",
      " 41  secondary_cleaner.state.floatbank3_b_air    4860 non-null   float64\n",
      " 42  secondary_cleaner.state.floatbank3_b_level  4860 non-null   float64\n",
      " 43  secondary_cleaner.state.floatbank4_a_air    4860 non-null   float64\n",
      " 44  secondary_cleaner.state.floatbank4_a_level  4860 non-null   float64\n",
      " 45  secondary_cleaner.state.floatbank4_b_air    4860 non-null   float64\n",
      " 46  secondary_cleaner.state.floatbank4_b_level  4860 non-null   float64\n",
      " 47  secondary_cleaner.state.floatbank5_a_air    4860 non-null   float64\n",
      " 48  secondary_cleaner.state.floatbank5_a_level  4860 non-null   float64\n",
      " 49  secondary_cleaner.state.floatbank5_b_air    4860 non-null   float64\n",
      " 50  secondary_cleaner.state.floatbank5_b_level  4860 non-null   float64\n",
      " 51  secondary_cleaner.state.floatbank6_a_air    4860 non-null   float64\n",
      " 52  secondary_cleaner.state.floatbank6_a_level  4860 non-null   float64\n",
      "dtypes: float64(52), object(1)\n",
      "memory usage: 2.0+ MB\n",
      "None\n"
     ]
    }
   ],
   "source": [
    "df_test = df_test.fillna(method=\"ffill\")\n",
    "print(df_test.shape)\n",
    "print(df_test.info())"
   ]
  },
  {
   "cell_type": "markdown",
   "metadata": {},
   "source": [
    "Оставляем в обучающей выборке только те признаки, которые есть в тестовой."
   ]
  },
  {
   "cell_type": "code",
   "execution_count": 12,
   "metadata": {
    "scrolled": true
   },
   "outputs": [
    {
     "name": "stdout",
     "output_type": "stream",
     "text": [
      "<class 'pandas.core.frame.DataFrame'>\n",
      "RangeIndex: 13858 entries, 0 to 13857\n",
      "Data columns (total 53 columns):\n",
      " #   Column                                      Non-Null Count  Dtype  \n",
      "---  ------                                      --------------  -----  \n",
      " 0   date                                        13858 non-null  object \n",
      " 1   rougher.input.feed_au                       13858 non-null  float64\n",
      " 2   rougher.input.feed_ag                       13858 non-null  float64\n",
      " 3   rougher.input.feed_pb                       13858 non-null  float64\n",
      " 4   rougher.input.feed_sol                      13858 non-null  float64\n",
      " 5   rougher.input.feed_rate                     13858 non-null  float64\n",
      " 6   rougher.input.feed_size                     13858 non-null  float64\n",
      " 7   rougher.input.floatbank10_sulfate           13858 non-null  float64\n",
      " 8   rougher.input.floatbank10_xanthate          13858 non-null  float64\n",
      " 9   rougher.state.floatbank10_a_air             13858 non-null  float64\n",
      " 10  rougher.state.floatbank10_a_level           13858 non-null  float64\n",
      " 11  rougher.state.floatbank10_b_air             13858 non-null  float64\n",
      " 12  rougher.state.floatbank10_b_level           13858 non-null  float64\n",
      " 13  rougher.state.floatbank10_c_air             13858 non-null  float64\n",
      " 14  rougher.state.floatbank10_c_level           13858 non-null  float64\n",
      " 15  rougher.state.floatbank10_d_air             13858 non-null  float64\n",
      " 16  rougher.state.floatbank10_d_level           13858 non-null  float64\n",
      " 17  rougher.state.floatbank10_e_air             13858 non-null  float64\n",
      " 18  rougher.state.floatbank10_e_level           13858 non-null  float64\n",
      " 19  rougher.state.floatbank10_f_air             13858 non-null  float64\n",
      " 20  rougher.state.floatbank10_f_level           13858 non-null  float64\n",
      " 21  rougher.input.floatbank11_sulfate           13858 non-null  float64\n",
      " 22  rougher.input.floatbank11_xanthate          13858 non-null  float64\n",
      " 23  primary_cleaner.input.sulfate               13858 non-null  float64\n",
      " 24  primary_cleaner.input.depressant            13858 non-null  float64\n",
      " 25  primary_cleaner.input.feed_size             13858 non-null  float64\n",
      " 26  primary_cleaner.input.xanthate              13858 non-null  float64\n",
      " 27  primary_cleaner.state.floatbank8_a_air      13858 non-null  float64\n",
      " 28  primary_cleaner.state.floatbank8_a_level    13858 non-null  float64\n",
      " 29  primary_cleaner.state.floatbank8_b_air      13858 non-null  float64\n",
      " 30  primary_cleaner.state.floatbank8_b_level    13858 non-null  float64\n",
      " 31  primary_cleaner.state.floatbank8_c_air      13858 non-null  float64\n",
      " 32  primary_cleaner.state.floatbank8_c_level    13858 non-null  float64\n",
      " 33  primary_cleaner.state.floatbank8_d_air      13858 non-null  float64\n",
      " 34  primary_cleaner.state.floatbank8_d_level    13858 non-null  float64\n",
      " 35  secondary_cleaner.state.floatbank2_a_air    13858 non-null  float64\n",
      " 36  secondary_cleaner.state.floatbank2_a_level  13858 non-null  float64\n",
      " 37  secondary_cleaner.state.floatbank2_b_air    13858 non-null  float64\n",
      " 38  secondary_cleaner.state.floatbank2_b_level  13858 non-null  float64\n",
      " 39  secondary_cleaner.state.floatbank3_a_air    13858 non-null  float64\n",
      " 40  secondary_cleaner.state.floatbank3_a_level  13858 non-null  float64\n",
      " 41  secondary_cleaner.state.floatbank3_b_air    13858 non-null  float64\n",
      " 42  secondary_cleaner.state.floatbank3_b_level  13858 non-null  float64\n",
      " 43  secondary_cleaner.state.floatbank4_a_air    13858 non-null  float64\n",
      " 44  secondary_cleaner.state.floatbank4_a_level  13858 non-null  float64\n",
      " 45  secondary_cleaner.state.floatbank4_b_air    13858 non-null  float64\n",
      " 46  secondary_cleaner.state.floatbank4_b_level  13858 non-null  float64\n",
      " 47  secondary_cleaner.state.floatbank5_a_air    13858 non-null  float64\n",
      " 48  secondary_cleaner.state.floatbank5_a_level  13858 non-null  float64\n",
      " 49  secondary_cleaner.state.floatbank5_b_air    13858 non-null  float64\n",
      " 50  secondary_cleaner.state.floatbank5_b_level  13858 non-null  float64\n",
      " 51  secondary_cleaner.state.floatbank6_a_air    13858 non-null  float64\n",
      " 52  secondary_cleaner.state.floatbank6_a_level  13858 non-null  float64\n",
      "dtypes: float64(52), object(1)\n",
      "memory usage: 5.6+ MB\n",
      "None\n"
     ]
    }
   ],
   "source": [
    "df_train_features = df_train[df_test.columns]\n",
    "print(df_train_features.info())"
   ]
  },
  {
   "cell_type": "markdown",
   "metadata": {},
   "source": [
    "Формирование тестовой выборки первого этапа"
   ]
  },
  {
   "cell_type": "code",
   "execution_count": 13,
   "metadata": {
    "scrolled": true
   },
   "outputs": [
    {
     "name": "stdout",
     "output_type": "stream",
     "text": [
      "(4860, 22)\n",
      "<class 'pandas.core.frame.DataFrame'>\n",
      "RangeIndex: 4860 entries, 0 to 4859\n",
      "Data columns (total 22 columns):\n",
      " #   Column                              Non-Null Count  Dtype  \n",
      "---  ------                              --------------  -----  \n",
      " 0   rougher.input.feed_au               4860 non-null   float64\n",
      " 1   rougher.input.feed_ag               4860 non-null   float64\n",
      " 2   rougher.input.feed_pb               4860 non-null   float64\n",
      " 3   rougher.input.feed_sol              4860 non-null   float64\n",
      " 4   rougher.input.feed_rate             4860 non-null   float64\n",
      " 5   rougher.input.feed_size             4860 non-null   float64\n",
      " 6   rougher.input.floatbank10_sulfate   4860 non-null   float64\n",
      " 7   rougher.input.floatbank10_xanthate  4860 non-null   float64\n",
      " 8   rougher.state.floatbank10_a_air     4860 non-null   float64\n",
      " 9   rougher.state.floatbank10_a_level   4860 non-null   float64\n",
      " 10  rougher.state.floatbank10_b_air     4860 non-null   float64\n",
      " 11  rougher.state.floatbank10_b_level   4860 non-null   float64\n",
      " 12  rougher.state.floatbank10_c_air     4860 non-null   float64\n",
      " 13  rougher.state.floatbank10_c_level   4860 non-null   float64\n",
      " 14  rougher.state.floatbank10_d_air     4860 non-null   float64\n",
      " 15  rougher.state.floatbank10_d_level   4860 non-null   float64\n",
      " 16  rougher.state.floatbank10_e_air     4860 non-null   float64\n",
      " 17  rougher.state.floatbank10_e_level   4860 non-null   float64\n",
      " 18  rougher.state.floatbank10_f_air     4860 non-null   float64\n",
      " 19  rougher.state.floatbank10_f_level   4860 non-null   float64\n",
      " 20  rougher.input.floatbank11_sulfate   4860 non-null   float64\n",
      " 21  rougher.input.floatbank11_xanthate  4860 non-null   float64\n",
      "dtypes: float64(22)\n",
      "memory usage: 835.4 KB\n",
      "None\n",
      "(4860,)\n"
     ]
    }
   ],
   "source": [
    "# оставляем только столбцы с признаками этапа флотации\n",
    "features_test_first = df_test.loc[:,'rougher.input.feed_au':'rougher.input.floatbank11_xanthate']\n",
    "print(features_test_first.shape)\n",
    "print(features_test_first.info())\n",
    "\n",
    "# формируем выборку целевого признака первого этапа\n",
    "target_test_first = df_test_full['rougher.output.recovery']\n",
    "print(target_test_first.shape)"
   ]
  },
  {
   "cell_type": "markdown",
   "metadata": {},
   "source": [
    "Формирование тренировочной выборки первого этапа"
   ]
  },
  {
   "cell_type": "code",
   "execution_count": 14,
   "metadata": {
    "scrolled": true
   },
   "outputs": [
    {
     "name": "stdout",
     "output_type": "stream",
     "text": [
      "(13858, 22)\n",
      "<class 'pandas.core.frame.DataFrame'>\n",
      "RangeIndex: 13858 entries, 0 to 13857\n",
      "Data columns (total 22 columns):\n",
      " #   Column                              Non-Null Count  Dtype  \n",
      "---  ------                              --------------  -----  \n",
      " 0   rougher.input.feed_au               13858 non-null  float64\n",
      " 1   rougher.input.feed_ag               13858 non-null  float64\n",
      " 2   rougher.input.feed_pb               13858 non-null  float64\n",
      " 3   rougher.input.feed_sol              13858 non-null  float64\n",
      " 4   rougher.input.feed_rate             13858 non-null  float64\n",
      " 5   rougher.input.feed_size             13858 non-null  float64\n",
      " 6   rougher.input.floatbank10_sulfate   13858 non-null  float64\n",
      " 7   rougher.input.floatbank10_xanthate  13858 non-null  float64\n",
      " 8   rougher.state.floatbank10_a_air     13858 non-null  float64\n",
      " 9   rougher.state.floatbank10_a_level   13858 non-null  float64\n",
      " 10  rougher.state.floatbank10_b_air     13858 non-null  float64\n",
      " 11  rougher.state.floatbank10_b_level   13858 non-null  float64\n",
      " 12  rougher.state.floatbank10_c_air     13858 non-null  float64\n",
      " 13  rougher.state.floatbank10_c_level   13858 non-null  float64\n",
      " 14  rougher.state.floatbank10_d_air     13858 non-null  float64\n",
      " 15  rougher.state.floatbank10_d_level   13858 non-null  float64\n",
      " 16  rougher.state.floatbank10_e_air     13858 non-null  float64\n",
      " 17  rougher.state.floatbank10_e_level   13858 non-null  float64\n",
      " 18  rougher.state.floatbank10_f_air     13858 non-null  float64\n",
      " 19  rougher.state.floatbank10_f_level   13858 non-null  float64\n",
      " 20  rougher.input.floatbank11_sulfate   13858 non-null  float64\n",
      " 21  rougher.input.floatbank11_xanthate  13858 non-null  float64\n",
      "dtypes: float64(22)\n",
      "memory usage: 2.3 MB\n",
      "None\n",
      "(13858,)\n"
     ]
    }
   ],
   "source": [
    "# оставляем только столбцы с признаками и целевым признаком первого этапа флотации\n",
    "features_train_first = df_train_features[features_test_first.columns]\n",
    "\n",
    "print(features_train_first.shape)\n",
    "print(features_train_first.info())\n",
    "target_train_first = df_train['rougher.output.recovery']\n",
    "print(target_train_first.shape)"
   ]
  },
  {
   "cell_type": "markdown",
   "metadata": {},
   "source": [
    "Формирование тестовой выборки второго этапа"
   ]
  },
  {
   "cell_type": "code",
   "execution_count": 15,
   "metadata": {
    "scrolled": true
   },
   "outputs": [
    {
     "name": "stdout",
     "output_type": "stream",
     "text": [
      "(4860, 52)\n",
      "<class 'pandas.core.frame.DataFrame'>\n",
      "RangeIndex: 4860 entries, 0 to 4859\n",
      "Data columns (total 52 columns):\n",
      " #   Column                                      Non-Null Count  Dtype  \n",
      "---  ------                                      --------------  -----  \n",
      " 0   rougher.input.feed_au                       4860 non-null   float64\n",
      " 1   rougher.input.feed_ag                       4860 non-null   float64\n",
      " 2   rougher.input.feed_pb                       4860 non-null   float64\n",
      " 3   rougher.input.feed_sol                      4860 non-null   float64\n",
      " 4   rougher.input.feed_rate                     4860 non-null   float64\n",
      " 5   rougher.input.feed_size                     4860 non-null   float64\n",
      " 6   rougher.input.floatbank10_sulfate           4860 non-null   float64\n",
      " 7   rougher.input.floatbank10_xanthate          4860 non-null   float64\n",
      " 8   rougher.state.floatbank10_a_air             4860 non-null   float64\n",
      " 9   rougher.state.floatbank10_a_level           4860 non-null   float64\n",
      " 10  rougher.state.floatbank10_b_air             4860 non-null   float64\n",
      " 11  rougher.state.floatbank10_b_level           4860 non-null   float64\n",
      " 12  rougher.state.floatbank10_c_air             4860 non-null   float64\n",
      " 13  rougher.state.floatbank10_c_level           4860 non-null   float64\n",
      " 14  rougher.state.floatbank10_d_air             4860 non-null   float64\n",
      " 15  rougher.state.floatbank10_d_level           4860 non-null   float64\n",
      " 16  rougher.state.floatbank10_e_air             4860 non-null   float64\n",
      " 17  rougher.state.floatbank10_e_level           4860 non-null   float64\n",
      " 18  rougher.state.floatbank10_f_air             4860 non-null   float64\n",
      " 19  rougher.state.floatbank10_f_level           4860 non-null   float64\n",
      " 20  rougher.input.floatbank11_sulfate           4860 non-null   float64\n",
      " 21  rougher.input.floatbank11_xanthate          4860 non-null   float64\n",
      " 22  primary_cleaner.input.sulfate               4860 non-null   float64\n",
      " 23  primary_cleaner.input.depressant            4860 non-null   float64\n",
      " 24  primary_cleaner.input.feed_size             4860 non-null   float64\n",
      " 25  primary_cleaner.input.xanthate              4860 non-null   float64\n",
      " 26  primary_cleaner.state.floatbank8_a_air      4860 non-null   float64\n",
      " 27  primary_cleaner.state.floatbank8_a_level    4860 non-null   float64\n",
      " 28  primary_cleaner.state.floatbank8_b_air      4860 non-null   float64\n",
      " 29  primary_cleaner.state.floatbank8_b_level    4860 non-null   float64\n",
      " 30  primary_cleaner.state.floatbank8_c_air      4860 non-null   float64\n",
      " 31  primary_cleaner.state.floatbank8_c_level    4860 non-null   float64\n",
      " 32  primary_cleaner.state.floatbank8_d_air      4860 non-null   float64\n",
      " 33  primary_cleaner.state.floatbank8_d_level    4860 non-null   float64\n",
      " 34  secondary_cleaner.state.floatbank2_a_air    4860 non-null   float64\n",
      " 35  secondary_cleaner.state.floatbank2_a_level  4860 non-null   float64\n",
      " 36  secondary_cleaner.state.floatbank2_b_air    4860 non-null   float64\n",
      " 37  secondary_cleaner.state.floatbank2_b_level  4860 non-null   float64\n",
      " 38  secondary_cleaner.state.floatbank3_a_air    4860 non-null   float64\n",
      " 39  secondary_cleaner.state.floatbank3_a_level  4860 non-null   float64\n",
      " 40  secondary_cleaner.state.floatbank3_b_air    4860 non-null   float64\n",
      " 41  secondary_cleaner.state.floatbank3_b_level  4860 non-null   float64\n",
      " 42  secondary_cleaner.state.floatbank4_a_air    4860 non-null   float64\n",
      " 43  secondary_cleaner.state.floatbank4_a_level  4860 non-null   float64\n",
      " 44  secondary_cleaner.state.floatbank4_b_air    4860 non-null   float64\n",
      " 45  secondary_cleaner.state.floatbank4_b_level  4860 non-null   float64\n",
      " 46  secondary_cleaner.state.floatbank5_a_air    4860 non-null   float64\n",
      " 47  secondary_cleaner.state.floatbank5_a_level  4860 non-null   float64\n",
      " 48  secondary_cleaner.state.floatbank5_b_air    4860 non-null   float64\n",
      " 49  secondary_cleaner.state.floatbank5_b_level  4860 non-null   float64\n",
      " 50  secondary_cleaner.state.floatbank6_a_air    4860 non-null   float64\n",
      " 51  secondary_cleaner.state.floatbank6_a_level  4860 non-null   float64\n",
      "dtypes: float64(52)\n",
      "memory usage: 1.9 MB\n",
      "None\n",
      "(4860,)\n"
     ]
    }
   ],
   "source": [
    "# оставляем столбцы с признаками обоих этапов: и  флотации и очистки\n",
    "features_test_second = df_test.drop(['date'],axis=1)\n",
    "print(features_test_second.shape)\n",
    "print(features_test_second.info())\n",
    "\n",
    "# формируем выборку целевого признака второго этапа\n",
    "target_test_second = df_test_full['final.output.recovery']\n",
    "print(target_test_second.shape)"
   ]
  },
  {
   "cell_type": "markdown",
   "metadata": {},
   "source": [
    "Формирование тренировочной выборки втого этапа"
   ]
  },
  {
   "cell_type": "code",
   "execution_count": 16,
   "metadata": {
    "scrolled": true
   },
   "outputs": [
    {
     "name": "stdout",
     "output_type": "stream",
     "text": [
      "(13858, 52)\n",
      "<class 'pandas.core.frame.DataFrame'>\n",
      "RangeIndex: 13858 entries, 0 to 13857\n",
      "Data columns (total 52 columns):\n",
      " #   Column                                      Non-Null Count  Dtype  \n",
      "---  ------                                      --------------  -----  \n",
      " 0   rougher.input.feed_au                       13858 non-null  float64\n",
      " 1   rougher.input.feed_ag                       13858 non-null  float64\n",
      " 2   rougher.input.feed_pb                       13858 non-null  float64\n",
      " 3   rougher.input.feed_sol                      13858 non-null  float64\n",
      " 4   rougher.input.feed_rate                     13858 non-null  float64\n",
      " 5   rougher.input.feed_size                     13858 non-null  float64\n",
      " 6   rougher.input.floatbank10_sulfate           13858 non-null  float64\n",
      " 7   rougher.input.floatbank10_xanthate          13858 non-null  float64\n",
      " 8   rougher.state.floatbank10_a_air             13858 non-null  float64\n",
      " 9   rougher.state.floatbank10_a_level           13858 non-null  float64\n",
      " 10  rougher.state.floatbank10_b_air             13858 non-null  float64\n",
      " 11  rougher.state.floatbank10_b_level           13858 non-null  float64\n",
      " 12  rougher.state.floatbank10_c_air             13858 non-null  float64\n",
      " 13  rougher.state.floatbank10_c_level           13858 non-null  float64\n",
      " 14  rougher.state.floatbank10_d_air             13858 non-null  float64\n",
      " 15  rougher.state.floatbank10_d_level           13858 non-null  float64\n",
      " 16  rougher.state.floatbank10_e_air             13858 non-null  float64\n",
      " 17  rougher.state.floatbank10_e_level           13858 non-null  float64\n",
      " 18  rougher.state.floatbank10_f_air             13858 non-null  float64\n",
      " 19  rougher.state.floatbank10_f_level           13858 non-null  float64\n",
      " 20  rougher.input.floatbank11_sulfate           13858 non-null  float64\n",
      " 21  rougher.input.floatbank11_xanthate          13858 non-null  float64\n",
      " 22  primary_cleaner.input.sulfate               13858 non-null  float64\n",
      " 23  primary_cleaner.input.depressant            13858 non-null  float64\n",
      " 24  primary_cleaner.input.feed_size             13858 non-null  float64\n",
      " 25  primary_cleaner.input.xanthate              13858 non-null  float64\n",
      " 26  primary_cleaner.state.floatbank8_a_air      13858 non-null  float64\n",
      " 27  primary_cleaner.state.floatbank8_a_level    13858 non-null  float64\n",
      " 28  primary_cleaner.state.floatbank8_b_air      13858 non-null  float64\n",
      " 29  primary_cleaner.state.floatbank8_b_level    13858 non-null  float64\n",
      " 30  primary_cleaner.state.floatbank8_c_air      13858 non-null  float64\n",
      " 31  primary_cleaner.state.floatbank8_c_level    13858 non-null  float64\n",
      " 32  primary_cleaner.state.floatbank8_d_air      13858 non-null  float64\n",
      " 33  primary_cleaner.state.floatbank8_d_level    13858 non-null  float64\n",
      " 34  secondary_cleaner.state.floatbank2_a_air    13858 non-null  float64\n",
      " 35  secondary_cleaner.state.floatbank2_a_level  13858 non-null  float64\n",
      " 36  secondary_cleaner.state.floatbank2_b_air    13858 non-null  float64\n",
      " 37  secondary_cleaner.state.floatbank2_b_level  13858 non-null  float64\n",
      " 38  secondary_cleaner.state.floatbank3_a_air    13858 non-null  float64\n",
      " 39  secondary_cleaner.state.floatbank3_a_level  13858 non-null  float64\n",
      " 40  secondary_cleaner.state.floatbank3_b_air    13858 non-null  float64\n",
      " 41  secondary_cleaner.state.floatbank3_b_level  13858 non-null  float64\n",
      " 42  secondary_cleaner.state.floatbank4_a_air    13858 non-null  float64\n",
      " 43  secondary_cleaner.state.floatbank4_a_level  13858 non-null  float64\n",
      " 44  secondary_cleaner.state.floatbank4_b_air    13858 non-null  float64\n",
      " 45  secondary_cleaner.state.floatbank4_b_level  13858 non-null  float64\n",
      " 46  secondary_cleaner.state.floatbank5_a_air    13858 non-null  float64\n",
      " 47  secondary_cleaner.state.floatbank5_a_level  13858 non-null  float64\n",
      " 48  secondary_cleaner.state.floatbank5_b_air    13858 non-null  float64\n",
      " 49  secondary_cleaner.state.floatbank5_b_level  13858 non-null  float64\n",
      " 50  secondary_cleaner.state.floatbank6_a_air    13858 non-null  float64\n",
      " 51  secondary_cleaner.state.floatbank6_a_level  13858 non-null  float64\n",
      "dtypes: float64(52)\n",
      "memory usage: 5.5 MB\n",
      "None\n",
      "(13858,)\n"
     ]
    }
   ],
   "source": [
    "# оставляем столбцы с признаками обоих этапов: и  флотации и очистки\n",
    "features_train_second = df_train_features[features_test_second.columns]\n",
    "print(features_train_second.shape)\n",
    "print(features_train_second.info())\n",
    "\n",
    "# формируем выборку целевого признака второго этапа\n",
    "target_train_second = df_train['final.output.recovery']\n",
    "print(target_train_second.shape)"
   ]
  },
  {
   "cell_type": "markdown",
   "metadata": {},
   "source": [
    "**Вывод:**  \n",
    "В процессе предобработки данных было выполнено следующее:\n",
    "- Заполнение пропусков в обучающей выборке\n",
    "- Добавление целевых признаков в тестовую выборку\n",
    "- Формирование тренировочной и тестовой выборок для моделирования первого этапа\n",
    "- Формирование тренировочной и тестовой выборок для моделирования втого этапа"
   ]
  },
  {
   "cell_type": "markdown",
   "metadata": {},
   "source": [
    "## Анализ данных"
   ]
  },
  {
   "cell_type": "markdown",
   "metadata": {},
   "source": [
    "Определим функцию для построения графиков"
   ]
  },
  {
   "cell_type": "code",
   "execution_count": 17,
   "metadata": {},
   "outputs": [],
   "source": [
    "def plot_histogram(a,b,c,d,hist_title):\n",
    "    plt.rcParams.update({'figure.figsize':(12,7), 'figure.dpi':100})\n",
    "    plt.hist([a, b, c, d], alpha=0.8, bins=100, label=['сырьё', 'флотация','очистка','финальная'])    \n",
    "    plt.legend(loc='upper left')\n",
    "    plt.title(hist_title)\n",
    "    plt.ylabel('Количество повторений в измерениях')\n",
    "    plt.xlabel('Уровень концентрации')\n",
    "    plt.show()"
   ]
  },
  {
   "cell_type": "markdown",
   "metadata": {},
   "source": [
    "### Анализ концентрации золота на разных этапах процесса обогащения"
   ]
  },
  {
   "cell_type": "code",
   "execution_count": 18,
   "metadata": {},
   "outputs": [
    {
     "data": {
      "image/png": "[encoded data removed]",
      "text/plain": [
       "<Figure size 1200x700 with 1 Axes>"
      ]
     },
     "metadata": {},
     "output_type": "display_data"
    }
   ],
   "source": [
    "rougher_in_au = df_train['rougher.input.feed_au']\n",
    "rougher_out_au = df_train['rougher.output.concentrate_au']\n",
    "primary_clean_au = df_train['primary_cleaner.output.concentrate_au']\n",
    "final_au = df_train['final.output.concentrate_au']\n",
    "plot_histogram(rougher_in_au,rougher_out_au,primary_clean_au,final_au,\n",
    "              'Концентрация золота (Au) на разных этапах процесса обогащения')"
   ]
  },
  {
   "cell_type": "markdown",
   "metadata": {},
   "source": [
    "### Анализ концентрации серебра на разных этапах процесса обогащения"
   ]
  },
  {
   "cell_type": "code",
   "execution_count": 19,
   "metadata": {},
   "outputs": [
    {
     "data": {
      "image/png": "[encoded data removed]",
      "text/plain": [
       "<Figure size 1200x700 with 1 Axes>"
      ]
     },
     "metadata": {},
     "output_type": "display_data"
    }
   ],
   "source": [
    "rougher_in_ag = df_train['rougher.input.feed_ag']\n",
    "rougher_out_ag = df_train['rougher.output.concentrate_ag']\n",
    "primary_clean_ag = df_train['primary_cleaner.output.concentrate_ag']\n",
    "final_ag = df_train['final.output.concentrate_ag']\n",
    "plot_histogram(rougher_in_ag,rougher_out_ag,primary_clean_ag,final_ag,\n",
    "              'Концентрация серебра (Ag) в исходном сырье')"
   ]
  },
  {
   "cell_type": "markdown",
   "metadata": {},
   "source": [
    "### Анализ концентрации свинца на разных этапах процесса обогащения"
   ]
  },
  {
   "cell_type": "code",
   "execution_count": 20,
   "metadata": {},
   "outputs": [
    {
     "data": {
      "image/png": "[encoded data removed]",
      "text/plain": [
       "<Figure size 1200x700 with 1 Axes>"
      ]
     },
     "metadata": {},
     "output_type": "display_data"
    }
   ],
   "source": [
    "#metal_hist(df_train,'rougher.input.feed_pb','lightgrey', \n",
    "#           \"Концентрация свинца (Pb) в исходном сырье\",\"Уровень концентрации\")\n",
    "rougher_in_pb = df_train['rougher.input.feed_pb']\n",
    "rougher_out_pb = df_train['rougher.output.concentrate_pb']\n",
    "primary_clean_pb = df_train['primary_cleaner.output.concentrate_pb']\n",
    "final_pb = df_train['final.output.concentrate_pb']\n",
    "plot_histogram(rougher_in_pb,rougher_out_pb,primary_clean_pb,final_pb,\n",
    "              'Концентрация свинца (Pb) в исходном сырье')"
   ]
  },
  {
   "cell_type": "markdown",
   "metadata": {},
   "source": [
    "### Вывод по исследованию концентрации металлов"
   ]
  },
  {
   "cell_type": "markdown",
   "metadata": {},
   "source": [
    "- Распределение каждого из трех металлов в исходном сырье несколько отличается от нормального и обладает более широким диапазоном значений, что предположительно может объясняться непостоянным и неоптимальным физико-химическое состоянием флотационной пульпы.\n",
    "- С прохождением каждого последующего этапа обогащения распределение коцентрации металлов становится по форме все ближе к нормальному, а диапазон значений сужается. Это может быть прямым эффектом процесса обогащения, поскольку на выходе каждого этапа мы уже имеем дело с раствором, а не пульпой.\n",
    "- Концентрация золота значимо увеличивается от этапа к этапу, что может свидетельствовать об эффективности процесса обогащения.\n",
    "- Концентрация серебра уменьшается в результате процесса, что может означаать, что оно эффективно удаляется в хвосты.\n",
    "- Концентрация свинца несколько увеличивается в результате процесса, что означает, что он не столь эффективно удаляется в хвосты. Здесь могла бы быть возможность деятельности над дальнейшим улучшением технологического процесса."
   ]
  },
  {
   "cell_type": "markdown",
   "metadata": {},
   "source": [
    "### Сравнение распределения размеров гранул исходного сырья в обучающей и тестовой выборках."
   ]
  },
  {
   "cell_type": "code",
   "execution_count": 21,
   "metadata": {},
   "outputs": [
    {
     "data": {
      "image/png": "[encoded data removed]",
      "text/plain": [
       "<Figure size 1200x700 with 1 Axes>"
      ]
     },
     "metadata": {},
     "output_type": "display_data"
    }
   ],
   "source": [
    "size_train = df_train['rougher.input.feed_size'] \n",
    "size_test = df_test['rougher.input.feed_size']\n",
    "plt.rcParams.update({'figure.figsize':(12,7), 'figure.dpi':100})\n",
    "plt.hist([size_train, size_test], alpha=0.8, bins=100, range=(0,150), density='Truе',  \n",
    "            label=['обучающая выборка', 'тестовая выборка'])    \n",
    "plt.legend(loc='upper left')\n",
    "plt.title('Распределения размеров гранул исходного сырья в обучающей выборке')\n",
    "plt.ylabel('Количество повторений в измерениях')\n",
    "plt.xlabel('Уровень концентрации')\n",
    "plt.show()"
   ]
  },
  {
   "cell_type": "markdown",
   "metadata": {},
   "source": [
    "**Вывод:** распределения размеров гранул исходного сырья на обучающей и тестовой выборках имеют похожую форму, следовательно это не может ухудшить оценку модели. "
   ]
  },
  {
   "cell_type": "markdown",
   "metadata": {},
   "source": [
    "###  Исследование суммарной концентрации металлов на разных стадиях процесса."
   ]
  },
  {
   "cell_type": "markdown",
   "metadata": {},
   "source": [
    "Вычисление суммарной концентрации металлов"
   ]
  },
  {
   "cell_type": "code",
   "execution_count": 22,
   "metadata": {},
   "outputs": [],
   "source": [
    "metal_sum = pd.DataFrame()\n",
    "\n",
    "# концентрация в сырье\n",
    "rougher_in_sum = df_train['rougher.input.feed_au'] + \\\n",
    "                 df_train['rougher.input.feed_ag'] + \\\n",
    "                 df_train['rougher.input.feed_pb']\n",
    "\n",
    "# концентрация в черновом концентрате\n",
    "rougher_out_sum = df_train['rougher.output.concentrate_au'] + \\\n",
    "                  df_train['rougher.output.concentrate_ag'] + \\\n",
    "                  df_train['rougher.output.concentrate_pb']\n",
    "\n",
    "# концентрация после первой очистки\n",
    "primary_cleaner_sum = df_train['primary_cleaner.output.concentrate_au'] + \\\n",
    "                      df_train['primary_cleaner.output.concentrate_ag'] + \\\n",
    "                      df_train['primary_cleaner.output.concentrate_pb']\n",
    "\n",
    "# концентрация финальная \n",
    "final_sum = df_train['final.output.concentrate_au'] + \\\n",
    "                     df_train['final.output.concentrate_ag'] + \\\n",
    "                     df_train['final.output.concentrate_pb']"
   ]
  },
  {
   "cell_type": "markdown",
   "metadata": {},
   "source": [
    "Построение графика для разных стадий процесса."
   ]
  },
  {
   "cell_type": "code",
   "execution_count": 23,
   "metadata": {},
   "outputs": [
    {
     "data": {
      "image/png": "[encoded data removed]",
      "text/plain": [
       "<Figure size 1200x700 with 1 Axes>"
      ]
     },
     "metadata": {},
     "output_type": "display_data"
    }
   ],
   "source": [
    "plot_histogram(rougher_in_sum,rougher_out_sum,primary_cleaner_sum,final_sum,\n",
    "              'Cуммарная концентрация металлов в исходном сырье')"
   ]
  },
  {
   "cell_type": "markdown",
   "metadata": {},
   "source": [
    "**Вывод:** Концентрация металлов в сумме с каждым этапом увеличивается, распределение принимает характер нормального и диапазон значений уменьшается, что может служить иллюстрацией успешного процесса обогащения, пригодного для моделирования."
   ]
  },
  {
   "cell_type": "markdown",
   "metadata": {},
   "source": [
    "## Построение модели"
   ]
  },
  {
   "cell_type": "markdown",
   "metadata": {},
   "source": [
    "### Построение функции для вычисления итоговой метрики sMAPE "
   ]
  },
  {
   "cell_type": "code",
   "execution_count": 24,
   "metadata": {},
   "outputs": [],
   "source": [
    "# расчет метрики sMAPE для одного этапа\n",
    "def smape(y_target, y_pred):\n",
    "    result = np.mean(abs((y_target - y_pred))/((abs(y_target) + abs(y_pred)) / 2)) * 100\n",
    "    return result\n",
    "\n",
    "# расчет результирующей метрики по совокупности первого и второго этапа\n",
    "def final_smape(r_score,f_score):\n",
    "    return 0.25 * r_score + 0.75 * f_score\n",
    "\n",
    "# оборачивание метрики smape в аргумент для cross_val_score\n",
    "smape_score=make_scorer(smape, greater_is_better = False)"
   ]
  },
  {
   "cell_type": "code",
   "execution_count": null,
   "metadata": {},
   "outputs": [],
   "source": []
  },
  {
   "cell_type": "markdown",
   "metadata": {},
   "source": [
    "### Построение и обучение модели линейной регрессии"
   ]
  },
  {
   "cell_type": "code",
   "execution_count": 25,
   "metadata": {},
   "outputs": [
    {
     "name": "stdout",
     "output_type": "stream",
     "text": [
      "Средняя оценка качества модели первого этапа: 6.50938593500734\n"
     ]
    }
   ],
   "source": [
    "model_lr = LinearRegression()\n",
    "\n",
    "# расчет метрики sMAPE для первого этапа\n",
    "scores_r = cross_val_score(model_lr, features_train_first, target_train_first, cv=5,scoring=smape_score)\n",
    "final_score_r = sum(abs(scores_r)) / 5\n",
    "print('Средняя оценка качества модели первого этапа:', final_score_r)"
   ]
  },
  {
   "cell_type": "code",
   "execution_count": 26,
   "metadata": {},
   "outputs": [
    {
     "name": "stdout",
     "output_type": "stream",
     "text": [
      "Средняя оценка качества модели второго этапа: 9.44023900438891\n"
     ]
    }
   ],
   "source": [
    "model_lr = LinearRegression()\n",
    "\n",
    "# расчет метрики sMAPE для второго этапа\n",
    "scores_f = cross_val_score(model_lr, features_train_second, target_train_second, cv=5,scoring=smape_score)\n",
    "final_score_f = sum(abs(scores_f)) / 5\n",
    "print('Средняя оценка качества модели второго этапа:', final_score_f)"
   ]
  },
  {
   "cell_type": "code",
   "execution_count": 27,
   "metadata": {},
   "outputs": [
    {
     "name": "stdout",
     "output_type": "stream",
     "text": [
      "Результирующая оценка sMAPE качества модели: 8.707525737043518\n"
     ]
    }
   ],
   "source": [
    "# расчет результирующей метрики по совокупности первого и второго этапа\n",
    "model_score_linear = final_smape(final_score_r,final_score_f)\n",
    "print('Результирующая оценка sMAPE качества модели:',model_score_linear)"
   ]
  },
  {
   "cell_type": "markdown",
   "metadata": {},
   "source": [
    "### Построение и обучение модели случайного леса "
   ]
  },
  {
   "cell_type": "markdown",
   "metadata": {},
   "source": [
    "#### Обучение модели для первого этапа"
   ]
  },
  {
   "cell_type": "code",
   "execution_count": 29,
   "metadata": {},
   "outputs": [
    {
     "name": "stdout",
     "output_type": "stream",
     "text": [
      "Гиперпараметры лучшей модели: {'max_depth': 5, 'n_estimators': 401}\n",
      "Метрика sMAPE лучшей модели: 6.213058529447915\n",
      "CPU times: total: 34.5 s\n",
      "Wall time: 15min 2s\n"
     ]
    }
   ],
   "source": [
    "%%time\n",
    "\n",
    "forest = RandomForestRegressor(random_state=RANDOM_NUMBER)\n",
    "\n",
    "# определение списка и диапазона гиперпараметров для подбора\n",
    "grid_space={'max_depth': range (1, 21, 2),\n",
    "            'n_estimators': range (1,501,50)}\n",
    "\n",
    "# подбор параметров с кросс-валидацией\n",
    "forest_grid = GridSearchCV(forest, param_grid=grid_space, \n",
    "                           cv=5, scoring=smape_score, n_jobs=-1)\n",
    "\n",
    "model_grid_forest_r = forest_grid.fit(features_train_first,target_train_first)\n",
    "\n",
    "final_score_forest_r = abs(model_grid_forest_r.best_score_)\n",
    "\n",
    "print('Гиперпараметры лучшей модели: '+str(model_grid_forest_r.best_params_))\n",
    "print('Метрика sMAPE лучшей модели: '+str(final_score_forest_r))"
   ]
  },
  {
   "cell_type": "markdown",
   "metadata": {},
   "source": [
    "#### Обучение модели для второго этапа"
   ]
  },
  {
   "cell_type": "code",
   "execution_count": 30,
   "metadata": {},
   "outputs": [
    {
     "name": "stdout",
     "output_type": "stream",
     "text": [
      "Гиперпараметры лучшей модели: {'max_depth': 3, 'n_estimators': 51}\n",
      "Метрика sMAPE лучшей модели: 8.900721689839372\n",
      "CPU times: total: 7.45 s\n",
      "Wall time: 15min 4s\n"
     ]
    }
   ],
   "source": [
    "%%time\n",
    "\n",
    "forest = RandomForestRegressor(random_state=RANDOM_NUMBER)\n",
    "\n",
    "# определение списка и диапазона гиперпараметров для подбора\n",
    "grid_space={'max_depth': range (1, 11, 2),\n",
    "            'n_estimators': range (1, 601, 50)}\n",
    "\n",
    "# подбор параметров с кросс-валидацией\n",
    "forest_grid = GridSearchCV(forest, param_grid=grid_space, \n",
    "                           cv=5, scoring=smape_score, n_jobs=-1)\n",
    "\n",
    "model_grid_forest_f = forest_grid.fit(features_train_second,target_train_second)\n",
    "\n",
    "final_score_forest_f = abs(model_grid_forest_f.best_score_)\n",
    "\n",
    "print('Гиперпараметры лучшей модели: '+str(model_grid_forest_f.best_params_))\n",
    "print('Метрика sMAPE лучшей модели: '+str(final_score_forest_f))"
   ]
  },
  {
   "cell_type": "markdown",
   "metadata": {},
   "source": [
    "#### Вычисление результирующей метрики модели случайного леса"
   ]
  },
  {
   "cell_type": "code",
   "execution_count": 31,
   "metadata": {},
   "outputs": [
    {
     "name": "stdout",
     "output_type": "stream",
     "text": [
      "Результирующая оценка sMAPE качества модели случайного леса: 8.228805899741507\n"
     ]
    }
   ],
   "source": [
    "# расчет результирующей метрики по совокупности первого и второго этапа\n",
    "model_score_forest = final_smape(final_score_forest_r,final_score_forest_f)\n",
    "print('Результирующая оценка sMAPE качества модели случайного леса:', model_score_forest)"
   ]
  },
  {
   "cell_type": "markdown",
   "metadata": {},
   "source": [
    "### Построение и обучение модели решающего дерева "
   ]
  },
  {
   "cell_type": "markdown",
   "metadata": {},
   "source": [
    "#### Обучение модели для первого этапа"
   ]
  },
  {
   "cell_type": "code",
   "execution_count": 32,
   "metadata": {},
   "outputs": [
    {
     "name": "stdout",
     "output_type": "stream",
     "text": [
      "Гиперпараметры лучшей модели: {'max_depth': 2, 'min_samples_leaf': 22, 'min_samples_split': 2}\n",
      "Метрика sMAPE лучшей модели: 6.3163723756983154\n",
      "CPU times: total: 39 s\n",
      "Wall time: 3min 45s\n"
     ]
    }
   ],
   "source": [
    "%%time\n",
    "\n",
    "tree = DecisionTreeRegressor(random_state=RANDOM_NUMBER)\n",
    "\n",
    "# определение списка и диапазона гиперпараметров для подбора\n",
    "grid_space={'max_depth': range (2, 32, 2),\n",
    "            'min_samples_split': range (2, 32, 2),\n",
    "            'min_samples_leaf': range (2, 32, 2)}\n",
    "\n",
    "# подбор параметров с кросс-валидацией\n",
    "tree_grid = GridSearchCV(tree, param_grid=grid_space, \n",
    "                           cv=5, scoring=smape_score, n_jobs=-1)\n",
    "\n",
    "model_grid_tree_r = tree_grid.fit(features_train_first,target_train_first)\n",
    "\n",
    "final_score_tree_r = abs(model_grid_tree_r.best_score_)\n",
    "\n",
    "print('Гиперпараметры лучшей модели: '+str(model_grid_tree_r.best_params_))\n",
    "print('Метрика sMAPE лучшей модели: '+str(final_score_tree_r))"
   ]
  },
  {
   "cell_type": "markdown",
   "metadata": {},
   "source": [
    "#### Обучение модели для второго этапа"
   ]
  },
  {
   "cell_type": "code",
   "execution_count": 33,
   "metadata": {},
   "outputs": [
    {
     "name": "stdout",
     "output_type": "stream",
     "text": [
      "Гиперпараметры лучшей модели: {'max_depth': 2, 'min_samples_leaf': 2, 'min_samples_split': 2}\n",
      "Метрика sMAPE лучшей модели: 8.900960673872815\n",
      "CPU times: total: 1min 11s\n",
      "Wall time: 9min 7s\n"
     ]
    }
   ],
   "source": [
    "%%time\n",
    "\n",
    "tree = DecisionTreeRegressor(random_state=RANDOM_NUMBER)\n",
    "\n",
    "# определение списка и диапазона гиперпараметров для подбора\n",
    "grid_space={'max_depth': range (2, 32, 2),\n",
    "            'min_samples_split': range (2,32, 2),\n",
    "            'min_samples_leaf': range (2, 32, 2)}\n",
    "\n",
    "# подбор параметров с кросс-валидацией\n",
    "tree_grid = GridSearchCV(tree, param_grid=grid_space, \n",
    "                           cv=5, scoring=smape_score, n_jobs=-1)\n",
    "\n",
    "model_grid_tree_f = tree_grid.fit(features_train_second,target_train_second)\n",
    "\n",
    "final_score_tree_f = abs(model_grid_tree_f.best_score_)\n",
    "\n",
    "print('Гиперпараметры лучшей модели: '+str(model_grid_tree_f.best_params_))\n",
    "print('Метрика sMAPE лучшей модели: '+str(final_score_tree_f))"
   ]
  },
  {
   "cell_type": "markdown",
   "metadata": {},
   "source": [
    "#### Вычисление результирующей метрики модели решающего дерева"
   ]
  },
  {
   "cell_type": "code",
   "execution_count": 34,
   "metadata": {},
   "outputs": [
    {
     "name": "stdout",
     "output_type": "stream",
     "text": [
      "Результирующая оценка sMAPE качества модели решающего дерева: 8.25481359932919\n"
     ]
    }
   ],
   "source": [
    "# расчет результирующей метрики по совокупности первого и второго этапа\n",
    "model_score_tree = final_smape(final_score_tree_r,final_score_tree_f)\n",
    "print('Результирующая оценка sMAPE качества модели решающего дерева:',model_score_tree)"
   ]
  },
  {
   "cell_type": "markdown",
   "metadata": {},
   "source": [
    "### Вывод"
   ]
  },
  {
   "cell_type": "markdown",
   "metadata": {},
   "source": [
    "Модель случайного леса с подбором гиперпараметров показала наилучший результат по метрике sMAPE как на первом этапе (sMAPE = 6.21), так и на втором (sMAPE = 8.90) по сравнению с остальными исследованными моделями. Она и будет выбрана для проверки на тестовой выборке, как для первого, так и для второго этапа."
   ]
  },
  {
   "cell_type": "markdown",
   "metadata": {},
   "source": [
    "### Проверка лучшей модели на тестовой выборке "
   ]
  },
  {
   "cell_type": "markdown",
   "metadata": {},
   "source": [
    "#### Проверка на тестовой выборке для первого этапа"
   ]
  },
  {
   "cell_type": "code",
   "execution_count": 36,
   "metadata": {},
   "outputs": [
    {
     "name": "stdout",
     "output_type": "stream",
     "text": [
      "Метрика sMAPE модели случайного леса для первого этапа на тестовой выборке 4.057087116923435\n"
     ]
    }
   ],
   "source": [
    "# получение предсказания на тестовой выборке ранее обученной модели\n",
    "\n",
    "predicted_test_first = model_grid_forest_r.predict(features_test_first) \n",
    "\n",
    "test_score_r = smape(target_test_first, predicted_test_first)\n",
    "print(\"Метрика sMAPE модели случайного леса для первого этапа на тестовой выборке\", test_score_r)\n"
   ]
  },
  {
   "cell_type": "code",
   "execution_count": 37,
   "metadata": {},
   "outputs": [
    {
     "name": "stdout",
     "output_type": "stream",
     "text": [
      "Метрика sMAPE модели Dummy для первого этапа на тестовой выборке 5.836297719560271\n"
     ]
    }
   ],
   "source": [
    "dummy_clf = DummyRegressor(strategy=\"median\")\n",
    "\n",
    "# обучение модели Dummy на тренировочной выборке\n",
    "\n",
    "dummy_clf.fit(features_train_first,target_train_first) \n",
    "\n",
    "# получение предсказания модели\n",
    "\n",
    "predictions_dummy_first = dummy_clf.predict(features_test_first) \n",
    "\n",
    "# определение качества модели Dummy на тестовой выборке\n",
    "\n",
    "test_dummy_score_r = smape(target_test_first, predictions_dummy_first) \n",
    "print(\"Метрика sMAPE модели Dummy для первого этапа на тестовой выборке\",test_dummy_score_r)"
   ]
  },
  {
   "cell_type": "markdown",
   "metadata": {},
   "source": [
    "#### Проверка на тестовой выборке для второго этапа"
   ]
  },
  {
   "cell_type": "code",
   "execution_count": 40,
   "metadata": {},
   "outputs": [
    {
     "name": "stdout",
     "output_type": "stream",
     "text": [
      "Метрика sMAPE модели случайного леса для первого этапа на тестовой выборке 8.007412277272168\n"
     ]
    }
   ],
   "source": [
    "# получение предсказания на тестовой выборке ранее обученной модели\n",
    "\n",
    "predicted_test_second = model_grid_forest_f.predict(features_test_second) \n",
    "\n",
    "test_score_f = smape(target_test_second, predicted_test_second)\n",
    "print(\"Метрика sMAPE модели случайного леса для первого этапа на тестовой выборке\", test_score_f)\n"
   ]
  },
  {
   "cell_type": "code",
   "execution_count": 41,
   "metadata": {},
   "outputs": [
    {
     "name": "stdout",
     "output_type": "stream",
     "text": [
      "Метрика sMAPE модели Dummy для второго этапа на тестовой выборке 9.114898479183303\n"
     ]
    }
   ],
   "source": [
    "dummy_clf = DummyRegressor(strategy=\"median\")\n",
    "\n",
    "# обучение модели Dummy на тренировочной выборке\n",
    "\n",
    "dummy_clf.fit(features_train_second,target_train_second) \n",
    "\n",
    "# получение предсказания модели\n",
    "\n",
    "predictions_dummy_second = dummy_clf.predict(features_test_first) \n",
    "\n",
    "# определение качества модели Dummy на тестовой выборке\n",
    "\n",
    "test_dummy_score_f = smape(target_test_second, predictions_dummy_second) \n",
    "print(\"Метрика sMAPE модели Dummy для второго этапа на тестовой выборке\",test_dummy_score_f)"
   ]
  },
  {
   "cell_type": "markdown",
   "metadata": {},
   "source": [
    "#### Вычисление результирующей метрики модели на тестовой выборке"
   ]
  },
  {
   "cell_type": "code",
   "execution_count": 42,
   "metadata": {},
   "outputs": [
    {
     "name": "stdout",
     "output_type": "stream",
     "text": [
      "Результирующая оценка sMAPE качества модели случайного леса: 7.019830987184985\n",
      "Результирующая оценка sMAPE качества модели Dummy: 8.295248289277545\n"
     ]
    }
   ],
   "source": [
    "# расчет результирующей метрики модели случайного леса по совокупности первого и второго этапа\n",
    "model_test_score = final_smape(test_score_r,test_score_f)\n",
    "print('Результирующая оценка sMAPE качества модели случайного леса:', model_test_score)\n",
    "\n",
    "# расчет результирующей метрики модели Dummy по совокупности первого и второго этапа\n",
    "model_dummy_test_score = final_smape(test_dummy_score_r,test_dummy_score_f)\n",
    "print('Результирующая оценка sMAPE качества модели Dummy:', model_dummy_test_score)"
   ]
  },
  {
   "cell_type": "markdown",
   "metadata": {},
   "source": [
    "#### Вывод"
   ]
  },
  {
   "cell_type": "markdown",
   "metadata": {},
   "source": [
    "Модель случайного леса успешно прошла проверку на адекватность, поскольку на тестовой выборке ее результирующая метрика sMAPE = 7.02 меньше, чем аналогичная метрика у модели DummyRegressor sMAPE = 8.30."
   ]
  },
  {
   "cell_type": "markdown",
   "metadata": {},
   "source": [
    "## Общий вывод"
   ]
  },
  {
   "cell_type": "markdown",
   "metadata": {},
   "source": [
    "**По проекту было выполнено следующее:**\n",
    "- импорт и обзор данных\n",
    "- подготовка данных:\n",
    "    - проверка расчета эффективности обогащения\n",
    "    - анализ признаков\n",
    "    - предобработка данных: \n",
    "        - заполнение пропусков в обучающей выборке\n",
    "        - удаление строк с околонулевыми выбросами в ключевых признаках\n",
    "        - добавление целевых признаков в тестовую выборку\n",
    "        - формирование тренировочной и тестовой выборок для моделирования первого этапа\n",
    "        - формирование тренировочной и тестовой выборок для моделирования втого этапа\n",
    "- анализ данных:\n",
    "    - анализ концентрации золота, серебра и свинца на разных этапах процесса обогащения\n",
    "    - сравнение распределения размеров гранул исходного сырья в обучающей и тестовой выборках.\n",
    "    - исследование суммарной концентрации металлов на разных стадиях процесса. \n",
    "- построение для двух этапов процесса обогащения и обучение методом кросс-валидации трёх моделей:\n",
    "    - модель линейной регрессии\n",
    "    - модель случайного леса\n",
    "    - модель решающего дерева\n",
    "- выбор лучшей модели на основе метрики sMAPE\n",
    "- проверка лучшей обученной модели на тестовой выборке\n",
    "- проверка лучшей модели на адекватность\n",
    "\n",
    "**Выводы:**\n",
    "- лучшей моделью по результатам исследования и проверки на тестовой выборке с итоговым значением метрики sMAPE = 7.02 признана модель случайного леса со следующими гиперпараметрами:\n",
    "    - для первого этапа: n_estimators=401, max_depth=5\n",
    "    - для второго этапа: n_estimators=51, max_depth=3\n",
    "- модель случайного леса успешно прошла проверку на адекватность, поскольку ее результирующая метрика sMAPE = 7.02 меньше, чем аналогичная метрика у модели DummyRegressor sMAPE = 8.30\n",
    "- именно эта модель будет рекомендована для дальнейшего применения \n",
    "\n",
    "**Рекомендации сотрудникам компании «Цифра»:** \n",
    "- Рекомендуется к применению построенная в рамках проекта модель машинного обучения на основе модели случайного леса, которая может помочь оптимизировать производство, чтобы не запускать предприятие с убыточными характеристиками.\n",
    "- На основе исследовательского анализа данных рекомендуется обратить внимание на эффективность очистки от свинца в рамках технологического процесса.\n"
   ]
  }
 ],
 "metadata": {
  "ExecuteTimeLog": [
   {
    "duration": 1645,
    "start_time": "2023-05-14T01:41:59.771Z"
   },
   {
    "duration": 6,
    "start_time": "2023-05-14T01:42:03.507Z"
   },
   {
    "duration": 1164,
    "start_time": "2023-05-14T01:42:05.389Z"
   },
   {
    "duration": 540,
    "start_time": "2023-05-14T01:42:13.670Z"
   },
   {
    "duration": 569,
    "start_time": "2023-05-14T01:42:14.212Z"
   },
   {
    "duration": 1355,
    "start_time": "2023-05-14T01:42:25.737Z"
   },
   {
    "duration": 9,
    "start_time": "2023-05-14T01:42:31.857Z"
   },
   {
    "duration": 3,
    "start_time": "2023-05-14T01:43:13.337Z"
   },
   {
    "duration": 28,
    "start_time": "2023-05-14T01:43:43.117Z"
   },
   {
    "duration": 24,
    "start_time": "2023-05-14T01:44:39.302Z"
   },
   {
    "duration": 14,
    "start_time": "2023-05-14T01:45:05.737Z"
   },
   {
    "duration": 17,
    "start_time": "2023-05-14T01:45:12.608Z"
   },
   {
    "duration": 17,
    "start_time": "2023-05-14T01:45:36.629Z"
   },
   {
    "duration": 13,
    "start_time": "2023-05-14T01:45:38.557Z"
   },
   {
    "duration": 13,
    "start_time": "2023-05-14T01:45:40.809Z"
   },
   {
    "duration": 14,
    "start_time": "2023-05-14T01:45:41.678Z"
   },
   {
    "duration": 15,
    "start_time": "2023-05-14T01:45:42.745Z"
   },
   {
    "duration": 4,
    "start_time": "2023-05-14T01:45:45.717Z"
   },
   {
    "duration": 217,
    "start_time": "2023-05-14T01:45:47.736Z"
   },
   {
    "duration": 198,
    "start_time": "2023-05-14T01:45:50.017Z"
   },
   {
    "duration": 202,
    "start_time": "2023-05-14T01:45:51.417Z"
   },
   {
    "duration": 270,
    "start_time": "2023-05-14T01:45:54.117Z"
   },
   {
    "duration": 224,
    "start_time": "2023-05-14T01:47:40.438Z"
   },
   {
    "duration": 234,
    "start_time": "2023-05-14T01:47:40.664Z"
   },
   {
    "duration": 255,
    "start_time": "2023-05-14T01:47:41.047Z"
   },
   {
    "duration": 236,
    "start_time": "2023-05-14T01:47:41.771Z"
   },
   {
    "duration": 203,
    "start_time": "2023-05-14T01:47:42.657Z"
   },
   {
    "duration": 189,
    "start_time": "2023-05-14T01:47:43.157Z"
   },
   {
    "duration": 194,
    "start_time": "2023-05-14T01:47:44.157Z"
   },
   {
    "duration": 216,
    "start_time": "2023-05-14T01:47:45.200Z"
   },
   {
    "duration": 12,
    "start_time": "2023-05-14T01:50:57.001Z"
   },
   {
    "duration": 193,
    "start_time": "2023-05-14T01:50:57.311Z"
   },
   {
    "duration": 191,
    "start_time": "2023-05-14T01:50:57.508Z"
   },
   {
    "duration": 303,
    "start_time": "2023-05-14T01:50:57.856Z"
   },
   {
    "duration": 200,
    "start_time": "2023-05-14T01:50:58.616Z"
   },
   {
    "duration": 4,
    "start_time": "2023-05-14T01:51:12.419Z"
   },
   {
    "duration": 824,
    "start_time": "2023-05-14T01:55:31.578Z"
   },
   {
    "duration": 5,
    "start_time": "2023-05-14T01:55:40.557Z"
   },
   {
    "duration": 4,
    "start_time": "2023-05-14T01:56:34.017Z"
   }
  ],
  "kernelspec": {
   "display_name": "Python 3 (ipykernel)",
   "language": "python",
   "name": "python3"
  },
  "language_info": {
   "codemirror_mode": {
    "name": "ipython",
    "version": 3
   },
   "file_extension": ".py",
   "mimetype": "text/x-python",
   "name": "python",
   "nbconvert_exporter": "python",
   "pygments_lexer": "ipython3",
   "version": "3.9.18"
  },
  "toc": {
   "base_numbering": 1,
   "nav_menu": {},
   "number_sections": true,
   "sideBar": true,
   "skip_h1_title": true,
   "title_cell": "Содержание",
   "title_sidebar": "Contents",
   "toc_cell": true,
   "toc_position": {
    "height": "calc(100% - 180px)",
    "left": "10px",
    "top": "150px",
    "width": "374.444px"
   },
   "toc_section_display": true,
   "toc_window_display": true
  }
 },
 "nbformat": 4,
 "nbformat_minor": 2
}
