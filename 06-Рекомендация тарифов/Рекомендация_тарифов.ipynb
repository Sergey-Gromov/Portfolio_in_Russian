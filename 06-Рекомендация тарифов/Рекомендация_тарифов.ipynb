{
 "cells": [
  {
   "cell_type": "markdown",
   "metadata": {
    "toc": true
   },
   "source": [
    "<h1>Оглавление<span class=\"tocSkip\"></span></h1>\n",
    "<div class=\"toc\"><ul class=\"toc-item\"><li><span><a href=\"#Разбиение-данных-на-выборки\" data-toc-modified-id=\"Разбиение-данных-на-выборки-1\"><span class=\"toc-item-num\">1&nbsp;&nbsp;</span>Разбиение данных на выборки</a></span></li><li><span><a href=\"#Исследование-моделей\" data-toc-modified-id=\"Исследование-моделей-2\"><span class=\"toc-item-num\">2&nbsp;&nbsp;</span>Исследование моделей</a></span><ul class=\"toc-item\"><li><span><a href=\"#Исследование-модели-решающего-дерева\" data-toc-modified-id=\"Исследование-модели-решающего-дерева-2.1\"><span class=\"toc-item-num\">2.1&nbsp;&nbsp;</span>Исследование модели решающего дерева</a></span></li><li><span><a href=\"#Исследование-модели-случайного-леса\" data-toc-modified-id=\"Исследование-модели-случайного-леса-2.2\"><span class=\"toc-item-num\">2.2&nbsp;&nbsp;</span>Исследование модели случайного леса</a></span></li><li><span><a href=\"#Исследование-модели-логистической-регрессии\" data-toc-modified-id=\"Исследование-модели-логистической-регрессии-2.3\"><span class=\"toc-item-num\">2.3&nbsp;&nbsp;</span>Исследование модели логистической регрессии</a></span></li></ul></li><li><span><a href=\"#Проверка-лучшей-модели-на-тестовой-выборке\" data-toc-modified-id=\"Проверка-лучшей-модели-на-тестовой-выборке-3\"><span class=\"toc-item-num\">3&nbsp;&nbsp;</span>Проверка лучшей модели на тестовой выборке</a></span></li><li><span><a href=\"#Проверка-модели-на-адекватность\" data-toc-modified-id=\"Проверка-модели-на-адекватность-4\"><span class=\"toc-item-num\">4&nbsp;&nbsp;</span>Проверка модели на адекватность</a></span></li><li><span><a href=\"#Общий-вывод\" data-toc-modified-id=\"Общий-вывод-5\"><span class=\"toc-item-num\">5&nbsp;&nbsp;</span>Общий вывод</a></span></li></ul></div>"
   ]
  },
  {
   "cell_type": "markdown",
   "metadata": {},
   "source": [
    "# Рекомендация тарифов"
   ]
  },
  {
   "cell_type": "markdown",
   "metadata": {},
   "source": [
    "**Цель проекта:**  \n",
    "построить для оператора мобильной связи «Мегалайн» систему, способную проанализировать поведение клиентов и предложить пользователям, пользующимся архивными тарифами, на замену новый тариф - «Смарт» или «Ультра».\n",
    "- В проекте используются данные о поведении клиентов, которые уже перешли на эти тарифы. \n",
    "- В процессе проекта будет построена модель для задачи классификации, которая выберет подходящий тариф.\n",
    "- При построении модели будет необходимо достичь максимально большого значения *accuracy*, не менее 0.75."
   ]
  },
  {
   "cell_type": "markdown",
   "metadata": {},
   "source": [
    "# Импорт библиотек и данных"
   ]
  },
  {
   "cell_type": "markdown",
   "metadata": {},
   "source": [
    "Импорт библиотек"
   ]
  },
  {
   "cell_type": "code",
   "execution_count": 1,
   "metadata": {},
   "outputs": [],
   "source": [
    "import pandas as pd\n",
    "from sklearn.model_selection import train_test_split\n",
    "from sklearn.metrics import accuracy_score\n",
    "from sklearn.tree import DecisionTreeClassifier\n",
    "from sklearn.ensemble import RandomForestClassifier\n",
    "from sklearn.linear_model import LogisticRegression\n",
    "from sklearn.dummy import DummyClassifier"
   ]
  },
  {
   "cell_type": "markdown",
   "metadata": {},
   "source": [
    "Импорт и обзор данных"
   ]
  },
  {
   "cell_type": "code",
   "execution_count": 2,
   "metadata": {},
   "outputs": [
    {
     "name": "stdout",
     "output_type": "stream",
     "text": [
      "(3214, 5)\n",
      "<class 'pandas.core.frame.DataFrame'>\n",
      "RangeIndex: 3214 entries, 0 to 3213\n",
      "Data columns (total 5 columns):\n",
      " #   Column    Non-Null Count  Dtype  \n",
      "---  ------    --------------  -----  \n",
      " 0   calls     3214 non-null   float64\n",
      " 1   minutes   3214 non-null   float64\n",
      " 2   messages  3214 non-null   float64\n",
      " 3   mb_used   3214 non-null   float64\n",
      " 4   is_ultra  3214 non-null   int64  \n",
      "dtypes: float64(4), int64(1)\n",
      "memory usage: 125.7 KB\n",
      "None\n"
     ]
    },
    {
     "data": {
      "text/html": [
       "<div>\n",
       "<style scoped>\n",
       "    .dataframe tbody tr th:only-of-type {\n",
       "        vertical-align: middle;\n",
       "    }\n",
       "\n",
       "    .dataframe tbody tr th {\n",
       "        vertical-align: top;\n",
       "    }\n",
       "\n",
       "    .dataframe thead th {\n",
       "        text-align: right;\n",
       "    }\n",
       "</style>\n",
       "<table border=\"1\" class=\"dataframe\">\n",
       "  <thead>\n",
       "    <tr style=\"text-align: right;\">\n",
       "      <th></th>\n",
       "      <th>calls</th>\n",
       "      <th>minutes</th>\n",
       "      <th>messages</th>\n",
       "      <th>mb_used</th>\n",
       "      <th>is_ultra</th>\n",
       "    </tr>\n",
       "  </thead>\n",
       "  <tbody>\n",
       "    <tr>\n",
       "      <th>0</th>\n",
       "      <td>40.0</td>\n",
       "      <td>311.90</td>\n",
       "      <td>83.0</td>\n",
       "      <td>19915.42</td>\n",
       "      <td>0</td>\n",
       "    </tr>\n",
       "    <tr>\n",
       "      <th>1</th>\n",
       "      <td>85.0</td>\n",
       "      <td>516.75</td>\n",
       "      <td>56.0</td>\n",
       "      <td>22696.96</td>\n",
       "      <td>0</td>\n",
       "    </tr>\n",
       "    <tr>\n",
       "      <th>2</th>\n",
       "      <td>77.0</td>\n",
       "      <td>467.66</td>\n",
       "      <td>86.0</td>\n",
       "      <td>21060.45</td>\n",
       "      <td>0</td>\n",
       "    </tr>\n",
       "    <tr>\n",
       "      <th>3</th>\n",
       "      <td>106.0</td>\n",
       "      <td>745.53</td>\n",
       "      <td>81.0</td>\n",
       "      <td>8437.39</td>\n",
       "      <td>1</td>\n",
       "    </tr>\n",
       "    <tr>\n",
       "      <th>4</th>\n",
       "      <td>66.0</td>\n",
       "      <td>418.74</td>\n",
       "      <td>1.0</td>\n",
       "      <td>14502.75</td>\n",
       "      <td>0</td>\n",
       "    </tr>\n",
       "  </tbody>\n",
       "</table>\n",
       "</div>"
      ],
      "text/plain": [
       "   calls  minutes  messages   mb_used  is_ultra\n",
       "0   40.0   311.90      83.0  19915.42         0\n",
       "1   85.0   516.75      56.0  22696.96         0\n",
       "2   77.0   467.66      86.0  21060.45         0\n",
       "3  106.0   745.53      81.0   8437.39         1\n",
       "4   66.0   418.74       1.0  14502.75         0"
      ]
     },
     "metadata": {},
     "output_type": "display_data"
    }
   ],
   "source": [
    "# Импорт данных\n",
    "try:\n",
    "    df = pd.read_csv('users_behavior.csv')\n",
    "except:\n",
    "    df = pd.read_csv('/datasets/users_behavior.csv')\n",
    "print(df.shape)\n",
    "print(df.info())\n",
    "display(df.head()) "
   ]
  },
  {
   "cell_type": "markdown",
   "metadata": {},
   "source": [
    "## Разбиение данных на выборки"
   ]
  },
  {
   "cell_type": "code",
   "execution_count": 3,
   "metadata": {},
   "outputs": [
    {
     "name": "stdout",
     "output_type": "stream",
     "text": [
      "(1928, 4)\n",
      "(1928,)\n",
      "(643, 4)\n",
      "(643,)\n",
      "(643, 4)\n",
      "(643,)\n"
     ]
    }
   ],
   "source": [
    "# разделение обучающей и испытательной выборки в пропорции 3:2\n",
    "df_train, df_trial = train_test_split(df, test_size=0.4, random_state=12345)\n",
    "# разделение испытательной выборки на проверочную и тестовую в пропорции 1:1\n",
    "df_valid, df_test = train_test_split(df_trial, test_size=0.5, random_state=12345) \n",
    "# создание переменных для признаков и целевого признака\n",
    "features_train = df_train.drop('is_ultra', axis=1) #обучающая выборка\n",
    "target_train = df_train['is_ultra']\n",
    "features_valid = df_valid.drop('is_ultra', axis=1) #проверочная выборка\n",
    "target_valid = df_valid['is_ultra'] \n",
    "features_test = df_test.drop('is_ultra', axis=1) #тестовая выборка\n",
    "target_test = df_test['is_ultra'] \n",
    "# вывод размеров выборок для проверки\n",
    "print(features_train.shape)\n",
    "print(target_train.shape)\n",
    "print(features_valid.shape)\n",
    "print(target_valid.shape)\n",
    "print(features_test.shape)\n",
    "print(target_test.shape)"
   ]
  },
  {
   "cell_type": "markdown",
   "metadata": {},
   "source": [
    "**Вывод:**\n",
    "проведен импорт и обзор данных, а также их разбиение на обучающую, валидационную и тестовую выборки в пропорции 3:1:1"
   ]
  },
  {
   "cell_type": "markdown",
   "metadata": {},
   "source": [
    "## Исследование моделей"
   ]
  },
  {
   "cell_type": "markdown",
   "metadata": {},
   "source": [
    "### Исследование модели решающего дерева"
   ]
  },
  {
   "cell_type": "code",
   "execution_count": 4,
   "metadata": {},
   "outputs": [
    {
     "name": "stdout",
     "output_type": "stream",
     "text": [
      "Accuracy наилучшей модели: 0.7853810264385692\n",
      "Лучшая глубина дерева 3\n"
     ]
    }
   ],
   "source": [
    "best_model = None\n",
    "best_result = 0\n",
    "\n",
    "# проверка эффективности модели в зависимости от гиперпараметра max_depth в промежутке от 1 до 10\n",
    "\n",
    "for depth in range(1, 10): # цикл с перебором различной глубины дерева\n",
    "    \n",
    "    #обучение модели с заданной глубиной дерева\n",
    "    \n",
    "    model = DecisionTreeClassifier(random_state=12345, max_depth=depth) \n",
    "    model.fit(features_train, target_train) # обучение модели на тренировочной выборке\n",
    "    predictions = model.predict(features_valid) # получение предсказания модели\n",
    "    result = accuracy_score(target_valid, predictions) # определение качества модели на валидационной выборке\n",
    "    if result > best_result: # выбор наилучшего результата и соответствующих ему гиперпараметров модели\n",
    "        best_model = model # сохранение наилучшей модели\n",
    "        best_result = result #  сохранение наилучшего значения метрики accuracy на валидационных данных\n",
    "        best_depth = depth # сохранение наилучшей глубины дерева\n",
    "        \n",
    "print(\"Accuracy наилучшей модели:\", best_result)\n",
    "print('Лучшая глубина дерева',best_depth)"
   ]
  },
  {
   "cell_type": "markdown",
   "metadata": {},
   "source": [
    "### Исследование модели случайного леса"
   ]
  },
  {
   "cell_type": "code",
   "execution_count": 5,
   "metadata": {},
   "outputs": [
    {
     "name": "stdout",
     "output_type": "stream",
     "text": [
      "Accuracy наилучшей модели: 0.7869362363919129\n",
      "Лучшее количество деревьев 3\n"
     ]
    }
   ],
   "source": [
    "best_model = None\n",
    "best_result = 0\n",
    "\n",
    "# проверка эффективности модели в зависимости от гиперпараметра n_estimators в промежутке от 1 до 16\n",
    "\n",
    "for est in range(1, 16): # цикл с перебором различного количества деревьев\n",
    "    \n",
    "    #обучение модели с заданным количеством деревьев\n",
    "    \n",
    "    model = RandomForestClassifier(random_state=12345, n_estimators=est) \n",
    "    model.fit(features_train,target_train) # обучение модели на тренировочной выборке\n",
    "    predictions = model.predict(features_valid) # получение предсказания модели\n",
    "    result = accuracy_score(target_valid,predictions) # определение качества модели на валидационной выборке\n",
    "    if result > best_result: # выбор наилучшего результата и соответствующих ему гиперпараметров модели\n",
    "        best_model = model# сохранение наилучшей модели\n",
    "        best_result = result #  сохранение наилучшего значения метрики accuracy на валидационных данных\n",
    "        best_est = est # сохранение наилучшего количества деревьев\n",
    "\n",
    "print(\"Accuracy наилучшей модели:\", best_result)\n",
    "print('Лучшее количество деревьев',best_depth)"
   ]
  },
  {
   "cell_type": "markdown",
   "metadata": {},
   "source": [
    "### Исследование модели логистической регрессии"
   ]
  },
  {
   "cell_type": "code",
   "execution_count": 6,
   "metadata": {},
   "outputs": [
    {
     "name": "stdout",
     "output_type": "stream",
     "text": [
      "Accuracy наилучшей модели: 0.7107309486780715\n",
      "Лучшее количество итераций обучения 100\n"
     ]
    }
   ],
   "source": [
    "best_model = None\n",
    "best_result = 0\n",
    "\n",
    "#проверка эффективности модели в зависимости от гиперпараметра max_iter в промежутке от 1 до 16\n",
    "\n",
    "for iter in range(100, 500, 10): # цикл с перебором различного количества итераций обучения\n",
    "    \n",
    "    #обучение модели с заданным количеством итераций\n",
    "    \n",
    "    model = LogisticRegression(random_state=12345, solver='lbfgs', max_iter=iter) \n",
    "    model.fit(features_train,target_train) # обучение модели на тренировочной выборке\n",
    "    predictions = model.predict(features_valid) # получение предсказания модели\n",
    "    result = accuracy_score(target_valid,predictions) # определение качества модели на валидационной выборке\n",
    "    if result > best_result: # выбор наилучшего результата и соответствующих ему гиперпараметров модели\n",
    "        best_model = model # сохранение наилучшей модели\n",
    "        best_result = result #  сохранение наилучшего значения метрики accuracy на валидационных данных\n",
    "        best_max_iter = iter # сохранение наилучшего количества итераций обучения\n",
    "\n",
    "print(\"Accuracy наилучшей модели:\", best_result)\n",
    "print('Лучшее количество итераций обучения',best_max_iter)"
   ]
  },
  {
   "cell_type": "markdown",
   "metadata": {},
   "source": [
    "**Вывод:**  \n",
    "Было проведено исследование для разных гиперпараметров на обучающей и валидационной выборке трёх моделей классификации:  \n",
    "- модель решающего дерева\n",
    "- модель случайного леса\n",
    "- модель логистической регрессии \n",
    "\n",
    "Наилучший результат (аccuracy) =  0.7869 показала модель случайного леса с количеством деревьев 3.  \n",
    "Именно она и признана лучшей моделью в данном проекте."
   ]
  },
  {
   "cell_type": "markdown",
   "metadata": {},
   "source": [
    "## Проверка лучшей модели на тестовой выборке"
   ]
  },
  {
   "cell_type": "code",
   "execution_count": 7,
   "metadata": {},
   "outputs": [
    {
     "name": "stdout",
     "output_type": "stream",
     "text": [
      "Accuracy\n",
      "Лучшая модель, тестовая выборка: 0.7573872472783826\n"
     ]
    }
   ],
   "source": [
    "model = RandomForestClassifier(random_state=12345, n_estimators=3)#обучение модели с количеством деревьев 3\n",
    "model.fit(features_train,target_train) # обучение модели на тренировочной выборке\n",
    "predictions_test = model.predict(features_test)# получение предсказания модели на тестовой выборке\n",
    "accuracy_test = accuracy_score(target_test, predictions_test) # определение качество модели на валидационной выборке\n",
    "print(\"Accuracy\")\n",
    "print(\"Лучшая модель, тестовая выборка:\", accuracy_test)"
   ]
  },
  {
   "cell_type": "markdown",
   "metadata": {},
   "source": [
    "**Вывод:**  \n",
    "Лучшая модель показала на тестовой выборке результат (accuracy) 0.7574, что лишь незначительно уступает результату 0.7869 этой же модели на валидационной выборке.  \n",
    "Этот результат выше целевого показателя 0.75, следовательно, данная модель успешно прошла проверку на тестовой выборке. "
   ]
  },
  {
   "cell_type": "markdown",
   "metadata": {},
   "source": [
    "## Проверка модели на адекватность"
   ]
  },
  {
   "cell_type": "markdown",
   "metadata": {},
   "source": [
    "Для проверки на адекватность использовалась модель DummyClassifier с гиперпараметром strategy=\"most_frequent\", когда модель всегда возвращает наиболее часто используемую метку класса в целевом признаке, переданном для обучения. Если результат (accuracy) лучшей модели будет больше, чем у DummyClassifier, то лучшая модель будет признана адекватной. "
   ]
  },
  {
   "cell_type": "code",
   "execution_count": 8,
   "metadata": {},
   "outputs": [
    {
     "name": "stdout",
     "output_type": "stream",
     "text": [
      "Accuracy\n",
      "Модель Dummy, тестовая выборка: 0.6842923794712286\n"
     ]
    }
   ],
   "source": [
    "dummy_clf = DummyClassifier(strategy=\"most_frequent\")\n",
    "dummy_clf.fit(features_train,target_train)\n",
    "#DummyClassifier(strategy='most_frequent')\n",
    "predictions_dummy = dummy_clf.predict(features_test)\n",
    "accuracy_test = accuracy_score(target_test, predictions_dummy) # определение качество модели на валидационной выборке\n",
    "print(\"Accuracy\")\n",
    "print(\"Модель Dummy, тестовая выборка:\", accuracy_test)"
   ]
  },
  {
   "cell_type": "markdown",
   "metadata": {},
   "source": [
    "**Вывод:**  \n",
    "Лучшая модель случайного леса с количеством деревьев 3 показала результат (accuracy) 0.7574, что превышает результат модели DummyClassifier 0.6843, следовательно лучшая модель прошла проверку на адекватность."
   ]
  },
  {
   "cell_type": "markdown",
   "metadata": {},
   "source": [
    "## Общий вывод"
   ]
  },
  {
   "cell_type": "markdown",
   "metadata": {},
   "source": [
    "**По проекту было выполнено следующее:**\n",
    "- импорт и обзор данных\n",
    "- разбиение данных на обучающую, валидационную и тестовую выборки в пропорции 3:1:1\n",
    "- исследование на обучающей и валидационной выборке трёх моделей:\n",
    "    - модель решающего дерева\n",
    "    - модель случайного леса\n",
    "    - модель логистической регрессии\n",
    "- выбор лучшей модели и её проверка на тестовой выборке и на адекватность.\n",
    "\n",
    "**Выводы:**\n",
    "- лучшей моделью по результатам исследования признана модель случайного леса с количеством деревьев 3\n",
    "- результат данной модели по точности предсказания (accuracy_score) на тестовой выборке составил 0.7574 что превышает целевой показатель 0.75\n",
    "- данная модель успешно прошла проверку на адекватность в с равнениии с моделью DummyClassifier.\n",
    "\n",
    "**Рекомендации сотрудникам компании оператора мобильной связи «Мегалайн»:** \n",
    "- построенную в рамках данного проекта систему анализа поведения клиентов можно применять к абонентам, пользующимся архивными тарифами, и она будет с точностью не менее 0.75 предлагать им на замену новый тариф - «Смарт» или «Ультра»."
   ]
  },
  {
   "cell_type": "code",
   "execution_count": null,
   "metadata": {},
   "outputs": [],
   "source": []
  }
 ],
 "metadata": {
  "ExecuteTimeLog": [
   {
    "duration": 2640,
    "start_time": "2023-04-02T16:52:15.026Z"
   },
   {
    "duration": 238,
    "start_time": "2023-04-02T16:52:17.669Z"
   },
   {
    "duration": 0,
    "start_time": "2023-04-02T16:52:17.910Z"
   },
   {
    "duration": 0,
    "start_time": "2023-04-02T16:52:17.912Z"
   },
   {
    "duration": 0,
    "start_time": "2023-04-02T16:52:17.913Z"
   },
   {
    "duration": 0,
    "start_time": "2023-04-02T16:52:17.915Z"
   },
   {
    "duration": 0,
    "start_time": "2023-04-02T16:52:17.917Z"
   },
   {
    "duration": 0,
    "start_time": "2023-04-02T16:52:17.918Z"
   },
   {
    "duration": 139,
    "start_time": "2023-04-02T16:52:34.313Z"
   },
   {
    "duration": 248,
    "start_time": "2023-04-02T16:52:43.557Z"
   },
   {
    "duration": 2534,
    "start_time": "2023-04-02T16:52:48.867Z"
   },
   {
    "duration": 103,
    "start_time": "2023-04-02T16:52:51.403Z"
   },
   {
    "duration": 13,
    "start_time": "2023-04-02T16:52:51.509Z"
   },
   {
    "duration": 66,
    "start_time": "2023-04-02T16:52:51.524Z"
   },
   {
    "duration": 588,
    "start_time": "2023-04-02T16:52:51.592Z"
   },
   {
    "duration": 868,
    "start_time": "2023-04-02T16:52:52.182Z"
   },
   {
    "duration": 26,
    "start_time": "2023-04-02T16:52:53.053Z"
   },
   {
    "duration": 18,
    "start_time": "2023-04-02T16:52:53.080Z"
   }
  ],
  "kernelspec": {
   "display_name": "Python 3 (ipykernel)",
   "language": "python",
   "name": "python3"
  },
  "language_info": {
   "codemirror_mode": {
    "name": "ipython",
    "version": 3
   },
   "file_extension": ".py",
   "mimetype": "text/x-python",
   "name": "python",
   "nbconvert_exporter": "python",
   "pygments_lexer": "ipython3",
   "version": "3.9.18"
  },
  "toc": {
   "base_numbering": 1,
   "nav_menu": {},
   "number_sections": true,
   "sideBar": true,
   "skip_h1_title": true,
   "title_cell": "Оглавление",
   "title_sidebar": "Contents",
   "toc_cell": true,
   "toc_position": {},
   "toc_section_display": true,
   "toc_window_display": true
  }
 },
 "nbformat": 4,
 "nbformat_minor": 2
}
