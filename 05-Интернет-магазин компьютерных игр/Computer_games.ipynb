{
 "cells": [
  {
   "cell_type": "markdown",
   "id": "7eefc31e",
   "metadata": {
    "toc": true
   },
   "source": [
    "<h1>Table of Contents<span class=\"tocSkip\"></span></h1>\n",
    "<div class=\"toc\"><ul class=\"toc-item\"><li><span><a href=\"#Изучение-общей-информации-о-данных\" data-toc-modified-id=\"Изучение-общей-информации-о-данных-1\"><span class=\"toc-item-num\">1&nbsp;&nbsp;</span>Изучение общей информации о данных</a></span></li><li><span><a href=\"#Подготовка-данных\" data-toc-modified-id=\"Подготовка-данных-2\"><span class=\"toc-item-num\">2&nbsp;&nbsp;</span>Подготовка данных</a></span><ul class=\"toc-item\"><li><span><a href=\"#Коррекция-стиля-заголовков\" data-toc-modified-id=\"Коррекция-стиля-заголовков-2.1\"><span class=\"toc-item-num\">2.1&nbsp;&nbsp;</span>Коррекция стиля заголовков</a></span></li><li><span><a href=\"#Удаление-пропусков\" data-toc-modified-id=\"Удаление-пропусков-2.2\"><span class=\"toc-item-num\">2.2&nbsp;&nbsp;</span>Удаление пропусков</a></span></li><li><span><a href=\"#Изменение-типов-данных\" data-toc-modified-id=\"Изменение-типов-данных-2.3\"><span class=\"toc-item-num\">2.3&nbsp;&nbsp;</span>Изменение типов данных</a></span></li><li><span><a href=\"#Проверка-на-наличие-явных-дубликатов\" data-toc-modified-id=\"Проверка-на-наличие-явных-дубликатов-2.4\"><span class=\"toc-item-num\">2.4&nbsp;&nbsp;</span>Проверка на наличие явных дубликатов</a></span></li><li><span><a href=\"#Проверка-на-наличие-неявных-дубликатов\" data-toc-modified-id=\"Проверка-на-наличие-неявных-дубликатов-2.5\"><span class=\"toc-item-num\">2.5&nbsp;&nbsp;</span>Проверка на наличие неявных дубликатов</a></span></li><li><span><a href=\"#Подсчет-суммарных-продаж\" data-toc-modified-id=\"Подсчет-суммарных-продаж-2.6\"><span class=\"toc-item-num\">2.6&nbsp;&nbsp;</span>Подсчет суммарных продаж</a></span></li></ul></li><li><span><a href=\"#Исследовательский-анализ-данных\" data-toc-modified-id=\"Исследовательский-анализ-данных-3\"><span class=\"toc-item-num\">3&nbsp;&nbsp;</span>Исследовательский анализ данных</a></span><ul class=\"toc-item\"><li><span><a href=\"#Анализ-выпуска-игр-по-годам\" data-toc-modified-id=\"Анализ-выпуска-игр-по-годам-3.1\"><span class=\"toc-item-num\">3.1&nbsp;&nbsp;</span>Анализ выпуска игр по годам</a></span></li><li><span><a href=\"#Формирование-датасета-актуального-периода\" data-toc-modified-id=\"Формирование-датасета-актуального-периода-3.2\"><span class=\"toc-item-num\">3.2&nbsp;&nbsp;</span>Формирование датасета актуального периода</a></span></li><li><span><a href=\"#Анализ-продаж-по-платформам\" data-toc-modified-id=\"Анализ-продаж-по-платформам-3.3\"><span class=\"toc-item-num\">3.3&nbsp;&nbsp;</span>Анализ продаж по платформам</a></span></li><li><span><a href=\"#Анализ-влияния-отзывов-пользователей-и-критиков-на-продажи.\" data-toc-modified-id=\"Анализ-влияния-отзывов-пользователей-и-критиков-на-продажи.-3.4\"><span class=\"toc-item-num\">3.4&nbsp;&nbsp;</span>Анализ влияния отзывов пользователей и критиков на продажи.</a></span></li><li><span><a href=\"#Анализ-выпуска-и-продаж-игр-по-жанрам.\" data-toc-modified-id=\"Анализ-выпуска-и-продаж-игр-по-жанрам.-3.5\"><span class=\"toc-item-num\">3.5&nbsp;&nbsp;</span>Анализ выпуска и продаж игр по жанрам.</a></span></li></ul></li><li><span><a href=\"#Составление-портрета-пользователя-каждого-региона\" data-toc-modified-id=\"Составление-портрета-пользователя-каждого-региона-4\"><span class=\"toc-item-num\">4&nbsp;&nbsp;</span>Составление портрета пользователя каждого региона</a></span><ul class=\"toc-item\"><li><span><a href=\"#Портрет-пользователя-региона-&quot;NA&quot;.\" data-toc-modified-id=\"Портрет-пользователя-региона-&quot;NA&quot;.-4.1\"><span class=\"toc-item-num\">4.1&nbsp;&nbsp;</span>Портрет пользователя региона \"NA\".</a></span></li><li><span><a href=\"#Портрет-пользователя-региона-&quot;EU&quot;.\" data-toc-modified-id=\"Портрет-пользователя-региона-&quot;EU&quot;.-4.2\"><span class=\"toc-item-num\">4.2&nbsp;&nbsp;</span>Портрет пользователя региона \"EU\".</a></span></li><li><span><a href=\"#Портрет-пользователя-региона-&quot;JP&quot;.\" data-toc-modified-id=\"Портрет-пользователя-региона-&quot;JP&quot;.-4.3\"><span class=\"toc-item-num\">4.3&nbsp;&nbsp;</span>Портрет пользователя региона \"JP\".</a></span></li></ul></li><li><span><a href=\"#Проверка-гипотез\" data-toc-modified-id=\"Проверка-гипотез-5\"><span class=\"toc-item-num\">5&nbsp;&nbsp;</span>Проверка гипотез</a></span><ul class=\"toc-item\"><li><span><a href=\"#Проверка-гипотезы:-Средние-пользовательские-рейтинги-платформ-Xbox-One-и-PC-одинаковые;\" data-toc-modified-id=\"Проверка-гипотезы:-Средние-пользовательские-рейтинги-платформ-Xbox-One-и-PC-одинаковые;-5.1\"><span class=\"toc-item-num\">5.1&nbsp;&nbsp;</span>Проверка гипотезы: Средние пользовательские рейтинги платформ Xbox One и PC одинаковые;</a></span></li><li><span><a href=\"#Проверка-гипотезы:-Средние-пользовательские-рейтинги-жанров-Action-и-Sports-разные.\" data-toc-modified-id=\"Проверка-гипотезы:-Средние-пользовательские-рейтинги-жанров-Action-и-Sports-разные.-5.2\"><span class=\"toc-item-num\">5.2&nbsp;&nbsp;</span>Проверка гипотезы: Средние пользовательские рейтинги жанров Action и Sports разные.</a></span></li></ul></li><li><span><a href=\"#Общий-вывод\" data-toc-modified-id=\"Общий-вывод-6\"><span class=\"toc-item-num\">6&nbsp;&nbsp;</span>Общий вывод</a></span></li></ul></div>"
   ]
  },
  {
   "cell_type": "markdown",
   "id": "a7bc66ed",
   "metadata": {},
   "source": [
    "# Изучение закономерностей, определяющих успешность компьютерных игр"
   ]
  },
  {
   "cell_type": "markdown",
   "id": "6b54a6a1",
   "metadata": {},
   "source": [
    "Цель проекта: помочь сотрудникам интернет-магазина определить потенциально успешные игры, на которые можно делать ставку и соответственно планировать рекламные кампании.  \n",
    "Для этого необходимо разработать принцип работы с данными, выявляющий определяющие успешность игры закономерности и позволяющий планировать рекламные кампании и продажи для того или иного года на основе данных предыдущего.  \n",
    "В проекте будет использоваться набор данных о продажах игр за период с 1980 по 2016 год для разных платформ, жанров и возрастных групп по трем большим регионам.  \n",
    "В процесссе исследования будет проведен анализ зависимости продаж от разных показателей с целью выявления закономерностей, которые позволят прогнозировать продажи на следующий год.  \n",
    "Также будет проверен ряд гипотез о закономерностях в продажах, что также поможет в прогнозах и планировании."
   ]
  },
  {
   "cell_type": "markdown",
   "id": "461c1b6b",
   "metadata": {},
   "source": [
    "## Изучение общей информации о данных"
   ]
  },
  {
   "cell_type": "markdown",
   "id": "bf72a1d9",
   "metadata": {},
   "source": [
    "**Импорт библиотек и датасета**"
   ]
  },
  {
   "cell_type": "markdown",
   "id": "675f3e7c",
   "metadata": {},
   "source": [
    "Импорт библиотек"
   ]
  },
  {
   "cell_type": "code",
   "execution_count": 35,
   "id": "3ef7aeda",
   "metadata": {},
   "outputs": [],
   "source": [
    "import pandas as pd\n",
    "import matplotlib.pyplot as plt\n",
    "import seaborn as sns\n",
    "import numpy as np\n",
    "from scipy import stats as st"
   ]
  },
  {
   "cell_type": "markdown",
   "id": "1d23e8b5",
   "metadata": {},
   "source": [
    "Импорт данных"
   ]
  },
  {
   "cell_type": "code",
   "execution_count": 36,
   "id": "f5a8e140",
   "metadata": {},
   "outputs": [],
   "source": [
    "# Read in data\n",
    "try:\n",
    "    data = pd.read_csv('games.csv')\n",
    "except:\n",
    "    data = pd.read_csv('/datasets/games.csv')"
   ]
  },
  {
   "cell_type": "markdown",
   "id": "9db9d66b",
   "metadata": {},
   "source": [
    "**Вывод информации о датасете и печать первых 5 строк**"
   ]
  },
  {
   "cell_type": "code",
   "execution_count": 37,
   "id": "e725516b",
   "metadata": {},
   "outputs": [
    {
     "name": "stdout",
     "output_type": "stream",
     "text": [
      "<class 'pandas.core.frame.DataFrame'>\n",
      "RangeIndex: 16715 entries, 0 to 16714\n",
      "Data columns (total 11 columns):\n",
      " #   Column           Non-Null Count  Dtype  \n",
      "---  ------           --------------  -----  \n",
      " 0   Name             16713 non-null  object \n",
      " 1   Platform         16715 non-null  object \n",
      " 2   Year_of_Release  16446 non-null  float64\n",
      " 3   Genre            16713 non-null  object \n",
      " 4   NA_sales         16715 non-null  float64\n",
      " 5   EU_sales         16715 non-null  float64\n",
      " 6   JP_sales         16715 non-null  float64\n",
      " 7   Other_sales      16715 non-null  float64\n",
      " 8   Critic_Score     8137 non-null   float64\n",
      " 9   User_Score       10014 non-null  object \n",
      " 10  Rating           9949 non-null   object \n",
      "dtypes: float64(6), object(5)\n",
      "memory usage: 1.4+ MB\n"
     ]
    },
    {
     "data": {
      "text/html": [
       "<div>\n",
       "<style scoped>\n",
       "    .dataframe tbody tr th:only-of-type {\n",
       "        vertical-align: middle;\n",
       "    }\n",
       "\n",
       "    .dataframe tbody tr th {\n",
       "        vertical-align: top;\n",
       "    }\n",
       "\n",
       "    .dataframe thead th {\n",
       "        text-align: right;\n",
       "    }\n",
       "</style>\n",
       "<table border=\"1\" class=\"dataframe\">\n",
       "  <thead>\n",
       "    <tr style=\"text-align: right;\">\n",
       "      <th></th>\n",
       "      <th>Name</th>\n",
       "      <th>Platform</th>\n",
       "      <th>Year_of_Release</th>\n",
       "      <th>Genre</th>\n",
       "      <th>NA_sales</th>\n",
       "      <th>EU_sales</th>\n",
       "      <th>JP_sales</th>\n",
       "      <th>Other_sales</th>\n",
       "      <th>Critic_Score</th>\n",
       "      <th>User_Score</th>\n",
       "      <th>Rating</th>\n",
       "    </tr>\n",
       "  </thead>\n",
       "  <tbody>\n",
       "    <tr>\n",
       "      <th>0</th>\n",
       "      <td>Wii Sports</td>\n",
       "      <td>Wii</td>\n",
       "      <td>2006.0</td>\n",
       "      <td>Sports</td>\n",
       "      <td>41.36</td>\n",
       "      <td>28.96</td>\n",
       "      <td>3.77</td>\n",
       "      <td>8.45</td>\n",
       "      <td>76.0</td>\n",
       "      <td>8</td>\n",
       "      <td>E</td>\n",
       "    </tr>\n",
       "    <tr>\n",
       "      <th>1</th>\n",
       "      <td>Super Mario Bros.</td>\n",
       "      <td>NES</td>\n",
       "      <td>1985.0</td>\n",
       "      <td>Platform</td>\n",
       "      <td>29.08</td>\n",
       "      <td>3.58</td>\n",
       "      <td>6.81</td>\n",
       "      <td>0.77</td>\n",
       "      <td>NaN</td>\n",
       "      <td>NaN</td>\n",
       "      <td>NaN</td>\n",
       "    </tr>\n",
       "    <tr>\n",
       "      <th>2</th>\n",
       "      <td>Mario Kart Wii</td>\n",
       "      <td>Wii</td>\n",
       "      <td>2008.0</td>\n",
       "      <td>Racing</td>\n",
       "      <td>15.68</td>\n",
       "      <td>12.76</td>\n",
       "      <td>3.79</td>\n",
       "      <td>3.29</td>\n",
       "      <td>82.0</td>\n",
       "      <td>8.3</td>\n",
       "      <td>E</td>\n",
       "    </tr>\n",
       "    <tr>\n",
       "      <th>3</th>\n",
       "      <td>Wii Sports Resort</td>\n",
       "      <td>Wii</td>\n",
       "      <td>2009.0</td>\n",
       "      <td>Sports</td>\n",
       "      <td>15.61</td>\n",
       "      <td>10.93</td>\n",
       "      <td>3.28</td>\n",
       "      <td>2.95</td>\n",
       "      <td>80.0</td>\n",
       "      <td>8</td>\n",
       "      <td>E</td>\n",
       "    </tr>\n",
       "    <tr>\n",
       "      <th>4</th>\n",
       "      <td>Pokemon Red/Pokemon Blue</td>\n",
       "      <td>GB</td>\n",
       "      <td>1996.0</td>\n",
       "      <td>Role-Playing</td>\n",
       "      <td>11.27</td>\n",
       "      <td>8.89</td>\n",
       "      <td>10.22</td>\n",
       "      <td>1.00</td>\n",
       "      <td>NaN</td>\n",
       "      <td>NaN</td>\n",
       "      <td>NaN</td>\n",
       "    </tr>\n",
       "  </tbody>\n",
       "</table>\n",
       "</div>"
      ],
      "text/plain": [
       "                       Name Platform  Year_of_Release         Genre  NA_sales  \\\n",
       "0                Wii Sports      Wii           2006.0        Sports     41.36   \n",
       "1         Super Mario Bros.      NES           1985.0      Platform     29.08   \n",
       "2            Mario Kart Wii      Wii           2008.0        Racing     15.68   \n",
       "3         Wii Sports Resort      Wii           2009.0        Sports     15.61   \n",
       "4  Pokemon Red/Pokemon Blue       GB           1996.0  Role-Playing     11.27   \n",
       "\n",
       "   EU_sales  JP_sales  Other_sales  Critic_Score User_Score Rating  \n",
       "0     28.96      3.77         8.45          76.0          8      E  \n",
       "1      3.58      6.81         0.77           NaN        NaN    NaN  \n",
       "2     12.76      3.79         3.29          82.0        8.3      E  \n",
       "3     10.93      3.28         2.95          80.0          8      E  \n",
       "4      8.89     10.22         1.00           NaN        NaN    NaN  "
      ]
     },
     "execution_count": 37,
     "metadata": {},
     "output_type": "execute_result"
    }
   ],
   "source": [
    "# Get information on dataset and examine first 5 rows\n",
    "data.info()\n",
    "data.head()"
   ]
  },
  {
   "cell_type": "markdown",
   "id": "d03e252c",
   "metadata": {},
   "source": [
    "Имеет место неверный тип данных в столбце User_Score, требующий коррекции к типу float64.  \n",
    "Необходимо привести названия столбцов к нижнему регистру."
   ]
  },
  {
   "cell_type": "markdown",
   "id": "134e3165",
   "metadata": {},
   "source": [
    "## Подготовка данных"
   ]
  },
  {
   "cell_type": "markdown",
   "id": "88e54f66",
   "metadata": {},
   "source": [
    "### Коррекция стиля заголовков"
   ]
  },
  {
   "cell_type": "code",
   "execution_count": 38,
   "id": "265df976",
   "metadata": {},
   "outputs": [
    {
     "data": {
      "text/plain": [
       "Index(['Name', 'Platform', 'Year_of_Release', 'Genre', 'NA_sales', 'EU_sales',\n",
       "       'JP_sales', 'Other_sales', 'Critic_Score', 'User_Score', 'Rating'],\n",
       "      dtype='object')"
      ]
     },
     "execution_count": 38,
     "metadata": {},
     "output_type": "execute_result"
    }
   ],
   "source": [
    "#output of column names \n",
    "data.columns"
   ]
  },
  {
   "cell_type": "code",
   "execution_count": 39,
   "id": "c814eee9",
   "metadata": {},
   "outputs": [],
   "source": [
    "data.columns = data.columns.str.lower()"
   ]
  },
  {
   "cell_type": "code",
   "execution_count": 40,
   "id": "2b390022",
   "metadata": {},
   "outputs": [
    {
     "data": {
      "text/plain": [
       "Index(['name', 'platform', 'year_of_release', 'genre', 'na_sales', 'eu_sales',\n",
       "       'jp_sales', 'other_sales', 'critic_score', 'user_score', 'rating'],\n",
       "      dtype='object')"
      ]
     },
     "execution_count": 40,
     "metadata": {},
     "output_type": "execute_result"
    }
   ],
   "source": [
    "#output of column names to check the correction result\n",
    "data.columns"
   ]
  },
  {
   "cell_type": "markdown",
   "id": "82558089",
   "metadata": {},
   "source": [
    "В результате все названия столбцов приведены к нижнему регистру"
   ]
  },
  {
   "cell_type": "markdown",
   "id": "8c2a18ef",
   "metadata": {},
   "source": [
    "### Удаление пропусков"
   ]
  },
  {
   "cell_type": "markdown",
   "id": "f9ea1b7e",
   "metadata": {},
   "source": [
    "**Количество пропусков в столбцах 'name', 'genre' и 'year_of_release' меньше 2%, поэтому их можно отбросить.**"
   ]
  },
  {
   "cell_type": "code",
   "execution_count": 41,
   "id": "39898ca7",
   "metadata": {},
   "outputs": [
    {
     "name": "stdout",
     "output_type": "stream",
     "text": [
      "<class 'pandas.core.frame.DataFrame'>\n",
      "Index: 16444 entries, 0 to 16714\n",
      "Data columns (total 11 columns):\n",
      " #   Column           Non-Null Count  Dtype  \n",
      "---  ------           --------------  -----  \n",
      " 0   name             16444 non-null  object \n",
      " 1   platform         16444 non-null  object \n",
      " 2   year_of_release  16444 non-null  float64\n",
      " 3   genre            16444 non-null  object \n",
      " 4   na_sales         16444 non-null  float64\n",
      " 5   eu_sales         16444 non-null  float64\n",
      " 6   jp_sales         16444 non-null  float64\n",
      " 7   other_sales      16444 non-null  float64\n",
      " 8   critic_score     7983 non-null   float64\n",
      " 9   user_score       9839 non-null   object \n",
      " 10  rating           9768 non-null   object \n",
      "dtypes: float64(6), object(5)\n",
      "memory usage: 1.5+ MB\n"
     ]
    }
   ],
   "source": [
    "data = data.dropna(subset=['name', 'genre', 'year_of_release']) #drop rows with NaN\n",
    "data.info()#check the result\n",
    "#data.reset_index(inplace=True)"
   ]
  },
  {
   "cell_type": "markdown",
   "id": "25b63d72",
   "metadata": {},
   "source": [
    "**Пропуски в столбцах 'critic_score' и 'user_score' заполнять не будем, поскольку доля строк с пропусками велика и это может исказить результаты анализа.  \n",
    "Вместо этого будем использовать в анализе с этими столбцами только строки, в которых нет пропусков.  \n",
    "Пропуски в столбце 'rating' заполним значением 'Unknown'**"
   ]
  },
  {
   "cell_type": "code",
   "execution_count": 42,
   "id": "e889fd8d",
   "metadata": {},
   "outputs": [],
   "source": [
    "data['rating'] = data['rating'].fillna(value='Unknown')"
   ]
  },
  {
   "cell_type": "markdown",
   "id": "f3537ab5",
   "metadata": {},
   "source": [
    "### Изменение типов данных"
   ]
  },
  {
   "cell_type": "markdown",
   "id": "427cc6f8",
   "metadata": {},
   "source": [
    "**Столбец 'year_of_release' приводим к целому типу, поскольку это указание года выпуска.**"
   ]
  },
  {
   "cell_type": "code",
   "execution_count": 43,
   "id": "4127c20d",
   "metadata": {},
   "outputs": [],
   "source": [
    "data['year_of_release'] = data['year_of_release'].astype(int) # converting from float 64 to int"
   ]
  },
  {
   "cell_type": "markdown",
   "id": "24ed854e",
   "metadata": {},
   "source": [
    "**Столбец 'user_score' приводим к вещественному числу, поскольку это числовой рейтинг.  \n",
    "Встречающиеся значения рейтинга \"tbd\" (предположительно \"to be defined\") смысла не имеют и данным методом автоматически заменяются на \"NaN** "
   ]
  },
  {
   "cell_type": "code",
   "execution_count": 44,
   "id": "bc24144e",
   "metadata": {
    "scrolled": false
   },
   "outputs": [],
   "source": [
    "#converting the values of the 'user_score' column to float64\n",
    "data['user_score'] = pd.to_numeric(data['user_score'], errors='coerce') "
   ]
  },
  {
   "cell_type": "markdown",
   "id": "7235ee7c",
   "metadata": {},
   "source": [
    "Проверяем результат изменения типа данных"
   ]
  },
  {
   "cell_type": "code",
   "execution_count": 45,
   "id": "69a9ac9b",
   "metadata": {
    "scrolled": false
   },
   "outputs": [
    {
     "name": "stdout",
     "output_type": "stream",
     "text": [
      "<class 'pandas.core.frame.DataFrame'>\n",
      "Index: 16444 entries, 0 to 16714\n",
      "Data columns (total 11 columns):\n",
      " #   Column           Non-Null Count  Dtype  \n",
      "---  ------           --------------  -----  \n",
      " 0   name             16444 non-null  object \n",
      " 1   platform         16444 non-null  object \n",
      " 2   year_of_release  16444 non-null  int32  \n",
      " 3   genre            16444 non-null  object \n",
      " 4   na_sales         16444 non-null  float64\n",
      " 5   eu_sales         16444 non-null  float64\n",
      " 6   jp_sales         16444 non-null  float64\n",
      " 7   other_sales      16444 non-null  float64\n",
      " 8   critic_score     7983 non-null   float64\n",
      " 9   user_score       7463 non-null   float64\n",
      " 10  rating           16444 non-null  object \n",
      "dtypes: float64(6), int32(1), object(4)\n",
      "memory usage: 1.4+ MB\n"
     ]
    }
   ],
   "source": [
    "data.info()"
   ]
  },
  {
   "cell_type": "markdown",
   "id": "46993af1",
   "metadata": {},
   "source": [
    "### Проверка на наличие явных дубликатов"
   ]
  },
  {
   "cell_type": "code",
   "execution_count": 46,
   "id": "cf39b715",
   "metadata": {},
   "outputs": [
    {
     "data": {
      "text/plain": [
       "0"
      ]
     },
     "execution_count": 46,
     "metadata": {},
     "output_type": "execute_result"
    }
   ],
   "source": [
    "data.duplicated().sum()"
   ]
  },
  {
   "cell_type": "markdown",
   "id": "95da282d",
   "metadata": {},
   "source": [
    "**Вывод: явные дубликаты отсутствуют**"
   ]
  },
  {
   "cell_type": "markdown",
   "id": "e07fa117",
   "metadata": {},
   "source": [
    "### Проверка на наличие неявных дубликатов ###"
   ]
  },
  {
   "cell_type": "markdown",
   "id": "e9364e2c",
   "metadata": {},
   "source": [
    "**Необходимо проверить на наличие неявных дубликатов следующие столбцы: 'name', 'platform', 'genre', 'rating'**"
   ]
  },
  {
   "cell_type": "code",
   "execution_count": 47,
   "id": "0e67aa15",
   "metadata": {
    "scrolled": false
   },
   "outputs": [
    {
     "data": {
      "text/plain": [
       "[' Beyblade Burst',\n",
       " ' Fire Emblem Fates',\n",
       " \" Frozen: Olaf's Quest\",\n",
       " ' Haikyu!! Cross Team Match!',\n",
       " ' Tales of Xillia 2',\n",
       " \"'98 Koshien\",\n",
       " '.hack//G.U. Vol.1//Rebirth',\n",
       " '.hack//G.U. Vol.2//Reminisce',\n",
       " '.hack//G.U. Vol.2//Reminisce (jp sales)',\n",
       " '.hack//G.U. Vol.3//Redemption',\n",
       " '.hack//Infection Part 1',\n",
       " '.hack//Link',\n",
       " '.hack//Mutation Part 2',\n",
       " '.hack//Outbreak Part 3',\n",
       " '.hack//Quarantine Part 4: The Final Chapter',\n",
       " '.hack: Sekai no Mukou ni + Versus',\n",
       " '007 Racing',\n",
       " '007: Quantum of Solace',\n",
       " '007: The World is not Enough',\n",
       " '007: Tomorrow Never Dies',\n",
       " '1 vs. 100',\n",
       " '1/2 Summer +',\n",
       " '10 Minute Solution',\n",
       " '100 All-Time Favorites',\n",
       " '100 Classic Books',\n",
       " '100 Classic Games',\n",
       " '1000 Cooking Recipes from ELLE à table',\n",
       " '1001 Touch Games',\n",
       " '101-in-1 Explosive Megamix',\n",
       " '101-in-1 Party Megamix Wii',\n",
       " '101-in-1 Sports Megamix',\n",
       " '101-in-1 Sports Party Megamix',\n",
       " '1080°: TenEighty Snowboarding',\n",
       " '11eyes: CrossOver',\n",
       " '12-Sai. Honto no Kimochi',\n",
       " '12-Sai. Koisuru Diary',\n",
       " '12Riven: The Psi-Climinal of Integral',\n",
       " '15 Days',\n",
       " '1701 A.D.',\n",
       " '18 Wheeler: American Pro Trucker',\n",
       " '18 Wheels of Steel: Extreme Trucker',\n",
       " '18 Wheels of Steel: Extreme Trucker 2',\n",
       " '187: Ride or Die',\n",
       " '1942',\n",
       " '2 Games in 1 Double Pack: Hot Wheels Velocity X / Hot Wheels World Race',\n",
       " '2 Games in 1 Double Pack: The Incredibles / Finding Nemo: The Continuing Adventures',\n",
       " '2 Games in 1: Disney Princess & The Lion King',\n",
       " \"2 Games in 1: Disney's Brother Bear / The Lion King 1 1/2\",\n",
       " '2 Games in 1: Sonic Advance & ChuChu Rocket!',\n",
       " '2 Games in 1: Sonic Battle & ChuChu Rocket!',\n",
       " '2 Games in 1: Sonic Pinball Party & Columns Crown',\n",
       " '2 Games in 1: SpongeBob SquarePants: SuperSponge & Rugrats Go Wild',\n",
       " '2 in 1 Combo Pack: Sonic Heroes / Super Monkey Ball Deluxe',\n",
       " '2-in-1 Game Pack: Spider-Man & Spider-Man 2',\n",
       " '2002 FIFA World Cup',\n",
       " '2010 FIFA World Cup South Africa',\n",
       " '2014 FIFA World Cup Brazil',\n",
       " '24: The Game',\n",
       " '25 to Life',\n",
       " '2Xtreme',\n",
       " '3 in 1: Solitaire, Mahjong & Tangram',\n",
       " '300: March to Glory',\n",
       " '3D Baseball',\n",
       " '3D Dot Game Heroes',\n",
       " '3D Lemmings',\n",
       " '3D Tank Warfare Simulator Panzer Front',\n",
       " '3DS Classic Collection',\n",
       " '3Xtreme',\n",
       " '3rd Super Robot Wars Z Jigoku Hen',\n",
       " '3rd Super Robot Wars Z: Tengoku-Hen',\n",
       " '4 Elements',\n",
       " '4 Game Fun Pack: Monopoly / Boggle / Yahtzee / Battleship',\n",
       " '4 Nin uchi Mahjong',\n",
       " '4 Play Collection - Dark Mysteries',\n",
       " '40 Winks',\n",
       " '428: Fuusa Sareta Shibuya de',\n",
       " '4x4 EVO 2',\n",
       " '4x4 Evolution',\n",
       " '50 Cent: Blood on the Sand',\n",
       " '50 Cent: Bulletproof',\n",
       " '50 Classic Games',\n",
       " '64 de Hakken! Tamagotchi Minna de Tamagotchi World',\n",
       " '7 Days to Die',\n",
       " '7 Roses: A Darkness Rises',\n",
       " '7 Wonders II',\n",
       " '7 Wonders of the Ancient World',\n",
       " '7 Wonders: Treasures of Seven',\n",
       " \"7'scarlet\",\n",
       " '7th Dragon',\n",
       " '7th Dragon 2020',\n",
       " '7th Dragon 2020-II',\n",
       " '7th Dragon III Code: VFD',\n",
       " '99 no Namida',\n",
       " '999: Nine Hours, Nine Persons, Nine Doors',\n",
       " 'A Boy and His Blob',\n",
       " \"A Bug's Life\",\n",
       " 'A Collection of Activision Classic Games for the Atari 2600',\n",
       " 'A Collection of Classic Games from the Intellivision',\n",
       " 'A Game of Thrones: Genesis',\n",
       " 'A Good Librarian Like a Good Shepherd: Library Party',\n",
       " 'A New Beginning',\n",
       " 'A Ressha de Gyoukou 2001',\n",
       " 'A Ressha de Ikou DS',\n",
       " 'A Vampyre Story',\n",
       " \"A Witch's Tale\",\n",
       " 'A llI S.V.: A Ressha de Gyoukou 3 Super Version',\n",
       " 'A-Train',\n",
       " 'A-Train 6',\n",
       " 'A-Train: City Simulator',\n",
       " 'A. IV Evolution: A Ressha de Ikou 4',\n",
       " \"A.C.E.: Another Century's Episode\",\n",
       " \"A.C.E.: Another Century's Episode 2\",\n",
       " \"A.C.E.: Another Century's Episode 3: The Final\",\n",
       " \"A.C.E.: Another Century's Episode Portable\",\n",
       " \"A.C.E.: Another Century's Episode R\",\n",
       " 'ABBA: You Can Dance',\n",
       " 'AC/DC LIVE: Rock Band Track Pack',\n",
       " 'AIR',\n",
       " 'AKB1/149: Love Election',\n",
       " 'AKB1/48: Idol to Guam de Koishitara...',\n",
       " 'AKB1/48: Idol to Koishitara...',\n",
       " 'AKB48+Me',\n",
       " 'AMF Bowling 2004',\n",
       " 'AMF Bowling Pinbusters!',\n",
       " 'AMF Bowling World Lanes',\n",
       " 'AMF Xtreme Bowling',\n",
       " 'AMNESIA World',\n",
       " 'APB Reloaded',\n",
       " 'ASH: Archaic Sealed Heat',\n",
       " 'ATV Offroad Fury',\n",
       " 'ATV Offroad Fury 2',\n",
       " 'ATV Offroad Fury 3',\n",
       " 'ATV Offroad Fury Pro',\n",
       " \"ATV Offroad Fury: Blazin' Trails\",\n",
       " 'ATV Quad Kings',\n",
       " 'ATV Quad Power Racing 2',\n",
       " 'ATV/Monster Truck Mayhem',\n",
       " 'ATV: Quad Frenzy',\n",
       " 'ATV: Quad Power Racing',\n",
       " 'Aa Megami-samaa',\n",
       " 'Abunai: Koi no Sousa Shitsu',\n",
       " 'Academy of Champions: Soccer',\n",
       " 'Accel World: Ginyoku no Kakusei',\n",
       " 'Accel World: Kasoku no Chouten',\n",
       " 'Ace Attorney 6',\n",
       " 'Ace Attorney Investigations 2',\n",
       " 'Ace Attorney Investigations: Miles Edgeworth',\n",
       " 'Ace Combat 04: Shattered Skies',\n",
       " 'Ace Combat 2',\n",
       " 'Ace Combat 3: Electrosphere',\n",
       " 'Ace Combat 5: The Unsung War',\n",
       " 'Ace Combat 6: Fires of Liberation',\n",
       " 'Ace Combat X: Skies of Deception',\n",
       " 'Ace Combat Zero: The Belkan War',\n",
       " 'Ace Combat: Assault Horizon',\n",
       " 'Ace Combat: Assault Horizon Legacy',\n",
       " 'Ace Combat: Joint Assault',\n",
       " 'Achtung Panzer: Kharkov 1943',\n",
       " 'Act of Aggression',\n",
       " 'Action Bass',\n",
       " 'Action Force',\n",
       " 'Active Health with Carol Vorderman',\n",
       " 'Active Life Explorer',\n",
       " 'Active Life: Extreme Challenge',\n",
       " 'Active Life: Magical Carnival',\n",
       " 'Active Life: Outdoor Challenge',\n",
       " 'Activision Anthology',\n",
       " 'Activision Hits: Remixed',\n",
       " 'Actua Tennis',\n",
       " 'Adidas Power Soccer',\n",
       " 'Adidas Power Soccer 98',\n",
       " 'Adrenalin Misfits',\n",
       " 'Advance Guardian Heroes',\n",
       " 'Advance Wars',\n",
       " 'Advance Wars 2: Black Hole Rising',\n",
       " 'Advance Wars: Dual Strike',\n",
       " 'Advent Rising',\n",
       " 'Adventure Island',\n",
       " \"Adventure Time: Explore the Dungeon Because I Don't Know!\",\n",
       " 'Adventure Time: Finn & Jake Investigations',\n",
       " 'Adventure Time: The Secret of the Nameless ',\n",
       " 'Adventure Time: The Secret of the Nameless Kingdom',\n",
       " 'Adventures of Lolo',\n",
       " 'Adventures of Tron',\n",
       " 'Adventures to Go!',\n",
       " 'Aedis Eclipse: Generation of Chaos',\n",
       " 'Aegis of Earth: Protonovus Assault',\n",
       " 'Aeon Flux',\n",
       " 'Aero Elite: Combat Academy',\n",
       " 'Aero Gauge',\n",
       " 'AeroFighters Assault',\n",
       " 'Afrika',\n",
       " 'Afro Samurai',\n",
       " 'After Hours Athletes',\n",
       " 'Again',\n",
       " 'Agassi Tennis Generation',\n",
       " \"Agatha Christie's The ABC Murders\",\n",
       " 'Agatha Christie: And Then There Were None',\n",
       " 'Agatha Christie: Death on the Nile',\n",
       " 'Agatha Christie: Evil Under the Sun',\n",
       " 'Agatha Christie: Peril at End House',\n",
       " 'Agatha Christie: The ABC Murders',\n",
       " 'Age of Conan: Rise of the Godslayer',\n",
       " 'Age of Empires II: The Age of Kings',\n",
       " 'Age of Empires III',\n",
       " 'Age of Empires III: Complete Collection',\n",
       " 'Age of Empires III: Gold Edition',\n",
       " 'Age of Empires III: The Asian Dynasties',\n",
       " 'Age of Empires Online',\n",
       " \"Age of Empires: Collector's Edition\",\n",
       " 'Age of Empires: Mythologies',\n",
       " 'Age of Empires: The Age of Kings',\n",
       " 'Age of Mythology',\n",
       " 'Age of Mythology: The Titans',\n",
       " 'Aggressive Inline',\n",
       " 'Agile Warrior F-111X',\n",
       " 'Aibou DS',\n",
       " 'Aidyn Chronicles: The First Mage',\n",
       " 'Aikatsu Stars! My Special Appeal',\n",
       " 'Aikatsu! 2-nin no My Princess',\n",
       " 'Aikatsu! 365 Idol Days',\n",
       " 'Aikatsu! Cinderella Lesson',\n",
       " 'Aikatsu! My No.1 Stage!',\n",
       " 'Ailu de Puzzle',\n",
       " 'Air Combat',\n",
       " 'Air Conflicts: Aces of World War II',\n",
       " 'Air Conflicts: Secret Wars',\n",
       " 'Air Raid',\n",
       " 'Air Traffic Chaos',\n",
       " 'AirForce Delta Storm',\n",
       " 'AirForce Delta Strike',\n",
       " 'Airblade',\n",
       " 'Airborne Troops: Countdown to D-Day',\n",
       " 'Airline Tycoon',\n",
       " 'Airline Tycoon 2',\n",
       " 'Airlock',\n",
       " 'Airport Simulator',\n",
       " 'Airship Q',\n",
       " 'Aiyoku no Eustia',\n",
       " 'Akagawa Jirou Mystery: Yasoukyoku - Hon ni Manekareta Satsujin',\n",
       " 'Akai Ito DS',\n",
       " 'Akai Katana Shin',\n",
       " 'Akane Iro ni Somaru Saka Parallel',\n",
       " 'Akatsuki no Amaneka to Aoi Kyojin',\n",
       " 'Akatsuki no Goei Trinity',\n",
       " \"Akiba's Trip\",\n",
       " \"Akiba's Trip Plus\",\n",
       " \"Akiba's Trip: Undead & Undressed\",\n",
       " 'Akko ni Omakase! Brain Shock',\n",
       " 'Akuji the Heartless',\n",
       " 'Aladdin Magic Racer',\n",
       " 'Alan Wake',\n",
       " 'Alexi Lalas International Soccer',\n",
       " 'Alfa Romeo Racing Italiano',\n",
       " \"Alia's Carnival! Sacrament\",\n",
       " 'Alias',\n",
       " 'Alice in Wonderland',\n",
       " 'Alice: Madness Returns',\n",
       " 'Alien',\n",
       " 'Alien Breed Trilogy',\n",
       " 'Alien Hominid',\n",
       " 'Alien Monster Bowling League',\n",
       " 'Alien Resurrection',\n",
       " 'Alien Syndrome',\n",
       " 'Alien Trilogy',\n",
       " \"Alien's Return\",\n",
       " 'Alien: Isolation',\n",
       " 'Alienators: Evolution Continues',\n",
       " 'Aliens in the Attic',\n",
       " 'Aliens versus Predator: Extinction',\n",
       " 'Aliens vs Predator',\n",
       " 'Aliens vs Predator: Requiem',\n",
       " 'Aliens: Colonial Marines',\n",
       " 'Aliens: Infestation',\n",
       " 'All Grown Up! Express Yourself',\n",
       " 'All Grown Up!: Game Boy Advance Video Volume 1',\n",
       " 'All Japan Pro Wrestling featuring Virtua',\n",
       " 'All Kamen Rider: Rider Generation',\n",
       " 'All Kamen Rider: Rider Generation 2',\n",
       " 'All Points Bulletin',\n",
       " 'All Star Cheer Squad',\n",
       " 'All Star Cheer Squad 2',\n",
       " 'All Star Karate',\n",
       " 'All Star Pro-Wrestling',\n",
       " 'All Star Tennis 99',\n",
       " 'All-Pro Football 2K8',\n",
       " 'All-Star Baseball 2000',\n",
       " 'All-Star Baseball 2001',\n",
       " 'All-Star Baseball 2002',\n",
       " 'All-Star Baseball 2003',\n",
       " 'All-Star Baseball 2004',\n",
       " 'All-Star Baseball 99',\n",
       " 'Alleyway',\n",
       " 'Allied General',\n",
       " 'Alone in the Dark',\n",
       " 'Alone in the Dark: Inferno',\n",
       " \"Alone in the Dark: One-Eyed Jack's Revenge\",\n",
       " 'Alpha Protocol',\n",
       " 'Alpha and Omega',\n",
       " 'Alter Echo',\n",
       " 'Alter Ego',\n",
       " 'Altered Beast: Guardian of the Realms',\n",
       " 'Alundra',\n",
       " 'Alundra 2: A New Legend Begins',\n",
       " 'Alvin and the Chipmunks',\n",
       " 'Alvin and the Chipmunks: Chipwrecked',\n",
       " 'Alvin and the Chipmunks: The Squeakquel',\n",
       " 'Amagami',\n",
       " 'Amagoushi no Yakata',\n",
       " 'Amatsumi Sora ni! Kumo no Hatate ni',\n",
       " 'Amazing Adventures: The Forgotten Ruins',\n",
       " 'Amazing Island',\n",
       " 'America Oudan Ultra-Quiz',\n",
       " \"America's Army: Rise of a Soldier\",\n",
       " \"America's Army: True Soldiers\",\n",
       " \"America's Next Top Model\",\n",
       " \"America's Test Kitchen: Let's Get Cooking\",\n",
       " 'American Bass Challenge',\n",
       " 'American Chopper',\n",
       " 'American Chopper 2: Full Throttle',\n",
       " 'American Girl: Julie Finds a Way',\n",
       " 'American Girl: Kit Mystery Challenge!',\n",
       " 'American Idol',\n",
       " 'Amnesia',\n",
       " 'Amnesia Crowd',\n",
       " 'Amnesia Later',\n",
       " 'Amped 2',\n",
       " 'Amped 3',\n",
       " 'Amped: Freestyle Snowboarding',\n",
       " 'Amplitude',\n",
       " \"An American Tail: Fievel's Gold Rush\",\n",
       " 'Anarchy Reigns',\n",
       " 'And1 Streetball',\n",
       " 'Andretti Racing',\n",
       " 'Angel Blade: Neo Tokyo Guardians',\n",
       " 'Angelique Duet',\n",
       " 'Angelique Retour',\n",
       " 'Angelique Trois',\n",
       " 'Angelique: Maren no Rokukishi',\n",
       " \"Angler's Club: Ultimate Bass Fishing 3D\",\n",
       " 'Angry Birds',\n",
       " 'Angry Birds Star Wars',\n",
       " 'Angry Birds Trilogy',\n",
       " 'Angry Birds: Rio',\n",
       " 'AniMates!',\n",
       " 'Anima - Gate of Memories',\n",
       " 'Animal Crossing',\n",
       " 'Animal Crossing: Amiibo Festival',\n",
       " 'Animal Crossing: City Folk',\n",
       " 'Animal Crossing: Happy Home Designer',\n",
       " 'Animal Crossing: New Leaf',\n",
       " 'Animal Crossing: Wild World',\n",
       " 'Animal Genius',\n",
       " 'Animal Kingdom: Wildlife Expedition',\n",
       " 'Animal Paradise',\n",
       " 'Animal Planet: Emergency Vets',\n",
       " 'Animal Planet: Vet Collection',\n",
       " 'Animal Planet: Vet Life',\n",
       " 'Animaniacs Ten Pin Alley',\n",
       " 'Animaniacs: The Great Edgar Hunt',\n",
       " 'Animorphs: Shattered Reality',\n",
       " 'Anno 1701: Dawn of Discovery',\n",
       " 'Anno 2070',\n",
       " 'Anno 2205',\n",
       " 'Ano Hi Mita Hana no Namae o Bokutachi wa Mada Shiranai',\n",
       " 'Another Code R: A Journey into Lost Memories',\n",
       " 'Ansatsu Kyoushitsu: Assassin Ikusei Keikaku!!',\n",
       " 'Ant Nation',\n",
       " 'Antiphona no Seikahime: Tenshi no Gakufu Op.A',\n",
       " 'Antz Extreme Racing',\n",
       " 'Anubis II',\n",
       " 'Ao no Exorcist: Genkoku no Labyrinth',\n",
       " 'Ao no Kanata no Four Rhythm',\n",
       " 'Aoishiro',\n",
       " 'Apache: Air Assault',\n",
       " 'Apassionata: Die Galanacht der Pferde',\n",
       " 'Ape Escape',\n",
       " 'Ape Escape 2',\n",
       " 'Ape Escape 3',\n",
       " 'Ape Escape Academy',\n",
       " 'Ape Escape Academy (jp sales)',\n",
       " 'Ape Escape: On the Loose',\n",
       " 'Ape Escape: Pumped & Primed',\n",
       " 'Apex',\n",
       " 'Apocalypse',\n",
       " 'Apollo Justice: Ace Attorney',\n",
       " 'Aqua Aqua',\n",
       " 'Aqua Panic!',\n",
       " 'Aqua Teen Hunger Force: Zombie Ninja Pro-Am',\n",
       " 'Aquaman: Battle for Atlantis',\n",
       " \"Aquanaut's Holiday\",\n",
       " \"Aquanaut's Holiday: Kakusareta Kiroku\",\n",
       " 'Aquapazza: Aquaplus Dream Match',\n",
       " 'Aquarium by DS',\n",
       " 'Ar Nosurge: Ode to an Unborn Star',\n",
       " 'Ar tonelico 2: Melody of Metafalica',\n",
       " 'Ar tonelico Qoga: Knell of Ar Ciel',\n",
       " 'Ar tonelico: Melody of Elemia',\n",
       " 'Arabians Lost: The Engagement on Desert',\n",
       " 'Arc Rise Fantasia',\n",
       " 'Arc the Lad',\n",
       " 'Arc the Lad II',\n",
       " 'Arc the Lad III',\n",
       " 'Arc the Lad: End of Darkness',\n",
       " 'Arc the Lad: Twilight of the Spirits',\n",
       " 'Arcade Hits: Frisky Tom',\n",
       " 'Arcade Party Pak',\n",
       " 'Arcade Shooting Gallery',\n",
       " 'Arcade Zone',\n",
       " 'Arcana Famiglia 2',\n",
       " 'Arcana Famiglia: La storia della Aracana Famiglia',\n",
       " 'Arcana Famiglia: Vascello Phantasma no Majutsushi',\n",
       " 'Arcana Heart',\n",
       " 'Arcana Heart 3',\n",
       " 'Arcania: Gothic 4',\n",
       " 'Archer Maclean Presents: Pool Paradise',\n",
       " \"Archer Maclean's 3D Pool\",\n",
       " \"Archer Maclean's Mercury\",\n",
       " 'Arctic Tale',\n",
       " 'Arctic Thunder',\n",
       " 'Are You Alice?',\n",
       " 'Are You Smarter Than A 5th Grader?',\n",
       " 'Are You Smarter Than a 5th Grader? Back to School',\n",
       " 'Are You Smarter than a 5th Grader? Game Time',\n",
       " 'Are You Smarter than a 5th Grader? Make the Grade',\n",
       " 'Area 51',\n",
       " 'Arena Football',\n",
       " 'Aria: The Natural ~Tooi Yume no Mirage~',\n",
       " 'Aria: The Origination ~Aoi Wakusei no El Cielo~',\n",
       " 'Arkanoid DS',\n",
       " 'ArmA II',\n",
       " 'ArmA III',\n",
       " 'Armed and Dangerous',\n",
       " 'Armor Ambush',\n",
       " 'Armored Core',\n",
       " 'Armored Core 2',\n",
       " 'Armored Core 2: Another Age',\n",
       " 'Armored Core 3',\n",
       " 'Armored Core 3 Portable',\n",
       " 'Armored Core 4',\n",
       " 'Armored Core SL: Silent Line Portable',\n",
       " 'Armored Core V',\n",
       " 'Armored Core: For Answer',\n",
       " 'Armored Core: Formula Front Extreme Battle',\n",
       " 'Armored Core: Last Raven',\n",
       " 'Armored Core: Last Raven Portable',\n",
       " 'Armored Core: Master of Arena',\n",
       " 'Armored Core: Nexus',\n",
       " 'Armored Core: Nine Breaker',\n",
       " 'Armored Core: Project Phantasma',\n",
       " 'Armored Core: Silent Line',\n",
       " 'Armored Core: Verdict Day',\n",
       " 'Armorines: Project S.W.A.R.M.',\n",
       " 'Army Corps of Hell',\n",
       " 'Army Men 3D',\n",
       " 'Army Men World War: Final Front',\n",
       " 'Army Men World War: Land, Sea, Air',\n",
       " 'Army Men World War: Team Assault',\n",
       " 'Army Men: Air Attack',\n",
       " 'Army Men: Air Attack 2',\n",
       " 'Army Men: Air Combat',\n",
       " 'Army Men: Air Combat - The Elite Missions',\n",
       " 'Army Men: Green Rogue',\n",
       " 'Army Men: Major Malfunction',\n",
       " 'Army Men: RTS',\n",
       " \"Army Men: Sarge's Heroes\",\n",
       " \"Army Men: Sarge's Heroes 2\",\n",
       " \"Army Men: Sarge's War\",\n",
       " 'Army Men: Soldiers of Misfortune',\n",
       " 'Army Rescue',\n",
       " 'Army of Two',\n",
       " 'Army of Two: The 40th Day',\n",
       " \"Army of Two: The Devil's Cartel\",\n",
       " 'Around the World in 80 Days',\n",
       " 'Arslan: The Warriors of Legend',\n",
       " 'Art Academy',\n",
       " 'Art Academy: Home Studio',\n",
       " 'Art Academy: Lessons for Everyone',\n",
       " 'Art of Fighting 3: The Path of the Warrior',\n",
       " 'Art of Fighting Anthology',\n",
       " 'Arthur and the Invisibles',\n",
       " 'Arthur! Ready to Race',\n",
       " 'Arx Fatalis',\n",
       " 'Ashes Cricket 2009',\n",
       " 'Asphalt 3D',\n",
       " 'Asphalt: Injection',\n",
       " 'Asphalt: Urban GT',\n",
       " 'Asphalt: Urban GT 2',\n",
       " \"Assassin's Creed\",\n",
       " \"Assassin's Creed Chronicles\",\n",
       " \"Assassin's Creed Chronicles: China\",\n",
       " \"Assassin's Creed II\",\n",
       " \"Assassin's Creed II: Discovery\",\n",
       " \"Assassin's Creed III\",\n",
       " \"Assassin's Creed III: Liberation\",\n",
       " \"Assassin's Creed IV: Black Flag\",\n",
       " \"Assassin's Creed Syndicate\",\n",
       " \"Assassin's Creed The Ezio Collection\",\n",
       " \"Assassin's Creed: Altair's Chronicles\",\n",
       " \"Assassin's Creed: Bloodlines\",\n",
       " \"Assassin's Creed: Brotherhood\",\n",
       " \"Assassin's Creed: Revelations\",\n",
       " \"Assassin's Creed: Rogue\",\n",
       " \"Assassin's Creed: Unity\",\n",
       " 'Assassination Classroom: Grand Siege on Kuro-sensei',\n",
       " 'Assault',\n",
       " 'Assault Rigs',\n",
       " 'Assault Suit Leynos',\n",
       " 'Assault: Retribution',\n",
       " 'Assetto Corsa',\n",
       " 'Asterix & Obelix: Kick Buttix',\n",
       " 'Asteroids',\n",
       " 'Asteroids Hyper 64',\n",
       " 'Astonishia Story',\n",
       " 'Astro Boy',\n",
       " 'Astro Boy: Omega Factor',\n",
       " 'Astro Boy: The Video Game',\n",
       " 'Astroblast',\n",
       " 'Astrology DS',\n",
       " \"Asura's Wrath\",\n",
       " 'Atari Anniversary Advance',\n",
       " 'Atari Anniversary Edition Redux',\n",
       " 'Atari Anthology',\n",
       " 'Atari Classics Evolved',\n",
       " 'Atari Flashback Classics: Volume 1',\n",
       " 'Atari Flashback Classics: Volume 2',\n",
       " \"Atari's Greatest Hits: Volume 1\",\n",
       " \"Atari's Greatest Hits: Volume 2\",\n",
       " 'Atelier Annie: Alchemists of Sera Island',\n",
       " 'Atelier Ayesha: The Alchemist of Dusk',\n",
       " 'Atelier Escha & Logy: Alchemists of the Dusk Sky',\n",
       " 'Atelier Firis: The Alchemist of the Mysterious Journey',\n",
       " 'Atelier Iris 2: The Azoth Of Destiny',\n",
       " 'Atelier Iris 3: Grand Phantasm (JP Sales)',\n",
       " 'Atelier Iris 3: Grand Phantasm (US Sales)',\n",
       " 'Atelier Iris: Eternal Mana',\n",
       " 'Atelier Meruru: Alchemist of Arland 3',\n",
       " 'Atelier Rorona: Alchemist of Arland',\n",
       " 'Atelier Shallie Plus: Alchemists of the Dusk Sea',\n",
       " 'Atelier Shallie: Alchemists of the Dusk Sea',\n",
       " 'Atelier Sophie: The Alchemist of the Mysterious Book',\n",
       " 'Atelier Totori: The Adventurer of Arland',\n",
       " 'Athens 2004',\n",
       " 'Atlantic Quest',\n",
       " 'Atlantis',\n",
       " 'Atomic Betty',\n",
       " 'Attack of the Movies 3D',\n",
       " 'Attack on Titan (KOEI)',\n",
       " 'Attack on Titan: Humanity in Chains',\n",
       " 'Auto Destruct',\n",
       " 'Auto Modellista',\n",
       " 'Automobili Lamborghini',\n",
       " 'Avalon Code',\n",
       " 'Avatar: The Game',\n",
       " 'Avatar: The Last Airbender',\n",
       " 'Avatar: The Last Airbender - Into the Inferno',\n",
       " 'Avatar: The Last Airbender - The Burning Earth',\n",
       " 'Away: Shuffle Dungeon',\n",
       " 'Azada',\n",
       " 'Azure Dreams',\n",
       " 'Azure Striker Gunvolt',\n",
       " 'Azure Striker Gunvolt: Striker Pack',\n",
       " 'Azurik: Rise of Perathia',\n",
       " \"B's-LOG Party♪\",\n",
       " 'B-17: Fortress in the Sky',\n",
       " 'B-Boy',\n",
       " 'BCFX: The Black College Football Xperience, The Doug Williams Edition',\n",
       " 'BIT.TRIP COMPLETE',\n",
       " 'BIT.TRIP SAGA',\n",
       " 'BMX XXX',\n",
       " 'BRAHMA Force: The Assault on Beltlogger 9',\n",
       " 'Baby Pals',\n",
       " 'Babysitting Mama',\n",
       " 'Babysitting Mania',\n",
       " 'Back At The Barnyard: Slop Bucket Games',\n",
       " 'Back to the Future: The Game',\n",
       " 'Backstreet Billiards',\n",
       " 'Backyard Baseball',\n",
       " \"Backyard Baseball '09\",\n",
       " \"Backyard Baseball '10\",\n",
       " 'Backyard Baseball 2006',\n",
       " 'Backyard Basketball',\n",
       " 'Backyard Hockey',\n",
       " 'Backyard NBA Basketball',\n",
       " 'Backyard NFL Football',\n",
       " \"Backyard NFL Football '08\",\n",
       " \"Backyard NFL Football '09\",\n",
       " \"Backyard NFL Football '10\",\n",
       " 'Backyard NFL Football 2006',\n",
       " 'Backyard Skateboarding 2006',\n",
       " 'Backyard Soccer',\n",
       " 'Backyard Sports Football: Rookie Rush',\n",
       " 'Backyard Sports: Sandlot Sluggers',\n",
       " 'Backyard Wrestling 2: There Goes the Neighborhood',\n",
       " \"Backyard Wrestling: Don't Try This at Home\",\n",
       " 'Bad Apple Wars',\n",
       " 'Bad Boys: Miami Takedown',\n",
       " 'Bae Yong-joon to Manabu Kankokugo DS',\n",
       " 'Bahamut Lagoon',\n",
       " 'Baja: Edge of Control',\n",
       " 'Bakemonogatari Portable',\n",
       " 'Baku Baku',\n",
       " 'Bakugan Battle Brawlers: Defenders of the Core',\n",
       " 'Bakugan: Battle Brawlers',\n",
       " 'Bakugan: Battle Trainer',\n",
       " 'Bakugan: Rise of the Resistance',\n",
       " 'Bakumatsu Koihana: Shinsengumi DS',\n",
       " 'Bakumatsu Renka: Karyuu Kenshi-den',\n",
       " 'Bakumatsu Rock',\n",
       " 'Bakumatsu Rock: Ultra Soul',\n",
       " 'Bakusou Dekotora Densetsu: Otoko Ippiki Yume Kaidoi',\n",
       " \"Bakusou Kyoudai Let's & Go!! Eternal Wings\",\n",
       " \"Baldur's Gate: Dark Alliance\",\n",
       " \"Baldur's Gate: Dark Alliance II\",\n",
       " 'Ball Breakers',\n",
       " 'Ballblazer Champions',\n",
       " 'Ballistic',\n",
       " 'Ballistic: Ecks vs. Sever',\n",
       " 'Balloon Fight',\n",
       " 'Balloon Pop',\n",
       " 'Balloon Pop 2',\n",
       " 'Balls of Fury',\n",
       " 'Band Hero',\n",
       " 'Bangai-O Spirits',\n",
       " 'Banjo-Kazooie',\n",
       " \"Banjo-Kazooie: Grunty's Revenge\",\n",
       " 'Banjo-Kazooie: Nuts & Bolts',\n",
       " 'Banjo-Pilot',\n",
       " 'Banjo-Tooie',\n",
       " 'Bank Heist',\n",
       " \"Banushi Life Game: Winner's Circle\",\n",
       " 'Barbarian',\n",
       " 'Barbie Explorer',\n",
       " 'Barbie Fashion Show: An Eye for Style',\n",
       " 'Barbie Groovy Games',\n",
       " 'Barbie Horse Adventures: Blue Ribbon Race',\n",
       " 'Barbie Horse Adventures: Riding Camp',\n",
       " 'Barbie Horse Adventures: Wild Horse Rescue',\n",
       " 'Barbie Super Sports',\n",
       " 'Barbie Superpack: Secret Agent / Groovy Games',\n",
       " 'Barbie and Her Sisters Puppy Rescue',\n",
       " 'Barbie and the Magic of Pegasus',\n",
       " 'Barbie and the Three Musketeers',\n",
       " 'Barbie as The Island Princess',\n",
       " 'Barbie as the Princess and the Pauper',\n",
       " 'Barbie in The 12 Dancing Princesses',\n",
       " 'Barbie: Groom and Glam Pups',\n",
       " 'Barbie: Jet, Set & Style!',\n",
       " 'Barbie: Race & Ride',\n",
       " 'Barnstorming',\n",
       " 'Barnyard',\n",
       " 'Barnyard Blast: Swine of the Night',\n",
       " 'Baroque',\n",
       " 'Baseball',\n",
       " 'Baseball Advance',\n",
       " 'Baseball Blast!',\n",
       " \"Bases Loaded '96: Double Header\",\n",
       " 'Basketball Hall of Fame Ultimate Hoops Challenge',\n",
       " 'Bass Hunter 64',\n",
       " 'Bass Landing',\n",
       " 'Bass Pro Shops: The Hunt',\n",
       " 'Bass Pro Shops: The Strike',\n",
       " 'Bass Rise',\n",
       " 'Bass Strike',\n",
       " 'Bassmasters 2000',\n",
       " 'Bastard!! Utsuro Naru Kamigami no Utsuwa',\n",
       " 'Baten Kaitos Origins',\n",
       " 'Baten Kaitos: Eternal Wings and the Lost Ocean',\n",
       " 'Batman & Robin',\n",
       " 'Batman Begins',\n",
       " 'Batman Beyond: Return of the Joker',\n",
       " 'Batman Forever: The Arcade Game',\n",
       " 'Batman: A Telltale Game Series',\n",
       " 'Batman: Arkham Asylum',\n",
       " 'Batman: Arkham City',\n",
       " 'Batman: Arkham Knight',\n",
       " 'Batman: Arkham Origins',\n",
       " 'Batman: Arkham Origins Blackgate',\n",
       " 'Batman: Arkham VR',\n",
       " 'Batman: Dark Tomorrow',\n",
       " 'Batman: Gotham City Racer',\n",
       " 'Batman: Return to Arkham',\n",
       " 'Batman: Rise of Sin Tzu',\n",
       " 'Batman: The Brave and the Bold the Videogame',\n",
       " 'Batman: Vengeance',\n",
       " 'Battalion Wars',\n",
       " 'Battalion Wars 2',\n",
       " 'Battle & Get! Pokemon Typing DS',\n",
       " 'Battle Arena Toshinden',\n",
       " 'Battle Arena Toshinden 2',\n",
       " 'Battle Arena Toshinden 3',\n",
       " 'Battle Arena Toshinden Remix',\n",
       " 'Battle Arena Toshinden URA',\n",
       " 'Battle Assault 3 featuring Gundam Seed',\n",
       " 'Battle Commander: Hachibushu Shura no Heihou',\n",
       " 'Battle Dodge Ball',\n",
       " 'Battle Engine Aquila',\n",
       " 'Battle Fantasia',\n",
       " 'Battle Hunter',\n",
       " 'Battle Princess of Arcadias',\n",
       " 'Battle Rage',\n",
       " 'Battle Soccer: Field no Hasha',\n",
       " 'Battle Spirits: Digital Starter',\n",
       " \"Battle Spirits: Hero's Soul\",\n",
       " 'Battle Spirits: Kiseki no Hasha',\n",
       " 'Battle Stadium D.O.N',\n",
       " 'Battle Stations',\n",
       " 'Battle Worlds: Kronos',\n",
       " 'Battle of Giants: Dinosaurs',\n",
       " 'Battle of Giants: Dinosaurs Strike',\n",
       " 'Battle of Giants: Dragons',\n",
       " 'Battle of Giants: Mutant Insects',\n",
       " 'Battle vs. Chess',\n",
       " 'BattleBots: Beyond the BattleBox',\n",
       " 'BattleForge',\n",
       " 'BattleTanx',\n",
       " 'BattleTanx: Global Assault',\n",
       " 'Battleborn',\n",
       " 'Battlebots: Design & Destroy',\n",
       " 'Battlefield 1',\n",
       " 'Battlefield 1942',\n",
       " 'Battlefield 1942: The WW II Anthology',\n",
       " 'Battlefield 2',\n",
       " 'Battlefield 2142',\n",
       " 'Battlefield 2: Modern Combat',\n",
       " 'Battlefield 2: Modern Combat(JP sales)',\n",
       " 'Battlefield 3',\n",
       " 'Battlefield 4',\n",
       " 'Battlefield Vietnam',\n",
       " 'Battlefield: Bad Company',\n",
       " 'Battlefield: Bad Company 2',\n",
       " 'Battlefield: Hardline',\n",
       " 'Battles of Prince of Persia',\n",
       " 'Battleship / Connect Four / Sorry! / Trouble',\n",
       " 'Battlestar Galactica',\n",
       " 'Battlestations: Midway',\n",
       " 'Battlestations: Pacific',\n",
       " 'Battlezone',\n",
       " 'Battlezone: Rise of the Black Dogs',\n",
       " 'Bayonetta',\n",
       " 'Bayonetta 2',\n",
       " 'Beach Spikers: Virtua Beach Volleyball',\n",
       " 'Beamrider',\n",
       " 'Beastly',\n",
       " 'Beastly Frantic Foto',\n",
       " 'Beat City',\n",
       " 'Beat Down: Fists of Vengeance',\n",
       " 'Beat Sketch!',\n",
       " 'BeatMania',\n",
       " 'BeatMania Append 3rdMix',\n",
       " 'BeatMania Append 4thMix: The beat goes on',\n",
       " 'BeatMania Append GottaMix',\n",
       " 'BeatMania IIDX 11: IIDX Red',\n",
       " 'BeatMania IIDX 13: DistorteD',\n",
       " 'BeatMania IIDX 14 Gold',\n",
       " 'BeatMania IIDX 15: DJ Troopers',\n",
       " 'BeatMania IIDX 16: Empress + Premium Best',\n",
       " 'BeatMania IIDX 3rd Style',\n",
       " 'BeatMania IIDX 4th Style: New Songs Collection',\n",
       " 'Beatdown: Fists of Vengeance',\n",
       " 'Beaterator',\n",
       " 'Beautiful Katamari',\n",
       " 'Bee Movie Game',\n",
       " 'Beetle Adventure Racing!',\n",
       " 'Beijing 2008',\n",
       " 'Bejeweled 2 Deluxe',\n",
       " 'Bejeweled 3',\n",
       " 'Bejeweled Blitz',\n",
       " 'Bejeweled Twist',\n",
       " 'Bella Sara',\n",
       " 'Bella Sara 2 - The Magic of Drasilmare',\n",
       " 'Ben 10 Alien Force: Vilgax Attacks',\n",
       " 'Ben 10 Galactic Racing',\n",
       " 'Ben 10 Omniverse 2',\n",
       " 'Ben 10 Triple Pack',\n",
       " 'Ben 10 Ultimate Alien: Cosmic Destruction',\n",
       " 'Ben 10: Alien Force',\n",
       " 'Ben 10: Protector of Earth',\n",
       " \"Bentley's Hackpack\",\n",
       " 'Beowulf: The Game',\n",
       " 'Berserk and the Band of the Hawk',\n",
       " 'Berzerk',\n",
       " 'Best Friends Tonight',\n",
       " 'Best Of Tests',\n",
       " \"Betty Boop's Double Shift\",\n",
       " 'BeyBlade VForce: Super Tournament Battle',\n",
       " 'Beyblade Evolution',\n",
       " 'Beyblade G-Revolution',\n",
       " 'Beyblade VForce: Ultimate Blader Jam',\n",
       " 'Beyblade: Metal Fusion',\n",
       " 'Beyblade: Metal Fusion - Battle Fortress',\n",
       " 'Beyblade: Metal Masters',\n",
       " 'Beyond Good & Evil',\n",
       " 'Beyond Oasis',\n",
       " 'Beyond The Beyond',\n",
       " 'Beyond: Two Souls',\n",
       " 'Bicycle Casino 2005',\n",
       " 'Big Air',\n",
       " 'Big Air Freestyle',\n",
       " 'Big Bang Mini',\n",
       " 'Big Bass Fishing',\n",
       " 'Big Bass World Championship',\n",
       " 'Big Beach Sports',\n",
       " 'Big Brain Academy',\n",
       " 'Big Brain Academy: Wii Degree',\n",
       " 'Big Family Games',\n",
       " 'Big Hero 6: Battle in the Bay',\n",
       " 'Big Ichigeki! Pachi-Slot Taikouryku Universal Museum',\n",
       " \"Big Idea's VeggieTales: LarryBoy and the Bad Apple\",\n",
       " 'Big League Sports',\n",
       " 'Big League Sports: Summer',\n",
       " 'Big Mountain 2000',\n",
       " 'Big Mutha Truckers',\n",
       " 'Big Mutha Truckers 2',\n",
       " 'Big Strike Bowling',\n",
       " 'Bigfoot King of Crush',\n",
       " 'Bigfoot: Collision Course',\n",
       " 'Biker Mice From Mars',\n",
       " 'Billy Hatcher and the Giant Egg',\n",
       " 'Billy the Wizard: Rocket Broomstick Racing',\n",
       " \"Billy's Boot Camp: Wii de Enjoy Diet!\",\n",
       " 'Binary Domain',\n",
       " 'Binary Star',\n",
       " 'Bio FREAKS',\n",
       " 'BioShock',\n",
       " 'BioShock 2',\n",
       " 'BioShock Infinite',\n",
       " 'BioShock The Collection',\n",
       " 'Biohazard: Revival Selection',\n",
       " 'Bionic Commando',\n",
       " 'Bionicle',\n",
       " 'Bionicle Heroes',\n",
       " 'Bionicle: Matoran Adventures',\n",
       " 'Birds of Steel',\n",
       " 'Birthday Party Bash',\n",
       " 'Bishoujo Senshi Sailormoon R',\n",
       " 'Bishoujo Senshi Sailormoon S: Juugai Rantou!? Shuyaku Soudatsusen',\n",
       " 'Black',\n",
       " 'Black & Bruised',\n",
       " 'Black & White',\n",
       " 'Black & White 2',\n",
       " 'Black * Rock Shooter: The Game',\n",
       " 'Black Bass with Blue Marlin',\n",
       " 'Black Cat',\n",
       " 'Black Dawn',\n",
       " 'Black Jack vs. Matsudajun',\n",
       " 'Black Mirror 2',\n",
       " 'Black Rose Valkyrie',\n",
       " 'Black Sigil: Blade of the Exiled',\n",
       " 'Black Stone: Magic & Steel',\n",
       " 'Black/Matrix',\n",
       " 'Blacksite: Area 51',\n",
       " 'Blackthorne',\n",
       " 'Blackwater',\n",
       " 'Blade Arcus from Shining EX',\n",
       " 'Blade Dancer: Lineage of Light',\n",
       " 'Blade II',\n",
       " 'Blades of Blood: Samurai Shodown III',\n",
       " 'Blades of Time',\n",
       " 'Bladestorm: Nightmare',\n",
       " \"Bladestorm: The Hundred Years' War\",\n",
       " 'Blast Chamber',\n",
       " 'Blast Corps',\n",
       " 'Blast Lacrosse',\n",
       " 'Blast Radius',\n",
       " 'Blast Works: Build, Trade, Destroy',\n",
       " 'Blaster Master: Blasting Again',\n",
       " 'Blasto',\n",
       " 'BlazBlue Central Fiction',\n",
       " 'BlazBlue: Calamity Trigger',\n",
       " 'BlazBlue: Calamity Trigger Portable',\n",
       " 'BlazBlue: Chrono Phantasma',\n",
       " 'BlazBlue: Chrono Phantasma Extend',\n",
       " 'BlazBlue: Continuum Shift',\n",
       " 'BlazBlue: Continuum Shift II',\n",
       " 'Blazblue: Continuum Shift Extend',\n",
       " 'Blaze Union: Story to Reach the Future',\n",
       " 'Blazer Drive',\n",
       " 'Blazing Angels 2: Secret Missions of WWII',\n",
       " 'Blazing Angels: Squadrons of WWII',\n",
       " 'Blazing Dragons',\n",
       " 'Blazing Heroes',\n",
       " 'Blazing Souls',\n",
       " 'Blazing Souls: Accelate',\n",
       " 'Bleach DS 4th: Flame Bringer',\n",
       " 'Bleach GC: Tasogare Ni Mamieru Shinigami',\n",
       " 'Bleach: Blade Battlers',\n",
       " 'Bleach: Blade Battlers 2nd',\n",
       " 'Bleach: Dark Souls',\n",
       " 'Bleach: Dark Souls (JP sales)',\n",
       " 'Bleach: Erabareshi Tamashii',\n",
       " 'Bleach: Hanatareshi Yabou',\n",
       " 'Bleach: Heat the Soul',\n",
       " 'Bleach: Heat the Soul 3',\n",
       " 'Bleach: Heat the Soul 4',\n",
       " 'Bleach: Heat the Soul 5',\n",
       " 'Bleach: Heat the Soul 6',\n",
       " 'Bleach: Heat the Soul 7',\n",
       " 'Bleach: Shattered Blade',\n",
       " 'Bleach: Soul Carnival',\n",
       " 'Bleach: Soul Carnival 2',\n",
       " 'Bleach: Soul Resurreccion',\n",
       " 'Bleach: The 3rd Phantom',\n",
       " 'Bleach: The Blade of Fate',\n",
       " 'Bleach: Versus Crusade',\n",
       " 'Blender Bros.',\n",
       " 'Blinx 2: Masters of Time & Space',\n",
       " 'Blinx: The Time Sweeper',\n",
       " 'Blitz: Overtime',\n",
       " 'Blitz: The League',\n",
       " 'Blitz: The League II',\n",
       " 'Blitzkrieg 2 Anthology',\n",
       " 'Block Kuzushi',\n",
       " 'Block Party',\n",
       " 'Blokus Portable: Steambot Championship',\n",
       " 'Blood Bowl',\n",
       " 'Blood Bowl: Legendary Edition',\n",
       " 'Blood Drive',\n",
       " 'Blood Omen 2',\n",
       " 'Blood Omen: Legacy of Kain',\n",
       " 'Blood Wake',\n",
       " \"Blood Will Tell: Tezuka Osamu's Dororo\",\n",
       " 'Blood of Bahamut',\n",
       " 'Blood: The Last Vampire (Joukan)',\n",
       " 'BloodRayne',\n",
       " 'BloodRayne 2',\n",
       " 'Bloodborne',\n",
       " 'Bloody Roar',\n",
       " 'Bloody Roar 3',\n",
       " 'Bloody Roar 4',\n",
       " 'Bloody Roar Extreme',\n",
       " 'Bloody Roar II',\n",
       " 'Bloody Roar: Primal Fury',\n",
       " 'BlowOut',\n",
       " 'Blue Breaker: Ken Yorimo Hohoemi o',\n",
       " 'Blue Dragon',\n",
       " 'Blue Dragon Plus',\n",
       " 'Blue Dragon: Awakened Shadow',\n",
       " 'Blue Roses: Yousei to Aoi Hitomi no Senshitachi',\n",
       " 'Blue Stinger',\n",
       " \"Blue's Clues: Blue's Big Musical\",\n",
       " 'Blues Brothers 2000',\n",
       " 'Blur',\n",
       " 'Board Game Classics',\n",
       " 'Board Game: Top Shop',\n",
       " 'Bob the Builder: Can We Fix It?',\n",
       " 'Boboboubo Boubobo: Ougi 87.5 Bakuretsu Hanage Shinken',\n",
       " 'Bode Miller Alpine Skiing',\n",
       " 'Body Harvest',\n",
       " 'Body and Brain Connection',\n",
       " 'Bodycount',\n",
       " 'Bogey: Dead 6',\n",
       " 'Boing! Docomodake DS',\n",
       " 'Boktai 2: Solar Boy Django',\n",
       " 'Boktai: The Sun is in Your Hand',\n",
       " 'Boku no Natsuyasumi',\n",
       " 'Boku no Natsuyasumi 2: Umi no Bouken Hen',\n",
       " 'Boku no Natsuyasumi 3: Hokkoku Hen: Chiisana Boku no Dai Sougen\\u200b',\n",
       " 'Boku no Natsuyasumi 4: Seitouchi Shounen Tanteidan, Boku to Himitsu no Chizu',\n",
       " 'Boku no Natsuyasumi Portable 2: Nazo Nazo Shimai to Chinbotsusen no Himitsu',\n",
       " 'Boku no Natsuyasumi Portable: Mushi Mushi Hakase to Teppen-yama no Himitsu!!',\n",
       " 'Bolt',\n",
       " 'Bombastic',\n",
       " 'Bomberman',\n",
       " 'Bomberman (jp sales)',\n",
       " 'Bomberman 2',\n",
       " 'Bomberman 64',\n",
       " 'Bomberman 64: The Second Attack!',\n",
       " 'Bomberman B-Daman',\n",
       " 'Bomberman Fantasy Race',\n",
       " 'Bomberman Generation',\n",
       " 'Bomberman Hero',\n",
       " 'Bomberman II',\n",
       " 'Bomberman Jetters',\n",
       " 'Bomberman Land',\n",
       " 'Bomberman Land Touch!',\n",
       " 'Bomberman Land Touch! 2',\n",
       " 'Bomberman Max 2: Blue Advance',\n",
       " 'Bomberman Max 2: Red Advance',\n",
       " 'Bomberman Party Edition',\n",
       " 'Bomberman Story DS',\n",
       " 'Bomberman Tournament',\n",
       " 'Bomberman World',\n",
       " 'Bomberman: Act Zero',\n",
       " 'Boogie',\n",
       " 'Boogie SuperStar',\n",
       " 'Book of Spells',\n",
       " 'Bookworm',\n",
       " 'Bookworm Deluxe',\n",
       " 'Boom Blox',\n",
       " 'Boom Blox Bash Party',\n",
       " 'BoomBots',\n",
       " 'Boot Camp Academy',\n",
       " 'Borderlands',\n",
       " 'Borderlands 2',\n",
       " 'Borderlands: Double Game Add-On Pack',\n",
       " 'Borderlands: The Handsome Collection',\n",
       " 'Borderlands: The Pre-Sequel',\n",
       " 'Botanicula',\n",
       " 'Bottom of the 9th',\n",
       " ...]"
      ]
     },
     "execution_count": 47,
     "metadata": {},
     "output_type": "execute_result"
    }
   ],
   "source": [
    "sorted(data['name'].unique())# checking the column 'name'"
   ]
  },
  {
   "cell_type": "code",
   "execution_count": 48,
   "id": "39d25ef5",
   "metadata": {},
   "outputs": [
    {
     "data": {
      "text/plain": [
       "['2600',\n",
       " '3DO',\n",
       " '3DS',\n",
       " 'DC',\n",
       " 'DS',\n",
       " 'GB',\n",
       " 'GBA',\n",
       " 'GC',\n",
       " 'GEN',\n",
       " 'GG',\n",
       " 'N64',\n",
       " 'NES',\n",
       " 'NG',\n",
       " 'PC',\n",
       " 'PCFX',\n",
       " 'PS',\n",
       " 'PS2',\n",
       " 'PS3',\n",
       " 'PS4',\n",
       " 'PSP',\n",
       " 'PSV',\n",
       " 'SAT',\n",
       " 'SCD',\n",
       " 'SNES',\n",
       " 'TG16',\n",
       " 'WS',\n",
       " 'Wii',\n",
       " 'WiiU',\n",
       " 'X360',\n",
       " 'XB',\n",
       " 'XOne']"
      ]
     },
     "execution_count": 48,
     "metadata": {},
     "output_type": "execute_result"
    }
   ],
   "source": [
    "sorted(data['platform'].unique())# checking the column 'platform'"
   ]
  },
  {
   "cell_type": "code",
   "execution_count": 49,
   "id": "364fe117",
   "metadata": {},
   "outputs": [
    {
     "data": {
      "text/plain": [
       "['Action',\n",
       " 'Adventure',\n",
       " 'Fighting',\n",
       " 'Misc',\n",
       " 'Platform',\n",
       " 'Puzzle',\n",
       " 'Racing',\n",
       " 'Role-Playing',\n",
       " 'Shooter',\n",
       " 'Simulation',\n",
       " 'Sports',\n",
       " 'Strategy']"
      ]
     },
     "execution_count": 49,
     "metadata": {},
     "output_type": "execute_result"
    }
   ],
   "source": [
    "sorted(data['genre'].unique())# checking the column 'genre'"
   ]
  },
  {
   "cell_type": "code",
   "execution_count": 50,
   "id": "eb3d7a0a",
   "metadata": {},
   "outputs": [
    {
     "data": {
      "text/plain": [
       "array(['E', 'Unknown', 'M', 'T', 'E10+', 'K-A', 'AO', 'EC', 'RP'],\n",
       "      dtype=object)"
      ]
     },
     "execution_count": 50,
     "metadata": {},
     "output_type": "execute_result"
    }
   ],
   "source": [
    "data['rating'].unique()# checking the column'rating'"
   ]
  },
  {
   "cell_type": "markdown",
   "id": "b87c8094",
   "metadata": {},
   "source": [
    "**Вывод: в столбцах 'name', 'platform', 'genre', 'rating' неявных дубликатов не выявлено.**"
   ]
  },
  {
   "cell_type": "markdown",
   "id": "5b2fbf7d",
   "metadata": {},
   "source": [
    "### Подсчет суммарных продаж\n"
   ]
  },
  {
   "cell_type": "markdown",
   "id": "4752a631",
   "metadata": {},
   "source": [
    "Добавляем столбец 'total_sales' с суммарными продажами по всем регионам"
   ]
  },
  {
   "cell_type": "code",
   "execution_count": 51,
   "id": "f7b79ada",
   "metadata": {},
   "outputs": [],
   "source": [
    "data['total_sales'] = data[['na_sales', 'eu_sales', 'jp_sales', 'other_sales']].sum(axis=1)"
   ]
  },
  {
   "cell_type": "code",
   "execution_count": 52,
   "id": "950dcb6f",
   "metadata": {},
   "outputs": [
    {
     "data": {
      "text/html": [
       "<div>\n",
       "<style scoped>\n",
       "    .dataframe tbody tr th:only-of-type {\n",
       "        vertical-align: middle;\n",
       "    }\n",
       "\n",
       "    .dataframe tbody tr th {\n",
       "        vertical-align: top;\n",
       "    }\n",
       "\n",
       "    .dataframe thead th {\n",
       "        text-align: right;\n",
       "    }\n",
       "</style>\n",
       "<table border=\"1\" class=\"dataframe\">\n",
       "  <thead>\n",
       "    <tr style=\"text-align: right;\">\n",
       "      <th></th>\n",
       "      <th>name</th>\n",
       "      <th>platform</th>\n",
       "      <th>year_of_release</th>\n",
       "      <th>genre</th>\n",
       "      <th>na_sales</th>\n",
       "      <th>eu_sales</th>\n",
       "      <th>jp_sales</th>\n",
       "      <th>other_sales</th>\n",
       "      <th>critic_score</th>\n",
       "      <th>user_score</th>\n",
       "      <th>rating</th>\n",
       "      <th>total_sales</th>\n",
       "    </tr>\n",
       "  </thead>\n",
       "  <tbody>\n",
       "    <tr>\n",
       "      <th>0</th>\n",
       "      <td>Wii Sports</td>\n",
       "      <td>Wii</td>\n",
       "      <td>2006</td>\n",
       "      <td>Sports</td>\n",
       "      <td>41.36</td>\n",
       "      <td>28.96</td>\n",
       "      <td>3.77</td>\n",
       "      <td>8.45</td>\n",
       "      <td>76.0</td>\n",
       "      <td>8.0</td>\n",
       "      <td>E</td>\n",
       "      <td>82.54</td>\n",
       "    </tr>\n",
       "    <tr>\n",
       "      <th>1</th>\n",
       "      <td>Super Mario Bros.</td>\n",
       "      <td>NES</td>\n",
       "      <td>1985</td>\n",
       "      <td>Platform</td>\n",
       "      <td>29.08</td>\n",
       "      <td>3.58</td>\n",
       "      <td>6.81</td>\n",
       "      <td>0.77</td>\n",
       "      <td>NaN</td>\n",
       "      <td>NaN</td>\n",
       "      <td>Unknown</td>\n",
       "      <td>40.24</td>\n",
       "    </tr>\n",
       "    <tr>\n",
       "      <th>2</th>\n",
       "      <td>Mario Kart Wii</td>\n",
       "      <td>Wii</td>\n",
       "      <td>2008</td>\n",
       "      <td>Racing</td>\n",
       "      <td>15.68</td>\n",
       "      <td>12.76</td>\n",
       "      <td>3.79</td>\n",
       "      <td>3.29</td>\n",
       "      <td>82.0</td>\n",
       "      <td>8.3</td>\n",
       "      <td>E</td>\n",
       "      <td>35.52</td>\n",
       "    </tr>\n",
       "    <tr>\n",
       "      <th>3</th>\n",
       "      <td>Wii Sports Resort</td>\n",
       "      <td>Wii</td>\n",
       "      <td>2009</td>\n",
       "      <td>Sports</td>\n",
       "      <td>15.61</td>\n",
       "      <td>10.93</td>\n",
       "      <td>3.28</td>\n",
       "      <td>2.95</td>\n",
       "      <td>80.0</td>\n",
       "      <td>8.0</td>\n",
       "      <td>E</td>\n",
       "      <td>32.77</td>\n",
       "    </tr>\n",
       "    <tr>\n",
       "      <th>4</th>\n",
       "      <td>Pokemon Red/Pokemon Blue</td>\n",
       "      <td>GB</td>\n",
       "      <td>1996</td>\n",
       "      <td>Role-Playing</td>\n",
       "      <td>11.27</td>\n",
       "      <td>8.89</td>\n",
       "      <td>10.22</td>\n",
       "      <td>1.00</td>\n",
       "      <td>NaN</td>\n",
       "      <td>NaN</td>\n",
       "      <td>Unknown</td>\n",
       "      <td>31.38</td>\n",
       "    </tr>\n",
       "  </tbody>\n",
       "</table>\n",
       "</div>"
      ],
      "text/plain": [
       "                       name platform  year_of_release         genre  na_sales  \\\n",
       "0                Wii Sports      Wii             2006        Sports     41.36   \n",
       "1         Super Mario Bros.      NES             1985      Platform     29.08   \n",
       "2            Mario Kart Wii      Wii             2008        Racing     15.68   \n",
       "3         Wii Sports Resort      Wii             2009        Sports     15.61   \n",
       "4  Pokemon Red/Pokemon Blue       GB             1996  Role-Playing     11.27   \n",
       "\n",
       "   eu_sales  jp_sales  other_sales  critic_score  user_score   rating  \\\n",
       "0     28.96      3.77         8.45          76.0         8.0        E   \n",
       "1      3.58      6.81         0.77           NaN         NaN  Unknown   \n",
       "2     12.76      3.79         3.29          82.0         8.3        E   \n",
       "3     10.93      3.28         2.95          80.0         8.0        E   \n",
       "4      8.89     10.22         1.00           NaN         NaN  Unknown   \n",
       "\n",
       "   total_sales  \n",
       "0        82.54  \n",
       "1        40.24  \n",
       "2        35.52  \n",
       "3        32.77  \n",
       "4        31.38  "
      ]
     },
     "execution_count": 52,
     "metadata": {},
     "output_type": "execute_result"
    }
   ],
   "source": [
    "data.head() #control output of top 5 lines after new coilumn added"
   ]
  },
  {
   "cell_type": "markdown",
   "id": "f41b5c42",
   "metadata": {},
   "source": [
    "**В процессе обработки данных было проделано следующее:**  \n",
    "- Все названия столбцов приведены к нижнему регистру\n",
    "- Удалены строки датасета с пропусками в столбцах 'name', 'genre' и 'year_of_release', поскольку их меньше 2% от всего объема данных\n",
    "- Пропуски в столбце 'rating' заполнены значением 'Unknown'\n",
    "- Столбец 'year_of_release' приведен к целому типу  \n",
    "- Столбец 'user_score' приведен к вещественному числу, а встречающиеся значения \"tbd\" заменены на \"NaN\"\n",
    "- Проведена проверка на наличие явных и неявных дубликатов, каковых не обнаружено\n",
    "- В датасет добавлен столбец ‘total_sales’ с посчитанными суммарными продажами по всем регионам."
   ]
  },
  {
   "cell_type": "markdown",
   "id": "1820bd91",
   "metadata": {},
   "source": [
    "## Исследовательский анализ данных"
   ]
  },
  {
   "cell_type": "markdown",
   "id": "e90c80da",
   "metadata": {},
   "source": [
    "### Анализ выпуска игр по годам"
   ]
  },
  {
   "cell_type": "code",
   "execution_count": 53,
   "id": "29f8dab6",
   "metadata": {
    "scrolled": false
   },
   "outputs": [
    {
     "data": {
      "image/png": "[encoded data removed]",
      "text/plain": [
       "<Figure size 1000x500 with 1 Axes>"
      ]
     },
     "metadata": {},
     "output_type": "display_data"
    }
   ],
   "source": [
    "year_data = data.groupby('year_of_release',as_index=False).count()\n",
    "plt.figure(figsize = (10,5))\n",
    "ax = sns.barplot(x='year_of_release', y='name', data=year_data)#priting the bar diagram\n",
    "plt.xticks(rotation=70) #setting the inclined position of x axis labels\n",
    "ax.set_title('Количество выпущенных игр по годам') # setting the diagram title\n",
    "ax.set(xlabel='Год выпуска', ylabel='Количество выпущенных игр'); #setting the axis titles"
   ]
  },
  {
   "cell_type": "markdown",
   "id": "0ffc4aa1",
   "metadata": {},
   "source": [
    "**Вывод: количество выпускаемых игр резко возрастает с 1998 года и этот период мы будем считать актуальным.  \n",
    "Не имеет смысла учитывать в исследовании данные до 1998 года, поскольку их доля в общем количестве слишком мала.**\n"
   ]
  },
  {
   "cell_type": "markdown",
   "id": "b6c82676",
   "metadata": {},
   "source": [
    "### Формирование датасета актуального периода ###"
   ]
  },
  {
   "cell_type": "markdown",
   "id": "9bcd4c86",
   "metadata": {},
   "source": [
    "**Сформируем датасет актуального периода на основании анализа выпуска игр по годам.  \n",
    "Для этого удалим данные с годом выпуска до 1998 года.  \n",
    "Полученный датасет будем использовать для дальнейших исследований.**"
   ]
  },
  {
   "cell_type": "code",
   "execution_count": 54,
   "id": "ccb8eadf",
   "metadata": {},
   "outputs": [
    {
     "name": "stdout",
     "output_type": "stream",
     "text": [
      "<class 'pandas.core.frame.DataFrame'>\n",
      "RangeIndex: 15187 entries, 0 to 15186\n",
      "Data columns (total 12 columns):\n",
      " #   Column           Non-Null Count  Dtype  \n",
      "---  ------           --------------  -----  \n",
      " 0   name             15187 non-null  object \n",
      " 1   platform         15187 non-null  object \n",
      " 2   year_of_release  15187 non-null  int32  \n",
      " 3   genre            15187 non-null  object \n",
      " 4   na_sales         15187 non-null  float64\n",
      " 5   eu_sales         15187 non-null  float64\n",
      " 6   jp_sales         15187 non-null  float64\n",
      " 7   other_sales      15187 non-null  float64\n",
      " 8   critic_score     7954 non-null   float64\n",
      " 9   user_score       7433 non-null   float64\n",
      " 10  rating           15187 non-null  object \n",
      " 11  total_sales      15187 non-null  float64\n",
      "dtypes: float64(7), int32(1), object(4)\n",
      "memory usage: 1.3+ MB\n"
     ]
    },
    {
     "data": {
      "text/html": [
       "<div>\n",
       "<style scoped>\n",
       "    .dataframe tbody tr th:only-of-type {\n",
       "        vertical-align: middle;\n",
       "    }\n",
       "\n",
       "    .dataframe tbody tr th {\n",
       "        vertical-align: top;\n",
       "    }\n",
       "\n",
       "    .dataframe thead th {\n",
       "        text-align: right;\n",
       "    }\n",
       "</style>\n",
       "<table border=\"1\" class=\"dataframe\">\n",
       "  <thead>\n",
       "    <tr style=\"text-align: right;\">\n",
       "      <th></th>\n",
       "      <th>name</th>\n",
       "      <th>platform</th>\n",
       "      <th>year_of_release</th>\n",
       "      <th>genre</th>\n",
       "      <th>na_sales</th>\n",
       "      <th>eu_sales</th>\n",
       "      <th>jp_sales</th>\n",
       "      <th>other_sales</th>\n",
       "      <th>critic_score</th>\n",
       "      <th>user_score</th>\n",
       "      <th>rating</th>\n",
       "      <th>total_sales</th>\n",
       "    </tr>\n",
       "  </thead>\n",
       "  <tbody>\n",
       "    <tr>\n",
       "      <th>0</th>\n",
       "      <td>Wii Sports</td>\n",
       "      <td>Wii</td>\n",
       "      <td>2006</td>\n",
       "      <td>Sports</td>\n",
       "      <td>41.36</td>\n",
       "      <td>28.96</td>\n",
       "      <td>3.77</td>\n",
       "      <td>8.45</td>\n",
       "      <td>76.0</td>\n",
       "      <td>8.0</td>\n",
       "      <td>E</td>\n",
       "      <td>82.54</td>\n",
       "    </tr>\n",
       "    <tr>\n",
       "      <th>1</th>\n",
       "      <td>Mario Kart Wii</td>\n",
       "      <td>Wii</td>\n",
       "      <td>2008</td>\n",
       "      <td>Racing</td>\n",
       "      <td>15.68</td>\n",
       "      <td>12.76</td>\n",
       "      <td>3.79</td>\n",
       "      <td>3.29</td>\n",
       "      <td>82.0</td>\n",
       "      <td>8.3</td>\n",
       "      <td>E</td>\n",
       "      <td>35.52</td>\n",
       "    </tr>\n",
       "    <tr>\n",
       "      <th>2</th>\n",
       "      <td>Wii Sports Resort</td>\n",
       "      <td>Wii</td>\n",
       "      <td>2009</td>\n",
       "      <td>Sports</td>\n",
       "      <td>15.61</td>\n",
       "      <td>10.93</td>\n",
       "      <td>3.28</td>\n",
       "      <td>2.95</td>\n",
       "      <td>80.0</td>\n",
       "      <td>8.0</td>\n",
       "      <td>E</td>\n",
       "      <td>32.77</td>\n",
       "    </tr>\n",
       "    <tr>\n",
       "      <th>3</th>\n",
       "      <td>New Super Mario Bros.</td>\n",
       "      <td>DS</td>\n",
       "      <td>2006</td>\n",
       "      <td>Platform</td>\n",
       "      <td>11.28</td>\n",
       "      <td>9.14</td>\n",
       "      <td>6.50</td>\n",
       "      <td>2.88</td>\n",
       "      <td>89.0</td>\n",
       "      <td>8.5</td>\n",
       "      <td>E</td>\n",
       "      <td>29.80</td>\n",
       "    </tr>\n",
       "    <tr>\n",
       "      <th>4</th>\n",
       "      <td>Wii Play</td>\n",
       "      <td>Wii</td>\n",
       "      <td>2006</td>\n",
       "      <td>Misc</td>\n",
       "      <td>13.96</td>\n",
       "      <td>9.18</td>\n",
       "      <td>2.93</td>\n",
       "      <td>2.84</td>\n",
       "      <td>58.0</td>\n",
       "      <td>6.6</td>\n",
       "      <td>E</td>\n",
       "      <td>28.91</td>\n",
       "    </tr>\n",
       "  </tbody>\n",
       "</table>\n",
       "</div>"
      ],
      "text/plain": [
       "                    name platform  year_of_release     genre  na_sales  \\\n",
       "0             Wii Sports      Wii             2006    Sports     41.36   \n",
       "1         Mario Kart Wii      Wii             2008    Racing     15.68   \n",
       "2      Wii Sports Resort      Wii             2009    Sports     15.61   \n",
       "3  New Super Mario Bros.       DS             2006  Platform     11.28   \n",
       "4               Wii Play      Wii             2006      Misc     13.96   \n",
       "\n",
       "   eu_sales  jp_sales  other_sales  critic_score  user_score rating  \\\n",
       "0     28.96      3.77         8.45          76.0         8.0      E   \n",
       "1     12.76      3.79         3.29          82.0         8.3      E   \n",
       "2     10.93      3.28         2.95          80.0         8.0      E   \n",
       "3      9.14      6.50         2.88          89.0         8.5      E   \n",
       "4      9.18      2.93         2.84          58.0         6.6      E   \n",
       "\n",
       "   total_sales  \n",
       "0        82.54  \n",
       "1        35.52  \n",
       "2        32.77  \n",
       "3        29.80  \n",
       "4        28.91  "
      ]
     },
     "execution_count": 54,
     "metadata": {},
     "output_type": "execute_result"
    }
   ],
   "source": [
    "data = data[data['year_of_release'] >= 1998] # remove the rows outside the actual period\n",
    "data = data.reset_index(drop=True)\n",
    "data.info()# checking the parameters of actual period dataset\n",
    "data.head()"
   ]
  },
  {
   "cell_type": "markdown",
   "id": "2e2a2e49",
   "metadata": {},
   "source": [
    "**В датасет актуального периода вошло 92% данных, следовательно сильного искажения результатов исследования не будет.  \n",
    "Общее число строк уменьшилось, но при этом не изменилось число строк с заполненными значениями столбцов 'critic_score', 'user_score', 'rating'.  \n",
    "Можно предположить, что эти характеристики появились в данных позже, чем начало актуального периода.**"
   ]
  },
  {
   "cell_type": "markdown",
   "id": "7305bcd4",
   "metadata": {},
   "source": [
    "### Анализ продаж по платформам ###"
   ]
  },
  {
   "cell_type": "markdown",
   "id": "109770c3",
   "metadata": {},
   "source": [
    "**Проанализируем объем продаж игр по разным платформам и выберем самые популярные, т.е. с наибольшими суммарными продажами** "
   ]
  },
  {
   "cell_type": "code",
   "execution_count": 55,
   "id": "947d26f5",
   "metadata": {},
   "outputs": [
    {
     "data": {
      "image/png": "[encoded data removed]",
      "text/plain": [
       "<Figure size 1000x500 with 1 Axes>"
      ]
     },
     "metadata": {},
     "output_type": "display_data"
    }
   ],
   "source": [
    "year_data = data.groupby('platform',as_index=False).sum().sort_values(by='total_sales', ascending=False)\n",
    "plt.figure(figsize = (10,5))\n",
    "ax = sns.barplot(x='platform', y='total_sales', data=year_data)#priting the bar diagram\n",
    "plt.xticks(rotation=70) #setting the inclined position of x axis labels\n",
    "\n",
    "ax.set_title('Объем продаж игр по платформам') # setting the diagram title\n",
    "ax.set(xlabel='Платформа', ylabel='Продажи'); #setting the axis titles"
   ]
  },
  {
   "cell_type": "markdown",
   "id": "bd5e430c",
   "metadata": {},
   "source": [
    "**Вывод: наибольший объем продаж наблюдается на платформах PS2, X360, PS3, Wii, DS**"
   ]
  },
  {
   "cell_type": "markdown",
   "id": "ce1bc03c",
   "metadata": {},
   "source": [
    "**Проанализируем изменение продаж по годам по наиболее популярным платформам:PS2, X360, PS3, Wii, DS. Определим характерный срок жизни платформ**  \n",
    "    "
   ]
  },
  {
   "cell_type": "code",
   "execution_count": 56,
   "id": "f33d9123",
   "metadata": {},
   "outputs": [],
   "source": [
    "#selecting the data for selected top-5 most popular platforms\n",
    "year_platform = data.groupby(['year_of_release','platform'],as_index=False).agg({'total_sales':'sum'})\n",
    "top_platforms=data.groupby('platform').\\\n",
    "                   agg({'total_sales': 'sum'}).\\\n",
    "                   sort_values(by='total_sales', ascending=False).\\\n",
    "                   head(5).index.to_list()\n",
    "year_platform = year_platform[year_platform['platform'].isin(top_platforms)]\n",
    "year_platform = year_platform.reset_index(drop=True)"
   ]
  },
  {
   "cell_type": "code",
   "execution_count": 57,
   "id": "c85c08a1",
   "metadata": {},
   "outputs": [
    {
     "data": {
      "text/plain": [
       "['PS2', 'X360', 'PS3', 'Wii', 'DS']"
      ]
     },
     "execution_count": 57,
     "metadata": {},
     "output_type": "execute_result"
    }
   ],
   "source": [
    "# код ревьюера\n",
    "data.groupby('platform').agg({'total_sales': 'sum'}).sort_values(by='total_sales', ascending=False).head(5).index.to_list()"
   ]
  },
  {
   "cell_type": "code",
   "execution_count": 58,
   "id": "77a49262",
   "metadata": {},
   "outputs": [
    {
     "data": {
      "image/png": "[encoded data removed]",
      "text/plain": [
       "<Figure size 1000x500 with 1 Axes>"
      ]
     },
     "metadata": {},
     "output_type": "display_data"
    }
   ],
   "source": [
    "#priting the bar diagram\n",
    "plt.figure(figsize = (10,5))\n",
    "ax = sns.barplot(x='year_of_release', \n",
    "            y='total_sales',\n",
    "            hue='platform',\n",
    "            data=year_platform,\n",
    ")\n",
    "plt.xticks(rotation=70) #setting the inclined position of x axis labels\n",
    "ax.set_title('Распределение продаж по годам для самых популярных платформ') # setting the diagram title\n",
    "ax.set(xlabel='Год', ylabel='Продажи по всем регионам');#setting the axis titles"
   ]
  },
  {
   "cell_type": "markdown",
   "id": "deeae3b6",
   "metadata": {},
   "source": [
    "**Вывод:характерный период, за который появляются новые и исчезают старые платформы - около 10 лет**"
   ]
  },
  {
   "cell_type": "markdown",
   "id": "36ec0b63",
   "metadata": {},
   "source": [
    "**Для выбора потенциально прибыльных платформ следует сократить актуальный период до 3 лет, т.е. около трети характерного срока жизни платформы, чтобы большая часть периодва жизни перспективных платформ попадала в прогнозируемый период. Не имеет cмысла анализировать данные по платформах,\n",
    "которые скоро сойдут со сцены, поскольку мы выбираем перспективные платформы на будущее. \n",
    "Учитывая высокую динамичность рынка, для дальнейшего анализа нам потребуются данные по платформам, возникшим не ранее 3 лет назад по отношению к 2017 году, на который нам нужно сделать прогноз и запланировать рекламные кампании. Так мы сможем выделить успешные платформы, которые на 2017 год будут находиться в периоде финального роста или выйдут на плато.  \n",
    "Кроме того, общий уровень выпуска игр за период с 2012 года сильно упал по сравнению с предыдущими годами, что может свидетельствовать о структурных изменениях спроса, возможно вследствие экономического кризиса 2008 года**"
   ]
  },
  {
   "cell_type": "code",
   "execution_count": 59,
   "id": "ceda384d",
   "metadata": {},
   "outputs": [],
   "source": [
    "data_actual = data[data['year_of_release'] >= 2014] # remove the rows outside the corrected 3-year actual period\n",
    "data = data.reset_index(drop=True)"
   ]
  },
  {
   "cell_type": "markdown",
   "id": "553f4e7a",
   "metadata": {},
   "source": [
    "**Установим наиболее популярные платформы за последние 3 года**"
   ]
  },
  {
   "cell_type": "code",
   "execution_count": 60,
   "id": "0f3493e2",
   "metadata": {},
   "outputs": [],
   "source": [
    "#selecting the data for selected top-5 most popular platforms\n",
    "popular_platform = data_actual.groupby(['year_of_release','platform'],as_index=False).agg({'total_sales':'sum'})\n",
    "popular_platform = popular_platform.reset_index(drop=True)"
   ]
  },
  {
   "cell_type": "code",
   "execution_count": 61,
   "id": "550565eb",
   "metadata": {},
   "outputs": [
    {
     "data": {
      "image/png": "[encoded data removed]",
      "text/plain": [
       "<Figure size 1000x500 with 1 Axes>"
      ]
     },
     "metadata": {},
     "output_type": "display_data"
    }
   ],
   "source": [
    "#priting the bar diagram\n",
    "plt.figure(figsize = (10,5))\n",
    "ax = sns.barplot(x='year_of_release', \n",
    "            y='total_sales',\n",
    "            hue='platform',\n",
    "            data=popular_platform,\n",
    ")\n",
    "plt.xticks(rotation=70) #setting the inclined position of x axis labels\n",
    "ax.set_title('Распределение продаж по годам для всех платформ за последние 3 года') # setting the diagram title\n",
    "ax.set(xlabel='Год', ylabel='Продажи по всем регионам');#setting the axis titles"
   ]
  },
  {
   "cell_type": "markdown",
   "id": "6a0d83ab",
   "metadata": {},
   "source": [
    "**Вывод: за последние 3 года изначально лидировавшие по продажам платформы 3DS, PS3 и X360 практически сошли со сцены. Им на замену появились две новые платформы PS4 и XOne, которые являются лидерами продаж и укрепляют лидерство год от года. Именно их и следует считать наиболее прибыльными.**"
   ]
  },
  {
   "cell_type": "markdown",
   "id": "7156818c",
   "metadata": {},
   "source": [
    "**Проанализируем  глобальные продажи игр в разбивке по платформам**"
   ]
  },
  {
   "cell_type": "code",
   "execution_count": 62,
   "id": "7d213cd6",
   "metadata": {},
   "outputs": [
    {
     "data": {
      "text/plain": [
       "(0.0, 2.0)"
      ]
     },
     "execution_count": 62,
     "metadata": {},
     "output_type": "execute_result"
    },
    {
     "data": {
      "image/png": "[encoded data removed]",
      "text/plain": [
       "<Figure size 1000x500 with 1 Axes>"
      ]
     },
     "metadata": {},
     "output_type": "display_data"
    }
   ],
   "source": [
    "plt.figure(figsize = (10,5))\n",
    "sns.boxplot(y='platform', x='total_sales',data=data_actual, orient=\"h\");# drawing the boxplot\n",
    "plt.xlim(0, 2)"
   ]
  },
  {
   "cell_type": "markdown",
   "id": "b1041e76",
   "metadata": {},
   "source": [
    "**Вывод: На диаграмме имеются выбросы - это предположительно самые популярные игры, объем продаж которых сильно превышает показатели остальных игр. Для двух самых популярных и перспективных, начиная с 2014 года платформ PS4 и XOne картина по медиане продаж и межквартильному размаху очень похожа между собой. Следовательно в целом для самых популярных платформ картина продаж незначительно меняется в зависимости от платформы.**"
   ]
  },
  {
   "cell_type": "markdown",
   "id": "8a02a4f2",
   "metadata": {},
   "source": [
    "### Анализ влияния отзывов пользователей и критиков на продажи."
   ]
  },
  {
   "cell_type": "markdown",
   "id": "58052a63",
   "metadata": {},
   "source": [
    "Определим функцию, выводящую на экран диаграмму рассеяния"
   ]
  },
  {
   "cell_type": "code",
   "execution_count": 63,
   "id": "5cb636f5",
   "metadata": {
    "scrolled": false
   },
   "outputs": [],
   "source": [
    "def scatter_sales(x_axis,y_axis,data,x_limit):# function draws the scattering diagram of sales\n",
    "    data.plot(x=x_axis, \n",
    "          y=y_axis,\n",
    "          kind='scatter',\n",
    "          xlim=(0, x_limit),\n",
    "          ylim=(0, 10), \n",
    "          grid=True, \n",
    "          figsize=(10, 5));\n",
    "    "
   ]
  },
  {
   "cell_type": "markdown",
   "id": "1ac974da",
   "metadata": {},
   "source": [
    "Определим функцию, вычисляющую корреляцию"
   ]
  },
  {
   "cell_type": "code",
   "execution_count": 64,
   "id": "d73bfb2b",
   "metadata": {
    "scrolled": false
   },
   "outputs": [],
   "source": [
    "def correlation(x,y,df): #function calculates and prints the correlation between two columns in the dataframe\n",
    "    display(df[[x,y]].corr())"
   ]
  },
  {
   "cell_type": "markdown",
   "id": "9ff3c608",
   "metadata": {},
   "source": [
    "**Проанализируем влияние отзывов пользователей и критиков на продажи на самой популярной к 2016 году платформе PS4**"
   ]
  },
  {
   "cell_type": "markdown",
   "id": "eb920b85",
   "metadata": {},
   "source": [
    "Сформируем датасет для платформы PS4"
   ]
  },
  {
   "cell_type": "code",
   "execution_count": 65,
   "id": "bc7e1df6",
   "metadata": {},
   "outputs": [],
   "source": [
    "data_score_ps4 = data_actual[data_actual['platform'] == 'PS4'] # creating dataset for PS4 analysis"
   ]
  },
  {
   "cell_type": "markdown",
   "id": "341eab6b",
   "metadata": {},
   "source": [
    "***Проанализируем влияние отзывов пользователей***"
   ]
  },
  {
   "cell_type": "code",
   "execution_count": 66,
   "id": "ef1ff925",
   "metadata": {},
   "outputs": [
    {
     "data": {
      "image/png": "[encoded data removed]",
      "text/plain": [
       "<Figure size 1000x500 with 1 Axes>"
      ]
     },
     "metadata": {},
     "output_type": "display_data"
    }
   ],
   "source": [
    "scatter_sales('user_score','total_sales',data_score_ps4,10)"
   ]
  },
  {
   "cell_type": "markdown",
   "id": "7ef68b17",
   "metadata": {
    "scrolled": false
   },
   "source": [
    "***Посчитаем корреляцию между отзывами пользователей и продажами***"
   ]
  },
  {
   "cell_type": "code",
   "execution_count": 67,
   "id": "4b73d6c2",
   "metadata": {},
   "outputs": [
    {
     "data": {
      "text/html": [
       "<div>\n",
       "<style scoped>\n",
       "    .dataframe tbody tr th:only-of-type {\n",
       "        vertical-align: middle;\n",
       "    }\n",
       "\n",
       "    .dataframe tbody tr th {\n",
       "        vertical-align: top;\n",
       "    }\n",
       "\n",
       "    .dataframe thead th {\n",
       "        text-align: right;\n",
       "    }\n",
       "</style>\n",
       "<table border=\"1\" class=\"dataframe\">\n",
       "  <thead>\n",
       "    <tr style=\"text-align: right;\">\n",
       "      <th></th>\n",
       "      <th>user_score</th>\n",
       "      <th>total_sales</th>\n",
       "    </tr>\n",
       "  </thead>\n",
       "  <tbody>\n",
       "    <tr>\n",
       "      <th>user_score</th>\n",
       "      <td>1.000000</td>\n",
       "      <td>-0.040132</td>\n",
       "    </tr>\n",
       "    <tr>\n",
       "      <th>total_sales</th>\n",
       "      <td>-0.040132</td>\n",
       "      <td>1.000000</td>\n",
       "    </tr>\n",
       "  </tbody>\n",
       "</table>\n",
       "</div>"
      ],
      "text/plain": [
       "             user_score  total_sales\n",
       "user_score     1.000000    -0.040132\n",
       "total_sales   -0.040132     1.000000"
      ]
     },
     "metadata": {},
     "output_type": "display_data"
    }
   ],
   "source": [
    "correlation('user_score','total_sales',data_score_ps4)"
   ]
  },
  {
   "cell_type": "markdown",
   "id": "46152ba7",
   "metadata": {},
   "source": [
    "**Вывод: зависимость между отзывами пользователей продажами игр на данной платформе практически отсутствует. Выбросы на графике могут объясняться общей сверхвысокой популярностью игры у покупателей**"
   ]
  },
  {
   "cell_type": "markdown",
   "id": "a578fafe",
   "metadata": {},
   "source": [
    "***Проанализируем влияние отзывов критиков***"
   ]
  },
  {
   "cell_type": "code",
   "execution_count": 68,
   "id": "205af0b9",
   "metadata": {},
   "outputs": [
    {
     "data": {
      "image/png": "[encoded data removed]",
      "text/plain": [
       "<Figure size 1000x500 with 1 Axes>"
      ]
     },
     "metadata": {},
     "output_type": "display_data"
    }
   ],
   "source": [
    "scatter_sales('critic_score','total_sales',data_score_ps4,100)"
   ]
  },
  {
   "cell_type": "markdown",
   "id": "aeb79d6e",
   "metadata": {},
   "source": [
    "***Посчитаем корреляцию  между отзывами критиков и продажами***"
   ]
  },
  {
   "cell_type": "code",
   "execution_count": 69,
   "id": "380f9c41",
   "metadata": {},
   "outputs": [
    {
     "data": {
      "text/html": [
       "<div>\n",
       "<style scoped>\n",
       "    .dataframe tbody tr th:only-of-type {\n",
       "        vertical-align: middle;\n",
       "    }\n",
       "\n",
       "    .dataframe tbody tr th {\n",
       "        vertical-align: top;\n",
       "    }\n",
       "\n",
       "    .dataframe thead th {\n",
       "        text-align: right;\n",
       "    }\n",
       "</style>\n",
       "<table border=\"1\" class=\"dataframe\">\n",
       "  <thead>\n",
       "    <tr style=\"text-align: right;\">\n",
       "      <th></th>\n",
       "      <th>critic_score</th>\n",
       "      <th>total_sales</th>\n",
       "    </tr>\n",
       "  </thead>\n",
       "  <tbody>\n",
       "    <tr>\n",
       "      <th>critic_score</th>\n",
       "      <td>1.000000</td>\n",
       "      <td>0.402661</td>\n",
       "    </tr>\n",
       "    <tr>\n",
       "      <th>total_sales</th>\n",
       "      <td>0.402661</td>\n",
       "      <td>1.000000</td>\n",
       "    </tr>\n",
       "  </tbody>\n",
       "</table>\n",
       "</div>"
      ],
      "text/plain": [
       "              critic_score  total_sales\n",
       "critic_score      1.000000     0.402661\n",
       "total_sales       0.402661     1.000000"
      ]
     },
     "metadata": {},
     "output_type": "display_data"
    }
   ],
   "source": [
    "correlation('critic_score','total_sales',data_score_ps4) "
   ]
  },
  {
   "cell_type": "markdown",
   "id": "89e79539",
   "metadata": {},
   "source": [
    "**Вывод: наблюдается некоторая зависимость между продажами и отзывами критиков, в отличие от отзывов пользователей**"
   ]
  },
  {
   "cell_type": "markdown",
   "id": "727f2b69",
   "metadata": {},
   "source": [
    "**Для сравнения проведем аналогичный анализ для второй лидирующей к 2016 году платформы - XOne, а также для лидера недавнего прошлого - PS3**"
   ]
  },
  {
   "cell_type": "markdown",
   "id": "a3063762",
   "metadata": {},
   "source": [
    "**Проанализируем влияние отзывов пользователей и критиков на продажи на платформе XOne**"
   ]
  },
  {
   "cell_type": "markdown",
   "id": "a492c914",
   "metadata": {},
   "source": [
    "Сформируем датасет для платформы XOne"
   ]
  },
  {
   "cell_type": "code",
   "execution_count": 70,
   "id": "efdaf9e0",
   "metadata": {},
   "outputs": [],
   "source": [
    "data_score_xone = data_actual[data_actual['platform'] == 'XOne'] # creating dataset for XOne analysis"
   ]
  },
  {
   "cell_type": "markdown",
   "id": "a6f00a80",
   "metadata": {},
   "source": [
    "***Проанализируем влияние отзывов пользователей.***"
   ]
  },
  {
   "cell_type": "code",
   "execution_count": 71,
   "id": "a3c9117c",
   "metadata": {},
   "outputs": [
    {
     "data": {
      "image/png": "[encoded data removed]",
      "text/plain": [
       "<Figure size 1000x500 with 1 Axes>"
      ]
     },
     "metadata": {},
     "output_type": "display_data"
    }
   ],
   "source": [
    "scatter_sales('user_score','total_sales',data_score_xone,10)"
   ]
  },
  {
   "cell_type": "markdown",
   "id": "8bc76aa1",
   "metadata": {},
   "source": [
    "***Посчитаем корреляцию  между отзывами пользователей и продажами***"
   ]
  },
  {
   "cell_type": "code",
   "execution_count": 72,
   "id": "4facea7b",
   "metadata": {},
   "outputs": [
    {
     "data": {
      "text/html": [
       "<div>\n",
       "<style scoped>\n",
       "    .dataframe tbody tr th:only-of-type {\n",
       "        vertical-align: middle;\n",
       "    }\n",
       "\n",
       "    .dataframe tbody tr th {\n",
       "        vertical-align: top;\n",
       "    }\n",
       "\n",
       "    .dataframe thead th {\n",
       "        text-align: right;\n",
       "    }\n",
       "</style>\n",
       "<table border=\"1\" class=\"dataframe\">\n",
       "  <thead>\n",
       "    <tr style=\"text-align: right;\">\n",
       "      <th></th>\n",
       "      <th>user_score</th>\n",
       "      <th>total_sales</th>\n",
       "    </tr>\n",
       "  </thead>\n",
       "  <tbody>\n",
       "    <tr>\n",
       "      <th>user_score</th>\n",
       "      <td>1.000000</td>\n",
       "      <td>-0.070384</td>\n",
       "    </tr>\n",
       "    <tr>\n",
       "      <th>total_sales</th>\n",
       "      <td>-0.070384</td>\n",
       "      <td>1.000000</td>\n",
       "    </tr>\n",
       "  </tbody>\n",
       "</table>\n",
       "</div>"
      ],
      "text/plain": [
       "             user_score  total_sales\n",
       "user_score     1.000000    -0.070384\n",
       "total_sales   -0.070384     1.000000"
      ]
     },
     "metadata": {},
     "output_type": "display_data"
    }
   ],
   "source": [
    "correlation('user_score','total_sales',data_score_xone)"
   ]
  },
  {
   "cell_type": "markdown",
   "id": "fd1ca60b",
   "metadata": {},
   "source": [
    "**Вывод: ситуация у XOne похожа на PS4 - зависимости между продажами и отзывами пользователей также не наблюдается.**"
   ]
  },
  {
   "cell_type": "markdown",
   "id": "49a09521",
   "metadata": {},
   "source": [
    "***Проанализируем влияние на продажи отзывов критиков.***"
   ]
  },
  {
   "cell_type": "code",
   "execution_count": 73,
   "id": "e6b06283",
   "metadata": {},
   "outputs": [
    {
     "data": {
      "image/png": "[encoded data removed]",
      "text/plain": [
       "<Figure size 1000x500 with 1 Axes>"
      ]
     },
     "metadata": {},
     "output_type": "display_data"
    }
   ],
   "source": [
    "scatter_sales('critic_score','total_sales',data_score_xone,100)"
   ]
  },
  {
   "cell_type": "markdown",
   "id": "9bbf2d61",
   "metadata": {},
   "source": [
    "***Посчитаем корреляцию  между отзывами критиков и продажами***"
   ]
  },
  {
   "cell_type": "code",
   "execution_count": 74,
   "id": "d6bb9cf9",
   "metadata": {},
   "outputs": [
    {
     "data": {
      "text/html": [
       "<div>\n",
       "<style scoped>\n",
       "    .dataframe tbody tr th:only-of-type {\n",
       "        vertical-align: middle;\n",
       "    }\n",
       "\n",
       "    .dataframe tbody tr th {\n",
       "        vertical-align: top;\n",
       "    }\n",
       "\n",
       "    .dataframe thead th {\n",
       "        text-align: right;\n",
       "    }\n",
       "</style>\n",
       "<table border=\"1\" class=\"dataframe\">\n",
       "  <thead>\n",
       "    <tr style=\"text-align: right;\">\n",
       "      <th></th>\n",
       "      <th>critic_score</th>\n",
       "      <th>total_sales</th>\n",
       "    </tr>\n",
       "  </thead>\n",
       "  <tbody>\n",
       "    <tr>\n",
       "      <th>critic_score</th>\n",
       "      <td>1.000000</td>\n",
       "      <td>0.428677</td>\n",
       "    </tr>\n",
       "    <tr>\n",
       "      <th>total_sales</th>\n",
       "      <td>0.428677</td>\n",
       "      <td>1.000000</td>\n",
       "    </tr>\n",
       "  </tbody>\n",
       "</table>\n",
       "</div>"
      ],
      "text/plain": [
       "              critic_score  total_sales\n",
       "critic_score      1.000000     0.428677\n",
       "total_sales       0.428677     1.000000"
      ]
     },
     "metadata": {},
     "output_type": "display_data"
    }
   ],
   "source": [
    "correlation('critic_score','total_sales',data_score_xone) "
   ]
  },
  {
   "cell_type": "markdown",
   "id": "439c5e78",
   "metadata": {},
   "source": [
    "**Вывод: ситуация у XOne здесь также похожа на PS4 - наблюдается некоторая зависимость между продажами и отзывами критиков.**"
   ]
  },
  {
   "cell_type": "markdown",
   "id": "6f94fbfc",
   "metadata": {},
   "source": [
    "**Проанализируем влияние отзывов пользователей и критиков на продажи на платформе PS3.**"
   ]
  },
  {
   "cell_type": "markdown",
   "id": "ebe2258b",
   "metadata": {},
   "source": [
    "Сформируем датасет для платформы PS3"
   ]
  },
  {
   "cell_type": "code",
   "execution_count": 75,
   "id": "78d917c5",
   "metadata": {},
   "outputs": [],
   "source": [
    "data_score_ps3 = data_actual[data_actual['platform'] == 'PS3'] # creating dataset for XOne analysis"
   ]
  },
  {
   "cell_type": "markdown",
   "id": "8ef2ef24",
   "metadata": {},
   "source": [
    "***Проанализируем влияние отзывов пользователей.***"
   ]
  },
  {
   "cell_type": "code",
   "execution_count": 76,
   "id": "5e30ca87",
   "metadata": {
    "scrolled": false
   },
   "outputs": [
    {
     "data": {
      "image/png": "[encoded data removed]",
      "text/plain": [
       "<Figure size 1000x500 with 1 Axes>"
      ]
     },
     "metadata": {},
     "output_type": "display_data"
    }
   ],
   "source": [
    "scatter_sales('user_score','total_sales',data_score_ps3,10)"
   ]
  },
  {
   "cell_type": "markdown",
   "id": "48239688",
   "metadata": {},
   "source": [
    "***Посчитаем корреляцию  между отзывами пользователей и продажами***"
   ]
  },
  {
   "cell_type": "code",
   "execution_count": 77,
   "id": "e9cbd4f7",
   "metadata": {},
   "outputs": [
    {
     "data": {
      "text/html": [
       "<div>\n",
       "<style scoped>\n",
       "    .dataframe tbody tr th:only-of-type {\n",
       "        vertical-align: middle;\n",
       "    }\n",
       "\n",
       "    .dataframe tbody tr th {\n",
       "        vertical-align: top;\n",
       "    }\n",
       "\n",
       "    .dataframe thead th {\n",
       "        text-align: right;\n",
       "    }\n",
       "</style>\n",
       "<table border=\"1\" class=\"dataframe\">\n",
       "  <thead>\n",
       "    <tr style=\"text-align: right;\">\n",
       "      <th></th>\n",
       "      <th>user_score</th>\n",
       "      <th>total_sales</th>\n",
       "    </tr>\n",
       "  </thead>\n",
       "  <tbody>\n",
       "    <tr>\n",
       "      <th>user_score</th>\n",
       "      <td>1.000000</td>\n",
       "      <td>-0.166761</td>\n",
       "    </tr>\n",
       "    <tr>\n",
       "      <th>total_sales</th>\n",
       "      <td>-0.166761</td>\n",
       "      <td>1.000000</td>\n",
       "    </tr>\n",
       "  </tbody>\n",
       "</table>\n",
       "</div>"
      ],
      "text/plain": [
       "             user_score  total_sales\n",
       "user_score     1.000000    -0.166761\n",
       "total_sales   -0.166761     1.000000"
      ]
     },
     "metadata": {},
     "output_type": "display_data"
    }
   ],
   "source": [
    "correlation('user_score','total_sales',data_score_ps3)"
   ]
  },
  {
   "cell_type": "markdown",
   "id": "a9240f74",
   "metadata": {},
   "source": [
    "**Вывод: ситуация у PS3 также похожа на PS4 и XOne - зависимости между продажами и отзывами пользователей не наблюдается.**"
   ]
  },
  {
   "cell_type": "markdown",
   "id": "2acf5e2f",
   "metadata": {},
   "source": [
    "***Проанализируем влияние на продажи отзывов критиков.***"
   ]
  },
  {
   "cell_type": "code",
   "execution_count": 78,
   "id": "9297b33c",
   "metadata": {},
   "outputs": [
    {
     "data": {
      "image/png": "[encoded data removed]",
      "text/plain": [
       "<Figure size 1000x500 with 1 Axes>"
      ]
     },
     "metadata": {},
     "output_type": "display_data"
    }
   ],
   "source": [
    "scatter_sales('critic_score','total_sales',data_score_ps3,100)"
   ]
  },
  {
   "cell_type": "markdown",
   "id": "6c766716",
   "metadata": {},
   "source": [
    "Посчитаем корреляцию  между отзывами критиков и продажами"
   ]
  },
  {
   "cell_type": "code",
   "execution_count": 79,
   "id": "db35b249",
   "metadata": {},
   "outputs": [
    {
     "data": {
      "text/html": [
       "<div>\n",
       "<style scoped>\n",
       "    .dataframe tbody tr th:only-of-type {\n",
       "        vertical-align: middle;\n",
       "    }\n",
       "\n",
       "    .dataframe tbody tr th {\n",
       "        vertical-align: top;\n",
       "    }\n",
       "\n",
       "    .dataframe thead th {\n",
       "        text-align: right;\n",
       "    }\n",
       "</style>\n",
       "<table border=\"1\" class=\"dataframe\">\n",
       "  <thead>\n",
       "    <tr style=\"text-align: right;\">\n",
       "      <th></th>\n",
       "      <th>critic_score</th>\n",
       "      <th>total_sales</th>\n",
       "    </tr>\n",
       "  </thead>\n",
       "  <tbody>\n",
       "    <tr>\n",
       "      <th>critic_score</th>\n",
       "      <td>1.000000</td>\n",
       "      <td>0.446575</td>\n",
       "    </tr>\n",
       "    <tr>\n",
       "      <th>total_sales</th>\n",
       "      <td>0.446575</td>\n",
       "      <td>1.000000</td>\n",
       "    </tr>\n",
       "  </tbody>\n",
       "</table>\n",
       "</div>"
      ],
      "text/plain": [
       "              critic_score  total_sales\n",
       "critic_score      1.000000     0.446575\n",
       "total_sales       0.446575     1.000000"
      ]
     },
     "metadata": {},
     "output_type": "display_data"
    }
   ],
   "source": [
    "correlation('critic_score','total_sales',data_score_ps3) "
   ]
  },
  {
   "cell_type": "markdown",
   "id": "3defa40d",
   "metadata": {},
   "source": [
    "**Вывод: у платформы PS3 также наблюдается некоторая зависимость между продажами и отзывами критиков. В целом можно отметить, что на всех трех лидирующих по продажам за актуальный период исследования платформам ситуация очень похожая: продажи практически не зависят от отзывов пользователей, но наблюдается некоторая зависимость между продажами и отзывами критиков.** "
   ]
  },
  {
   "cell_type": "markdown",
   "id": "ec7f6091",
   "metadata": {},
   "source": [
    "### Анализ выпуска и продаж игр по жанрам."
   ]
  },
  {
   "cell_type": "markdown",
   "id": "216c9849",
   "metadata": {},
   "source": [
    "**Проанализируем количество выпущенных игр в различных жанрах**"
   ]
  },
  {
   "cell_type": "code",
   "execution_count": 80,
   "id": "a48876ce",
   "metadata": {
    "scrolled": false
   },
   "outputs": [
    {
     "data": {
      "image/png": "[encoded data removed]",
      "text/plain": [
       "<Figure size 1000x500 with 1 Axes>"
      ]
     },
     "metadata": {},
     "output_type": "display_data"
    }
   ],
   "source": [
    "#grouping the data by genre with count\n",
    "genre_count = data_actual.groupby('genre',as_index=False).count().sort_values(by='name', ascending=False) \n",
    "\n",
    "#priting the bar diagram\n",
    "plt.figure(figsize = (10,5))\n",
    "ax = sns.barplot(x='genre', y='name', data=genre_count)\n",
    "\n",
    "#setting the inclined position of x axis labels\n",
    "plt.xticks(rotation=70) \n",
    "\n",
    "# setting the diagram title\n",
    "ax.set_title('Количество выпущенных игр по жанрам') \n",
    "\n",
    "#setting the axis titles\n",
    "ax.set(xlabel='Жанр игры', ylabel='Количество выпущенных игр'); "
   ]
  },
  {
   "cell_type": "markdown",
   "id": "3fdf2832",
   "metadata": {},
   "source": [
    "**Вывод: количество выпущенных игр различается в разных жанрах. Больше всего выпущено игр в жанрах \"Action\",  \"Role-Playing\" и \"Adventure\", причем \"Action\" лидирует с большим отрывом**"
   ]
  },
  {
   "cell_type": "markdown",
   "id": "fa59f94d",
   "metadata": {},
   "source": [
    "**Проанализируем продажи игр в различных жанрах**"
   ]
  },
  {
   "cell_type": "code",
   "execution_count": 81,
   "id": "e978b131",
   "metadata": {
    "scrolled": false
   },
   "outputs": [
    {
     "data": {
      "image/png": "[encoded data removed]",
      "text/plain": [
       "<Figure size 1000x500 with 1 Axes>"
      ]
     },
     "metadata": {},
     "output_type": "display_data"
    }
   ],
   "source": [
    "#grouping the data by genre and calculating sum\n",
    "genre_sum = data_actual.groupby('genre',as_index=False).sum().sort_values(by='total_sales', ascending=False) \n",
    "\n",
    "#priting the bar diagram\n",
    "plt.figure(figsize = (10,5))\n",
    "ax = sns.barplot(x='genre', y='total_sales', data=genre_sum)\n",
    "\n",
    "#setting the inclined position of x axis labels\n",
    "plt.xticks(rotation=70) \n",
    "\n",
    "# setting the diagram title\n",
    "ax.set_title('Объем продаж игр по жанрам') \n",
    "\n",
    "#setting the axis titles\n",
    "ax.set(xlabel='Жанр игры', ylabel='Объем продаж'); "
   ]
  },
  {
   "cell_type": "markdown",
   "id": "fd88bc31",
   "metadata": {},
   "source": [
    "**Вывод: Объем продаж игр также различается в разных жанрах. Лидерами продаж являются жанраы \"Action\", \"Shooter\"  и \"Sports\". Жанр \"Action\" является лидером как по объему выпущенных игр, так и по продажам.  \n",
    "Жанр \"Shooter\" можно было бы считать несколько недооцененным по количеству выпущенных игр при том, что он второй по прибыльности.  \n",
    "Также есть жанры с очень низкими продажами: \"Puzzle\" и \"Strategy\", вероятно имеющие нишевый спрос у любителей логических игр, которых может быть в целом меньше, чем остальных игроков.**"
   ]
  },
  {
   "cell_type": "markdown",
   "id": "7b33961e",
   "metadata": {},
   "source": [
    "## Составление портрета пользователя каждого региона"
   ]
  },
  {
   "cell_type": "markdown",
   "id": "5ffcea5d",
   "metadata": {},
   "source": [
    "Определим функцию, выводящую на экран диаграммы, необходимые для анализа"
   ]
  },
  {
   "cell_type": "code",
   "execution_count": 82,
   "id": "43be70a2",
   "metadata": {},
   "outputs": [],
   "source": [
    "# function draws the barplot diagram of sales\n",
    "def barplot_sales(df,x_axis,y_axis,barplot_title,x_label, y_label):\n",
    "    plt.figure(figsize = (10,5))\n",
    "    ax = sns.barplot(x=x_axis, y=y_axis, data=df)\n",
    "    \n",
    "    # setting the inclined position of x axis labels\n",
    "    plt.xticks(rotation=70) \n",
    "    \n",
    "    # setting the diagram title\n",
    "    ax.set_title(barplot_title) \n",
    "    \n",
    "    #setting the axis titles\n",
    "    ax.set(xlabel=x_label, ylabel=y_label); "
   ]
  },
  {
   "cell_type": "markdown",
   "id": "92e0aa44",
   "metadata": {},
   "source": [
    "### Портрет пользователя региона \"NA\"."
   ]
  },
  {
   "cell_type": "markdown",
   "id": "c08725d1",
   "metadata": {},
   "source": [
    "**Самые популярные платформы (топ-5).**"
   ]
  },
  {
   "cell_type": "code",
   "execution_count": 83,
   "id": "6d2054c2",
   "metadata": {},
   "outputs": [
    {
     "data": {
      "image/png": "[encoded data removed]",
      "text/plain": [
       "<Figure size 1000x500 with 1 Axes>"
      ]
     },
     "metadata": {},
     "output_type": "display_data"
    }
   ],
   "source": [
    "# grouping actual data by platform\n",
    "platform_data = data_actual.groupby('platform',as_index=False).sum().\\\n",
    "                            sort_values(by='na_sales', ascending=False)\n",
    "\n",
    "# priting the bar diagram\n",
    "barplot_sales(platform_data,\\\n",
    "              'platform',\\\n",
    "              'na_sales',\\\n",
    "              'Объем продаж игр по платформам в регионе \"NA\"',\\\n",
    "              'Платформа',\\\n",
    "              'Продажи')"
   ]
  },
  {
   "cell_type": "markdown",
   "id": "2d64b892",
   "metadata": {},
   "source": [
    "**Вывод: в регионе \"NA\" лидером продаж является актуальная на 2016 год платформа PS4. На втором местесте также  актуальная платформа XOne. Обе платформы в сумме лидируют с большим отрывом, имея впереди достаточно большой запас по сроку жизни, что подтверждает их перспективность. Далее следуют X360, 3DS и PS3, причем как X360, так и PS3 - уже устаревшие платформы, продажи которых уже не будут расти. Следовательно лидерство платформ PS4 и XOne может укрепляться и дальше.**"
   ]
  },
  {
   "cell_type": "markdown",
   "id": "2744a0e2",
   "metadata": {},
   "source": [
    "**Самые популярные жанры (топ-5).**"
   ]
  },
  {
   "cell_type": "code",
   "execution_count": 84,
   "id": "47dac886",
   "metadata": {
    "scrolled": false
   },
   "outputs": [
    {
     "data": {
      "image/png": "[encoded data removed]",
      "text/plain": [
       "<Figure size 1000x500 with 1 Axes>"
      ]
     },
     "metadata": {},
     "output_type": "display_data"
    }
   ],
   "source": [
    "#grouping the data by genre and calculating sum\n",
    "genre_sum = data_actual.groupby('genre',as_index=False).sum().\\\n",
    "                        sort_values(by='na_sales', ascending=False) \n",
    "\n",
    "# priting the bar diagram\n",
    "barplot_sales(genre_sum,\\\n",
    "              'genre',\\\n",
    "              'na_sales',\\\n",
    "              'Объем продаж игр по жанрам в регионе \"NA\"',\\\n",
    "              'Жанр игры',\\\n",
    "              'Продажи')"
   ]
  },
  {
   "cell_type": "markdown",
   "id": "4b95902f",
   "metadata": {},
   "source": [
    "**Вывод: самыми популярными жанрами в регионе \"NA\" являются \"Shooter\",\"Action\", \"Sports\", \"Role-Playing\",\"Fighting\".  \n",
    "Картина несколько отличается от глобальной тем, что в данном регионе лидером является жанр \"Shooter\", а не \"Action\", но разрыв между ними также небольшой.**"
   ]
  },
  {
   "cell_type": "markdown",
   "id": "7de70327",
   "metadata": {},
   "source": [
    "**Влияние рейтинга ESRB на продажи в регионе.**"
   ]
  },
  {
   "cell_type": "code",
   "execution_count": 85,
   "id": "96fdb41c",
   "metadata": {
    "scrolled": false
   },
   "outputs": [
    {
     "data": {
      "image/png": "[encoded data removed]",
      "text/plain": [
       "<Figure size 1000x500 with 1 Axes>"
      ]
     },
     "metadata": {},
     "output_type": "display_data"
    }
   ],
   "source": [
    "#grouping the data by rating and calculating sum\n",
    "genre_rating = data_actual.groupby('rating',as_index=False).sum().\\\n",
    "                           sort_values(by='na_sales', ascending=False) \n",
    "\n",
    "# priting the bar diagram\n",
    "barplot_sales(genre_rating,\\\n",
    "              'rating',\\\n",
    "              'na_sales',\\\n",
    "              'Объем продаж игр по рейтингам ESRB в регионе \"NA\"',\\\n",
    "              'Рейтинг игры',\\\n",
    "              'Продажи')"
   ]
  },
  {
   "cell_type": "markdown",
   "id": "dec08d53",
   "metadata": {},
   "source": [
    "**Вывод: в регионе \"NA\" самый большой объем продаж c большим отрывом имеют игры с рейтингом \"M\", затем следуют в порядке убывания рейтинги \"E\", \"T\" и \"E10+\" , но между ними тремя разница уже не столь велика. Количество незаполненных рейтингов 'Unknown' значительно, но даже если предположить, что заполнение могло бы быть равномерным между разными рейтингами, это все равно вряд ли изменило бы общую картину.**"
   ]
  },
  {
   "cell_type": "markdown",
   "id": "5ae5a2cb",
   "metadata": {},
   "source": [
    "### Портрет пользователя региона \"EU\"."
   ]
  },
  {
   "cell_type": "markdown",
   "id": "c337e0c0",
   "metadata": {},
   "source": [
    "**Самые популярные платформы (топ-5).**"
   ]
  },
  {
   "cell_type": "code",
   "execution_count": 86,
   "id": "dc07f048",
   "metadata": {},
   "outputs": [
    {
     "data": {
      "image/png": "[encoded data removed]",
      "text/plain": [
       "<Figure size 1000x500 with 1 Axes>"
      ]
     },
     "metadata": {},
     "output_type": "display_data"
    }
   ],
   "source": [
    "# grouping actual data by platform\n",
    "platform_data = data_actual.groupby('platform',as_index=False).sum().\\\n",
    "                sort_values(by='eu_sales', ascending=False) \n",
    "\n",
    "# priting the bar diagram\n",
    "barplot_sales(platform_data,\\\n",
    "              'platform',\\\n",
    "              'eu_sales',\\\n",
    "              'Объем продаж игр по платформам в регионе \"EU\"',\\\n",
    "              'Платформа',\\\n",
    "              'Продажи')"
   ]
  },
  {
   "cell_type": "markdown",
   "id": "09f8207f",
   "metadata": {},
   "source": [
    "**Вывод: в регионе \"EU\" лидером продаж является актуальная платформа PS4, на втором месте также актуальная платформа XOnе. На третьем месте уже устаревшая PS3. Интересно отметить, что на четвертом месте платформа PC, котора в регионе \"NA\" даже не вошла в TOP-5. на пятом месте платформа 3DS, также присутствующая в TOP-5 в регионе \"NA\".**"
   ]
  },
  {
   "cell_type": "markdown",
   "id": "9b173fdb",
   "metadata": {},
   "source": [
    "**Самые популярные жанры (топ-5).**"
   ]
  },
  {
   "cell_type": "code",
   "execution_count": 87,
   "id": "5f81a23e",
   "metadata": {
    "scrolled": false
   },
   "outputs": [
    {
     "data": {
      "image/png": "[encoded data removed]",
      "text/plain": [
       "<Figure size 1000x500 with 1 Axes>"
      ]
     },
     "metadata": {},
     "output_type": "display_data"
    }
   ],
   "source": [
    "#grouping the data by genre and calculating sum\n",
    "genre_sum = data_actual.groupby('genre',as_index=False).sum().\\\n",
    "                        sort_values(by='eu_sales', ascending=False) \n",
    "\n",
    "# priting the bar diagram\n",
    "barplot_sales(genre_sum,\\\n",
    "              'genre',\\\n",
    "              'eu_sales',\\\n",
    "              'Объем продаж игр по жанрам в регионе \"EU\"',\\\n",
    "              'Жанр игры',\\\n",
    "              'Продажи')"
   ]
  },
  {
   "cell_type": "markdown",
   "id": "0824020f",
   "metadata": {},
   "source": [
    "**Вывод: самыми популярными жанрами в регионе \"EU\" являются \"Action\", \"Shooter\", \"Sports\", \"Role-Playing\",\"Racing\". В целом картина в регионе почти эквивалентна глобальной и неплохо согласуется с таковой в регионе \"NA\"**"
   ]
  },
  {
   "cell_type": "markdown",
   "id": "cc3c3126",
   "metadata": {},
   "source": [
    "**Влияние рейтинга ESRB на продажи в регионе.**"
   ]
  },
  {
   "cell_type": "code",
   "execution_count": 88,
   "id": "34ba75aa",
   "metadata": {
    "scrolled": false
   },
   "outputs": [
    {
     "data": {
      "image/png": "[encoded data removed]",
      "text/plain": [
       "<Figure size 1000x500 with 1 Axes>"
      ]
     },
     "metadata": {},
     "output_type": "display_data"
    }
   ],
   "source": [
    "# grouping the data by rating and calculating sum\n",
    "genre_rating = data_actual.groupby('rating',as_index=False).sum().\\\n",
    "                           sort_values(by='eu_sales', ascending=False) \n",
    "# priting the bar diagram\n",
    "barplot_sales(genre_rating,\\\n",
    "              'rating',\\\n",
    "              'eu_sales',\\\n",
    "              'Объем продаж игр по рейтингам ESRB в регионе \"EU\"',\\\n",
    "              'Рейтинг игры',\\\n",
    "              'Продажи')"
   ]
  },
  {
   "cell_type": "markdown",
   "id": "fb5d248c",
   "metadata": {},
   "source": [
    "**Вывод: в регионе \"EU\" ситуация практически аналогичная \"NA\" -  самый большой объем продаж c большим отрывом имеют игры с рейтингом \"M\", затем следуют в порядке убывания рейтинги \"E\", \"E10+\" и \"T\"**"
   ]
  },
  {
   "cell_type": "markdown",
   "id": "9ad4a8a3",
   "metadata": {},
   "source": [
    "### Портрет пользователя региона \"JP\"."
   ]
  },
  {
   "cell_type": "markdown",
   "id": "6f87713e",
   "metadata": {},
   "source": [
    "**Самые популярные платформы (топ-5).**"
   ]
  },
  {
   "cell_type": "code",
   "execution_count": 89,
   "id": "68d6fe43",
   "metadata": {},
   "outputs": [
    {
     "data": {
      "image/png": "[encoded data removed]",
      "text/plain": [
       "<Figure size 1000x500 with 1 Axes>"
      ]
     },
     "metadata": {},
     "output_type": "display_data"
    }
   ],
   "source": [
    "# grouping actual data by platform\n",
    "platform_data = data_actual.groupby('platform',as_index=False).sum().\\\n",
    "                            sort_values(by='jp_sales', ascending=False)\n",
    "\n",
    "# priting the bar diagram\n",
    "barplot_sales(platform_data,\\\n",
    "              'platform',\\\n",
    "              'jp_sales',\\\n",
    "              'Объем продаж игр по платформам в регионе \"JP\"',\\\n",
    "              'Платформа',\\\n",
    "              'Продажи')"
   ]
  },
  {
   "cell_type": "markdown",
   "id": "1d565c8f",
   "metadata": {},
   "source": [
    "**Вывод: в регионе \"JP\" предпочтения покупателей кардинально отличаются от регионов \"NA\" и \"EU\". Лидирующую долю продаж с большим отрывом имеет платформа 3DS, а платформа PS4 лишь на втором месте. Третью по объему долю продаж занимает платформа PSV, далее следует PS3, а на пятом месте - WiiU. Следует отметить, что в других регионах платформы  PSV и WiiU находятся на последних местах с мизерными продажами, являясь по сути экзотикой.**"
   ]
  },
  {
   "cell_type": "markdown",
   "id": "4706e7b6",
   "metadata": {},
   "source": [
    "**Самые популярные жанры (топ-5).**"
   ]
  },
  {
   "cell_type": "code",
   "execution_count": 90,
   "id": "f1fd8043",
   "metadata": {
    "scrolled": false
   },
   "outputs": [
    {
     "data": {
      "image/png": "[encoded data removed]",
      "text/plain": [
       "<Figure size 1000x500 with 1 Axes>"
      ]
     },
     "metadata": {},
     "output_type": "display_data"
    }
   ],
   "source": [
    "# grouping the data by genre and calculating sum\n",
    "genre_sum = data_actual.groupby('genre',as_index=False).sum().\\\n",
    "                        sort_values(by='jp_sales', ascending=False) \n",
    "\n",
    "# priting the bar diagram\n",
    "barplot_sales(genre_sum,\\\n",
    "              'genre',\\\n",
    "              'jp_sales',\\\n",
    "              'Объем продаж игр по жанрам в регионе \"JP\"',\\\n",
    "              'Жанр игры',\\\n",
    "              'Продажи')"
   ]
  },
  {
   "cell_type": "markdown",
   "id": "5ad7b972",
   "metadata": {},
   "source": [
    "**Вывод: предпочтения по жанрам у покупателей в регионе \"JP\" также сильно отличаются от других регионов.Самым популярным жанром является \"Role-Playing\", а жанр \"Action\" - на втором месте c небольшим отрывом, и вместе эти два жанра имеют долю в несколько раз больше, чем все остальные жанры в сумме. В TOP-5 также входят в порядке убывания  \"Fighting\",\"Shooter\" и \"Adventure\" со значительно меньшей долей продаж. Особенно интересна столь низкая популярность жанра \"Shooter\", столь актуального в других регионах. Это может свидетельствовать о значительном различии в менталитете покупателей региона \"JP\" по сравнению с другими регионами**"
   ]
  },
  {
   "cell_type": "markdown",
   "id": "0db9e81a",
   "metadata": {},
   "source": [
    "**Влияние рейтинга ESRB на продажи в регионе.**"
   ]
  },
  {
   "cell_type": "code",
   "execution_count": 91,
   "id": "2ba38206",
   "metadata": {
    "scrolled": false
   },
   "outputs": [
    {
     "data": {
      "image/png": "[encoded data removed]",
      "text/plain": [
       "<Figure size 1000x500 with 1 Axes>"
      ]
     },
     "metadata": {},
     "output_type": "display_data"
    }
   ],
   "source": [
    "# grouping the data by rating and calculating sum\n",
    "genre_rating = data_actual.groupby('rating',as_index=False).sum().\\\n",
    "                           sort_values(by='jp_sales', ascending=False) #grouping the data by rating and calculating sum\n",
    "\n",
    "# priting the bar diagram\n",
    "barplot_sales(genre_rating,\\\n",
    "              'rating',\\\n",
    "              'jp_sales',\\\n",
    "              'Объем продаж игр по рейтингам ESRB в регионе \"JP\"',\\\n",
    "              'Рейтинг игры',\\\n",
    "              'Продажи')"
   ]
  },
  {
   "cell_type": "markdown",
   "id": "cd41a888",
   "metadata": {},
   "source": [
    "**Вывод: в регионе \"JP\" зависимость между рейтингом  ESRB и продажами также кардинально отличается от других регионов. Самый большой объем продаж имеют игры с рейтингом \"Е\", затем следуют в порядке убывания рейтинги \"Т\", \"M\", \"E10+\". Однако следует учесть, что объем незаполненных данных 'Unknown' столь велик, что будучи заполненным мог бы сильно изменить картину в ту или иную сторону. Поэтому анализ по рейтингу ESRB в данном регионе дает ненадежный результат, требующий дополнительной проверки.**"
   ]
  },
  {
   "cell_type": "markdown",
   "id": "96ede5b0",
   "metadata": {},
   "source": [
    "## Проверка гипотез"
   ]
  },
  {
   "cell_type": "markdown",
   "id": "6710704b",
   "metadata": {},
   "source": [
    "**Для проверки гипотез будет применяться t-test с предположением, что дисперсии двух генеральных совокупностей, относящихся к двум разным платформам, отличаются. Это связано с тем, что как платформы, так и жанры имеют разную популярность и выборки могут не совпадать по количеству. Уровень статистической значимости устанавливается на уровне 5%** "
   ]
  },
  {
   "cell_type": "markdown",
   "id": "904e03f0",
   "metadata": {},
   "source": [
    "### Проверка гипотезы: Средние пользовательские рейтинги платформ Xbox One и PC одинаковые;"
   ]
  },
  {
   "cell_type": "markdown",
   "id": "b55a9a61",
   "metadata": {},
   "source": [
    "**H_0: Средний пользовательский рейтинг(user_score) платформы \"Xbox One\" = Средний пользовательский рейтинг(user_score) платформы \"PC\"  \n",
    "H_1: Средний пользовательский рейтинг(user_score) платформы \"Xbox One\" ≠ Средний пользовательский рейтинг(user_score) платформы \"PC\"**`"
   ]
  },
  {
   "cell_type": "code",
   "execution_count": 92,
   "id": "11fa8c26",
   "metadata": {},
   "outputs": [
    {
     "name": "stdout",
     "output_type": "stream",
     "text": [
      "0.11601398086668832\n",
      "Не получилось отвергнуть нулевую гипотезу\n"
     ]
    }
   ],
   "source": [
    "data_user_score_xone = data_actual.loc[data_actual['platform'] == 'XOne','user_score']\n",
    "data_user_score_pc = data_actual.loc[data_actual['platform'] == 'PC','user_score']\n",
    "\n",
    "\n",
    "results = st.ttest_ind(data_user_score_xone, data_user_score_pc,equal_var= False,nan_policy='omit')\n",
    "alpha = .05\n",
    "print(results.pvalue)\n",
    "\n",
    "if results.pvalue < alpha: # comparing the p-value with the given stat significance level\n",
    "    print('Отвергаем нулевую гипотезу')\n",
    "else:\n",
    "    print('Не получилось отвергнуть нулевую гипотезу')"
   ]
  },
  {
   "cell_type": "markdown",
   "id": "a5b6f9bd",
   "metadata": {},
   "source": [
    "**Вывод: мы не можем отвергнуть нулевую гипотезу, следовательно, с большой долей вероятности, средние пользовательские рейтинги платформ XOne и PC не имеют статистически значимых отличий.**"
   ]
  },
  {
   "cell_type": "markdown",
   "id": "d83ad289",
   "metadata": {},
   "source": [
    "### Проверка гипотезы: Средние пользовательские рейтинги жанров Action и Sports разные."
   ]
  },
  {
   "cell_type": "markdown",
   "id": "5e74bc50",
   "metadata": {},
   "source": [
    "**H_0: Средний пользовательский рейтинг(user_score) жанра \"Action\" = Средний пользовательский рейтинг(user_score) жанра \"Sports\"  \n",
    "H_1: Средний пользовательский рейтинг(user_score) жанра \"Action\" ≠  Средний пользовательский рейтинг(user_score) жанра \"Sports\"**`"
   ]
  },
  {
   "cell_type": "code",
   "execution_count": 93,
   "id": "3cef6e9a",
   "metadata": {},
   "outputs": [
    {
     "name": "stdout",
     "output_type": "stream",
     "text": [
      "1.1825550382644557e-14\n",
      "Отвергаем нулевую гипотезу\n"
     ]
    }
   ],
   "source": [
    "data_user_score_action = data_actual.loc[data_actual['genre'] == 'Action','user_score']\n",
    "data_user_score_sports = data_actual.loc[data_actual['genre'] == 'Sports','user_score']\n",
    "\n",
    "results = st.ttest_ind(data_user_score_action, data_user_score_sports,equal_var= False,nan_policy='omit')\n",
    "alpha = .05\n",
    "print(results.pvalue)\n",
    "\n",
    "if results.pvalue < alpha: # # comparing the p-value with the given stat significance level \n",
    "    print('Отвергаем нулевую гипотезу')\n",
    "else:\n",
    "    print('Не получилось отвергнуть нулевую гипотезу')"
   ]
  },
  {
   "cell_type": "markdown",
   "id": "3c8b7717",
   "metadata": {},
   "source": [
    "**Вывод: мы отвергаем нулевую гипотезу, следовательно, с большой долей вероятности, средние пользовательские рейтинги платформ XOne и PC имеют статистически значимые отличия.**"
   ]
  },
  {
   "cell_type": "markdown",
   "id": "7103f325",
   "metadata": {},
   "source": [
    "## Общий вывод"
   ]
  },
  {
   "cell_type": "markdown",
   "id": "e722de65",
   "metadata": {},
   "source": [
    "**По проекту было выполнено следующее:**\n",
    "\n",
    "- Обработка данных с коррекцией стиля заголовков и типов данных, заполнением пропусков по необходимости, проверкой на наличие явных и неявных дубликатов.\n",
    "\n",
    "- Исследовательский анализ данных, а именно: анализ выпуска игр и продажи по годам, платформам и жанрам, а также анализ влияния оценок пользователей и критиков на уровень продаж.\n",
    "\n",
    "- Составлен портрет пользователя каждого из трех регионов с точки зрения предпочтения по платформам  и жанрам, а также зависимость продаж от возрастного рейтинга.\n",
    "\n",
    "- Проверены гипотезы об отличиях пользовательских рейтингов выбранных платформ и жанров.\n",
    "\n",
    "**Выводы:**\n",
    "\n",
    "- По общему количеству выпущенных игр наблюдается резкий рост с 1994 по 2009 год с последующим резким падением к 2013 году до уровня приблизительно 2001 года. Далее объем выпуска игр оставался в горизонтальном коридоре до 2016 года, что может свидетельствовать о структурных изменениях спроса, возможно как последствия экономического кризиса 2008 года США.\n",
    "\n",
    "- Глобально являются лидерами продаж две актуальные платформы PS4 и XOne, которые укрепляют лидерство год от года за последние 3 года. Именно их и следует считать наиболее прибыльными. При этом срок жизни платформы в среднем составляет около 10 лет.\n",
    "- Для самых популярных платформ картина продаж незначительно меняется в зависимости от платформы.\n",
    "\n",
    "- На  лидирующих по продажам за актуальный период исследования платформам ситуация очень похожая: продажи практически не зависят от отзывов пользователей, но наблюдается некоторая зависимость между продажами и отзывами критиков. Стало быть критики более влиятельны для потенциальных покупателей, чем пользователи.\n",
    "\n",
    "- Больше всего выпущено игр в жанрах \"Action\", \"Role-Playing\" и \"Adventure\", причем \"Action\" лидирует с большим отрывом\n",
    "\n",
    "- Лидерами продаж являются жанры \"Action\", \"Shooter\" и \"Sports\". Жанр \"Action\" является лидером как по объему выпущенных игр, так и по продажам.\n",
    "\n",
    "- Жанр \"Shooter\" можно было бы считать несколько недооцененным по количеству выпущенных игр при том, что он второй по прибыльности.\n",
    "\n",
    "- В регионах “NA” и “EU” пристрастия пользователей по платформам и жанрам довольно близки как между собой, так и с глобальной картиной. Это может объясняться схожестью менталитета и общим большим объемом продаж в этих регионах, практически определяющим глобальную картину.\n",
    "\n",
    "- Регион “JP” кардинально отличается от других регионов в предпочтениях пользователей по платформам (лидер 3DS)   и жанрам (лидер \"Role-Playing\"). \n",
    "\n",
    "- Кроме того, продажи зависят от возрастного рейтинга ESRB и здесь мы также наблюдаем различия между регионами “NA” и “EU” (лидер-рейтинг M) c одной стороны и регионом “JP” (лидер-рейтинг E) с другой стороны, хотя данных по этому региону недостаточно для надежного анализа.\n",
    "\n",
    "- Это может свидетельствовать о сильном различии в менталитете и укладе жизни покупателей региона \"JP\", но уровня продаж в этом регионе по сравнению с другими регионами может не хватать, чтобы серьезно повлиять на глобальную картину.\n",
    "\n",
    "- Исследованием подтверждена гипотеза о том, что средние пользовательские рейтинги платформ Xbox One и PC не имеют статистически значимых отличий.\n",
    "\n",
    "- Также подтверждена гипотеза о том, что средние пользовательские рейтинги жанров Action и Sports имеют статистически значимые отличия.\n",
    "\n",
    "**Рекомендации для сотрудников компании “Стримчик” на 2017 год:**\n",
    "\n",
    "- В рекламных кампаниях с целью достижения максимального роста продаж имеет смысл отдать приоритет:\n",
    "\n",
    "- Регионам \"NA\" и \"EU\"  как наиболее крупным по объему рынка\n",
    "\n",
    "- Платформам PS4 и XOne как наиболее перспективным и прибыльным\n",
    "\n",
    "- Жанрам \"Action\", \"Shooter\" и \"Role-Playing\" как наиболее популярным.\n",
    "\n",
    "- Также имеет смысл рассмотреть целевую работу с критиками, поскольку между их оценками и уровнем продаж наблюдается зависимость."
   ]
  }
 ],
 "metadata": {
  "ExecuteTimeLog": [
   {
    "duration": 1395,
    "start_time": "2023-03-23T15:46:25.522Z"
   },
   {
    "duration": 40,
    "start_time": "2023-03-23T15:46:26.920Z"
   },
   {
    "duration": 4,
    "start_time": "2023-03-23T15:46:26.962Z"
   },
   {
    "duration": 6,
    "start_time": "2023-03-23T15:46:26.969Z"
   },
   {
    "duration": 5,
    "start_time": "2023-03-23T15:46:26.977Z"
   },
   {
    "duration": 26,
    "start_time": "2023-03-23T15:46:26.984Z"
   },
   {
    "duration": 8,
    "start_time": "2023-03-23T15:46:27.041Z"
   },
   {
    "duration": 17,
    "start_time": "2023-03-23T15:46:27.051Z"
   },
   {
    "duration": 16,
    "start_time": "2023-03-23T15:46:27.070Z"
   },
   {
    "duration": 15,
    "start_time": "2023-03-23T15:46:27.090Z"
   },
   {
    "duration": 54,
    "start_time": "2023-03-23T15:46:27.106Z"
   },
   {
    "duration": 5,
    "start_time": "2023-03-23T15:46:27.162Z"
   },
   {
    "duration": 7,
    "start_time": "2023-03-23T15:46:27.170Z"
   },
   {
    "duration": 11,
    "start_time": "2023-03-23T15:46:27.179Z"
   },
   {
    "duration": 7,
    "start_time": "2023-03-23T15:46:27.192Z"
   },
   {
    "duration": 53,
    "start_time": "2023-03-23T15:46:27.202Z"
   },
   {
    "duration": 589,
    "start_time": "2023-03-23T15:46:27.261Z"
   },
   {
    "duration": 45,
    "start_time": "2023-03-23T15:46:27.853Z"
   },
   {
    "duration": 463,
    "start_time": "2023-03-23T15:46:27.900Z"
   },
   {
    "duration": 14,
    "start_time": "2023-03-23T15:46:28.365Z"
   },
   {
    "duration": 853,
    "start_time": "2023-03-23T15:46:28.381Z"
   },
   {
    "duration": 14,
    "start_time": "2023-03-23T15:46:29.236Z"
   },
   {
    "duration": 17,
    "start_time": "2023-03-23T15:46:29.253Z"
   },
   {
    "duration": 712,
    "start_time": "2023-03-23T15:46:29.275Z"
   },
   {
    "duration": 309,
    "start_time": "2023-03-23T15:46:29.989Z"
   },
   {
    "duration": 7,
    "start_time": "2023-03-23T15:46:30.300Z"
   },
   {
    "duration": 185,
    "start_time": "2023-03-23T15:46:30.308Z"
   },
   {
    "duration": 10,
    "start_time": "2023-03-23T15:46:30.497Z"
   },
   {
    "duration": 201,
    "start_time": "2023-03-23T15:46:30.508Z"
   },
   {
    "duration": 10,
    "start_time": "2023-03-23T15:46:30.711Z"
   },
   {
    "duration": 197,
    "start_time": "2023-03-23T15:46:30.723Z"
   },
   {
    "duration": 12,
    "start_time": "2023-03-23T15:46:30.923Z"
   },
   {
    "duration": 214,
    "start_time": "2023-03-23T15:46:30.943Z"
   },
   {
    "duration": 14,
    "start_time": "2023-03-23T15:46:31.158Z"
   },
   {
    "duration": 192,
    "start_time": "2023-03-23T15:46:31.174Z"
   },
   {
    "duration": 14,
    "start_time": "2023-03-23T15:46:31.368Z"
   },
   {
    "duration": 242,
    "start_time": "2023-03-23T15:46:31.384Z"
   },
   {
    "duration": 32,
    "start_time": "2023-03-23T15:46:31.628Z"
   },
   {
    "duration": 368,
    "start_time": "2023-03-23T15:46:31.662Z"
   },
   {
    "duration": 346,
    "start_time": "2023-03-23T15:46:32.031Z"
   },
   {
    "duration": 434,
    "start_time": "2023-03-23T15:46:32.378Z"
   },
   {
    "duration": 406,
    "start_time": "2023-03-23T15:46:32.814Z"
   },
   {
    "duration": 8,
    "start_time": "2023-03-23T15:46:33.221Z"
   },
   {
    "duration": 314,
    "start_time": "2023-03-23T15:46:33.232Z"
   },
   {
    "duration": 357,
    "start_time": "2023-03-23T15:46:33.548Z"
   },
   {
    "duration": 352,
    "start_time": "2023-03-23T15:46:33.907Z"
   },
   {
    "duration": 5,
    "start_time": "2023-03-23T15:46:34.261Z"
   },
   {
    "duration": 326,
    "start_time": "2023-03-23T15:46:34.268Z"
   },
   {
    "duration": 311,
    "start_time": "2023-03-23T15:46:34.596Z"
   },
   {
    "duration": 352,
    "start_time": "2023-03-23T15:46:34.909Z"
   },
   {
    "duration": 7,
    "start_time": "2023-03-23T15:46:35.265Z"
   },
   {
    "duration": 287,
    "start_time": "2023-03-23T15:46:35.274Z"
   },
   {
    "duration": 6,
    "start_time": "2023-03-23T15:46:35.563Z"
   },
   {
    "duration": 10,
    "start_time": "2023-03-23T15:46:35.571Z"
   },
   {
    "duration": 20,
    "start_time": "2023-03-23T15:46:35.583Z"
   },
   {
    "duration": 10,
    "start_time": "2023-03-23T15:51:52.103Z"
   },
   {
    "duration": 1504,
    "start_time": "2023-03-23T16:00:36.602Z"
   },
   {
    "duration": 34,
    "start_time": "2023-03-23T16:00:38.108Z"
   },
   {
    "duration": 5,
    "start_time": "2023-03-23T16:00:38.152Z"
   },
   {
    "duration": 16,
    "start_time": "2023-03-23T16:00:38.159Z"
   },
   {
    "duration": 9,
    "start_time": "2023-03-23T16:00:38.177Z"
   },
   {
    "duration": 30,
    "start_time": "2023-03-23T16:00:38.187Z"
   },
   {
    "duration": 5,
    "start_time": "2023-03-23T16:00:38.218Z"
   },
   {
    "duration": 37,
    "start_time": "2023-03-23T16:00:38.224Z"
   },
   {
    "duration": 21,
    "start_time": "2023-03-23T16:00:38.269Z"
   },
   {
    "duration": 14,
    "start_time": "2023-03-23T16:00:38.293Z"
   },
   {
    "duration": 21,
    "start_time": "2023-03-23T16:00:38.309Z"
   },
   {
    "duration": 20,
    "start_time": "2023-03-23T16:00:38.331Z"
   },
   {
    "duration": 21,
    "start_time": "2023-03-23T16:00:38.353Z"
   },
   {
    "duration": 6,
    "start_time": "2023-03-23T16:00:38.375Z"
   },
   {
    "duration": 6,
    "start_time": "2023-03-23T16:00:38.383Z"
   },
   {
    "duration": 22,
    "start_time": "2023-03-23T16:00:38.391Z"
   },
   {
    "duration": 594,
    "start_time": "2023-03-23T16:00:38.415Z"
   },
   {
    "duration": 50,
    "start_time": "2023-03-23T16:00:39.012Z"
   },
   {
    "duration": 452,
    "start_time": "2023-03-23T16:00:39.063Z"
   },
   {
    "duration": 15,
    "start_time": "2023-03-23T16:00:39.516Z"
   },
   {
    "duration": 37,
    "start_time": "2023-03-23T16:00:39.533Z"
   },
   {
    "duration": 807,
    "start_time": "2023-03-23T16:00:39.572Z"
   },
   {
    "duration": 6,
    "start_time": "2023-03-23T16:00:40.381Z"
   },
   {
    "duration": 10,
    "start_time": "2023-03-23T16:00:40.389Z"
   },
   {
    "duration": 705,
    "start_time": "2023-03-23T16:00:40.401Z"
   },
   {
    "duration": 302,
    "start_time": "2023-03-23T16:00:41.108Z"
   },
   {
    "duration": 8,
    "start_time": "2023-03-23T16:00:41.412Z"
   },
   {
    "duration": 185,
    "start_time": "2023-03-23T16:00:41.424Z"
   },
   {
    "duration": 36,
    "start_time": "2023-03-23T16:00:41.611Z"
   },
   {
    "duration": 176,
    "start_time": "2023-03-23T16:00:41.652Z"
   },
   {
    "duration": 18,
    "start_time": "2023-03-23T16:00:41.830Z"
   },
   {
    "duration": 172,
    "start_time": "2023-03-23T16:00:41.850Z"
   },
   {
    "duration": 29,
    "start_time": "2023-03-23T16:00:42.024Z"
   },
   {
    "duration": 160,
    "start_time": "2023-03-23T16:00:42.068Z"
   },
   {
    "duration": 24,
    "start_time": "2023-03-23T16:00:42.230Z"
   },
   {
    "duration": 168,
    "start_time": "2023-03-23T16:00:42.263Z"
   },
   {
    "duration": 34,
    "start_time": "2023-03-23T16:00:42.433Z"
   },
   {
    "duration": 160,
    "start_time": "2023-03-23T16:00:42.471Z"
   },
   {
    "duration": 22,
    "start_time": "2023-03-23T16:00:42.634Z"
   },
   {
    "duration": 339,
    "start_time": "2023-03-23T16:00:42.668Z"
   },
   {
    "duration": 339,
    "start_time": "2023-03-23T16:00:43.009Z"
   },
   {
    "duration": 473,
    "start_time": "2023-03-23T16:00:43.350Z"
   },
   {
    "duration": 438,
    "start_time": "2023-03-23T16:00:43.826Z"
   },
   {
    "duration": 6,
    "start_time": "2023-03-23T16:00:44.267Z"
   },
   {
    "duration": 318,
    "start_time": "2023-03-23T16:00:44.276Z"
   },
   {
    "duration": 323,
    "start_time": "2023-03-23T16:00:44.596Z"
   },
   {
    "duration": 399,
    "start_time": "2023-03-23T16:00:44.921Z"
   },
   {
    "duration": 5,
    "start_time": "2023-03-23T16:00:45.322Z"
   },
   {
    "duration": 271,
    "start_time": "2023-03-23T16:00:45.328Z"
   },
   {
    "duration": 325,
    "start_time": "2023-03-23T16:00:45.601Z"
   },
   {
    "duration": 391,
    "start_time": "2023-03-23T16:00:45.928Z"
   },
   {
    "duration": 6,
    "start_time": "2023-03-23T16:00:46.321Z"
   },
   {
    "duration": 266,
    "start_time": "2023-03-23T16:00:46.328Z"
   },
   {
    "duration": 6,
    "start_time": "2023-03-23T16:00:46.595Z"
   },
   {
    "duration": 15,
    "start_time": "2023-03-23T16:00:46.603Z"
   },
   {
    "duration": 26,
    "start_time": "2023-03-23T16:00:46.620Z"
   },
   {
    "duration": 1045,
    "start_time": "2023-03-24T14:22:28.522Z"
   },
   {
    "duration": 92,
    "start_time": "2023-03-24T14:22:29.571Z"
   },
   {
    "duration": 24,
    "start_time": "2023-03-24T14:22:29.664Z"
   },
   {
    "duration": 3,
    "start_time": "2023-03-24T14:22:29.690Z"
   },
   {
    "duration": 7,
    "start_time": "2023-03-24T14:22:29.694Z"
   },
   {
    "duration": 7,
    "start_time": "2023-03-24T14:22:29.702Z"
   },
   {
    "duration": 20,
    "start_time": "2023-03-24T14:22:29.710Z"
   },
   {
    "duration": 4,
    "start_time": "2023-03-24T14:22:29.731Z"
   },
   {
    "duration": 7,
    "start_time": "2023-03-24T14:22:29.737Z"
   },
   {
    "duration": 27,
    "start_time": "2023-03-24T14:22:29.747Z"
   },
   {
    "duration": 16,
    "start_time": "2023-03-24T14:22:29.776Z"
   },
   {
    "duration": 13,
    "start_time": "2023-03-24T14:22:29.794Z"
   },
   {
    "duration": 18,
    "start_time": "2023-03-24T14:22:29.808Z"
   },
   {
    "duration": 5,
    "start_time": "2023-03-24T14:22:29.828Z"
   },
   {
    "duration": 7,
    "start_time": "2023-03-24T14:22:29.834Z"
   },
   {
    "duration": 5,
    "start_time": "2023-03-24T14:22:29.872Z"
   },
   {
    "duration": 13,
    "start_time": "2023-03-24T14:22:29.879Z"
   },
   {
    "duration": 14,
    "start_time": "2023-03-24T14:22:29.894Z"
   },
   {
    "duration": 323,
    "start_time": "2023-03-24T14:22:29.909Z"
   },
   {
    "duration": 23,
    "start_time": "2023-03-24T14:22:30.233Z"
   },
   {
    "duration": 235,
    "start_time": "2023-03-24T14:22:30.258Z"
   },
   {
    "duration": 12,
    "start_time": "2023-03-24T14:22:30.495Z"
   },
   {
    "duration": 20,
    "start_time": "2023-03-24T14:22:30.508Z"
   },
   {
    "duration": 604,
    "start_time": "2023-03-24T14:22:30.530Z"
   },
   {
    "duration": 4,
    "start_time": "2023-03-24T14:22:31.135Z"
   },
   {
    "duration": 35,
    "start_time": "2023-03-24T14:22:31.141Z"
   },
   {
    "duration": 335,
    "start_time": "2023-03-24T14:22:31.177Z"
   },
   {
    "duration": 204,
    "start_time": "2023-03-24T14:22:31.515Z"
   },
   {
    "duration": 4,
    "start_time": "2023-03-24T14:22:31.720Z"
   },
   {
    "duration": 45,
    "start_time": "2023-03-24T14:22:31.725Z"
   },
   {
    "duration": 32,
    "start_time": "2023-03-24T14:22:31.772Z"
   },
   {
    "duration": 160,
    "start_time": "2023-03-24T14:22:31.805Z"
   },
   {
    "duration": 10,
    "start_time": "2023-03-24T14:22:31.967Z"
   },
   {
    "duration": 123,
    "start_time": "2023-03-24T14:22:31.979Z"
   },
   {
    "duration": 8,
    "start_time": "2023-03-24T14:22:32.104Z"
   },
   {
    "duration": 13,
    "start_time": "2023-03-24T14:22:32.113Z"
   },
   {
    "duration": 124,
    "start_time": "2023-03-24T14:22:32.128Z"
   },
   {
    "duration": 7,
    "start_time": "2023-03-24T14:22:32.254Z"
   },
   {
    "duration": 127,
    "start_time": "2023-03-24T14:22:32.262Z"
   },
   {
    "duration": 7,
    "start_time": "2023-03-24T14:22:32.391Z"
   },
   {
    "duration": 12,
    "start_time": "2023-03-24T14:22:32.399Z"
   },
   {
    "duration": 118,
    "start_time": "2023-03-24T14:22:32.412Z"
   },
   {
    "duration": 7,
    "start_time": "2023-03-24T14:22:32.532Z"
   },
   {
    "duration": 122,
    "start_time": "2023-03-24T14:22:32.540Z"
   },
   {
    "duration": 11,
    "start_time": "2023-03-24T14:22:32.663Z"
   },
   {
    "duration": 205,
    "start_time": "2023-03-24T14:22:32.675Z"
   },
   {
    "duration": 220,
    "start_time": "2023-03-24T14:22:32.882Z"
   },
   {
    "duration": 6,
    "start_time": "2023-03-24T14:22:33.104Z"
   },
   {
    "duration": 236,
    "start_time": "2023-03-24T14:22:33.112Z"
   },
   {
    "duration": 201,
    "start_time": "2023-03-24T14:22:33.349Z"
   },
   {
    "duration": 140,
    "start_time": "2023-03-24T14:22:33.552Z"
   },
   {
    "duration": 187,
    "start_time": "2023-03-24T14:22:33.694Z"
   },
   {
    "duration": 204,
    "start_time": "2023-03-24T14:22:33.882Z"
   },
   {
    "duration": 147,
    "start_time": "2023-03-24T14:22:34.088Z"
   },
   {
    "duration": 149,
    "start_time": "2023-03-24T14:22:34.237Z"
   },
   {
    "duration": 176,
    "start_time": "2023-03-24T14:22:34.387Z"
   },
   {
    "duration": 128,
    "start_time": "2023-03-24T14:22:34.565Z"
   },
   {
    "duration": 8,
    "start_time": "2023-03-24T14:22:34.695Z"
   },
   {
    "duration": 9,
    "start_time": "2023-03-24T14:22:34.704Z"
   }
  ],
  "kernelspec": {
   "display_name": "Python 3 (ipykernel)",
   "language": "python",
   "name": "python3"
  },
  "language_info": {
   "codemirror_mode": {
    "name": "ipython",
    "version": 3
   },
   "file_extension": ".py",
   "mimetype": "text/x-python",
   "name": "python",
   "nbconvert_exporter": "python",
   "pygments_lexer": "ipython3",
   "version": "3.9.18"
  },
  "toc": {
   "base_numbering": 1,
   "nav_menu": {},
   "number_sections": true,
   "sideBar": true,
   "skip_h1_title": true,
   "title_cell": "Table of Contents",
   "title_sidebar": "Contents",
   "toc_cell": true,
   "toc_position": {},
   "toc_section_display": true,
   "toc_window_display": true
  }
 },
 "nbformat": 4,
 "nbformat_minor": 5
}
