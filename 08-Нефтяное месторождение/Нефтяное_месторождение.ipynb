{
 "cells": [
  {
   "cell_type": "markdown",
   "metadata": {
    "toc": true
   },
   "source": [
    "<h1>Table of Contents<span class=\"tocSkip\"></span></h1>\n",
    "<div class=\"toc\"><ul class=\"toc-item\"><li><span><a href=\"#Загрузка-и-подготовка-данных\" data-toc-modified-id=\"Загрузка-и-подготовка-данных-1\"><span class=\"toc-item-num\">1&nbsp;&nbsp;</span>Загрузка и подготовка данных</a></span></li><li><span><a href=\"#Разбиение-данных-на-обучающую-и-валидационную-выборки-в-соотношении-75:25\" data-toc-modified-id=\"Разбиение-данных-на-обучающую-и-валидационную-выборки-в-соотношении-75:25-2\"><span class=\"toc-item-num\">2&nbsp;&nbsp;</span>Разбиение данных на обучающую и валидационную выборки в соотношении 75:25</a></span></li><li><span><a href=\"#Обучение-и-проверка-модели\" data-toc-modified-id=\"Обучение-и-проверка-модели-3\"><span class=\"toc-item-num\">3&nbsp;&nbsp;</span>Обучение и проверка модели</a></span></li><li><span><a href=\"#Подготовка-к-расчёту-прибыли\" data-toc-modified-id=\"Подготовка-к-расчёту-прибыли-4\"><span class=\"toc-item-num\">4&nbsp;&nbsp;</span>Подготовка к расчёту прибыли</a></span><ul class=\"toc-item\"><li><span><a href=\"#Рассчет-минимально-достаточного-объём-сырья-для-безубыточной-разработки-новой-скважины.\" data-toc-modified-id=\"Рассчет-минимально-достаточного-объём-сырья-для-безубыточной-разработки-новой-скважины.-4.1\"><span class=\"toc-item-num\">4.1&nbsp;&nbsp;</span>Рассчет минимально достаточного объём сырья для безубыточной разработки новой скважины.</a></span></li></ul></li><li><span><a href=\"#Расчёт-прибыли-и-рисков-для-каждого-региона\" data-toc-modified-id=\"Расчёт-прибыли-и-рисков-для-каждого-региона-5\"><span class=\"toc-item-num\">5&nbsp;&nbsp;</span>Расчёт прибыли и рисков для каждого региона</a></span><ul class=\"toc-item\"><li><span><a href=\"#Создадим-функцию-для-расчёта-прибыли-по-выбранным-скважинам-и-предсказаниям-модели\" data-toc-modified-id=\"Создадим-функцию-для-расчёта-прибыли-по-выбранным-скважинам-и-предсказаниям-модели-5.1\"><span class=\"toc-item-num\">5.1&nbsp;&nbsp;</span>Создадим функцию для расчёта прибыли по выбранным скважинам и предсказаниям модели</a></span></li><li><span><a href=\"#Рассчитаем-продуктивность-и-прибыль--по-выбранным-скважинам-и-предсказаниям-модели\" data-toc-modified-id=\"Рассчитаем-продуктивность-и-прибыль--по-выбранным-скважинам-и-предсказаниям-модели-5.2\"><span class=\"toc-item-num\">5.2&nbsp;&nbsp;</span>Рассчитаем продуктивность и прибыль  по выбранным скважинам и предсказаниям модели</a></span></li><li><span><a href=\"#Создадим-функцию-для-расчёта-рисков-и-распределения-прибыли-техникой-Bootstrap\" data-toc-modified-id=\"Создадим-функцию-для-расчёта-рисков-и-распределения-прибыли-техникой-Bootstrap-5.3\"><span class=\"toc-item-num\">5.3&nbsp;&nbsp;</span>Создадим функцию для расчёта рисков и распределения прибыли техникой Bootstrap</a></span></li><li><span><a href=\"#Найдем-среднюю-прибыль,-95%-й-доверительный-интервал-и-риск-убытков-в-трех-регионах\" data-toc-modified-id=\"Найдем-среднюю-прибыль,-95%-й-доверительный-интервал-и-риск-убытков-в-трех-регионах-5.4\"><span class=\"toc-item-num\">5.4&nbsp;&nbsp;</span>Найдем среднюю прибыль, 95%-й доверительный интервал и риск убытков в трех регионах</a></span></li></ul></li><li><span><a href=\"#Общие-выводы\" data-toc-modified-id=\"Общие-выводы-6\"><span class=\"toc-item-num\">6&nbsp;&nbsp;</span>Общие выводы</a></span></li></ul></div>"
   ]
  },
  {
   "cell_type": "markdown",
   "metadata": {},
   "source": [
    "# Выбор локации для скважины"
   ]
  },
  {
   "cell_type": "markdown",
   "metadata": {},
   "source": [
    "**Цель проекта:**  \n",
    "Разработать для сотрудников нефтедобывающей компании модель, помогающую принять решение, где бурить новую скважину.\n",
    "\n",
    "Для проекта есть в наличии пробы нефти в трёх регионах: в каждом 10 000 месторождений, где измерили качество нефти и объём её запасов. \n",
    "\n",
    "В рамках проекта будет построена модель машинного обучения с использованием линейной регрессии, которая поможет определить регион, где добыча принесёт наибольшую прибыль. Анализ возможной прибыли и риски будут проанализированы техникой *Bootstrap.*  \n",
    "\n",
    "Ключевые шаги для выбора локации для бурения новых скважен:\n",
    "- В избранном регионе ищем месторождения, для каждого определяем значения признаков;\n",
    "- Строим модель и оцениваем объём запасов;\n",
    "- Выбираем месторождения с самым высокими оценками значений. \n",
    " - Количество месторождений зависит от бюджета компании и стоимости разработки одной скважины;\n",
    "- Прибыль равна суммарной прибыли отобранных месторождений.\n",
    "\n",
    "Дополнительные условия:\n",
    "- При разведке региона исследуем 500 точек, из которых с помощью машинного обучения выбираем 200 лучших для разработки.\n",
    "- Бюджет на разработку скважин в регионе — 10 млрд рублей.\n",
    "- При нынешних ценах один баррель сырья приносит 450 рублей дохода. \n",
    "- Доход с каждой единицы продукта составляет 450 тыс. рублей, поскольку объём указан в тысячах баррелей.\n",
    "- После оценки рисков оставим лишь те регионы, в которых вероятность убытков меньше 2.5%. \n",
    "- Среди них выбирем регион с наибольшей средней прибылью.\n"
   ]
  },
  {
   "cell_type": "markdown",
   "metadata": {},
   "source": [
    "## Загрузка и подготовка данных"
   ]
  },
  {
   "cell_type": "markdown",
   "metadata": {},
   "source": [
    "**Импорт библиотек**"
   ]
  },
  {
   "cell_type": "code",
   "execution_count": 1,
   "metadata": {},
   "outputs": [],
   "source": [
    "import pandas as pd\n",
    "import numpy as np\n",
    "from sklearn.model_selection import train_test_split\n",
    "from sklearn.linear_model import LinearRegression\n",
    "from sklearn.metrics import mean_squared_error"
   ]
  },
  {
   "cell_type": "markdown",
   "metadata": {},
   "source": [
    "**Определение констант для работы в проекте**"
   ]
  },
  {
   "cell_type": "code",
   "execution_count": 2,
   "metadata": {},
   "outputs": [],
   "source": [
    "# количество точек для разведки в регионе:\n",
    "EXPLORATION_QUANTITY = 500\n",
    "\n",
    "# количество выбранных из них лучших для разработки:\n",
    "BEST_QUANTITY = 200\n",
    "\n",
    "# бюджет в рублях на разработку скважин в регионе:\n",
    "DEV_BUDGET = 10e9\n",
    "\n",
    "# доход в рублях с каждой единицы продукта, которая равна тысяче бареллей:\n",
    "UNIT_REVENUE = 450_000\n",
    "\n",
    "# верхний порог вероятности убытков в процентах для выбора региона:\n",
    "LOSS_PROBABILITY = 2.5"
   ]
  },
  {
   "cell_type": "markdown",
   "metadata": {},
   "source": [
    "**Определение функции для импорта данных**"
   ]
  },
  {
   "cell_type": "code",
   "execution_count": 3,
   "metadata": {},
   "outputs": [],
   "source": [
    "def data_import(short_path,long_path):\n",
    "    \n",
    "    #импорт данных\n",
    "    try:\n",
    "        df = pd.read_csv(short_path)\n",
    "    except:\n",
    "        df = pd.read_csv(long_path)\n",
    "    \n",
    "    #вывод параметров датасета для проверки    \n",
    "    print(df.shape)\n",
    "    print(df.info())\n",
    "    display(df.head())\n",
    "    \n",
    "    #Проверка на явные дубликаты\n",
    "    print('Количество явных дубликатов', df.duplicated().sum())\n",
    "    \n",
    "    return df"
   ]
  },
  {
   "cell_type": "markdown",
   "metadata": {},
   "source": [
    "**Импорт данных**"
   ]
  },
  {
   "cell_type": "code",
   "execution_count": 4,
   "metadata": {},
   "outputs": [
    {
     "name": "stdout",
     "output_type": "stream",
     "text": [
      "Нефтяное месторождение 0\n",
      "(100000, 5)\n",
      "<class 'pandas.core.frame.DataFrame'>\n",
      "RangeIndex: 100000 entries, 0 to 99999\n",
      "Data columns (total 5 columns):\n",
      " #   Column   Non-Null Count   Dtype  \n",
      "---  ------   --------------   -----  \n",
      " 0   id       100000 non-null  object \n",
      " 1   f0       100000 non-null  float64\n",
      " 2   f1       100000 non-null  float64\n",
      " 3   f2       100000 non-null  float64\n",
      " 4   product  100000 non-null  float64\n",
      "dtypes: float64(4), object(1)\n",
      "memory usage: 3.8+ MB\n",
      "None\n"
     ]
    },
    {
     "data": {
      "text/html": [
       "<div>\n",
       "<style scoped>\n",
       "    .dataframe tbody tr th:only-of-type {\n",
       "        vertical-align: middle;\n",
       "    }\n",
       "\n",
       "    .dataframe tbody tr th {\n",
       "        vertical-align: top;\n",
       "    }\n",
       "\n",
       "    .dataframe thead th {\n",
       "        text-align: right;\n",
       "    }\n",
       "</style>\n",
       "<table border=\"1\" class=\"dataframe\">\n",
       "  <thead>\n",
       "    <tr style=\"text-align: right;\">\n",
       "      <th></th>\n",
       "      <th>id</th>\n",
       "      <th>f0</th>\n",
       "      <th>f1</th>\n",
       "      <th>f2</th>\n",
       "      <th>product</th>\n",
       "    </tr>\n",
       "  </thead>\n",
       "  <tbody>\n",
       "    <tr>\n",
       "      <th>0</th>\n",
       "      <td>txEyH</td>\n",
       "      <td>0.705745</td>\n",
       "      <td>-0.497823</td>\n",
       "      <td>1.221170</td>\n",
       "      <td>105.280062</td>\n",
       "    </tr>\n",
       "    <tr>\n",
       "      <th>1</th>\n",
       "      <td>2acmU</td>\n",
       "      <td>1.334711</td>\n",
       "      <td>-0.340164</td>\n",
       "      <td>4.365080</td>\n",
       "      <td>73.037750</td>\n",
       "    </tr>\n",
       "    <tr>\n",
       "      <th>2</th>\n",
       "      <td>409Wp</td>\n",
       "      <td>1.022732</td>\n",
       "      <td>0.151990</td>\n",
       "      <td>1.419926</td>\n",
       "      <td>85.265647</td>\n",
       "    </tr>\n",
       "    <tr>\n",
       "      <th>3</th>\n",
       "      <td>iJLyR</td>\n",
       "      <td>-0.032172</td>\n",
       "      <td>0.139033</td>\n",
       "      <td>2.978566</td>\n",
       "      <td>168.620776</td>\n",
       "    </tr>\n",
       "    <tr>\n",
       "      <th>4</th>\n",
       "      <td>Xdl7t</td>\n",
       "      <td>1.988431</td>\n",
       "      <td>0.155413</td>\n",
       "      <td>4.751769</td>\n",
       "      <td>154.036647</td>\n",
       "    </tr>\n",
       "  </tbody>\n",
       "</table>\n",
       "</div>"
      ],
      "text/plain": [
       "      id        f0        f1        f2     product\n",
       "0  txEyH  0.705745 -0.497823  1.221170  105.280062\n",
       "1  2acmU  1.334711 -0.340164  4.365080   73.037750\n",
       "2  409Wp  1.022732  0.151990  1.419926   85.265647\n",
       "3  iJLyR -0.032172  0.139033  2.978566  168.620776\n",
       "4  Xdl7t  1.988431  0.155413  4.751769  154.036647"
      ]
     },
     "metadata": {},
     "output_type": "display_data"
    },
    {
     "name": "stdout",
     "output_type": "stream",
     "text": [
      "Количество явных дубликатов 0\n",
      "Нефтяное месторождение 1\n",
      "(100000, 5)\n",
      "<class 'pandas.core.frame.DataFrame'>\n",
      "RangeIndex: 100000 entries, 0 to 99999\n",
      "Data columns (total 5 columns):\n",
      " #   Column   Non-Null Count   Dtype  \n",
      "---  ------   --------------   -----  \n",
      " 0   id       100000 non-null  object \n",
      " 1   f0       100000 non-null  float64\n",
      " 2   f1       100000 non-null  float64\n",
      " 3   f2       100000 non-null  float64\n",
      " 4   product  100000 non-null  float64\n",
      "dtypes: float64(4), object(1)\n",
      "memory usage: 3.8+ MB\n",
      "None\n"
     ]
    },
    {
     "data": {
      "text/html": [
       "<div>\n",
       "<style scoped>\n",
       "    .dataframe tbody tr th:only-of-type {\n",
       "        vertical-align: middle;\n",
       "    }\n",
       "\n",
       "    .dataframe tbody tr th {\n",
       "        vertical-align: top;\n",
       "    }\n",
       "\n",
       "    .dataframe thead th {\n",
       "        text-align: right;\n",
       "    }\n",
       "</style>\n",
       "<table border=\"1\" class=\"dataframe\">\n",
       "  <thead>\n",
       "    <tr style=\"text-align: right;\">\n",
       "      <th></th>\n",
       "      <th>id</th>\n",
       "      <th>f0</th>\n",
       "      <th>f1</th>\n",
       "      <th>f2</th>\n",
       "      <th>product</th>\n",
       "    </tr>\n",
       "  </thead>\n",
       "  <tbody>\n",
       "    <tr>\n",
       "      <th>0</th>\n",
       "      <td>kBEdx</td>\n",
       "      <td>-15.001348</td>\n",
       "      <td>-8.276000</td>\n",
       "      <td>-0.005876</td>\n",
       "      <td>3.179103</td>\n",
       "    </tr>\n",
       "    <tr>\n",
       "      <th>1</th>\n",
       "      <td>62mP7</td>\n",
       "      <td>14.272088</td>\n",
       "      <td>-3.475083</td>\n",
       "      <td>0.999183</td>\n",
       "      <td>26.953261</td>\n",
       "    </tr>\n",
       "    <tr>\n",
       "      <th>2</th>\n",
       "      <td>vyE1P</td>\n",
       "      <td>6.263187</td>\n",
       "      <td>-5.948386</td>\n",
       "      <td>5.001160</td>\n",
       "      <td>134.766305</td>\n",
       "    </tr>\n",
       "    <tr>\n",
       "      <th>3</th>\n",
       "      <td>KcrkZ</td>\n",
       "      <td>-13.081196</td>\n",
       "      <td>-11.506057</td>\n",
       "      <td>4.999415</td>\n",
       "      <td>137.945408</td>\n",
       "    </tr>\n",
       "    <tr>\n",
       "      <th>4</th>\n",
       "      <td>AHL4O</td>\n",
       "      <td>12.702195</td>\n",
       "      <td>-8.147433</td>\n",
       "      <td>5.004363</td>\n",
       "      <td>134.766305</td>\n",
       "    </tr>\n",
       "  </tbody>\n",
       "</table>\n",
       "</div>"
      ],
      "text/plain": [
       "      id         f0         f1        f2     product\n",
       "0  kBEdx -15.001348  -8.276000 -0.005876    3.179103\n",
       "1  62mP7  14.272088  -3.475083  0.999183   26.953261\n",
       "2  vyE1P   6.263187  -5.948386  5.001160  134.766305\n",
       "3  KcrkZ -13.081196 -11.506057  4.999415  137.945408\n",
       "4  AHL4O  12.702195  -8.147433  5.004363  134.766305"
      ]
     },
     "metadata": {},
     "output_type": "display_data"
    },
    {
     "name": "stdout",
     "output_type": "stream",
     "text": [
      "Количество явных дубликатов 0\n",
      "Нефтяное месторождение 2\n",
      "(100000, 5)\n",
      "<class 'pandas.core.frame.DataFrame'>\n",
      "RangeIndex: 100000 entries, 0 to 99999\n",
      "Data columns (total 5 columns):\n",
      " #   Column   Non-Null Count   Dtype  \n",
      "---  ------   --------------   -----  \n",
      " 0   id       100000 non-null  object \n",
      " 1   f0       100000 non-null  float64\n",
      " 2   f1       100000 non-null  float64\n",
      " 3   f2       100000 non-null  float64\n",
      " 4   product  100000 non-null  float64\n",
      "dtypes: float64(4), object(1)\n",
      "memory usage: 3.8+ MB\n",
      "None\n"
     ]
    },
    {
     "data": {
      "text/html": [
       "<div>\n",
       "<style scoped>\n",
       "    .dataframe tbody tr th:only-of-type {\n",
       "        vertical-align: middle;\n",
       "    }\n",
       "\n",
       "    .dataframe tbody tr th {\n",
       "        vertical-align: top;\n",
       "    }\n",
       "\n",
       "    .dataframe thead th {\n",
       "        text-align: right;\n",
       "    }\n",
       "</style>\n",
       "<table border=\"1\" class=\"dataframe\">\n",
       "  <thead>\n",
       "    <tr style=\"text-align: right;\">\n",
       "      <th></th>\n",
       "      <th>id</th>\n",
       "      <th>f0</th>\n",
       "      <th>f1</th>\n",
       "      <th>f2</th>\n",
       "      <th>product</th>\n",
       "    </tr>\n",
       "  </thead>\n",
       "  <tbody>\n",
       "    <tr>\n",
       "      <th>0</th>\n",
       "      <td>fwXo0</td>\n",
       "      <td>-1.146987</td>\n",
       "      <td>0.963328</td>\n",
       "      <td>-0.828965</td>\n",
       "      <td>27.758673</td>\n",
       "    </tr>\n",
       "    <tr>\n",
       "      <th>1</th>\n",
       "      <td>WJtFt</td>\n",
       "      <td>0.262778</td>\n",
       "      <td>0.269839</td>\n",
       "      <td>-2.530187</td>\n",
       "      <td>56.069697</td>\n",
       "    </tr>\n",
       "    <tr>\n",
       "      <th>2</th>\n",
       "      <td>ovLUW</td>\n",
       "      <td>0.194587</td>\n",
       "      <td>0.289035</td>\n",
       "      <td>-5.586433</td>\n",
       "      <td>62.871910</td>\n",
       "    </tr>\n",
       "    <tr>\n",
       "      <th>3</th>\n",
       "      <td>q6cA6</td>\n",
       "      <td>2.236060</td>\n",
       "      <td>-0.553760</td>\n",
       "      <td>0.930038</td>\n",
       "      <td>114.572842</td>\n",
       "    </tr>\n",
       "    <tr>\n",
       "      <th>4</th>\n",
       "      <td>WPMUX</td>\n",
       "      <td>-0.515993</td>\n",
       "      <td>1.716266</td>\n",
       "      <td>5.899011</td>\n",
       "      <td>149.600746</td>\n",
       "    </tr>\n",
       "  </tbody>\n",
       "</table>\n",
       "</div>"
      ],
      "text/plain": [
       "      id        f0        f1        f2     product\n",
       "0  fwXo0 -1.146987  0.963328 -0.828965   27.758673\n",
       "1  WJtFt  0.262778  0.269839 -2.530187   56.069697\n",
       "2  ovLUW  0.194587  0.289035 -5.586433   62.871910\n",
       "3  q6cA6  2.236060 -0.553760  0.930038  114.572842\n",
       "4  WPMUX -0.515993  1.716266  5.899011  149.600746"
      ]
     },
     "metadata": {},
     "output_type": "display_data"
    },
    {
     "name": "stdout",
     "output_type": "stream",
     "text": [
      "Количество явных дубликатов 0\n"
     ]
    }
   ],
   "source": [
    "# импорт и проверка параметров датасета 0\n",
    "print('Нефтяное месторождение 0')\n",
    "df_0 = data_import('geo_data_0.csv',\n",
    "                   '/datasets/geo_data_0.csv')\n",
    "\n",
    "# импорт и проверка параметров датасета 1\n",
    "print('Нефтяное месторождение 1')\n",
    "df_1 = data_import('geo_data_1.csv',\n",
    "                   '/datasets/geo_data_1.csv')\n",
    "\n",
    "# импорт и проверка параметров датасета 2\n",
    "print('Нефтяное месторождение 2')\n",
    "df_2 = data_import('geo_data_2.csv',\n",
    "                   '/datasets/geo_data_2.csv')"
   ]
  },
  {
   "cell_type": "markdown",
   "metadata": {},
   "source": [
    "**Вывод:**  \n",
    "пропусков и явных дубликатов в данных нет, но при разбиении выборок,  \n",
    "из обучающих признаков необходимо убрать колонку 'id',  \n",
    "которая не помогает обучению, но вызывает ошибку в работе модели."
   ]
  },
  {
   "cell_type": "markdown",
   "metadata": {},
   "source": [
    "## Разбиение данных на обучающую и валидационную выборки в соотношении 75:25"
   ]
  },
  {
   "cell_type": "markdown",
   "metadata": {},
   "source": [
    "Удаление столбца 'id' из датасетов"
   ]
  },
  {
   "cell_type": "code",
   "execution_count": 5,
   "metadata": {},
   "outputs": [
    {
     "name": "stdout",
     "output_type": "stream",
     "text": [
      "<class 'pandas.core.frame.DataFrame'>\n",
      "RangeIndex: 100000 entries, 0 to 99999\n",
      "Data columns (total 4 columns):\n",
      " #   Column   Non-Null Count   Dtype  \n",
      "---  ------   --------------   -----  \n",
      " 0   f0       100000 non-null  float64\n",
      " 1   f1       100000 non-null  float64\n",
      " 2   f2       100000 non-null  float64\n",
      " 3   product  100000 non-null  float64\n",
      "dtypes: float64(4)\n",
      "memory usage: 3.1 MB\n",
      "None\n",
      "<class 'pandas.core.frame.DataFrame'>\n",
      "RangeIndex: 100000 entries, 0 to 99999\n",
      "Data columns (total 4 columns):\n",
      " #   Column   Non-Null Count   Dtype  \n",
      "---  ------   --------------   -----  \n",
      " 0   f0       100000 non-null  float64\n",
      " 1   f1       100000 non-null  float64\n",
      " 2   f2       100000 non-null  float64\n",
      " 3   product  100000 non-null  float64\n",
      "dtypes: float64(4)\n",
      "memory usage: 3.1 MB\n",
      "None\n",
      "<class 'pandas.core.frame.DataFrame'>\n",
      "RangeIndex: 100000 entries, 0 to 99999\n",
      "Data columns (total 4 columns):\n",
      " #   Column   Non-Null Count   Dtype  \n",
      "---  ------   --------------   -----  \n",
      " 0   f0       100000 non-null  float64\n",
      " 1   f1       100000 non-null  float64\n",
      " 2   f2       100000 non-null  float64\n",
      " 3   product  100000 non-null  float64\n",
      "dtypes: float64(4)\n",
      "memory usage: 3.1 MB\n",
      "None\n"
     ]
    }
   ],
   "source": [
    "df_0.drop(columns = ['id'], inplace = True)\n",
    "df_1.drop(columns = ['id'], inplace = True)\n",
    "df_2.drop(columns = ['id'], inplace = True)\n",
    "\n",
    "# проверка результата\n",
    "print(df_0.info())\n",
    "print(df_1.info())\n",
    "print(df_0.info())"
   ]
  },
  {
   "cell_type": "markdown",
   "metadata": {},
   "source": [
    "Определение функции для разбиения данных"
   ]
  },
  {
   "cell_type": "code",
   "execution_count": 6,
   "metadata": {},
   "outputs": [],
   "source": [
    "def data_split(df):\n",
    "    \n",
    "    # формирование выборок с обучающими признаками и целевым признаком.\n",
    "    features = df.drop(['product'], axis=1)\n",
    "    target = df['product']\n",
    "\n",
    "    # разделение обучающей и валидационной выборки в пропорции 75:25.\n",
    "    features_train, features_valid, target_train, target_valid =\\\n",
    "        train_test_split(\n",
    "        features,target,\n",
    "        test_size=0.25, random_state=12345)\n",
    "\n",
    "    #вывод размеров выборок для проверки\n",
    "    print(features_train.shape)\n",
    "    print(features_valid.shape)\n",
    "    print(target_train.shape)\n",
    "    print(target_valid.shape)\n",
    "    \n",
    "    return features_train, features_valid, target_train, target_valid"
   ]
  },
  {
   "cell_type": "markdown",
   "metadata": {},
   "source": [
    "Разбиение данных."
   ]
  },
  {
   "cell_type": "code",
   "execution_count": 7,
   "metadata": {},
   "outputs": [
    {
     "name": "stdout",
     "output_type": "stream",
     "text": [
      "(75000, 3)\n",
      "(25000, 3)\n",
      "(75000,)\n",
      "(25000,)\n",
      "(75000, 3)\n",
      "(25000, 3)\n",
      "(75000,)\n",
      "(25000,)\n",
      "(75000, 3)\n",
      "(25000, 3)\n",
      "(75000,)\n",
      "(25000,)\n"
     ]
    }
   ],
   "source": [
    "# Разбиение данных датасета 0\n",
    "df_0_features_train, df_0_features_valid,\\\n",
    "df_0_target_train, df_0_target_valid = data_split(df_0)\n",
    "\n",
    "# Разбиение данных датасета 1\n",
    "df_1_features_train, df_1_features_valid,\\\n",
    "df_1_target_train, df_1_target_valid = data_split(df_1)\n",
    "\n",
    "# Разбиение данных датасета 2\n",
    "df_2_features_train, df_2_features_valid,\\\n",
    "df_2_target_train, df_2_target_valid = data_split(df_2)"
   ]
  },
  {
   "cell_type": "markdown",
   "metadata": {},
   "source": [
    "## Обучение и проверка модели"
   ]
  },
  {
   "cell_type": "markdown",
   "metadata": {},
   "source": [
    "Определение функции для обучения и проверки модели."
   ]
  },
  {
   "cell_type": "code",
   "execution_count": 8,
   "metadata": {},
   "outputs": [],
   "source": [
    "def model_learning(features_train,target_train,features_valid,target_valid):\n",
    "    \n",
    "    # используем модель линейной регрессии. \n",
    "    model = LinearRegression()\n",
    "    \n",
    "    # обучение модели на тренировочной выборке\n",
    "    model.fit(features_train,target_train) \n",
    "    \n",
    "    # получение предсказания модели на валидационной выборке\n",
    "    predictions_valid = model.predict(features_valid) \n",
    "    \n",
    "    #выравнивание индексов\n",
    "    predictions_valid = pd.Series(predictions_valid, target_valid.index)\n",
    "\n",
    "    # расчет метрики RMSE на валидационной выборке\n",
    "    rmse = mean_squared_error(target_valid, predictions_valid)**0.5 \n",
    "    \n",
    "    # расчет среднего запаса предсказанного сырья\n",
    "    mean_predicted = predictions_valid.mean()\n",
    "    \n",
    "    return predictions_valid, rmse, mean_predicted"
   ]
  },
  {
   "cell_type": "markdown",
   "metadata": {},
   "source": [
    "Обучение моделей для всех регионов."
   ]
  },
  {
   "cell_type": "code",
   "execution_count": 9,
   "metadata": {},
   "outputs": [
    {
     "name": "stdout",
     "output_type": "stream",
     "text": [
      "RMSE модели линейной регрессии на валидационной выборке для региона 0: 37.5794217150813\n",
      "Средний запас предсказанного сырья для региона 0: 92.59256778438035\n",
      "RMSE модели линейной регрессии на валидационной выборке для региона 1: 0.8930992867756168\n",
      "Средний запас предсказанного сырья для региона 1: 68.72854689544602\n",
      "RMSE модели линейной регрессии на валидационной выборке для региона 2: 40.02970873393434\n",
      "Средний запас предсказанного сырья для региона 2: 94.96504596800489\n"
     ]
    }
   ],
   "source": [
    "# обучение модели для региона 0.\n",
    "df_0_predicted,df_0_rmse, df_0_mean_predicted  = model_learning(\n",
    "        df_0_features_train,\n",
    "        df_0_target_train,\n",
    "        df_0_features_valid,\n",
    "        df_0_target_valid)\n",
    "print(\n",
    "    \"RMSE модели линейной регрессии на валидационной выборке для региона 0:\", \n",
    "    df_0_rmse)\n",
    "print(\n",
    "    \"Средний запас предсказанного сырья для региона 0:\", \n",
    "    df_0_mean_predicted)\n",
    "\n",
    "# обучение модели для региона 1.\n",
    "df_1_predicted, df_1_rmse, df_1_mean_predicted = model_learning(\n",
    "        df_1_features_train,\n",
    "        df_1_target_train,\n",
    "        df_1_features_valid,\n",
    "        df_1_target_valid)\n",
    "print(\n",
    "    \"RMSE модели линейной регрессии на валидационной выборке для региона 1:\", \n",
    "    df_1_rmse)\n",
    "print(\n",
    "    \"Средний запас предсказанного сырья для региона 1:\", \n",
    "    df_1_mean_predicted)\n",
    "\n",
    "# обучение модели для региона 2.\n",
    "df_2_predicted, df_2_rmse, df_2_mean_predicted = model_learning(\n",
    "        df_2_features_train,\n",
    "        df_2_target_train,\n",
    "        df_2_features_valid,\n",
    "        df_2_target_valid)\n",
    "print(\n",
    "    \"RMSE модели линейной регрессии на валидационной выборке для региона 2:\", \n",
    "    df_2_rmse)\n",
    "print(\n",
    "    \"Средний запас предсказанного сырья для региона 2:\", \n",
    "    df_2_mean_predicted)"
   ]
  },
  {
   "cell_type": "markdown",
   "metadata": {},
   "source": [
    "**Вывод:** от региона к региону, чем выше предсказанный объем, тем выше RMSE, то есть хуже качество обучения модели, и меньше доверия к предсказанному результату. При этом регион 1, имея самый низкий средний запас предсказываемого сырья, тем не менее, имеет значительно более низкую ошибку модели, а для нас точность предсказаний крайне важна для определния скважин с максимальным запасом."
   ]
  },
  {
   "cell_type": "markdown",
   "metadata": {},
   "source": [
    "## Подготовка к расчёту прибыли"
   ]
  },
  {
   "cell_type": "markdown",
   "metadata": {},
   "source": [
    "### Рассчет минимально достаточного объём сырья для безубыточной разработки новой скважины."
   ]
  },
  {
   "cell_type": "code",
   "execution_count": 10,
   "metadata": {},
   "outputs": [
    {
     "name": "stdout",
     "output_type": "stream",
     "text": [
      "Достаточный объём для безубыточной разработки новой скважины: 111.11111111111111\n"
     ]
    }
   ],
   "source": [
    "#расчет минимальной выручки на скважину:\n",
    "min_revenue_per_well = DEV_BUDGET / BEST_QUANTITY\n",
    "\n",
    "#расчет минимальной продуктивности скважины:\n",
    "minimal_units_volume = min_revenue_per_well / UNIT_REVENUE\n",
    "\n",
    "print('Достаточный объём для безубыточной разработки новой скважины:', minimal_units_volume)"
   ]
  },
  {
   "cell_type": "markdown",
   "metadata": {},
   "source": [
    "**Вывод:** на данном этапе исследования ни один регион по предсказываемой средней продуктивности не превышает 95 единиц, что ниже уровня безубытка в 111.  \n",
    "Для поиска возможностей прибыльной добычи нужны дальнейшие исследования."
   ]
  },
  {
   "cell_type": "markdown",
   "metadata": {},
   "source": [
    "## Расчёт прибыли и рисков для каждого региона"
   ]
  },
  {
   "cell_type": "markdown",
   "metadata": {},
   "source": [
    "### Создадим функцию для расчёта прибыли по выбранным скважинам и предсказаниям модели"
   ]
  },
  {
   "cell_type": "code",
   "execution_count": 11,
   "metadata": {},
   "outputs": [],
   "source": [
    "def wells_profit(target,predicted): \n",
    "    \n",
    "    # сортировка скважин на предсказанной модели\n",
    "    predicted_sorted = pd.Series(predicted).sort_values(ascending=False)\n",
    "    \n",
    "    # выборка реальных значений 200 лучших скважин по индексам предсказаний\n",
    "    target_sorted = target[predicted_sorted.index][:BEST_QUANTITY]\n",
    "\n",
    "    # суммирование целевого значения объема\n",
    "    product = target_sorted.sum()\n",
    " \n",
    "    #расчет прогнозируемой прибыли региона\n",
    "    profit=(product * UNIT_REVENUE) - DEV_BUDGET\n",
    "   \n",
    "    \n",
    "    return product, profit\n"
   ]
  },
  {
   "cell_type": "markdown",
   "metadata": {},
   "source": [
    "### Рассчитаем продуктивность и прибыль  по выбранным скважинам и предсказаниям модели"
   ]
  },
  {
   "cell_type": "markdown",
   "metadata": {},
   "source": [
    "Расчет прогнозируемых объема сырья и прибыли лучших 200 скважин для региона 0 "
   ]
  },
  {
   "cell_type": "code",
   "execution_count": 12,
   "metadata": {},
   "outputs": [
    {
     "name": "stdout",
     "output_type": "stream",
     "text": [
      "Прогнозируемый объем сырья в регионе в единицах продукта: 29601.84\n",
      "Прогнозируемая прибыль в регионе в млрд.рублей: 3.32\n"
     ]
    }
   ],
   "source": [
    "df_0_volume_sum, df_0_profit = wells_profit(\n",
    "    df_0_target_valid,\n",
    "    df_0_predicted)\n",
    "print('Прогнозируемый объем сырья в регионе в единицах продукта:', round(df_0_volume_sum,2))\n",
    "print('Прогнозируемая прибыль в регионе в млрд.рублей:', round(df_0_profit / 10**9,2))"
   ]
  },
  {
   "cell_type": "markdown",
   "metadata": {},
   "source": [
    "Расчет прогнозируемых объема сырья и прибыли для региона 1 "
   ]
  },
  {
   "cell_type": "code",
   "execution_count": 13,
   "metadata": {},
   "outputs": [
    {
     "name": "stdout",
     "output_type": "stream",
     "text": [
      "Прогнозируемый объем сырья в регионе в единицах продукта: 27589.08\n",
      "Прогнозируемая прибыль в регионе в млрд.рублей: 2.42\n"
     ]
    }
   ],
   "source": [
    "df_1_volume_sum, df_1_profit = wells_profit(\n",
    "    df_1_target_valid,\n",
    "    df_1_predicted)\n",
    "print('Прогнозируемый объем сырья в регионе в единицах продукта:', round(df_1_volume_sum,2))\n",
    "print('Прогнозируемая прибыль в регионе в млрд.рублей:', round(df_1_profit / 10**9,2))"
   ]
  },
  {
   "cell_type": "markdown",
   "metadata": {},
   "source": [
    "Расчет прогнозируемых объема сырья и прибыли для региона 2 "
   ]
  },
  {
   "cell_type": "code",
   "execution_count": 14,
   "metadata": {},
   "outputs": [
    {
     "name": "stdout",
     "output_type": "stream",
     "text": [
      "Прогнозируемый объем сырья в регионе в единицах продукта: 28245.22\n",
      "Прогнозируемая прибыль в регионе в млрд.рублей: 2.71\n"
     ]
    }
   ],
   "source": [
    "df_2_volume_sum, df_2_profit = wells_profit(\n",
    "    df_2_target_valid,\n",
    "    df_2_predicted)\n",
    "print('Прогнозируемый объем сырья в регионе в единицах продукта:', round(df_2_volume_sum,2))\n",
    "print('Прогнозируемая прибыль в регионе в млрд.рублей:', round(df_2_profit / 10**9,2))"
   ]
  },
  {
   "cell_type": "markdown",
   "metadata": {},
   "source": [
    "**Вывод:** Исходя из расчетов прогнозируемых объема сырья и прибыли на основании обученной модели наиболее привлекателен регион 0. При этом регион 1 уже не так сильно уступает остальным по рассчитанным показателям, а точность модели в нем значительно выше."
   ]
  },
  {
   "cell_type": "markdown",
   "metadata": {},
   "source": [
    "### Создадим функцию для расчёта рисков и распределения прибыли техникой Bootstrap"
   ]
  },
  {
   "cell_type": "code",
   "execution_count": 15,
   "metadata": {},
   "outputs": [],
   "source": [
    "def profit_bootstrap(target, predicted):\n",
    "    \n",
    "    random_state = np.random.RandomState(12345)\n",
    "    profit_all = []\n",
    "    volume_all = []\n",
    "    \n",
    "    \n",
    "    for i in range(1000):\n",
    "        \n",
    "        # формирование в цикле выборок по методу Bootstrap\n",
    "        target_subsample = target.sample(\n",
    "            EXPLORATION_QUANTITY, replace = True, random_state = random_state)\n",
    "        predicted_subsample = predicted[target_subsample.index]\n",
    "        \n",
    "        #расчет прибыли и продуктивности для каждой выборки\n",
    "        volume, profit = wells_profit(target_subsample,predicted_subsample)\n",
    "        profit_all.append(profit)\n",
    "        volume_all.append(volume)\n",
    "\n",
    "    profit_all = pd.Series(profit_all)\n",
    "    volume_all = pd.Series(volume_all)\n",
    "    \n",
    "    # рассчитываем среднюю прибыль\n",
    "    profit_mean = profit_all.mean()\n",
    "    \n",
    "    # рассчитываем средний объем сырья\n",
    "    volume_mean = volume_all.mean()\n",
    "    \n",
    "    #рассчитываем доверительный интервал\n",
    "    lower = profit_all.quantile(q=0.025)\n",
    "    upper = profit_all.quantile(q=0.975)\n",
    "\n",
    "    # вычисляем риск как долю количества отрицательных значений прибыли  в выборках \n",
    "    risk = profit_all[profit_all < 0].count()/profit_all.count()\n",
    "    \n",
    "    # выводим результаты на экран\n",
    "    print('Средний объем сырья в регионе:', round(volume_mean, 2), 'единиц')\n",
    "    print('Средняя прибыль в регионе:', round(profit_mean/10**9, 2), 'млрд.руб')\n",
    "    print('Доверительный интервал от', round(lower/10**9, 2),'млрд.руб.', 'до', round(upper/10**9, 2),'млрд.руб')\n",
    "    print('Риск убытков:', risk*100, '%')\n",
    "    \n",
    "    # проверяем соответствие уровня риска установленному критерию\n",
    "    if risk*100 > LOSS_PROBABILITY:\n",
    "        print('Уровень риска региона превышает требуемый уровень в', LOSS_PROBABILITY, '%')\n",
    "    else:\n",
    "        print('Уровень риска региона соответствует требуемому уровеню не более', LOSS_PROBABILITY, '%')"
   ]
  },
  {
   "cell_type": "markdown",
   "metadata": {},
   "source": [
    "### Найдем среднюю прибыль, 95%-й доверительный интервал и риск убытков в трех регионах"
   ]
  },
  {
   "cell_type": "markdown",
   "metadata": {},
   "source": [
    "**Расчет для региона 0**"
   ]
  },
  {
   "cell_type": "code",
   "execution_count": 16,
   "metadata": {},
   "outputs": [
    {
     "name": "stdout",
     "output_type": "stream",
     "text": [
      "Средний объем сырья в регионе: 23168.75 единиц\n",
      "Средняя прибыль в регионе: 0.43 млрд.руб\n",
      "Доверительный интервал от -0.1 млрд.руб. до 0.95 млрд.руб\n",
      "Риск убытков: 6.0 %\n",
      "Уровень риска региона превышает требуемый уровень в 2.5 %\n"
     ]
    }
   ],
   "source": [
    "profit_bootstrap(df_0_target_valid, df_0_predicted)"
   ]
  },
  {
   "cell_type": "markdown",
   "metadata": {},
   "source": [
    "**Расчет для региона 1**"
   ]
  },
  {
   "cell_type": "code",
   "execution_count": 17,
   "metadata": {},
   "outputs": [
    {
     "name": "stdout",
     "output_type": "stream",
     "text": [
      "Средний объем сырья в регионе: 23367.16 единиц\n",
      "Средняя прибыль в регионе: 0.52 млрд.руб\n",
      "Доверительный интервал от 0.07 млрд.руб. до 0.93 млрд.руб\n",
      "Риск убытков: 1.0 %\n",
      "Уровень риска региона соответствует требуемому уровеню не более 2.5 %\n"
     ]
    }
   ],
   "source": [
    "profit_bootstrap(df_1_target_valid,df_1_predicted)"
   ]
  },
  {
   "cell_type": "markdown",
   "metadata": {},
   "source": [
    "**Расчет для региона 2**"
   ]
  },
  {
   "cell_type": "code",
   "execution_count": 18,
   "metadata": {},
   "outputs": [
    {
     "name": "stdout",
     "output_type": "stream",
     "text": [
      "Средний объем сырья в регионе: 23188.91 единиц\n",
      "Средняя прибыль в регионе: 0.44 млрд.руб\n",
      "Доверительный интервал от -0.13 млрд.руб. до 0.97 млрд.руб\n",
      "Риск убытков: 6.4 %\n",
      "Уровень риска региона превышает требуемый уровень в 2.5 %\n"
     ]
    }
   ],
   "source": [
    "profit_bootstrap(df_2_target_valid, df_2_predicted)"
   ]
  },
  {
   "cell_type": "markdown",
   "metadata": {},
   "source": [
    "## Общие выводы"
   ]
  },
  {
   "cell_type": "markdown",
   "metadata": {},
   "source": [
    "**По проекту было выполнено следующее:**\n",
    "\n",
    "- Импорт и обзор данных\n",
    "- Обработка данных: \n",
    "   - проверка на наличие пропусков в данных\n",
    "   - проверка на наличие явных дубликатов\n",
    "   - удаление лишних данных\n",
    "   - разбиение данных на обучающую и валидационную выборки в пропорции 75:25\n",
    "- Обучение и проверка модели для каждого региона:\n",
    " - обучение модели и получение предсказаний на валидационной выборке\n",
    " - расчет среднего запаса предсказанного сырья и RMSE модели.\n",
    "- Подготовка к расчёту прибыли:\n",
    " - создание переменных с ключевыми значениями для расчётов\n",
    " - рассчет достаточного объёма сырья для безубыточной разработки новой скважины\n",
    "- Рассчет прибыли и рисков для каждого региона:\n",
    " - рассчет продуктивности и прибыли по лучшим 200 выбранным скважинам и предсказаниям модели для каждого региона\n",
    " - рассчет с применением метода Bootstrap следующих показателей по каждому региону:\n",
    "   - средний объем сырья\n",
    "   - средняя прибыль\n",
    "   - доверительный интервал для прибыли\n",
    "   - риск убытков\n",
    "\n",
    "**Выводы:**\n",
    "- Из трех регионов только регион 1 (geo_data_1) показал уровень риска меньше заданого критерия 2.5%, и соответственно он один должен быть ототбран.\n",
    "- Также из трех регионов именно регион 1 показал наибольшую среднюю прибыль.\n",
    "- Кроме того, в данном регионе 1 наблюдается самый низкий доверительный интервал.\n",
    "- Также следует учесть, что в регионе 1 наблюдается самая высокая точность предсказаний модели \n",
    "\n",
    "**Рекомендации сотрудникам нефтедобывающей компании:** \n",
    "- На основании построенной в рамках данного проекта модели рекомендуется выбрать регион 1. "
   ]
  },
  {
   "cell_type": "code",
   "execution_count": null,
   "metadata": {},
   "outputs": [],
   "source": []
  }
 ],
 "metadata": {
  "ExecuteTimeLog": [
   {
    "duration": 2257,
    "start_time": "2023-05-09T13:59:37.031Z"
   },
   {
    "duration": 6,
    "start_time": "2023-05-09T13:59:39.291Z"
   },
   {
    "duration": 2263,
    "start_time": "2023-05-09T13:59:39.298Z"
   },
   {
    "duration": 47,
    "start_time": "2023-05-09T13:59:41.567Z"
   },
   {
    "duration": 5,
    "start_time": "2023-05-09T13:59:41.617Z"
   },
   {
    "duration": 60,
    "start_time": "2023-05-09T13:59:41.624Z"
   },
   {
    "duration": 5,
    "start_time": "2023-05-09T13:59:41.687Z"
   },
   {
    "duration": 271,
    "start_time": "2023-05-09T13:59:41.694Z"
   },
   {
    "duration": 83,
    "start_time": "2023-05-09T13:59:41.971Z"
   },
   {
    "duration": 85,
    "start_time": "2023-05-09T13:59:42.064Z"
   },
   {
    "duration": 17,
    "start_time": "2023-05-09T13:59:42.155Z"
   },
   {
    "duration": 24,
    "start_time": "2023-05-09T13:59:42.176Z"
   },
   {
    "duration": 24,
    "start_time": "2023-05-09T13:59:42.203Z"
   },
   {
    "duration": 28,
    "start_time": "2023-05-09T13:59:42.229Z"
   },
   {
    "duration": 14,
    "start_time": "2023-05-09T13:59:42.260Z"
   },
   {
    "duration": 544,
    "start_time": "2023-05-09T13:59:42.276Z"
   },
   {
    "duration": 492,
    "start_time": "2023-05-09T13:59:42.822Z"
   },
   {
    "duration": 490,
    "start_time": "2023-05-09T13:59:43.316Z"
   },
   {
    "duration": 9,
    "start_time": "2023-05-09T14:11:56.531Z"
   },
   {
    "duration": 10,
    "start_time": "2023-05-09T14:13:10.428Z"
   }
  ],
  "kernelspec": {
   "display_name": "Python 3 (ipykernel)",
   "language": "python",
   "name": "python3"
  },
  "language_info": {
   "codemirror_mode": {
    "name": "ipython",
    "version": 3
   },
   "file_extension": ".py",
   "mimetype": "text/x-python",
   "name": "python",
   "nbconvert_exporter": "python",
   "pygments_lexer": "ipython3",
   "version": "3.9.18"
  },
  "toc": {
   "base_numbering": 1,
   "nav_menu": {},
   "number_sections": true,
   "sideBar": true,
   "skip_h1_title": true,
   "title_cell": "Table of Contents",
   "title_sidebar": "Contents",
   "toc_cell": true,
   "toc_position": {
    "height": "calc(100% - 180px)",
    "left": "10px",
    "top": "150px",
    "width": "340.341px"
   },
   "toc_section_display": true,
   "toc_window_display": true
  }
 },
 "nbformat": 4,
 "nbformat_minor": 2
}
